{
  "nbformat": 4,
  "nbformat_minor": 0,
  "metadata": {
    "colab": {
      "name": "global_vs_local.ipynb",
      "provenance": [],
      "collapsed_sections": [],
      "include_colab_link": true
    },
    "kernelspec": {
      "name": "python3",
      "display_name": "Python 3"
    }
  },
  "cells": [
    {
      "cell_type": "markdown",
      "metadata": {
        "id": "view-in-github",
        "colab_type": "text"
      },
      "source": [
        "<a href=\"https://colab.research.google.com/github/AtrCheema/python-courses/blob/master/basics/global_vs_local.ipynb\" target=\"_parent\"><img src=\"https://colab.research.google.com/assets/colab-badge.svg\" alt=\"Open In Colab\"/></a>"
      ]
    },
    {
      "cell_type": "markdown",
      "metadata": {
        "id": "SyzpxNpXqVAr",
        "colab_type": "text"
      },
      "source": [
        "# local vs global\n",
        "\n",
        "If a variable is defined outside the function and a variable with same name is defined and(or) being modified inside a function, then that definition inside the function will have no effect on the variable outside the function."
      ]
    },
    {
      "cell_type": "code",
      "metadata": {
        "id": "VJVQ9M35qX8r",
        "colab_type": "code",
        "outputId": "2d79fd3c-e3b9-4155-f0be-ed80553135c2",
        "colab": {
          "base_uri": "https://localhost:8080/",
          "height": 54
        }
      },
      "source": [
        "var = 1\n",
        "\n",
        "def foo(n):\n",
        "    var = n\n",
        "    print(var, 'inside foo')\n",
        "    return \n",
        "\n",
        "foo(10)\n",
        "\n",
        "print(var, 'outside foo')"
      ],
      "execution_count": 1,
      "outputs": [
        {
          "output_type": "stream",
          "text": [
            "10 inside foo\n",
            "1 outside foo\n"
          ],
          "name": "stdout"
        }
      ]
    },
    {
      "cell_type": "markdown",
      "metadata": {
        "id": "-m-vNm77krZm",
        "colab_type": "text"
      },
      "source": [
        "`var` inside the `foo` is different than the `var` outdie the `foo`.\n",
        "\n",
        "If we try to access value of variable which is defined only outside the function, it will result in error."
      ]
    },
    {
      "cell_type": "code",
      "metadata": {
        "id": "9zBG8p6OoB9T",
        "colab_type": "code",
        "outputId": "cd1823f7-03fc-4149-91cb-7477f7deb6b6",
        "colab": {
          "base_uri": "https://localhost:8080/",
          "height": 359
        }
      },
      "source": [
        "var = 1\n",
        "\n",
        "def foo(n):\n",
        "    print(n)\n",
        "    var = var + n\n",
        "    return var\n",
        "\n",
        "foo(10)"
      ],
      "execution_count": 2,
      "outputs": [
        {
          "output_type": "stream",
          "text": [
            "10\n"
          ],
          "name": "stdout"
        },
        {
          "output_type": "error",
          "ename": "UnboundLocalError",
          "evalue": "ignored",
          "traceback": [
            "\u001b[0;31m---------------------------------------------------------------------------\u001b[0m",
            "\u001b[0;31mUnboundLocalError\u001b[0m                         Traceback (most recent call last)",
            "\u001b[0;32m<ipython-input-2-371f2a58018d>\u001b[0m in \u001b[0;36m<module>\u001b[0;34m()\u001b[0m\n\u001b[1;32m      6\u001b[0m     \u001b[0;32mreturn\u001b[0m \u001b[0mvar\u001b[0m\u001b[0;34m\u001b[0m\u001b[0;34m\u001b[0m\u001b[0m\n\u001b[1;32m      7\u001b[0m \u001b[0;34m\u001b[0m\u001b[0m\n\u001b[0;32m----> 8\u001b[0;31m \u001b[0mfoo\u001b[0m\u001b[0;34m(\u001b[0m\u001b[0;36m10\u001b[0m\u001b[0;34m)\u001b[0m\u001b[0;34m\u001b[0m\u001b[0;34m\u001b[0m\u001b[0m\n\u001b[0m",
            "\u001b[0;32m<ipython-input-2-371f2a58018d>\u001b[0m in \u001b[0;36mfoo\u001b[0;34m(n)\u001b[0m\n\u001b[1;32m      3\u001b[0m \u001b[0;32mdef\u001b[0m \u001b[0mfoo\u001b[0m\u001b[0;34m(\u001b[0m\u001b[0mn\u001b[0m\u001b[0;34m)\u001b[0m\u001b[0;34m:\u001b[0m\u001b[0;34m\u001b[0m\u001b[0;34m\u001b[0m\u001b[0m\n\u001b[1;32m      4\u001b[0m     \u001b[0mprint\u001b[0m\u001b[0;34m(\u001b[0m\u001b[0mn\u001b[0m\u001b[0;34m)\u001b[0m\u001b[0;34m\u001b[0m\u001b[0;34m\u001b[0m\u001b[0m\n\u001b[0;32m----> 5\u001b[0;31m     \u001b[0mvar\u001b[0m \u001b[0;34m=\u001b[0m \u001b[0mvar\u001b[0m \u001b[0;34m+\u001b[0m \u001b[0mn\u001b[0m\u001b[0;34m\u001b[0m\u001b[0;34m\u001b[0m\u001b[0m\n\u001b[0m\u001b[1;32m      6\u001b[0m     \u001b[0;32mreturn\u001b[0m \u001b[0mvar\u001b[0m\u001b[0;34m\u001b[0m\u001b[0;34m\u001b[0m\u001b[0m\n\u001b[1;32m      7\u001b[0m \u001b[0;34m\u001b[0m\u001b[0m\n",
            "\u001b[0;31mUnboundLocalError\u001b[0m: local variable 'var' referenced before assignment"
          ]
        }
      ]
    },
    {
      "cell_type": "markdown",
      "metadata": {
        "id": "p0U_O5-PlEgX",
        "colab_type": "text"
      },
      "source": [
        "Read and try to make sense of the error message as understanding error messages is one of the best ways to master a programming language.\n",
        "\n",
        "So the variable `var` which is defined outside `foo` can not be accessed (actually it can be accessed but not changed/reassigned, discussion follows) inside `foo`. If we want to do so, we need to use the keyword `global`."
      ]
    },
    {
      "cell_type": "code",
      "metadata": {
        "id": "EQaSQoBfoPsM",
        "colab_type": "code",
        "outputId": "e80eb1b3-293f-4270-d762-dd4404a4abff",
        "colab": {
          "base_uri": "https://localhost:8080/",
          "height": 54
        }
      },
      "source": [
        "\n",
        "var = 1\n",
        "\n",
        "def foo(n):\n",
        "    global var\n",
        "    print(n)\n",
        "    var = var + n\n",
        "    return var\n",
        "\n",
        "foo(10)"
      ],
      "execution_count": 3,
      "outputs": [
        {
          "output_type": "stream",
          "text": [
            "10\n"
          ],
          "name": "stdout"
        },
        {
          "output_type": "execute_result",
          "data": {
            "text/plain": [
              "11"
            ]
          },
          "metadata": {
            "tags": []
          },
          "execution_count": 3
        }
      ]
    },
    {
      "cell_type": "markdown",
      "metadata": {
        "id": "XeOzYa_EmQPg",
        "colab_type": "text"
      },
      "source": [
        "by making use of `global` statement, we are saying that the variable `var` inside the function is same object as the variable `var` outside the function `foo`.\n",
        "\n",
        "Similarly if a variable is defined inside the function, we can not access that variable outside the function."
      ]
    },
    {
      "cell_type": "code",
      "metadata": {
        "id": "qMmqnXlK63dK",
        "colab_type": "code",
        "outputId": "b695fd89-99bf-4b94-bea1-ac1d0c59e340",
        "colab": {
          "base_uri": "https://localhost:8080/",
          "height": 211
        }
      },
      "source": [
        "def foo(n):\n",
        "    var1 = n+2\n",
        "    return\n",
        "\n",
        "foo(10)\n",
        "print(var1)"
      ],
      "execution_count": 6,
      "outputs": [
        {
          "output_type": "error",
          "ename": "NameError",
          "evalue": "ignored",
          "traceback": [
            "\u001b[0;31m---------------------------------------------------------------------------\u001b[0m",
            "\u001b[0;31mNameError\u001b[0m                                 Traceback (most recent call last)",
            "\u001b[0;32m<ipython-input-6-558b0e79d0cf>\u001b[0m in \u001b[0;36m<module>\u001b[0;34m()\u001b[0m\n\u001b[1;32m      4\u001b[0m \u001b[0;34m\u001b[0m\u001b[0m\n\u001b[1;32m      5\u001b[0m \u001b[0mfoo\u001b[0m\u001b[0;34m(\u001b[0m\u001b[0;36m10\u001b[0m\u001b[0;34m)\u001b[0m\u001b[0;34m\u001b[0m\u001b[0;34m\u001b[0m\u001b[0m\n\u001b[0;32m----> 6\u001b[0;31m \u001b[0mprint\u001b[0m\u001b[0;34m(\u001b[0m\u001b[0mvar1\u001b[0m\u001b[0;34m)\u001b[0m\u001b[0;34m\u001b[0m\u001b[0;34m\u001b[0m\u001b[0m\n\u001b[0m",
            "\u001b[0;31mNameError\u001b[0m: name 'var1' is not defined"
          ]
        }
      ]
    },
    {
      "cell_type": "markdown",
      "metadata": {
        "id": "4iixUcQimlgz",
        "colab_type": "text"
      },
      "source": [
        "variable `var1` is defined inside the function and is removed from memory as soon as the function execution finishes at `return` statement. (Why I used `var1` instead of `var` for this example?)\n",
        "\n",
        "If we want to access a variable -which is defined inside the function- outside the function, we have to make this variable global by declaring the it."
      ]
    },
    {
      "cell_type": "code",
      "metadata": {
        "id": "Wb5Nb6tX7EAk",
        "colab_type": "code",
        "colab": {}
      },
      "source": [
        "def foo(n):\n",
        "    global var1\n",
        "    var1 = n+2\n",
        "    return\n",
        "\n",
        "foo(10)\n",
        "print(var1)"
      ],
      "execution_count": 0,
      "outputs": []
    },
    {
      "cell_type": "markdown",
      "metadata": {
        "id": "_7_rLVrbqCxn",
        "colab_type": "text"
      },
      "source": [
        "# when python finds a variable is local"
      ]
    },
    {
      "cell_type": "code",
      "metadata": {
        "id": "PVnZI_TrolmD",
        "colab_type": "code",
        "outputId": "4a513264-bce6-447d-bea1-30d0907025ac",
        "colab": {
          "base_uri": "https://localhost:8080/",
          "height": 36
        }
      },
      "source": [
        "var = 1\n",
        "\n",
        "def foo(n):\n",
        "    print(var)\n",
        "\n",
        "foo(10)"
      ],
      "execution_count": 7,
      "outputs": [
        {
          "output_type": "stream",
          "text": [
            "1\n"
          ],
          "name": "stdout"
        }
      ]
    },
    {
      "cell_type": "markdown",
      "metadata": {
        "id": "i4pL0X0znV7N",
        "colab_type": "text"
      },
      "source": [
        "The above code shows we are able to access/employ/use/read the value of variable `var` inside `foo` without making it `global`."
      ]
    },
    {
      "cell_type": "code",
      "metadata": {
        "id": "-0KHMlMDpFAS",
        "colab_type": "code",
        "outputId": "bf28dec5-041b-4e81-a83a-996bdf0a324d",
        "colab": {
          "base_uri": "https://localhost:8080/",
          "height": 341
        }
      },
      "source": [
        "var = 1\n",
        "\n",
        "def foo(n):\n",
        "    print(var)\n",
        "    var = 0\n",
        "\n",
        "foo(10)"
      ],
      "execution_count": 9,
      "outputs": [
        {
          "output_type": "error",
          "ename": "UnboundLocalError",
          "evalue": "ignored",
          "traceback": [
            "\u001b[0;31m---------------------------------------------------------------------------\u001b[0m",
            "\u001b[0;31mUnboundLocalError\u001b[0m                         Traceback (most recent call last)",
            "\u001b[0;32m<ipython-input-9-2edd0bc06b19>\u001b[0m in \u001b[0;36m<module>\u001b[0;34m()\u001b[0m\n\u001b[1;32m      5\u001b[0m     \u001b[0mvar\u001b[0m \u001b[0;34m=\u001b[0m \u001b[0;36m0\u001b[0m\u001b[0;34m\u001b[0m\u001b[0;34m\u001b[0m\u001b[0m\n\u001b[1;32m      6\u001b[0m \u001b[0;34m\u001b[0m\u001b[0m\n\u001b[0;32m----> 7\u001b[0;31m \u001b[0mfoo\u001b[0m\u001b[0;34m(\u001b[0m\u001b[0;36m10\u001b[0m\u001b[0;34m)\u001b[0m\u001b[0;34m\u001b[0m\u001b[0;34m\u001b[0m\u001b[0m\n\u001b[0m",
            "\u001b[0;32m<ipython-input-9-2edd0bc06b19>\u001b[0m in \u001b[0;36mfoo\u001b[0;34m(n)\u001b[0m\n\u001b[1;32m      2\u001b[0m \u001b[0;34m\u001b[0m\u001b[0m\n\u001b[1;32m      3\u001b[0m \u001b[0;32mdef\u001b[0m \u001b[0mfoo\u001b[0m\u001b[0;34m(\u001b[0m\u001b[0mn\u001b[0m\u001b[0;34m)\u001b[0m\u001b[0;34m:\u001b[0m\u001b[0;34m\u001b[0m\u001b[0;34m\u001b[0m\u001b[0m\n\u001b[0;32m----> 4\u001b[0;31m     \u001b[0mprint\u001b[0m\u001b[0;34m(\u001b[0m\u001b[0mvar\u001b[0m\u001b[0;34m)\u001b[0m\u001b[0;34m\u001b[0m\u001b[0;34m\u001b[0m\u001b[0m\n\u001b[0m\u001b[1;32m      5\u001b[0m     \u001b[0mvar\u001b[0m \u001b[0;34m=\u001b[0m \u001b[0;36m0\u001b[0m\u001b[0;34m\u001b[0m\u001b[0;34m\u001b[0m\u001b[0m\n\u001b[1;32m      6\u001b[0m \u001b[0;34m\u001b[0m\u001b[0m\n",
            "\u001b[0;31mUnboundLocalError\u001b[0m: local variable 'var' referenced before assignment"
          ]
        }
      ]
    },
    {
      "cell_type": "markdown",
      "metadata": {
        "id": "KhE9Uxe0noJN",
        "colab_type": "text"
      },
      "source": [
        "So untill we defined the variable `var` inside `foo` by `var=0`, python did not create the local variable `var`. Until that point if we use/access the value of `var`, python will give us the value of `var` from outer scope. But as soon as we defined `var` inside the function `foo`, then python knows that this `var` is a local variable and is different than `var` outside the `foo`. Python then creates the local variable `var`. At this point python makes the variable `var`, **local**. (You can say, python forgets what `var` in outer scope is). As we tried to use `var` before declaring it, hence the error message. "
      ]
    },
    {
      "cell_type": "code",
      "metadata": {
        "id": "iIaLB1MY5Ky0",
        "colab_type": "code",
        "outputId": "27882c68-2b6a-4c81-8ef3-1c0ad5f26c8a",
        "colab": {
          "base_uri": "https://localhost:8080/",
          "height": 54
        }
      },
      "source": [
        "var = 1\n",
        "\n",
        "def foo(n):\n",
        "    global var\n",
        "    var = n  # modifying global copy of var\n",
        "\n",
        "def print_var():\n",
        "    print(var)  # prints global value of var\n",
        "\n",
        "print(var)\n",
        "foo(10)\n",
        "print_var()"
      ],
      "execution_count": 10,
      "outputs": [
        {
          "output_type": "stream",
          "text": [
            "1\n",
            "10\n"
          ],
          "name": "stdout"
        }
      ]
    },
    {
      "cell_type": "markdown",
      "metadata": {
        "id": "lNIFSvMr5y7y",
        "colab_type": "text"
      },
      "source": [
        "**Takeaway:** We need to declare a variable as `global` in a function which assigns a value of it. If we want to ONLY USE a global variable in local scope, we can do this without declaring it global."
      ]
    },
    {
      "cell_type": "markdown",
      "metadata": {
        "id": "tTFK0TGOs62E",
        "colab_type": "text"
      },
      "source": [
        "# alternative to global\n",
        "\n",
        "If we want to share a variable between two functions, and the outer scope, we have to make use of `global` statement in both functions."
      ]
    },
    {
      "cell_type": "code",
      "metadata": {
        "id": "iyutGf8jpzkt",
        "colab_type": "code",
        "outputId": "f7ed4350-aa4f-4f22-f4f0-f542617c7caf",
        "colab": {
          "base_uri": "https://localhost:8080/",
          "height": 73
        }
      },
      "source": [
        "var = 0   # The initial value of x, with global scope\n",
        "\n",
        "def foo2():\n",
        "    global var\n",
        "    var = var + 5\n",
        "\n",
        "def main():\n",
        "    global var   # So we can change the value of var inside main\n",
        "    print(var)    # first check the var inside main\n",
        "    var = 10\n",
        "    print(var)\n",
        "    foo2()\n",
        "    print(var)\n",
        "\n",
        "main()"
      ],
      "execution_count": 11,
      "outputs": [
        {
          "output_type": "stream",
          "text": [
            "0\n",
            "10\n",
            "15\n"
          ],
          "name": "stdout"
        }
      ]
    },
    {
      "cell_type": "markdown",
      "metadata": {
        "id": "_JuI4Te3uSGs",
        "colab_type": "text"
      },
      "source": [
        "We should normaly avoid sharing variables among different functions with the help of `global`. The alternative to do this, is to make use of functions with `return`."
      ]
    },
    {
      "cell_type": "code",
      "metadata": {
        "id": "JYZ67G8eteK8",
        "colab_type": "code",
        "outputId": "0318a38c-f9ad-484e-8337-3d6bc7cc00eb",
        "colab": {
          "base_uri": "https://localhost:8080/",
          "height": 54
        }
      },
      "source": [
        "def foo1(parameter):\n",
        "    return parameter + 5\n",
        "\n",
        "def main():\n",
        "    var = 10\n",
        "    print(var)    \n",
        "    var = foo1(var)\n",
        "    print(var)\n",
        "\n",
        "main()"
      ],
      "execution_count": 12,
      "outputs": [
        {
          "output_type": "stream",
          "text": [
            "10\n",
            "15\n"
          ],
          "name": "stdout"
        }
      ]
    },
    {
      "cell_type": "markdown",
      "metadata": {
        "id": "aa023bxgpgmL",
        "colab_type": "text"
      },
      "source": [
        "# existence of a vriable\n",
        "\n",
        "Now the variable `var` exists in memory. We can print its value."
      ]
    },
    {
      "cell_type": "code",
      "metadata": {
        "id": "nOkxHcv-pq4d",
        "colab_type": "code",
        "colab": {
          "base_uri": "https://localhost:8080/",
          "height": 36
        },
        "outputId": "bbb4cd78-ccfb-4e88-ff9b-0b4f9fd6d703"
      },
      "source": [
        "var"
      ],
      "execution_count": 13,
      "outputs": [
        {
          "output_type": "execute_result",
          "data": {
            "text/plain": [
              "15"
            ]
          },
          "metadata": {
            "tags": []
          },
          "execution_count": 13
        }
      ]
    },
    {
      "cell_type": "markdown",
      "metadata": {
        "id": "G6Ygl2Q7puKX",
        "colab_type": "text"
      },
      "source": [
        "We can delete the variable from memory by making use of `del` statement."
      ]
    },
    {
      "cell_type": "code",
      "metadata": {
        "id": "xgP4Y0vfp0My",
        "colab_type": "code",
        "colab": {}
      },
      "source": [
        "del var"
      ],
      "execution_count": 0,
      "outputs": []
    },
    {
      "cell_type": "markdown",
      "metadata": {
        "id": "izSzaZj5p3hH",
        "colab_type": "text"
      },
      "source": [
        "Now if we try to print the value of `var` again, python says it does not know what is `var`, since we removed it from memory."
      ]
    },
    {
      "cell_type": "code",
      "metadata": {
        "id": "612G7vhyqESZ",
        "colab_type": "code",
        "colab": {
          "base_uri": "https://localhost:8080/",
          "height": 174
        },
        "outputId": "db0c6f72-14ad-4036-9f85-95deae37f956"
      },
      "source": [
        "var"
      ],
      "execution_count": 15,
      "outputs": [
        {
          "output_type": "error",
          "ename": "NameError",
          "evalue": "ignored",
          "traceback": [
            "\u001b[0;31m---------------------------------------------------------------------------\u001b[0m",
            "\u001b[0;31mNameError\u001b[0m                                 Traceback (most recent call last)",
            "\u001b[0;32m<ipython-input-15-84ddba356ca3>\u001b[0m in \u001b[0;36m<module>\u001b[0;34m()\u001b[0m\n\u001b[0;32m----> 1\u001b[0;31m \u001b[0mvar\u001b[0m\u001b[0;34m\u001b[0m\u001b[0;34m\u001b[0m\u001b[0m\n\u001b[0m",
            "\u001b[0;31mNameError\u001b[0m: name 'var' is not defined"
          ]
        }
      ]
    },
    {
      "cell_type": "markdown",
      "metadata": {
        "id": "JUTZfNMnqHxK",
        "colab_type": "text"
      },
      "source": [
        "If we want to safely remove/delte a variable, we can first check whether it is present in memory or not and delete it only if it is present."
      ]
    },
    {
      "cell_type": "code",
      "metadata": {
        "id": "CNss44wdqbgK",
        "colab_type": "code",
        "colab": {
          "base_uri": "https://localhost:8080/",
          "height": 36
        },
        "outputId": "b1cd77ec-bf4c-4bf7-f6f1-afb6cf6952db"
      },
      "source": [
        "_all = locals().copy()\n",
        "_all.update(globals())\n",
        "if 'var' in globals():\n",
        "    del var\n",
        "    print('var removed')\n",
        "else:\n",
        "    print('it was not in memory')"
      ],
      "execution_count": 16,
      "outputs": [
        {
          "output_type": "stream",
          "text": [
            "it was not in memory\n"
          ],
          "name": "stdout"
        }
      ]
    },
    {
      "cell_type": "markdown",
      "metadata": {
        "id": "WtTLnQ9frTRH",
        "colab_type": "text"
      },
      "source": [
        "We can create the variable `var` once again and try to remove it using the above method to validate it."
      ]
    },
    {
      "cell_type": "code",
      "metadata": {
        "id": "2BbKw6kQrL6b",
        "colab_type": "code",
        "colab": {
          "base_uri": "https://localhost:8080/",
          "height": 36
        },
        "outputId": "dc3d0527-36e9-44c1-8d04-f1d1f3334d6b"
      },
      "source": [
        "var = 3\n",
        "var"
      ],
      "execution_count": 18,
      "outputs": [
        {
          "output_type": "execute_result",
          "data": {
            "text/plain": [
              "3"
            ]
          },
          "metadata": {
            "tags": []
          },
          "execution_count": 18
        }
      ]
    },
    {
      "cell_type": "code",
      "metadata": {
        "id": "oz3VP8C-rPge",
        "colab_type": "code",
        "colab": {
          "base_uri": "https://localhost:8080/",
          "height": 36
        },
        "outputId": "f1ce6bfa-9cac-4598-de3e-c2949e7f37cb"
      },
      "source": [
        "if 'var' in globals():\n",
        "    del var\n",
        "    print('var removed')\n",
        "else:\n",
        "    print('it was not in memory')"
      ],
      "execution_count": 22,
      "outputs": [
        {
          "output_type": "stream",
          "text": [
            "it was not in memory\n"
          ],
          "name": "stdout"
        }
      ]
    },
    {
      "cell_type": "markdown",
      "metadata": {
        "id": "flUIl3inraEo",
        "colab_type": "text"
      },
      "source": [
        "`globals()` returns a dictionary of all global variables while `locals()` returns a dictionary of all local variables. The names of variables are keys of these dictionaries and values of these variables are values of these keys in these dictionaries."
      ]
    },
    {
      "cell_type": "code",
      "metadata": {
        "id": "y9kzLSqJuEA0",
        "colab_type": "code",
        "outputId": "b499d3c6-66f0-4082-8510-3a0285ef3b14",
        "colab": {
          "base_uri": "https://localhost:8080/",
          "height": 1000
        }
      },
      "source": [
        "for k,v in locals().items():\n",
        "    print(k)#, v)  # not printing values for brevity"
      ],
      "execution_count": 24,
      "outputs": [
        {
          "output_type": "stream",
          "text": [
            "__name__\n",
            "__doc__\n",
            "__package__\n",
            "__loader__\n",
            "__spec__\n",
            "__builtin__\n",
            "__builtins__\n",
            "_ih\n",
            "_oh\n",
            "_dh\n",
            "_sh\n",
            "In\n",
            "Out\n",
            "get_ipython\n",
            "exit\n",
            "quit\n",
            "_\n",
            "__\n",
            "___\n",
            "_i\n",
            "_ii\n",
            "_iii\n",
            "_i1\n",
            "foo\n",
            "_i2\n",
            "_i3\n",
            "_3\n",
            "_i4\n",
            "_i5\n",
            "_i6\n",
            "_i7\n",
            "_i8\n",
            "_i9\n",
            "_i10\n",
            "print_var\n",
            "_i11\n",
            "foo2\n",
            "main\n",
            "_i12\n",
            "foo1\n",
            "_i13\n",
            "_13\n",
            "_i14\n",
            "_i15\n",
            "_i16\n",
            "_all\n",
            "_i17\n",
            "_i18\n",
            "_18\n",
            "_i19\n",
            "_i20\n",
            "_i21\n",
            "_i22\n",
            "_i23\n",
            "k\n",
            "v\n",
            "_i24\n"
          ],
          "name": "stdout"
        }
      ]
    },
    {
      "cell_type": "code",
      "metadata": {
        "id": "gPq0LCn7u0bB",
        "colab_type": "code",
        "outputId": "b59199c6-9b7b-475f-ef6d-36c452d5372f",
        "colab": {
          "base_uri": "https://localhost:8080/",
          "height": 1000
        }
      },
      "source": [
        "for k,v in globals().items():\n",
        "    print(k)"
      ],
      "execution_count": 25,
      "outputs": [
        {
          "output_type": "stream",
          "text": [
            "__name__\n",
            "__doc__\n",
            "__package__\n",
            "__loader__\n",
            "__spec__\n",
            "__builtin__\n",
            "__builtins__\n",
            "_ih\n",
            "_oh\n",
            "_dh\n",
            "_sh\n",
            "In\n",
            "Out\n",
            "get_ipython\n",
            "exit\n",
            "quit\n",
            "_\n",
            "__\n",
            "___\n",
            "_i\n",
            "_ii\n",
            "_iii\n",
            "_i1\n",
            "foo\n",
            "_i2\n",
            "_i3\n",
            "_3\n",
            "_i4\n",
            "_i5\n",
            "_i6\n",
            "_i7\n",
            "_i8\n",
            "_i9\n",
            "_i10\n",
            "print_var\n",
            "_i11\n",
            "foo2\n",
            "main\n",
            "_i12\n",
            "foo1\n",
            "_i13\n",
            "_13\n",
            "_i14\n",
            "_i15\n",
            "_i16\n",
            "_all\n",
            "_i17\n",
            "_i18\n",
            "_18\n",
            "_i19\n",
            "_i20\n",
            "_i21\n",
            "_i22\n",
            "_i23\n",
            "k\n",
            "v\n",
            "_i24\n",
            "_i25\n"
          ],
          "name": "stdout"
        }
      ]
    },
    {
      "cell_type": "markdown",
      "metadata": {
        "id": "Y0S2BRdO9S0v",
        "colab_type": "text"
      },
      "source": [
        "# calling a function by its string name\n",
        "\n",
        "With the help of `globals()` function, we can call a method by its string name."
      ]
    },
    {
      "cell_type": "code",
      "metadata": {
        "id": "wOmZ2SeX9Rzc",
        "colab_type": "code",
        "outputId": "12fb5054-3592-4ef3-835d-42929e8535a4",
        "colab": {
          "base_uri": "https://localhost:8080/",
          "height": 36
        }
      },
      "source": [
        "def qatal(a):\n",
        "    print(a + ' sanaullah')\n",
        "\n",
        "func_as_string = 'qatal'\n",
        "\n",
        "globals()[func_as_string]('rana') # qatal()."
      ],
      "execution_count": 27,
      "outputs": [
        {
          "output_type": "stream",
          "text": [
            "rana sanaullah\n"
          ],
          "name": "stdout"
        }
      ]
    },
    {
      "cell_type": "markdown",
      "metadata": {
        "id": "80pkcXKC8ALQ",
        "colab_type": "text"
      },
      "source": [
        "Normally global variables are considered bad see [this](http://wiki.c2.com/?GlobalVariablesAreBad) and [this](https://en.wikipedia.org/wiki/Side_effect_(computer_science)). In python, by convention, global is used for constants and variables are seldom used as global. Technically in python there is no difference between variables and constants, however it is a convention to capitalize GLOBAL CONSTANTS and not global_variables. It is recommende that you explicitly declare global inside a function when you are using a global variable even though if it is not required."
      ]
    },
    {
      "cell_type": "markdown",
      "metadata": {
        "id": "kA4MuBdFZa_K",
        "colab_type": "text"
      },
      "source": [
        "# modifying global variable with same name as local\n",
        "\n",
        "If there is a local variable with same name as global variable and we want to modify global variable, we can make use of `globals()`."
      ]
    },
    {
      "cell_type": "code",
      "metadata": {
        "id": "8clZyYL8aKpw",
        "colab_type": "code",
        "colab": {
          "base_uri": "https://localhost:8080/",
          "height": 91
        },
        "outputId": "733ccd3b-58bb-4c82-b45f-16db01a7dd37"
      },
      "source": [
        "thug = 'showbaz'\n",
        "\n",
        "def commision(accused):\n",
        "    thug = 'nawaz'\n",
        "    print('internal thug: ', thug)\n",
        "    globals()['thug'] = accused\n",
        "    print('internal thug: ', thug)\n",
        "    return\n",
        "\n",
        "print('global thug before: ', thug)\n",
        "commision('diesel')\n",
        "print('global thug later:', thug)"
      ],
      "execution_count": 29,
      "outputs": [
        {
          "output_type": "stream",
          "text": [
            "global thug before:  showbaz\n",
            "internal thug:  nawaz\n",
            "internal thug:  nawaz\n",
            "global thug later: diesel\n"
          ],
          "name": "stdout"
        }
      ]
    },
    {
      "cell_type": "markdown",
      "metadata": {
        "id": "0dDecD9rSbBz",
        "colab_type": "text"
      },
      "source": [
        "# Mutable objects\n",
        "\n",
        "We can change/modify the values of mutable objects such as that of dictionaries inside the function without declaring them global."
      ]
    },
    {
      "cell_type": "code",
      "metadata": {
        "id": "x_e1OAQW8rpg",
        "colab_type": "code",
        "colab": {
          "base_uri": "https://localhost:8080/",
          "height": 54
        },
        "outputId": "dbe41cbe-6650-4eb1-c7dc-d0652c7b1357"
      },
      "source": [
        "thug = {'name': ' '}\n",
        "\n",
        "def commision(thug_name):\n",
        "    thug['name'] = thug_name\n",
        "\n",
        "print(thug)\n",
        "commision('showbaz')\n",
        "print(thug)"
      ],
      "execution_count": 30,
      "outputs": [
        {
          "output_type": "stream",
          "text": [
            "{'name': ' '}\n",
            "{'name': 'showbaz'}\n"
          ],
          "name": "stdout"
        }
      ]
    },
    {
      "cell_type": "code",
      "metadata": {
        "id": "KlfOgDZkTAxq",
        "colab_type": "code",
        "colab": {
          "base_uri": "https://localhost:8080/",
          "height": 36
        },
        "outputId": "2fc0822b-2183-46e4-b175-e2729c9e94fe"
      },
      "source": [
        "thugs = ['musharaf', 'zardari']\n",
        "\n",
        "def commision(accused):\n",
        "    thugs.append(accused)\n",
        "\n",
        "commision('nawaz')\n",
        "thugs"
      ],
      "execution_count": 31,
      "outputs": [
        {
          "output_type": "execute_result",
          "data": {
            "text/plain": [
              "['musharaf', 'zardari', 'nawaz']"
            ]
          },
          "metadata": {
            "tags": []
          },
          "execution_count": 31
        }
      ]
    },
    {
      "cell_type": "code",
      "metadata": {
        "id": "DdaeUOvaT2z2",
        "colab_type": "code",
        "colab": {
          "base_uri": "https://localhost:8080/",
          "height": 36
        },
        "outputId": "a4b6e990-2e01-459a-c092-1ed8287bf12b"
      },
      "source": [
        "thugs = set(thugs)\n",
        "\n",
        "def commision(accused):\n",
        "    thugs.add(accused)\n",
        "\n",
        "commision('diesel')\n",
        "thugs"
      ],
      "execution_count": 32,
      "outputs": [
        {
          "output_type": "execute_result",
          "data": {
            "text/plain": [
              "{'diesel', 'musharaf', 'nawaz', 'zardari'}"
            ]
          },
          "metadata": {
            "tags": []
          },
          "execution_count": 32
        }
      ]
    },
    {
      "cell_type": "markdown",
      "metadata": {
        "id": "k08qpW6fWyJL",
        "colab_type": "text"
      },
      "source": [
        "Although tuples are immutable, thus they can not be modified but they can contain mutable objects such as lists, thus we can change/modify such contents of tuples from inside the function without using the keyword `global`."
      ]
    },
    {
      "cell_type": "code",
      "metadata": {
        "id": "LshENGRbUoa4",
        "colab_type": "code",
        "colab": {
          "base_uri": "https://localhost:8080/",
          "height": 54
        },
        "outputId": "5280ab06-6fca-445b-fcd9-c151e783cc54"
      },
      "source": [
        "thugs_tuple = (list(thugs),)\n",
        "\n",
        "def commision(accused):\n",
        "    thugs_tuple[0].append(accused)\n",
        "\n",
        "print(thugs_tuple)\n",
        "commision('pervailz elahi')\n",
        "print(thugs_tuple)"
      ],
      "execution_count": 33,
      "outputs": [
        {
          "output_type": "stream",
          "text": [
            "(['diesel', 'zardari', 'nawaz', 'musharaf'],)\n",
            "(['diesel', 'zardari', 'nawaz', 'musharaf', 'pervailz elahi'],)\n"
          ],
          "name": "stdout"
        }
      ]
    },
    {
      "cell_type": "markdown",
      "metadata": {
        "id": "76jm8ABGXzWO",
        "colab_type": "text"
      },
      "source": [
        "What will happen if we do assignment to a global variable inside function/local scope. The variable inside the local scope will be new created while the immutable object outside the function will remain same."
      ]
    },
    {
      "cell_type": "code",
      "metadata": {
        "id": "BvNAfEM1V-OF",
        "colab_type": "code",
        "colab": {
          "base_uri": "https://localhost:8080/",
          "height": 54
        },
        "outputId": "01fe21a1-bccd-449f-fdc5-b34006a527eb"
      },
      "source": [
        "thugs = ['musharaf', 'zardari']\n",
        "\n",
        "def commision(accused):\n",
        "    thugs = [accused]\n",
        "    return\n",
        "\n",
        "print(thugs)\n",
        "commision('nawaz')\n",
        "thugs"
      ],
      "execution_count": 34,
      "outputs": [
        {
          "output_type": "stream",
          "text": [
            "['musharaf', 'zardari']\n"
          ],
          "name": "stdout"
        },
        {
          "output_type": "execute_result",
          "data": {
            "text/plain": [
              "['musharaf', 'zardari']"
            ]
          },
          "metadata": {
            "tags": []
          },
          "execution_count": 34
        }
      ]
    },
    {
      "cell_type": "markdown",
      "metadata": {
        "id": "0FeNb4ISYTOC",
        "colab_type": "text"
      },
      "source": [
        "However, as said earlier, if we used the keyword `global`, this will affect the variable from global scope."
      ]
    },
    {
      "cell_type": "code",
      "metadata": {
        "id": "u3UmZBczWQgp",
        "colab_type": "code",
        "colab": {
          "base_uri": "https://localhost:8080/",
          "height": 54
        },
        "outputId": "5df6bd59-a39e-458b-857e-b33e2fc0c7b7"
      },
      "source": [
        "thugs = ['musharaf', 'zardari']\n",
        "\n",
        "def commision(accused):\n",
        "    global thugs\n",
        "    thugs = [accused]\n",
        "    return\n",
        "\n",
        "print(thugs)\n",
        "commision('nawaz')\n",
        "thugs"
      ],
      "execution_count": 35,
      "outputs": [
        {
          "output_type": "stream",
          "text": [
            "['musharaf', 'zardari']\n"
          ],
          "name": "stdout"
        },
        {
          "output_type": "execute_result",
          "data": {
            "text/plain": [
              "['nawaz']"
            ]
          },
          "metadata": {
            "tags": []
          },
          "execution_count": 35
        }
      ]
    },
    {
      "cell_type": "markdown",
      "metadata": {
        "id": "akpYtSKEstzY",
        "colab_type": "text"
      },
      "source": [
        "In general: variables in python are local unless declared otherwise."
      ]
    }
  ]
}