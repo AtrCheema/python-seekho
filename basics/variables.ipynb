{
  "nbformat": 4,
  "nbformat_minor": 0,
  "metadata": {
    "colab": {
      "name": "variables.ipynb",
      "provenance": [],
      "collapsed_sections": [],
      "authorship_tag": "ABX9TyNNqwqAqQm8kKpvWvB5L2c6",
      "include_colab_link": true
    },
    "kernelspec": {
      "name": "python3",
      "display_name": "Python 3"
    }
  },
  "cells": [
    {
      "cell_type": "markdown",
      "metadata": {
        "id": "view-in-github",
        "colab_type": "text"
      },
      "source": [
        "<a href=\"https://colab.research.google.com/github/AtrCheema/python-courses/blob/master/basics/variables.ipynb\" target=\"_parent\"><img src=\"https://colab.research.google.com/assets/colab-badge.svg\" alt=\"Open In Colab\"/></a>"
      ]
    },
    {
      "cell_type": "markdown",
      "metadata": {
        "id": "v7n6zY7Y-e4M",
        "colab_type": "text"
      },
      "source": [
        "# Data Types and Variables\n",
        "\n",
        "## Variable\n",
        "A variable is a way to link some data to a memory location. By memory I mean not the storage such as hard drive or USB etc rather memory such as RAM. How much memory will be allocated for a variable depends on what kind of and how much data is linked e.g a variable consisting 10 integers will hold less memory as compared to a variable consisting of a million integers. Similary a variable holding an integer will have different type of memory as compared to a variable holding a string say `ali`.\n",
        "\n",
        "When we define a variable in python, the python checks the type of the variable and allocates some memory for that variable."
      ]
    },
    {
      "cell_type": "code",
      "metadata": {
        "id": "s7CL7rEVwGg7",
        "colab_type": "code",
        "colab": {}
      },
      "source": [
        "a = 10"
      ],
      "execution_count": 0,
      "outputs": []
    },
    {
      "cell_type": "markdown",
      "metadata": {
        "id": "XKcQVwNoyJgJ",
        "colab_type": "text"
      },
      "source": [
        "So what has been done above is that a variable named `a` is assigned a value of 10. Behind the scenes python created an `object` and and the variable name `a` is a reference for that object."
      ]
    },
    {
      "cell_type": "code",
      "metadata": {
        "id": "l-VUS4vByIzw",
        "colab_type": "code",
        "colab": {}
      },
      "source": [
        "a = 20"
      ],
      "execution_count": 0,
      "outputs": []
    },
    {
      "cell_type": "markdown",
      "metadata": {
        "id": "-HcYULmDyWen",
        "colab_type": "text"
      },
      "source": [
        "When I redefined the variable `a`, it means the location of memory which was holding the value 10 before, now holds 20. This means we have changed the contents of memory."
      ]
    },
    {
      "cell_type": "code",
      "metadata": {
        "id": "hmqaQpqtyVsQ",
        "colab_type": "code",
        "outputId": "685fb27d-2438-45fb-d89a-1caed5a16d8e",
        "colab": {
          "base_uri": "https://localhost:8080/",
          "height": 35
        }
      },
      "source": [
        "a = a + 10\n",
        "print(a)"
      ],
      "execution_count": 5,
      "outputs": [
        {
          "output_type": "stream",
          "text": [
            "40\n"
          ],
          "name": "stdout"
        }
      ]
    },
    {
      "cell_type": "markdown",
      "metadata": {
        "id": "AP5oTUXIzGsH",
        "colab_type": "text"
      },
      "source": [
        "What kind of object python creates, depends upond the type of data. We can check the type of a variable by using the command `type(VariableName)`"
      ]
    },
    {
      "cell_type": "code",
      "metadata": {
        "id": "wnRk2iPJy26v",
        "colab_type": "code",
        "outputId": "0f68ab7d-fe96-4475-a072-46b3b619bc55",
        "colab": {
          "base_uri": "https://localhost:8080/",
          "height": 35
        }
      },
      "source": [
        "type(a)"
      ],
      "execution_count": 6,
      "outputs": [
        {
          "output_type": "execute_result",
          "data": {
            "text/plain": [
              "int"
            ]
          },
          "metadata": {
            "tags": []
          },
          "execution_count": 6
        }
      ]
    },
    {
      "cell_type": "code",
      "metadata": {
        "id": "r3UyPq67zMUv",
        "colab_type": "code",
        "outputId": "e445e624-45bb-4a7b-eb21-119eff64fe48",
        "colab": {
          "base_uri": "https://localhost:8080/",
          "height": 35
        }
      },
      "source": [
        "b = 2.0\n",
        "type(b)"
      ],
      "execution_count": 7,
      "outputs": [
        {
          "output_type": "execute_result",
          "data": {
            "text/plain": [
              "float"
            ]
          },
          "metadata": {
            "tags": []
          },
          "execution_count": 7
        }
      ]
    },
    {
      "cell_type": "code",
      "metadata": {
        "id": "xFUz9ngJzWNX",
        "colab_type": "code",
        "outputId": "57358ff8-606a-41ae-a4d6-9ff08b5fc4b0",
        "colab": {
          "base_uri": "https://localhost:8080/",
          "height": 35
        }
      },
      "source": [
        "c = a+b\n",
        "print(c, type(c))"
      ],
      "execution_count": 8,
      "outputs": [
        {
          "output_type": "stream",
          "text": [
            "42.0 <class 'float'>\n"
          ],
          "name": "stdout"
        }
      ]
    },
    {
      "cell_type": "code",
      "metadata": {
        "id": "2cn_VT2HzYoP",
        "colab_type": "code",
        "outputId": "86ed69fc-db9b-4dde-b6bc-65caf414752d",
        "colab": {
          "base_uri": "https://localhost:8080/",
          "height": 35
        }
      },
      "source": [
        "d = a+a\n",
        "print(d, type(d))"
      ],
      "execution_count": 9,
      "outputs": [
        {
          "output_type": "stream",
          "text": [
            "80 <class 'int'>\n"
          ],
          "name": "stdout"
        }
      ]
    },
    {
      "cell_type": "markdown",
      "metadata": {
        "id": "yDXtSToXzjOH",
        "colab_type": "text"
      },
      "source": [
        "So what is significant here is that python is able to change the type of new variable based on the kind of value is going to be assigned to it. If a float value is going to be assinged to a vaiable, the python will change the type of this variable to float.\n",
        "\n",
        "Another significant thing is that, we can assign any type of data to a variable. For example we can assign `int` to variable a, later we can assign `float` to variable and then we can assign a completly different type like `string` to a."
      ]
    },
    {
      "cell_type": "code",
      "metadata": {
        "id": "VfU1tfMQzhxn",
        "colab_type": "code",
        "outputId": "4da9e1c3-50ae-4981-80ed-358f8a268f78",
        "colab": {
          "base_uri": "https://localhost:8080/",
          "height": 35
        }
      },
      "source": [
        "a = 'ali'\n",
        "type(a)"
      ],
      "execution_count": 10,
      "outputs": [
        {
          "output_type": "execute_result",
          "data": {
            "text/plain": [
              "str"
            ]
          },
          "metadata": {
            "tags": []
          },
          "execution_count": 10
        }
      ]
    },
    {
      "cell_type": "markdown",
      "metadata": {
        "id": "FT_vMKbN2Es0",
        "colab_type": "text"
      },
      "source": [
        "When we assign a value to a variable and then assign that variable to a new variable, then both of these variables actually refer to the same object. We can verify this using the function `id(VariableName)`"
      ]
    },
    {
      "cell_type": "code",
      "metadata": {
        "id": "i3sX1kWs1kKN",
        "colab_type": "code",
        "outputId": "48c5713a-047a-4968-a9e7-9c0671ff4eca",
        "colab": {
          "base_uri": "https://localhost:8080/",
          "height": 35
        }
      },
      "source": [
        "a = 12\n",
        "b = a\n",
        "id(a), id(b)"
      ],
      "execution_count": 11,
      "outputs": [
        {
          "output_type": "execute_result",
          "data": {
            "text/plain": [
              "(10914848, 10914848)"
            ]
          },
          "metadata": {
            "tags": []
          },
          "execution_count": 11
        }
      ]
    },
    {
      "cell_type": "code",
      "metadata": {
        "id": "-4KmLbRe2A89",
        "colab_type": "code",
        "outputId": "22436641-7c32-436b-a9da-591776767346",
        "colab": {
          "base_uri": "https://localhost:8080/",
          "height": 35
        }
      },
      "source": [
        "b = 14\n",
        "id(a), id(b)"
      ],
      "execution_count": 12,
      "outputs": [
        {
          "output_type": "execute_result",
          "data": {
            "text/plain": [
              "(10914848, 10914912)"
            ]
          },
          "metadata": {
            "tags": []
          },
          "execution_count": 12
        }
      ]
    },
    {
      "cell_type": "markdown",
      "metadata": {
        "id": "xJALR3h72jhV",
        "colab_type": "text"
      },
      "source": [
        "So when we assigned a differnt data to b, a new object was created and now `b` refers to this this new object thus its identity changes now.\n",
        "\n",
        "Following are valid variable names"
      ]
    },
    {
      "cell_type": "code",
      "metadata": {
        "id": "1-RCLAFS2iQE",
        "colab_type": "code",
        "outputId": "124f4b8b-a822-45cf-9182-4416511b16c7",
        "colab": {
          "base_uri": "https://localhost:8080/",
          "height": 35
        }
      },
      "source": [
        "ali9 = 12\n",
        "Ali9 = 14\n",
        "아타르 = 2\n",
        "print(아타르)"
      ],
      "execution_count": 13,
      "outputs": [
        {
          "output_type": "stream",
          "text": [
            "2\n"
          ],
          "name": "stdout"
        }
      ]
    },
    {
      "cell_type": "markdown",
      "metadata": {
        "id": "mMaCIlLm3r50",
        "colab_type": "text"
      },
      "source": [
        "variable name must not start from a number."
      ]
    },
    {
      "cell_type": "code",
      "metadata": {
        "id": "K3hSvLAP3TIF",
        "colab_type": "code",
        "outputId": "269501eb-7e6c-4fb2-e969-7644bb877340",
        "colab": {
          "base_uri": "https://localhost:8080/",
          "height": 136
        }
      },
      "source": [
        "9ali = 29"
      ],
      "execution_count": 14,
      "outputs": [
        {
          "output_type": "error",
          "ename": "SyntaxError",
          "evalue": "ignored",
          "traceback": [
            "\u001b[0;36m  File \u001b[0;32m\"<ipython-input-14-f7fdf7fa31e4>\"\u001b[0;36m, line \u001b[0;32m1\u001b[0m\n\u001b[0;31m    9ali = 29\u001b[0m\n\u001b[0m       ^\u001b[0m\n\u001b[0;31mSyntaxError\u001b[0m\u001b[0;31m:\u001b[0m invalid syntax\n"
          ]
        }
      ]
    },
    {
      "cell_type": "markdown",
      "metadata": {
        "id": "jqrlMqg034Br",
        "colab_type": "text"
      },
      "source": [
        "We can not name certain keywords as variable names. These keywords can be seen [here](https://docs.python.org/2.5/ref/keywords.html)\n",
        "\n",
        "## Data Types\n",
        "Data types signifies the type of operation that can be performed on that data. Python has following data types\n",
        "\n",
        "### Numbers\n",
        "To represent numerical values, python has three types\n",
        "* integer\n",
        "* float\n",
        "* complex"
      ]
    },
    {
      "cell_type": "code",
      "metadata": {
        "id": "RUPOuYFY4STT",
        "colab_type": "code",
        "outputId": "a6c99eb4-1f10-4595-cecc-10b1db26f622",
        "colab": {
          "base_uri": "https://localhost:8080/",
          "height": 91
        }
      },
      "source": [
        "a = 1\n",
        "b = 0b101   # binary with base 2\n",
        "x = 0o14 # octal with base 8\n",
        "y = 0xe     # hexadecimals with base 16\n",
        "print(a, type(a))\n",
        "print(b, type(b))\n",
        "print(x, type(x))\n",
        "print(y, type(y))"
      ],
      "execution_count": 16,
      "outputs": [
        {
          "output_type": "stream",
          "text": [
            "1 <class 'int'>\n",
            "5 <class 'int'>\n",
            "12 <class 'int'>\n",
            "14 <class 'int'>\n"
          ],
          "name": "stdout"
        }
      ]
    },
    {
      "cell_type": "code",
      "metadata": {
        "id": "lBecJyWF-3Kr",
        "colab_type": "code",
        "outputId": "b09d4fa1-4f3a-4076-b24b-2fbb5e1c44d3",
        "colab": {
          "base_uri": "https://localhost:8080/",
          "height": 72
        }
      },
      "source": [
        "print(bin(5))\n",
        "print(oct(12))\n",
        "print(hex(14))"
      ],
      "execution_count": 17,
      "outputs": [
        {
          "output_type": "stream",
          "text": [
            "0b101\n",
            "0o14\n",
            "0xe\n"
          ],
          "name": "stdout"
        }
      ]
    },
    {
      "cell_type": "code",
      "metadata": {
        "id": "24DiaPEF7HZT",
        "colab_type": "code",
        "outputId": "2db19fae-69e8-4fde-b365-2d7dfa70953d",
        "colab": {
          "base_uri": "https://localhost:8080/",
          "height": 35
        }
      },
      "source": [
        "a = 12.5e3\n",
        "type(a)"
      ],
      "execution_count": 18,
      "outputs": [
        {
          "output_type": "execute_result",
          "data": {
            "text/plain": [
              "float"
            ]
          },
          "metadata": {
            "tags": []
          },
          "execution_count": 18
        }
      ]
    },
    {
      "cell_type": "code",
      "metadata": {
        "id": "yMXUIJda7LOm",
        "colab_type": "code",
        "outputId": "7c1b3edb-4c3d-4b2e-e493-fd3c0ee4a4fb",
        "colab": {
          "base_uri": "https://localhost:8080/",
          "height": 35
        }
      },
      "source": [
        "x = 3 +4j  # consist of real and imagenary part\n",
        "type(x)"
      ],
      "execution_count": 19,
      "outputs": [
        {
          "output_type": "execute_result",
          "data": {
            "text/plain": [
              "complex"
            ]
          },
          "metadata": {
            "tags": []
          },
          "execution_count": 19
        }
      ]
    },
    {
      "cell_type": "code",
      "metadata": {
        "id": "2uA3JYyH7SDn",
        "colab_type": "code",
        "outputId": "ce0bd712-2649-46d2-9545-937cbbc1d96e",
        "colab": {
          "base_uri": "https://localhost:8080/",
          "height": 35
        }
      },
      "source": [
        "coke = False\n",
        "water = True\n",
        "type(coke)\n"
      ],
      "execution_count": 20,
      "outputs": [
        {
          "output_type": "execute_result",
          "data": {
            "text/plain": [
              "bool"
            ]
          },
          "metadata": {
            "tags": []
          },
          "execution_count": 20
        }
      ]
    },
    {
      "cell_type": "markdown",
      "metadata": {
        "id": "bSSOju068C9D",
        "colab_type": "text"
      },
      "source": [
        "### Sequence\n",
        "* strings\n",
        "* lists\n",
        "* tuple"
      ]
    },
    {
      "cell_type": "code",
      "metadata": {
        "id": "lFoXqe7N79HR",
        "colab_type": "code",
        "colab": {}
      },
      "source": [
        "s = 'What is the first question that should come to our mind in this life9?'\n",
        "s2 = \"Should Immanual Kannt be condemned for his racist views?\""
      ],
      "execution_count": 0,
      "outputs": []
    },
    {
      "cell_type": "code",
      "metadata": {
        "id": "GfP553PXEvQs",
        "colab_type": "code",
        "outputId": "aea6ea87-259d-471a-9958-6c18156b9451",
        "colab": {
          "base_uri": "https://localhost:8080/",
          "height": 35
        }
      },
      "source": [
        "s3 = 'Why the colonization isn\\'t considered a crime?'\n",
        "print(s3)"
      ],
      "execution_count": 24,
      "outputs": [
        {
          "output_type": "stream",
          "text": [
            "Why the colonization isn't considered a crime?\n"
          ],
          "name": "stdout"
        }
      ]
    },
    {
      "cell_type": "code",
      "metadata": {
        "id": "esXW-4ZLEwNY",
        "colab_type": "code",
        "outputId": "5325717c-5a7f-4476-c3d0-461d79688942",
        "colab": {
          "base_uri": "https://localhost:8080/",
          "height": 35
        }
      },
      "source": [
        "s3 = \"Why the colonization isn't considered a crime?\"\n",
        "print(s3)"
      ],
      "execution_count": 25,
      "outputs": [
        {
          "output_type": "stream",
          "text": [
            "Why the colonization isn't considered a crime?\n"
          ],
          "name": "stdout"
        }
      ]
    },
    {
      "cell_type": "markdown",
      "metadata": {
        "id": "WiLXwAuzNVlR",
        "colab_type": "text"
      },
      "source": [
        "If we want to quote something with double strings inside a double quoted string, we can do it as following."
      ]
    },
    {
      "cell_type": "code",
      "metadata": {
        "id": "HLOhyA2YE5Af",
        "colab_type": "code",
        "outputId": "418e59e4-d887-4c66-a72e-b0436c026a9e",
        "colab": {
          "base_uri": "https://localhost:8080/",
          "height": 35
        }
      },
      "source": [
        "txt = \"He said: \\\"It doesn't matter, if you enclose a string in single or double quotes!\\\"\"\n",
        "print(txt)"
      ],
      "execution_count": 26,
      "outputs": [
        {
          "output_type": "stream",
          "text": [
            "He said: \"It doesn't matter, if you enclose a string in single or double quotes!\"\n"
          ],
          "name": "stdout"
        }
      ]
    },
    {
      "cell_type": "code",
      "metadata": {
        "id": "xKozfhd4FkhX",
        "colab_type": "code",
        "outputId": "33e3d57b-eaa2-41b8-9ed1-12d3d9471d6a",
        "colab": {
          "base_uri": "https://localhost:8080/",
          "height": 72
        }
      },
      "source": [
        "txt = '''Baqir al sadr was an Iraqi scholar.\n",
        "He was born in 1935 and wrote his famour book \"our philosophy\" just at the age of 25.\n",
        "He was kiiled at the age of 45 by Sadam Husain.'''\n",
        "print(txt)"
      ],
      "execution_count": 27,
      "outputs": [
        {
          "output_type": "stream",
          "text": [
            "Baqir al sadr was an Iraqi scholar.\n",
            "He was born in 1935 and wrote his famour book \"our philosophy\" just at the age of 25.\n",
            "He was kiiled at the age of 45 by Sadam Husain.\n"
          ],
          "name": "stdout"
        }
      ]
    },
    {
      "cell_type": "markdown",
      "metadata": {
        "id": "FxuABUXvHc3W",
        "colab_type": "text"
      },
      "source": [
        "#### Indexing"
      ]
    },
    {
      "cell_type": "code",
      "metadata": {
        "id": "DIFhbRoSFuJ7",
        "colab_type": "code",
        "outputId": "2ee4e78c-a8ba-432b-dc76-71c98b716202",
        "colab": {
          "base_uri": "https://localhost:8080/",
          "height": 35
        }
      },
      "source": [
        "s = \"Assalam o alaikum\"\n",
        "s[0]"
      ],
      "execution_count": 28,
      "outputs": [
        {
          "output_type": "execute_result",
          "data": {
            "text/plain": [
              "'A'"
            ]
          },
          "metadata": {
            "tags": []
          },
          "execution_count": 28
        }
      ]
    },
    {
      "cell_type": "code",
      "metadata": {
        "id": "wXhgyv2VGHUv",
        "colab_type": "code",
        "outputId": "837f992a-8b27-488d-cbfb-6df8f54d4b9e",
        "colab": {
          "base_uri": "https://localhost:8080/",
          "height": 35
        }
      },
      "source": [
        "s[7]"
      ],
      "execution_count": 29,
      "outputs": [
        {
          "output_type": "execute_result",
          "data": {
            "text/plain": [
              "' '"
            ]
          },
          "metadata": {
            "tags": []
          },
          "execution_count": 29
        }
      ]
    },
    {
      "cell_type": "code",
      "metadata": {
        "id": "z_Qj2HgLSAAX",
        "colab_type": "code",
        "colab": {
          "base_uri": "https://localhost:8080/",
          "height": 35
        },
        "outputId": "7b0bce65-4381-439f-dd75-7c182108c7c3"
      },
      "source": [
        "len(s)"
      ],
      "execution_count": 31,
      "outputs": [
        {
          "output_type": "execute_result",
          "data": {
            "text/plain": [
              "17"
            ]
          },
          "metadata": {
            "tags": []
          },
          "execution_count": 31
        }
      ]
    },
    {
      "cell_type": "code",
      "metadata": {
        "id": "fEGDmc4CGJxy",
        "colab_type": "code",
        "outputId": "3a53f0c2-8414-421a-d9dc-9d9508a37373",
        "colab": {
          "base_uri": "https://localhost:8080/",
          "height": 35
        }
      },
      "source": [
        "s[len(s)-1], s[-1]"
      ],
      "execution_count": 30,
      "outputs": [
        {
          "output_type": "execute_result",
          "data": {
            "text/plain": [
              "('m', 'm')"
            ]
          },
          "metadata": {
            "tags": []
          },
          "execution_count": 30
        }
      ]
    },
    {
      "cell_type": "markdown",
      "metadata": {
        "id": "nmNMeJttHguj",
        "colab_type": "text"
      },
      "source": [
        "#### Slicing"
      ]
    },
    {
      "cell_type": "code",
      "metadata": {
        "id": "XxiICm5jGYv5",
        "colab_type": "code",
        "outputId": "854927ab-4901-4ea5-a768-b4a3acc7f0a4",
        "colab": {
          "base_uri": "https://localhost:8080/",
          "height": 35
        }
      },
      "source": [
        "s[-3:], s[5:8], s[8:]"
      ],
      "execution_count": 32,
      "outputs": [
        {
          "output_type": "execute_result",
          "data": {
            "text/plain": [
              "('kum', 'am ', 'o alaikum')"
            ]
          },
          "metadata": {
            "tags": []
          },
          "execution_count": 32
        }
      ]
    },
    {
      "cell_type": "markdown",
      "metadata": {
        "id": "xdZMkcxVGydS",
        "colab_type": "text"
      },
      "source": [
        "#### Concatenation\n"
      ]
    },
    {
      "cell_type": "code",
      "metadata": {
        "id": "Zb9qoDNeGgfg",
        "colab_type": "code",
        "outputId": "4f7b398e-1ef2-45d8-f324-15a66a702df3",
        "colab": {
          "base_uri": "https://localhost:8080/",
          "height": 35
        }
      },
      "source": [
        "a = \" Assalam\" + \" o\" \" alaikum\"\n",
        "a"
      ],
      "execution_count": 33,
      "outputs": [
        {
          "output_type": "execute_result",
          "data": {
            "text/plain": [
              "' Assalam o alaikum'"
            ]
          },
          "metadata": {
            "tags": []
          },
          "execution_count": 33
        }
      ]
    },
    {
      "cell_type": "markdown",
      "metadata": {
        "id": "BzvFx62qHMpC",
        "colab_type": "text"
      },
      "source": [
        "#### Repeatition"
      ]
    },
    {
      "cell_type": "code",
      "metadata": {
        "id": "vBJrwW26G7R7",
        "colab_type": "code",
        "outputId": "db2e2944-2590-4c9d-e571-933953a6d138",
        "colab": {
          "base_uri": "https://localhost:8080/",
          "height": 35
        }
      },
      "source": [
        "b = a*3\n",
        "b"
      ],
      "execution_count": 34,
      "outputs": [
        {
          "output_type": "execute_result",
          "data": {
            "text/plain": [
              "' Assalam o alaikum Assalam o alaikum Assalam o alaikum'"
            ]
          },
          "metadata": {
            "tags": []
          },
          "execution_count": 34
        }
      ]
    },
    {
      "cell_type": "markdown",
      "metadata": {
        "id": "ZWKKVXGCHuSo",
        "colab_type": "text"
      },
      "source": [
        "We can find the lenght of a sequence object in python using the functin `len`. Since strings are also sequences, their length/size can also be found by `len`."
      ]
    },
    {
      "cell_type": "code",
      "metadata": {
        "id": "U8njpx1ZHPb4",
        "colab_type": "code",
        "outputId": "46c33cb8-9f42-4b1e-9146-0fbd3be3b876",
        "colab": {
          "base_uri": "https://localhost:8080/",
          "height": 35
        }
      },
      "source": [
        "len(a), len(b)"
      ],
      "execution_count": 35,
      "outputs": [
        {
          "output_type": "execute_result",
          "data": {
            "text/plain": [
              "(18, 54)"
            ]
          },
          "metadata": {
            "tags": []
          },
          "execution_count": 35
        }
      ]
    },
    {
      "cell_type": "markdown",
      "metadata": {
        "id": "Ss_MeK0RIPZW",
        "colab_type": "text"
      },
      "source": [
        "#### immutability"
      ]
    },
    {
      "cell_type": "code",
      "metadata": {
        "id": "YRxl_MXOHm0p",
        "colab_type": "code",
        "outputId": "2de3f4de-e9f4-48af-ba3d-7262582dfc2f",
        "colab": {
          "base_uri": "https://localhost:8080/",
          "height": 173
        }
      },
      "source": [
        "a[-1] = \". \""
      ],
      "execution_count": 36,
      "outputs": [
        {
          "output_type": "error",
          "ename": "TypeError",
          "evalue": "ignored",
          "traceback": [
            "\u001b[0;31m---------------------------------------------------------------------------\u001b[0m",
            "\u001b[0;31mTypeError\u001b[0m                                 Traceback (most recent call last)",
            "\u001b[0;32m<ipython-input-36-c5fe6d5000fb>\u001b[0m in \u001b[0;36m<module>\u001b[0;34m()\u001b[0m\n\u001b[0;32m----> 1\u001b[0;31m \u001b[0ma\u001b[0m\u001b[0;34m[\u001b[0m\u001b[0;34m-\u001b[0m\u001b[0;36m1\u001b[0m\u001b[0;34m]\u001b[0m \u001b[0;34m=\u001b[0m \u001b[0;34m\". \"\u001b[0m\u001b[0;34m\u001b[0m\u001b[0;34m\u001b[0m\u001b[0m\n\u001b[0m",
            "\u001b[0;31mTypeError\u001b[0m: 'str' object does not support item assignment"
          ]
        }
      ]
    },
    {
      "cell_type": "code",
      "metadata": {
        "id": "VGZL9RCFIXER",
        "colab_type": "code",
        "outputId": "d2e1d293-f91a-4dc4-f9ca-424ab33050d0",
        "colab": {
          "base_uri": "https://localhost:8080/",
          "height": 35
        }
      },
      "source": [
        "a = \"Muhammad\"\n",
        "b = \"Muhammad\"\n",
        "a is b"
      ],
      "execution_count": 37,
      "outputs": [
        {
          "output_type": "execute_result",
          "data": {
            "text/plain": [
              "True"
            ]
          },
          "metadata": {
            "tags": []
          },
          "execution_count": 37
        }
      ]
    },
    {
      "cell_type": "code",
      "metadata": {
        "id": "7UuIkRKWI-AG",
        "colab_type": "code",
        "outputId": "f9144500-f5cf-4d85-d678-5a5178fa1a01",
        "colab": {
          "base_uri": "https://localhost:8080/",
          "height": 35
        }
      },
      "source": [
        "a == b"
      ],
      "execution_count": 38,
      "outputs": [
        {
          "output_type": "execute_result",
          "data": {
            "text/plain": [
              "True"
            ]
          },
          "metadata": {
            "tags": []
          },
          "execution_count": 38
        }
      ]
    },
    {
      "cell_type": "code",
      "metadata": {
        "id": "FfsVQcW3I_BB",
        "colab_type": "code",
        "outputId": "be99ffaa-dbf5-4750-ae2a-874a92cafd52",
        "colab": {
          "base_uri": "https://localhost:8080/",
          "height": 35
        }
      },
      "source": [
        "a = \"Muhammad!\"\n",
        "b = \"Muhammad!\"\n",
        "a is b"
      ],
      "execution_count": 39,
      "outputs": [
        {
          "output_type": "execute_result",
          "data": {
            "text/plain": [
              "False"
            ]
          },
          "metadata": {
            "tags": []
          },
          "execution_count": 39
        }
      ]
    },
    {
      "cell_type": "code",
      "metadata": {
        "id": "NUxGf2QXJFob",
        "colab_type": "code",
        "outputId": "0988098a-4d75-4f8b-ef85-0c348a82a48f",
        "colab": {
          "base_uri": "https://localhost:8080/",
          "height": 35
        }
      },
      "source": [
        "a == b"
      ],
      "execution_count": 40,
      "outputs": [
        {
          "output_type": "execute_result",
          "data": {
            "text/plain": [
              "True"
            ]
          },
          "metadata": {
            "tags": []
          },
          "execution_count": 40
        }
      ]
    },
    {
      "cell_type": "code",
      "metadata": {
        "id": "3K2eWD0LJGsZ",
        "colab_type": "code",
        "outputId": "e8a24d0b-0f74-4c7a-b90d-7cb0b92212f8",
        "colab": {
          "base_uri": "https://localhost:8080/",
          "height": 35
        }
      },
      "source": [
        "a = \"Muhammad1\"\n",
        "b = \"Muhammad1\"\n",
        "a is b"
      ],
      "execution_count": 41,
      "outputs": [
        {
          "output_type": "execute_result",
          "data": {
            "text/plain": [
              "True"
            ]
          },
          "metadata": {
            "tags": []
          },
          "execution_count": 41
        }
      ]
    },
    {
      "cell_type": "code",
      "metadata": {
        "id": "8jVVVCbCJNmt",
        "colab_type": "code",
        "outputId": "874144fa-a0fc-4841-e3a1-c6aeb843e44a",
        "colab": {
          "base_uri": "https://localhost:8080/",
          "height": 35
        }
      },
      "source": [
        "a == b"
      ],
      "execution_count": 42,
      "outputs": [
        {
          "output_type": "execute_result",
          "data": {
            "text/plain": [
              "True"
            ]
          },
          "metadata": {
            "tags": []
          },
          "execution_count": 42
        }
      ]
    },
    {
      "cell_type": "markdown",
      "metadata": {
        "id": "_awZrgKCTSFY",
        "colab_type": "text"
      },
      "source": [
        "### Range\n",
        "\n",
        "It gives immutable sequence. We will further study its use later during in `for loops`."
      ]
    },
    {
      "cell_type": "code",
      "metadata": {
        "id": "KU66nD2kSQjU",
        "colab_type": "code",
        "outputId": "9cfd26a4-9870-4edb-8d3b-f591dbad7845",
        "colab": {
          "base_uri": "https://localhost:8080/",
          "height": 35
        }
      },
      "source": [
        "a = range(4)\n",
        "a"
      ],
      "execution_count": 43,
      "outputs": [
        {
          "output_type": "execute_result",
          "data": {
            "text/plain": [
              "range(0, 4)"
            ]
          },
          "metadata": {
            "tags": []
          },
          "execution_count": 43
        }
      ]
    },
    {
      "cell_type": "code",
      "metadata": {
        "id": "zMdWOZQxSUkC",
        "colab_type": "code",
        "outputId": "53cce10e-1fb2-4605-8b0c-3cd37bfcdc78",
        "colab": {
          "base_uri": "https://localhost:8080/",
          "height": 35
        }
      },
      "source": [
        "type(a)"
      ],
      "execution_count": 44,
      "outputs": [
        {
          "output_type": "execute_result",
          "data": {
            "text/plain": [
              "range"
            ]
          },
          "metadata": {
            "tags": []
          },
          "execution_count": 44
        }
      ]
    }
  ]
}