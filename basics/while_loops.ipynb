{
  "nbformat": 4,
  "nbformat_minor": 0,
  "metadata": {
    "colab": {
      "name": "while_loops.ipynb",
      "provenance": [],
      "collapsed_sections": [],
      "include_colab_link": true
    },
    "kernelspec": {
      "name": "python3",
      "display_name": "Python 3"
    }
  },
  "cells": [
    {
      "cell_type": "markdown",
      "metadata": {
        "id": "view-in-github",
        "colab_type": "text"
      },
      "source": [
        "<a href=\"https://colab.research.google.com/github/AtrCheema/python-courses/blob/master/basics/while_loops.ipynb\" target=\"_parent\"><img src=\"https://colab.research.google.com/assets/colab-badge.svg\" alt=\"Open In Colab\"/></a>"
      ]
    },
    {
      "cell_type": "markdown",
      "metadata": {
        "id": "3wYNCAsUl8Vn",
        "colab_type": "text"
      },
      "source": [
        "# While Loops\n",
        "\n",
        "Suppose we have a list of names of people who have ruled Pakistan with one name in it who has not been the ruler and we want to find out at which psition the name of this person is located. One way to solve this problem is to use while loops."
      ]
    },
    {
      "cell_type": "code",
      "metadata": {
        "id": "u593d9fYkiK9",
        "colab_type": "code",
        "colab": {}
      },
      "source": [
        "looters = ['sikandar mirza', 'ayub khan', 'yahya khan', 'zulfiqar bhutto', 'shahid afridi', 'zia-ul-haq',\n",
        "           'benazir', 'nawaz sharif', 'musharaf',   'zardari']\n",
        "\n",
        "acc_id = 0\n",
        "while acc_id<len(looters):   # this condition must become False at some point.\n",
        "    if looters[acc_id] == 'shahid afridi':\n",
        "        print('Found a normal person at position', acc_id)\n",
        "    else:\n",
        "        print(looters[acc_id], 'was a thug')\n",
        "    acc_id += 1"
      ],
      "execution_count": 0,
      "outputs": []
    },
    {
      "cell_type": "markdown",
      "metadata": {
        "id": "crs8Tr3EfGFQ",
        "colab_type": "text"
      },
      "source": [
        "The basic syntax of while statement in python is:\n",
        "\n",
        "```python\n",
        "while (condition):\n",
        "    do something\n",
        "```\n",
        "The condition after `while` must become `False` after some time otherwise the loop will continute indefinitely. Consider not increasing thte value of `acc_id` in upper example and the print statement will continute forever until we have to stop it forcefully by terminating the program. (In case you do do this, you can stop this by going to `Runtime` --> `Interrupt execution`.)"
      ]
    },
    {
      "cell_type": "markdown",
      "metadata": {
        "id": "xJYCxQWqREnv",
        "colab_type": "text"
      },
      "source": [
        "# while with else\n",
        "\n",
        "```python\n",
        "while condition:\n",
        "\tdo something\n",
        "else:\n",
        "\tdo something at last\n",
        "```"
      ]
    },
    {
      "cell_type": "code",
      "metadata": {
        "id": "KwgLuKBteZn_",
        "colab_type": "code",
        "colab": {
          "base_uri": "https://localhost:8080/",
          "height": 222
        },
        "outputId": "f71f8f0c-bcee-454b-d8c2-0664393e9856"
      },
      "source": [
        "looters = ['sikandar mirza', 'ayub khan', 'yahya khan', 'zulfiqar bhutto', 'shahid afridi', 'zia-ul-haq',\n",
        "           'benazir', 'nawaz sharif', 'musharaf', 'zardari']\n",
        "\n",
        "acc_id = 0\n",
        "while acc_id<len(looters): \n",
        "    if looters[acc_id] == 'shahid afridi':\n",
        "        print('Found a normal person at position', acc_id)\n",
        "    else:\n",
        "        print(looters[acc_id], 'was a thug')\n",
        "    acc_id += 1\n",
        "else:\n",
        "    print(\"Search finished from the whole list of 'looters'\")"
      ],
      "execution_count": 5,
      "outputs": [
        {
          "output_type": "stream",
          "text": [
            "sikandar mirza was a thug\n",
            "ayub khan was a thug\n",
            "yahya khan was a thug\n",
            "zulfiqar bhutto was a thug\n",
            "Found a normal person at position 4\n",
            "zia-ul-haq was a thug\n",
            "benazir was a thug\n",
            "nawaz sharif was a thug\n",
            "musharaf was a thug\n",
            "zardari was a thug\n",
            "Search finished from the whole list of 'looters'\n"
          ],
          "name": "stdout"
        }
      ]
    },
    {
      "cell_type": "code",
      "metadata": {
        "id": "quRGno_CiUKp",
        "colab_type": "code",
        "colab": {
          "base_uri": "https://localhost:8080/",
          "height": 222
        },
        "outputId": "057d77ac-108d-4456-f061-99b646a6d8f3"
      },
      "source": [
        "looters = ['sikandar mirza', 'ayub khan', 'yahya khan', 'zulfiqar bhutto', 'shahid afridi', 'zia-ul-haq',\n",
        "           'benazir', 'nawaz sharif', 'musharaf', 'zardari']\n",
        "\n",
        "acc_id = 0\n",
        "while acc_id<len(looters): \n",
        "    if looters[acc_id] == 'shahid afridi':\n",
        "        print('Found a normal person at position ', acc_id)\n",
        "    else:\n",
        "        print(looters[acc_id], 'was a thug')\n",
        "    acc_id += 1\n",
        "\n",
        "print(\"Search finished from the whole list of 'looters'\")"
      ],
      "execution_count": 6,
      "outputs": [
        {
          "output_type": "stream",
          "text": [
            "sikandar mirza was a thug\n",
            "ayub khan was a thug\n",
            "yahya khan was a thug\n",
            "zulfiqar bhutto was a thug\n",
            "Found a normal person at position  4\n",
            "zia-ul-haq was a thug\n",
            "benazir was a thug\n",
            "nawaz sharif was a thug\n",
            "musharaf was a thug\n",
            "zardari was a thug\n",
            "Search finished from the whole list of 'looters'\n"
          ],
          "name": "stdout"
        }
      ]
    },
    {
      "cell_type": "markdown",
      "metadata": {
        "id": "n6kYyhxJh7O4",
        "colab_type": "text"
      },
      "source": [
        "We may think `what is the use of else statement`? Ofcouse we can achieve same thing by just placing the code inside `else` statement, without making use of `else`."
      ]
    },
    {
      "cell_type": "markdown",
      "metadata": {
        "id": "OkWco6ILf3pu",
        "colab_type": "text"
      },
      "source": [
        "Wouldn't it be better if we just stop the search after we found the thief. Here comes the benefit of `break` statement along with `else` keyword."
      ]
    },
    {
      "cell_type": "code",
      "metadata": {
        "id": "z6xM6E1XQhFP",
        "colab_type": "code",
        "colab": {
          "base_uri": "https://localhost:8080/",
          "height": 110
        },
        "outputId": "1db5f37c-6397-4938-d1ad-98536d425d10"
      },
      "source": [
        "looters = ['sikandar mirza', 'ayub khan', 'yahya khan', 'zulfiqar bhutto', 'shahid afridi', 'zia-ul-haq',\n",
        "           'benazir', 'nawaz sharif', 'musharaf', 'zardari']\n",
        "\n",
        "acc_id = 0\n",
        "while acc_id<len(looters): \n",
        "    if looters[acc_id] == 'shahid afridi':\n",
        "        print('Found a normal person at position', acc_id, '. No need to continute searching anymore')\n",
        "        break\n",
        "    else:\n",
        "        print(looters[acc_id], 'was a thug')\n",
        "    acc_id += 1\n",
        "else:\n",
        "    print(\"Search finished from the whole list of 'looters'\")"
      ],
      "execution_count": 7,
      "outputs": [
        {
          "output_type": "stream",
          "text": [
            "sikandar mirza was a thug\n",
            "ayub khan was a thug\n",
            "yahya khan was a thug\n",
            "zulfiqar bhutto was a thug\n",
            "Found a normal person at position 4 . No need to continute searching anymore\n"
          ],
          "name": "stdout"
        }
      ]
    }
  ]
}