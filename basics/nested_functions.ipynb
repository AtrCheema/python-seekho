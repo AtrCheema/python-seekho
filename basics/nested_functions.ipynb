{
  "nbformat": 4,
  "nbformat_minor": 0,
  "metadata": {
    "colab": {
      "name": "nested_functions.ipynb",
      "provenance": [],
      "collapsed_sections": [],
      "include_colab_link": true
    },
    "kernelspec": {
      "name": "python3",
      "display_name": "Python 3"
    }
  },
  "cells": [
    {
      "cell_type": "markdown",
      "metadata": {
        "id": "view-in-github",
        "colab_type": "text"
      },
      "source": [
        "<a href=\"https://colab.research.google.com/github/AtrCheema/python-courses/blob/master/basics/nested_functions.ipynb\" target=\"_parent\"><img src=\"https://colab.research.google.com/assets/colab-badge.svg\" alt=\"Open In Colab\"/></a>"
      ]
    },
    {
      "cell_type": "markdown",
      "metadata": {
        "id": "pvBAHccWszrR",
        "colab_type": "text"
      },
      "source": [
        "A nested function is a function inside a function."
      ]
    },
    {
      "cell_type": "code",
      "metadata": {
        "id": "RTvWWw-xv8_t",
        "colab_type": "code",
        "cellView": "both",
        "outputId": "b17b24ff-c845-43a7-c80a-e17b23e87858",
        "colab": {
          "base_uri": "https://localhost:8080/",
          "height": 36
        }
      },
      "source": [
        "def percent(x,n):\n",
        "\n",
        "    def number():\n",
        "        factor = n/100\n",
        "        print(x * factor)\n",
        "    \n",
        "    number()\n",
        "\n",
        "percent(120, 10)\n",
        "    "
      ],
      "execution_count": 1,
      "outputs": [
        {
          "output_type": "stream",
          "text": [
            "12.0\n"
          ],
          "name": "stdout"
        }
      ]
    },
    {
      "cell_type": "markdown",
      "metadata": {
        "id": "8NQxLakGs5Tp",
        "colab_type": "text"
      },
      "source": [
        "It is pertinent to note that the function `number` was able to use the variable `x` and `n` which are from outer function `print_chor`."
      ]
    },
    {
      "cell_type": "code",
      "metadata": {
        "id": "mikhdAifmafI",
        "colab_type": "code",
        "outputId": "83e4fa61-7afb-40c4-9506-c0dfac650959",
        "colab": {
          "base_uri": "https://localhost:8080/",
          "height": 36
        }
      },
      "source": [
        "def percent(x,n):\n",
        "    factor = n/100\n",
        "\n",
        "    def number(xx):\n",
        "        print(xx * factor)\n",
        "    \n",
        "    number(x)\n",
        "\n",
        "percent(120, 10)"
      ],
      "execution_count": 2,
      "outputs": [
        {
          "output_type": "stream",
          "text": [
            "12.0\n"
          ],
          "name": "stdout"
        }
      ]
    },
    {
      "cell_type": "markdown",
      "metadata": {
        "id": "SiRZSotZtikN",
        "colab_type": "text"
      },
      "source": [
        "It is more clear now that inner function can make use of variables from inner functions.\n",
        "\n",
        "The outer function can return the inner function which can be used later on."
      ]
    },
    {
      "cell_type": "code",
      "metadata": {
        "id": "7cVTf5MMj33q",
        "colab_type": "code",
        "outputId": "be247f09-6969-4ee8-a0b7-09d99b681333",
        "colab": {
          "base_uri": "https://localhost:8080/",
          "height": 55
        }
      },
      "source": [
        "def percent(n):\n",
        "    factor = n/100\n",
        "\n",
        "    def number(xx):\n",
        "        print(xx * factor)\n",
        "\n",
        "    return number\n",
        "\n",
        "ten_percent = percent(10)  # execution of percent is finished\n",
        "ten_percent(150)           # variable `factor` is still remembered/used\n",
        "\n",
        "two_percent = percent(2)\n",
        "two_percent(150)"
      ],
      "execution_count": 3,
      "outputs": [
        {
          "output_type": "stream",
          "text": [
            "15.0\n",
            "3.0\n"
          ],
          "name": "stdout"
        }
      ]
    },
    {
      "cell_type": "code",
      "metadata": {
        "id": "YZWNC9qzjZrb",
        "colab_type": "code",
        "outputId": "88bed125-d3c7-4644-ebc9-5d1bdbdf1e60",
        "colab": {
          "base_uri": "https://localhost:8080/",
          "height": 36
        }
      },
      "source": [
        "ten_percent(300)  # factor is 0.1"
      ],
      "execution_count": 4,
      "outputs": [
        {
          "output_type": "stream",
          "text": [
            "30.0\n"
          ],
          "name": "stdout"
        }
      ]
    },
    {
      "cell_type": "markdown",
      "metadata": {
        "id": "bHbwR3DGL4hW",
        "colab_type": "text"
      },
      "source": [
        "The variable `factor` is linked with the inner function and so with `ten_percent` and `two_percent`. Both `ten_percent` and `two_percent` have different values of `factor` associated with them. It is worth noting that, although the function `percent` is finished execution, but its variable `factor` is still remembered by `ten_percent` and `two_percent`. We can find out which value of `factor` is associated with `ten_percent` and which value is associated with `two_percent`."
      ]
    },
    {
      "cell_type": "code",
      "metadata": {
        "id": "xeiHfdsHLKyl",
        "colab_type": "code",
        "outputId": "0c625130-b3ec-462a-d112-3c8ea17ccb34",
        "colab": {
          "base_uri": "https://localhost:8080/",
          "height": 36
        }
      },
      "source": [
        "ten_percent.__closure__[0].cell_contents"
      ],
      "execution_count": 5,
      "outputs": [
        {
          "output_type": "execute_result",
          "data": {
            "text/plain": [
              "0.1"
            ]
          },
          "metadata": {
            "tags": []
          },
          "execution_count": 5
        }
      ]
    },
    {
      "cell_type": "code",
      "metadata": {
        "id": "wAa9XX1SLr8g",
        "colab_type": "code",
        "outputId": "d1f39b98-f5f0-4f8d-f6d9-cfd51211ee34",
        "colab": {
          "base_uri": "https://localhost:8080/",
          "height": 36
        }
      },
      "source": [
        "two_percent.__closure__[0].cell_contents"
      ],
      "execution_count": 6,
      "outputs": [
        {
          "output_type": "execute_result",
          "data": {
            "text/plain": [
              "0.02"
            ]
          },
          "metadata": {
            "tags": []
          },
          "execution_count": 6
        }
      ]
    },
    {
      "cell_type": "markdown",
      "metadata": {
        "id": "dk0ltokexyf5",
        "colab_type": "text"
      },
      "source": [
        "Although we finished execution of functino `percent` in previous cell, but upon executing `ten_percent(300)`, the function `number`, still remembers the what `factor` it has to multiply with.  In this way we link a certain data with a function. "
      ]
    },
    {
      "cell_type": "code",
      "metadata": {
        "id": "ZqQbfWZVM0PV",
        "colab_type": "code",
        "colab": {}
      },
      "source": [
        "def full_name(first_n):\n",
        "    prefix = 'Mr. '\n",
        "\n",
        "    def family_name(fam_name):\n",
        "        suffix = 'sahab'\n",
        "\n",
        "        def kuniyat(z):\n",
        "            return prefix + first_n + ' ' + fam_name + ' ' + z + ' ' + suffix\n",
        "\n",
        "        return kuniyat\n",
        "\n",
        "    return family_name"
      ],
      "execution_count": 0,
      "outputs": []
    },
    {
      "cell_type": "code",
      "metadata": {
        "id": "aeq5u_TWM_tn",
        "colab_type": "code",
        "outputId": "218b9852-1404-4dab-82a6-606855b2b201",
        "colab": {
          "base_uri": "https://localhost:8080/",
          "height": 36
        }
      },
      "source": [
        "full_name('Abdus')('Sattar')('Edhi')"
      ],
      "execution_count": 9,
      "outputs": [
        {
          "output_type": "execute_result",
          "data": {
            "text/plain": [
              "'Mr. Abdus Sattar Edhi sahab'"
            ]
          },
          "metadata": {
            "tags": []
          },
          "execution_count": 9
        }
      ]
    },
    {
      "cell_type": "code",
      "metadata": {
        "id": "bW-VTznzNHLe",
        "colab_type": "code",
        "colab": {}
      },
      "source": [
        "fam_name = full_name('Rashid')   #fam_name is intermediate function"
      ],
      "execution_count": 0,
      "outputs": []
    },
    {
      "cell_type": "code",
      "metadata": {
        "id": "cbWfXI7kNSbV",
        "colab_type": "code",
        "colab": {}
      },
      "source": [
        "Kuniyat = fam_name('Minhas')    #kuniyat is innermost function"
      ],
      "execution_count": 0,
      "outputs": []
    },
    {
      "cell_type": "code",
      "metadata": {
        "id": "Vz9KrOsTNZYF",
        "colab_type": "code",
        "outputId": "8a25792c-20a6-44ed-f5b3-4b41371fe91e",
        "colab": {
          "base_uri": "https://localhost:8080/",
          "height": 36
        }
      },
      "source": [
        "Kuniyat('Shaheed')              # Kuniyat is innermost function"
      ],
      "execution_count": 12,
      "outputs": [
        {
          "output_type": "execute_result",
          "data": {
            "text/plain": [
              "'Mr. Rashid Minhas Shaheed sahab'"
            ]
          },
          "metadata": {
            "tags": []
          },
          "execution_count": 12
        }
      ]
    },
    {
      "cell_type": "markdown",
      "metadata": {
        "id": "wWmZeTe-hle6",
        "colab_type": "text"
      },
      "source": [
        "# Why use nested function\n",
        "\n",
        "* They can be used to avoid global variables. In upper example, the variable `prefix`, can be set as global variable outside `full_name`, but in this case we have made data encapsulation and now the variable `prefix` is only available inside the function where it is actually needed. This is also called information hiding.\n",
        "\n",
        "* To improve readability. If there a tiny function that will only be invoked by the outer function, then this will help us determine what the function is all about.\n"
      ]
    },
    {
      "cell_type": "code",
      "metadata": {
        "id": "4huDUgGch3-J",
        "colab_type": "code",
        "outputId": "c1246442-8349-49e3-bcca-51866ad9c172",
        "colab": {
          "base_uri": "https://localhost:8080/",
          "height": 55
        }
      },
      "source": [
        "def print_name(name, gender):\n",
        "    \n",
        "    def add_prefix(s):\n",
        "        if s=='Male':\n",
        "            return 'Mr.'\n",
        "        else:\n",
        "            return 'Mrs.'\n",
        "    \n",
        "    print(add_prefix(gender), name)\n",
        "    \n",
        "\n",
        "print_name('lalak jan', 'Male')\n",
        "\n",
        "print_name('Fatima Jinnah', 'female')"
      ],
      "execution_count": 13,
      "outputs": [
        {
          "output_type": "stream",
          "text": [
            "Mr. lalak jan\n",
            "Mrs. Fatima Jinnah\n"
          ],
          "name": "stdout"
        }
      ]
    },
    {
      "cell_type": "markdown",
      "metadata": {
        "id": "2KgQG-2v1A53",
        "colab_type": "text"
      },
      "source": [
        "We could have easily put `add_prefix` outside the function in outer scope, but in this case when we will read the code, it becomes clear to us that the function `add_prefix` is used only inside `print_name`"
      ]
    },
    {
      "cell_type": "code",
      "metadata": {
        "id": "4qnKFjrJ0o-Z",
        "colab_type": "code",
        "outputId": "742b5b94-7cfc-4fad-ef62-038a8fa35e75",
        "colab": {
          "base_uri": "https://localhost:8080/",
          "height": 36
        }
      },
      "source": [
        "def add_family_name(fam_name):\n",
        "\n",
        "    def make_name(first):\n",
        "        return first + fam_name\n",
        "        \n",
        "    return make_name\n",
        "\n",
        "name_maker = add_family_name(' Minhas')\n",
        "name_maker('Rashid')"
      ],
      "execution_count": 14,
      "outputs": [
        {
          "output_type": "execute_result",
          "data": {
            "text/plain": [
              "'Rashid Minhas'"
            ]
          },
          "metadata": {
            "tags": []
          },
          "execution_count": 14
        }
      ]
    },
    {
      "cell_type": "markdown",
      "metadata": {
        "id": "wb744x1u6-u7",
        "colab_type": "text"
      },
      "source": [
        "#`nonlocal` statement"
      ]
    },
    {
      "cell_type": "code",
      "metadata": {
        "id": "d15x_W_-A_0D",
        "colab_type": "code",
        "colab": {
          "base_uri": "https://localhost:8080/",
          "height": 367
        },
        "outputId": "09d05a54-917e-4698-fd06-e23269490012"
      },
      "source": [
        "def square_after_adding_one(_in):\n",
        "    x = _in\n",
        "\n",
        "    def add_one():\n",
        "        x += 1     # trying to re-assign value of variable `x` from outer scope\n",
        "        return x\n",
        "\n",
        "    val = add_one()**2\n",
        "    print(val)\n",
        "\n",
        "square_after_adding_one(2)"
      ],
      "execution_count": 15,
      "outputs": [
        {
          "output_type": "error",
          "ename": "UnboundLocalError",
          "evalue": "ignored",
          "traceback": [
            "\u001b[0;31m---------------------------------------------------------------------------\u001b[0m",
            "\u001b[0;31mUnboundLocalError\u001b[0m                         Traceback (most recent call last)",
            "\u001b[0;32m<ipython-input-15-feb0223f6d84>\u001b[0m in \u001b[0;36m<module>\u001b[0;34m()\u001b[0m\n\u001b[1;32m      9\u001b[0m     \u001b[0mprint\u001b[0m\u001b[0;34m(\u001b[0m\u001b[0mval\u001b[0m\u001b[0;34m)\u001b[0m\u001b[0;34m\u001b[0m\u001b[0;34m\u001b[0m\u001b[0m\n\u001b[1;32m     10\u001b[0m \u001b[0;34m\u001b[0m\u001b[0m\n\u001b[0;32m---> 11\u001b[0;31m \u001b[0msquare_after_adding_one\u001b[0m\u001b[0;34m(\u001b[0m\u001b[0;36m2\u001b[0m\u001b[0;34m)\u001b[0m\u001b[0;34m\u001b[0m\u001b[0;34m\u001b[0m\u001b[0m\n\u001b[0m",
            "\u001b[0;32m<ipython-input-15-feb0223f6d84>\u001b[0m in \u001b[0;36msquare_after_adding_one\u001b[0;34m(_in)\u001b[0m\n\u001b[1;32m      6\u001b[0m         \u001b[0;32mreturn\u001b[0m \u001b[0mx\u001b[0m\u001b[0;34m\u001b[0m\u001b[0;34m\u001b[0m\u001b[0m\n\u001b[1;32m      7\u001b[0m \u001b[0;34m\u001b[0m\u001b[0m\n\u001b[0;32m----> 8\u001b[0;31m     \u001b[0mval\u001b[0m \u001b[0;34m=\u001b[0m \u001b[0madd_one\u001b[0m\u001b[0;34m(\u001b[0m\u001b[0;34m)\u001b[0m\u001b[0;34m**\u001b[0m\u001b[0;36m2\u001b[0m\u001b[0;34m\u001b[0m\u001b[0;34m\u001b[0m\u001b[0m\n\u001b[0m\u001b[1;32m      9\u001b[0m     \u001b[0mprint\u001b[0m\u001b[0;34m(\u001b[0m\u001b[0mval\u001b[0m\u001b[0;34m)\u001b[0m\u001b[0;34m\u001b[0m\u001b[0;34m\u001b[0m\u001b[0m\n\u001b[1;32m     10\u001b[0m \u001b[0;34m\u001b[0m\u001b[0m\n",
            "\u001b[0;32m<ipython-input-15-feb0223f6d84>\u001b[0m in \u001b[0;36madd_one\u001b[0;34m()\u001b[0m\n\u001b[1;32m      3\u001b[0m \u001b[0;34m\u001b[0m\u001b[0m\n\u001b[1;32m      4\u001b[0m     \u001b[0;32mdef\u001b[0m \u001b[0madd_one\u001b[0m\u001b[0;34m(\u001b[0m\u001b[0;34m)\u001b[0m\u001b[0;34m:\u001b[0m\u001b[0;34m\u001b[0m\u001b[0;34m\u001b[0m\u001b[0m\n\u001b[0;32m----> 5\u001b[0;31m         \u001b[0mx\u001b[0m \u001b[0;34m+=\u001b[0m \u001b[0;36m1\u001b[0m     \u001b[0;31m# trying to re-assign value of variable `x` from outer scope\u001b[0m\u001b[0;34m\u001b[0m\u001b[0;34m\u001b[0m\u001b[0m\n\u001b[0m\u001b[1;32m      6\u001b[0m         \u001b[0;32mreturn\u001b[0m \u001b[0mx\u001b[0m\u001b[0;34m\u001b[0m\u001b[0;34m\u001b[0m\u001b[0m\n\u001b[1;32m      7\u001b[0m \u001b[0;34m\u001b[0m\u001b[0m\n",
            "\u001b[0;31mUnboundLocalError\u001b[0m: local variable 'x' referenced before assignment"
          ]
        }
      ]
    },
    {
      "cell_type": "code",
      "metadata": {
        "id": "NJHLVkzeBbUQ",
        "colab_type": "code",
        "colab": {
          "base_uri": "https://localhost:8080/",
          "height": 73
        },
        "outputId": "03c5a574-a543-4c06-cd17-a664f73062b1"
      },
      "source": [
        "x = 0\n",
        "\n",
        "def square_after_adding_one(_in):\n",
        "    x = _in\n",
        "\n",
        "    def add_one():\n",
        "        nonlocal x\n",
        "        x += 1\n",
        "        return x\n",
        "\n",
        "    val = add_one()**2\n",
        "    print(val, 'squred after adding 1')\n",
        "\n",
        "print(x, 'global ')\n",
        "square_after_adding_one(2)\n",
        "print(x, 'global ')"
      ],
      "execution_count": 16,
      "outputs": [
        {
          "output_type": "stream",
          "text": [
            "0 global \n",
            "9 squred after adding 1\n",
            "0 global \n"
          ],
          "name": "stdout"
        }
      ]
    },
    {
      "cell_type": "code",
      "metadata": {
        "id": "oQSxqweA29JE",
        "colab_type": "code",
        "colab": {
          "base_uri": "https://localhost:8080/",
          "height": 92
        },
        "outputId": "bf6a1d25-1bce-4c15-b36f-358273a269f3"
      },
      "source": [
        "x = 0\n",
        "\n",
        "def square_after_adding_one(_in):\n",
        "    x = _in\n",
        "\n",
        "    def add_one():\n",
        "        global x\n",
        "        x += 1\n",
        "        return x\n",
        "\n",
        "    val = add_one()**2\n",
        "    print(val, 'squred after adding 1')\n",
        "    print(x, 'in outer function')\n",
        "\n",
        "print(x, 'global ')\n",
        "square_after_adding_one(2)\n",
        "print(x, 'global ')"
      ],
      "execution_count": 18,
      "outputs": [
        {
          "output_type": "stream",
          "text": [
            "0 global \n",
            "1 squred after adding 1\n",
            "2 in outer function\n",
            "1 global \n"
          ],
          "name": "stdout"
        }
      ]
    }
  ]
}