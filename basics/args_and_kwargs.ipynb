{
  "nbformat": 4,
  "nbformat_minor": 0,
  "metadata": {
    "colab": {
      "name": "args and kwargs.ipynb",
      "provenance": [],
      "collapsed_sections": [],
      "include_colab_link": true
    },
    "kernelspec": {
      "name": "python3",
      "display_name": "Python 3"
    }
  },
  "cells": [
    {
      "cell_type": "markdown",
      "metadata": {
        "id": "view-in-github",
        "colab_type": "text"
      },
      "source": [
        "<a href=\"https://colab.research.google.com/github/AtrCheema/python-courses/blob/master/basics/args_and_kwargs.ipynb\" target=\"_parent\"><img src=\"https://colab.research.google.com/assets/colab-badge.svg\" alt=\"Open In Colab\"/></a>"
      ]
    },
    {
      "cell_type": "markdown",
      "metadata": {
        "id": "YilXTYICbSTy",
        "colab_type": "text"
      },
      "source": [
        "# `*args`\n",
        "\n",
        "If we want to our function to have variable number of input arguments, one way to do this is to put `*args` inside `()` when defining the function. This will allow us to have multiple `unnamed` input arguments."
      ]
    },
    {
      "cell_type": "code",
      "metadata": {
        "id": "Dy7HcPhbbU5t",
        "colab_type": "code",
        "outputId": "3d6de732-4721-461b-ed94-c40a4fb83696",
        "colab": {
          "base_uri": "https://localhost:8080/",
          "height": 36
        }
      },
      "source": [
        "def add_nums(*args):\n",
        "    print(type(args), len(args), args)\n",
        "\n",
        "add_nums(5,12.0)"
      ],
      "execution_count": 3,
      "outputs": [
        {
          "output_type": "stream",
          "text": [
            "<class 'tuple'> 2 (5, 12.0)\n"
          ],
          "name": "stdout"
        }
      ]
    },
    {
      "cell_type": "markdown",
      "metadata": {
        "id": "5bIp67f8d2b7",
        "colab_type": "text"
      },
      "source": [
        "`*args` returns a tuple. Inside the above function 2,3 is taken as `(2,3)`"
      ]
    },
    {
      "cell_type": "code",
      "metadata": {
        "id": "7ceF-KiObY-j",
        "colab_type": "code",
        "outputId": "e2027c24-ebca-4d72-e36a-a22d7cdef782",
        "colab": {
          "base_uri": "https://localhost:8080/",
          "height": 36
        }
      },
      "source": [
        "l = [2,3,4]\n",
        "add_nums( l )"
      ],
      "execution_count": 4,
      "outputs": [
        {
          "output_type": "stream",
          "text": [
            "<class 'tuple'> 1 ([2, 3, 4],)\n"
          ],
          "name": "stdout"
        }
      ]
    },
    {
      "cell_type": "markdown",
      "metadata": {
        "id": "kSIABYAw3z4g",
        "colab_type": "text"
      },
      "source": [
        "Inside the function `add_nums`, the input argument `[2,3,4]` which is a list, is taken as `([2,3,4],)` which is tuple."
      ]
    },
    {
      "cell_type": "code",
      "metadata": {
        "id": "O2IUy70LbbL1",
        "colab_type": "code",
        "outputId": "677de1f4-a99c-4ed9-ac80-24ddb48401cc",
        "colab": {
          "base_uri": "https://localhost:8080/",
          "height": 73
        }
      },
      "source": [
        "def do_add(*args):\n",
        "    print(len(args), 'in do_add')\n",
        "    for arg in args:\n",
        "        print(arg)\n",
        "    return\n",
        "\n",
        "def add_nums(*args):  \n",
        "    # we get a tuple i.e. (12,14)\n",
        "    print(len(args), 'in add_nums')\n",
        "    # we pass the tuple (12,14) as input argument and NOT 12,14 as two input arguments\n",
        "    return do_add(args)   \n",
        "\n",
        "add_nums(12,14)"
      ],
      "execution_count": 5,
      "outputs": [
        {
          "output_type": "stream",
          "text": [
            "2 in add_nums\n",
            "1 in do_add\n",
            "(12, 14)\n"
          ],
          "name": "stdout"
        }
      ]
    },
    {
      "cell_type": "code",
      "metadata": {
        "id": "p5P63rPpbdTt",
        "colab_type": "code",
        "outputId": "2055a300-5bf6-4b0e-d494-7f95509fe9ff",
        "colab": {
          "base_uri": "https://localhost:8080/",
          "height": 73
        }
      },
      "source": [
        "def do_add(*args):\n",
        "    print(len(args), 'in do_add')\n",
        "    a = 0\n",
        "    for arg in args:\n",
        "        a += arg\n",
        "    return a\n",
        "\n",
        "\n",
        "def add_nums(*args):\n",
        "    print(len(args), 'in add_nums')\n",
        "    # we get a tuple i.e. (12,14) as input\n",
        "\n",
        "    return do_add(*args)  # we are again providing input as 2,3 which means we are providing two inputs\n",
        "\n",
        "add_nums(12,14)"
      ],
      "execution_count": 7,
      "outputs": [
        {
          "output_type": "stream",
          "text": [
            "2 in add_nums\n",
            "2 in do_add\n"
          ],
          "name": "stdout"
        },
        {
          "output_type": "execute_result",
          "data": {
            "text/plain": [
              "26"
            ]
          },
          "metadata": {
            "tags": []
          },
          "execution_count": 7
        }
      ]
    },
    {
      "cell_type": "markdown",
      "metadata": {
        "id": "k97-X3_J-AgX",
        "colab_type": "text"
      },
      "source": [
        "Above: `add_nums` and `do_add` are called with exactly same kind of input arguments."
      ]
    },
    {
      "cell_type": "markdown",
      "metadata": {
        "id": "Mettfcn-bsVk",
        "colab_type": "text"
      },
      "source": [
        "Following is example of misplaced return statement"
      ]
    },
    {
      "cell_type": "code",
      "metadata": {
        "id": "J3j8yC_ZbgWy",
        "colab_type": "code",
        "outputId": "bb35d2ce-1b2e-496e-82cb-b3bb4c73e1d8",
        "colab": {
          "base_uri": "https://localhost:8080/",
          "height": 73
        }
      },
      "source": [
        "def do_add(*args):\n",
        "    print(len(args), 'in do_add')\n",
        "    a = 0\n",
        "    for arg in args:\n",
        "        a += arg\n",
        "        return a\n",
        "\n",
        "\n",
        "def add_nums(_a,*args):\n",
        "    print(len(args), \"in add_nums\")\n",
        "    return do_add(_a, *args)  # this asterik unpacks tuple args\n",
        "\n",
        "add_nums(2,12,14)"
      ],
      "execution_count": 12,
      "outputs": [
        {
          "output_type": "stream",
          "text": [
            "2 in add_nums\n",
            "3 in do_add\n"
          ],
          "name": "stdout"
        },
        {
          "output_type": "execute_result",
          "data": {
            "text/plain": [
              "2"
            ]
          },
          "metadata": {
            "tags": []
          },
          "execution_count": 12
        }
      ]
    },
    {
      "cell_type": "code",
      "metadata": {
        "id": "57KbOIvXbi3x",
        "colab_type": "code",
        "outputId": "e9e8f3f6-4fec-4e45-b8eb-e9edf0c52d6a",
        "colab": {
          "base_uri": "https://localhost:8080/",
          "height": 73
        }
      },
      "source": [
        "def do_add(a, *args):\n",
        "    print(len(args), 'in do_add')\n",
        "\n",
        "    for arg in args:\n",
        "        a += arg\n",
        "    return a\n",
        "\n",
        "\n",
        "def add_nums(_a,*args):\n",
        "    print(len(args), \"in add_nums\")\n",
        "    return do_add(_a, *args)\n",
        "\n",
        "add_nums(5,12,14)"
      ],
      "execution_count": 13,
      "outputs": [
        {
          "output_type": "stream",
          "text": [
            "2 in add_nums\n",
            "2 in do_add\n"
          ],
          "name": "stdout"
        },
        {
          "output_type": "execute_result",
          "data": {
            "text/plain": [
              "31"
            ]
          },
          "metadata": {
            "tags": []
          },
          "execution_count": 13
        }
      ]
    },
    {
      "cell_type": "markdown",
      "metadata": {
        "id": "NjVL--eyeE5K",
        "colab_type": "text"
      },
      "source": [
        "`a` is the positional argument which takes 5, while while 12 and 14 are given as tuple to the function"
      ]
    },
    {
      "cell_type": "code",
      "metadata": {
        "id": "5mtkNw87bk--",
        "colab_type": "code",
        "outputId": "d504b795-d6d3-4fd5-f915-f4c26e1f70ac",
        "colab": {
          "base_uri": "https://localhost:8080/",
          "height": 36
        }
      },
      "source": [
        "def add_nums(a,b,c):\n",
        "    print(a,b,c)\n",
        "    return\n",
        "\n",
        "l = [1,5,12]\n",
        "add_nums(*l)   # if the list `l` contains more than 3 elements, passing it will raise error"
      ],
      "execution_count": 16,
      "outputs": [
        {
          "output_type": "stream",
          "text": [
            "1 5 12\n"
          ],
          "name": "stdout"
        }
      ]
    },
    {
      "cell_type": "markdown",
      "metadata": {
        "id": "uJKlGug3bqki",
        "colab_type": "text"
      },
      "source": [
        "*Although* we can vary the number of arguments by using `*args` but we can not know the name of input args. \n",
        "\n",
        "# `**kwargs`"
      ]
    },
    {
      "cell_type": "code",
      "metadata": {
        "id": "N-_H6DBjbn17",
        "colab_type": "code",
        "outputId": "ebf49e4d-07c3-439c-9598-1286c8d7492b",
        "colab": {
          "base_uri": "https://localhost:8080/",
          "height": 36
        }
      },
      "source": [
        "def add_nums(**kwargs):\n",
        "    print(type(kwargs))\n",
        "\n",
        "add_nums(a=5, b=12)  # we can not do add_nums(2,3) here"
      ],
      "execution_count": 21,
      "outputs": [
        {
          "output_type": "stream",
          "text": [
            "<class 'dict'>\n"
          ],
          "name": "stdout"
        }
      ]
    },
    {
      "cell_type": "code",
      "metadata": {
        "id": "PvhBHjVpbxYQ",
        "colab_type": "code",
        "outputId": "28200fdf-933d-4af3-bd2f-b87d55cc5a1f",
        "colab": {
          "base_uri": "https://localhost:8080/",
          "height": 36
        }
      },
      "source": [
        "def add_nums(**dictionary):\n",
        "    print(type(dictionary), len(dictionary))\n",
        "\n",
        "add_nums(a=5, b=12)"
      ],
      "execution_count": 22,
      "outputs": [
        {
          "output_type": "stream",
          "text": [
            "<class 'dict'> 2\n"
          ],
          "name": "stdout"
        }
      ]
    },
    {
      "cell_type": "code",
      "metadata": {
        "id": "IuX_lHsqbz3X",
        "colab_type": "code",
        "outputId": "6baa7cc3-cba6-4dc2-8463-7d0f1583f369",
        "colab": {
          "base_uri": "https://localhost:8080/",
          "height": 36
        }
      },
      "source": [
        "def add_nums(**kwargs):\n",
        "    print(type(kwargs))\n",
        "\n",
        "a = 5\n",
        "b = 12\n",
        "dictionary = {'a': a, 'b': b}\n",
        "add_nums(**dictionary)   # add_nums(a,b) is invalid, add_nums(dictionary) is invalid as well"
      ],
      "execution_count": 23,
      "outputs": [
        {
          "output_type": "stream",
          "text": [
            "<class 'dict'>\n"
          ],
          "name": "stdout"
        }
      ]
    },
    {
      "cell_type": "code",
      "metadata": {
        "id": "O81DEPx5b14i",
        "colab_type": "code",
        "outputId": "7299fe42-110f-49a3-86ba-f4771dfd0f06",
        "colab": {
          "base_uri": "https://localhost:8080/",
          "height": 36
        }
      },
      "source": [
        "def add_nums(**kwargs):\n",
        "    x = kwargs['a']\n",
        "    y = kwargs['b']\n",
        "    return x + y\n",
        "\n",
        "a = 5\n",
        "b = 12\n",
        "dictionary = {'a': a, 'b': b}\n",
        "add_nums(**dictionary)"
      ],
      "execution_count": 24,
      "outputs": [
        {
          "output_type": "execute_result",
          "data": {
            "text/plain": [
              "17"
            ]
          },
          "metadata": {
            "tags": []
          },
          "execution_count": 24
        }
      ]
    },
    {
      "cell_type": "markdown",
      "metadata": {
        "id": "Qx4bd3-Ob6nF",
        "colab_type": "text"
      },
      "source": [
        "Omitting `**` on both sides also serves the purpose. However, if we omit `**` in function definition, it would mean that function requires an input argument named `kwargs`. If we ommit `**` when calling the function it means that we are giving a dicionary as it is as input argument."
      ]
    },
    {
      "cell_type": "code",
      "metadata": {
        "id": "FTcuP9vQb3yl",
        "colab_type": "code",
        "outputId": "45409ede-1225-463b-fa1e-5e9931083f0a",
        "colab": {
          "base_uri": "https://localhost:8080/",
          "height": 36
        }
      },
      "source": [
        "def add_nums(kwargs):\n",
        "    x = kwargs['a']\n",
        "    y = kwargs['b']\n",
        "    return x + y\n",
        "\n",
        "a = 5\n",
        "b = 12\n",
        "dictionary = {'a': a, 'b': b}\n",
        "add_nums(dictionary)  "
      ],
      "execution_count": 25,
      "outputs": [
        {
          "output_type": "execute_result",
          "data": {
            "text/plain": [
              "17"
            ]
          },
          "metadata": {
            "tags": []
          },
          "execution_count": 25
        }
      ]
    },
    {
      "cell_type": "code",
      "metadata": {
        "id": "9kVb0g5-b-AR",
        "colab_type": "code",
        "outputId": "7780e83f-59b5-4314-d60e-26d9e76d537d",
        "colab": {
          "base_uri": "https://localhost:8080/",
          "height": 54
        }
      },
      "source": [
        "def add_nums(a=1,b=5):\n",
        "    print(type(a))\n",
        "    return a+b\n",
        "\n",
        "d = {'a': 12, 'b': 14}\n",
        "add_nums(**d)"
      ],
      "execution_count": 29,
      "outputs": [
        {
          "output_type": "stream",
          "text": [
            "<class 'int'>\n"
          ],
          "name": "stdout"
        },
        {
          "output_type": "execute_result",
          "data": {
            "text/plain": [
              "26"
            ]
          },
          "metadata": {
            "tags": []
          },
          "execution_count": 29
        }
      ]
    },
    {
      "cell_type": "code",
      "metadata": {
        "id": "o87ajVzicA5I",
        "colab_type": "code",
        "outputId": "8910e765-1994-4d40-f134-c0085e8f4bcd",
        "colab": {
          "base_uri": "https://localhost:8080/",
          "height": 36
        }
      },
      "source": [
        "def add_nums(xx, **kwargs):\n",
        "\n",
        "    x = kwargs['a']\n",
        "    y = kwargs['b']\n",
        "    return xx + x + y\n",
        "\n",
        "\n",
        "dictionary = {'a': 5, 'b': 12}\n",
        "add_nums(1, **dictionary)"
      ],
      "execution_count": 30,
      "outputs": [
        {
          "output_type": "execute_result",
          "data": {
            "text/plain": [
              "18"
            ]
          },
          "metadata": {
            "tags": []
          },
          "execution_count": 30
        }
      ]
    },
    {
      "cell_type": "markdown",
      "metadata": {
        "id": "G64nWM9ycFxc",
        "colab_type": "text"
      },
      "source": [
        "`xx` is assigned the value of `1` when the function `add_nums` is called.\n",
        "\n",
        "We can put extra named arguments separately along with `**kwargs`."
      ]
    },
    {
      "cell_type": "code",
      "metadata": {
        "id": "E8SfSVWGcDAf",
        "colab_type": "code",
        "outputId": "65d8fdd6-4a43-44b5-9a70-19212b5b560a",
        "colab": {
          "base_uri": "https://localhost:8080/",
          "height": 36
        }
      },
      "source": [
        "def add_nums(xx=1, **kwargs):\n",
        "\n",
        "    _sum = 0.0\n",
        "    for key,val in kwargs.items():\n",
        "        _sum += val\n",
        "    \n",
        "    return _sum\n",
        "\n",
        "\n",
        "dictionary = {'a': 5, 'b': 12}\n",
        "add_nums(**dictionary)"
      ],
      "execution_count": 31,
      "outputs": [
        {
          "output_type": "execute_result",
          "data": {
            "text/plain": [
              "17.0"
            ]
          },
          "metadata": {
            "tags": []
          },
          "execution_count": 31
        }
      ]
    },
    {
      "cell_type": "markdown",
      "metadata": {
        "id": "MQfFdcXRde3y",
        "colab_type": "text"
      },
      "source": [
        "The value of `xx` which is `1` is not added in the final answer."
      ]
    },
    {
      "cell_type": "code",
      "metadata": {
        "id": "DnKFGSDPcOT3",
        "colab_type": "code",
        "outputId": "7cadad57-7eac-441b-9be8-d425d4033161",
        "colab": {
          "base_uri": "https://localhost:8080/",
          "height": 36
        }
      },
      "source": [
        "def add_nums(xx=1, yy=12, zz=14, **kwargs):\n",
        "\n",
        "    _sum = 0.0\n",
        "    for key,val in kwargs.items():\n",
        "        _sum += val\n",
        "    \n",
        "    return _sum\n",
        "\n",
        "\n",
        "add_nums(xx=114, yy=313, zz=7, a=1, b=5, c=12,d=14)"
      ],
      "execution_count": 32,
      "outputs": [
        {
          "output_type": "execute_result",
          "data": {
            "text/plain": [
              "32.0"
            ]
          },
          "metadata": {
            "tags": []
          },
          "execution_count": 32
        }
      ]
    },
    {
      "cell_type": "markdown",
      "metadata": {
        "id": "Ss3oo7P6cUdD",
        "colab_type": "text"
      },
      "source": [
        "now `kwargs` contained `a`, `b`, `c` and `d` only. The above code \n",
        "\n",
        "can also be written as following."
      ]
    },
    {
      "cell_type": "code",
      "metadata": {
        "id": "TVNp-YklcRDl",
        "colab_type": "code",
        "outputId": "39932bac-334f-41ee-a660-97ffac819123",
        "colab": {
          "base_uri": "https://localhost:8080/",
          "height": 36
        }
      },
      "source": [
        "def add_nums(xx=1, yy=12, zz=14, **kwargs):\n",
        "\n",
        "    _sum = 0.0\n",
        "    for key,val in kwargs.items():\n",
        "        _sum += val\n",
        "    \n",
        "    return _sum\n",
        "\n",
        "additional_args = {\n",
        "    \"a\": 1,\n",
        "    \"b\": 5,\n",
        "    \"c\": 12,\n",
        "    \"d\": 14,\n",
        "\n",
        "}\n",
        "add_nums(xx=114, yy=313, zz=7, **additional_args)"
      ],
      "execution_count": 33,
      "outputs": [
        {
          "output_type": "execute_result",
          "data": {
            "text/plain": [
              "32.0"
            ]
          },
          "metadata": {
            "tags": []
          },
          "execution_count": 33
        }
      ]
    },
    {
      "cell_type": "markdown",
      "metadata": {
        "id": "NfpYjsAKcd4_",
        "colab_type": "text"
      },
      "source": [
        "A misplaced `return` can be a cause of many headachs, as in following case."
      ]
    },
    {
      "cell_type": "code",
      "metadata": {
        "id": "TdmlqlMicbNL",
        "colab_type": "code",
        "outputId": "2026455a-2d77-4ccd-b543-cbf601b0d1da",
        "colab": {
          "base_uri": "https://localhost:8080/",
          "height": 36
        }
      },
      "source": [
        "def add_nums(xx=1, yy=12, zz=14, # if number of arguments are large, it is totally find to go on second line without any probelm\n",
        "             **kwargs):\n",
        "\n",
        "    _sum = 0.0\n",
        "    for key,val in kwargs.items():\n",
        "        _sum += val\n",
        "    \n",
        "        return _sum\n",
        "\n",
        "additional_args = {\n",
        "    \"a\": 114,\n",
        "    \"b\": 5,\n",
        "    \"c\": 12,\n",
        "    \"d\": 14,\n",
        "\n",
        "}\n",
        "add_nums(xx=114, yy=313, zz=7, **additional_args)"
      ],
      "execution_count": 37,
      "outputs": [
        {
          "output_type": "execute_result",
          "data": {
            "text/plain": [
              "114.0"
            ]
          },
          "metadata": {
            "tags": []
          },
          "execution_count": 37
        }
      ]
    },
    {
      "cell_type": "markdown",
      "metadata": {
        "id": "G1xSPOWTckoI",
        "colab_type": "text"
      },
      "source": [
        "Above, the function `add_nums` finishs execution just after first iteration of `for loop`. "
      ]
    },
    {
      "cell_type": "code",
      "metadata": {
        "id": "lFqECaJzcg_I",
        "colab_type": "code",
        "outputId": "13c499fb-a7f4-48d1-b2e7-b9ab14475ea5",
        "colab": {
          "base_uri": "https://localhost:8080/",
          "height": 36
        }
      },
      "source": [
        "def cook_lunch_with_bread(raw_food):\n",
        "    print('prepare lunch with break')\n",
        "\n",
        "\n",
        "def cook_lunch_without_bread(raw_food):\n",
        "    print('prepare lunch with {}, {} and without bread'.format(*raw_food.keys()))\n",
        "\n",
        "\n",
        "def lunch(**raw_food):\n",
        "    if 'bread' in raw_food:\n",
        "        cook_lunch_with_bread(raw_food)\n",
        "    else:\n",
        "        cook_lunch_without_bread(raw_food)\n",
        "\n",
        "lunch(rice='2', milk=1)"
      ],
      "execution_count": 38,
      "outputs": [
        {
          "output_type": "stream",
          "text": [
            "prepare lunch with rice, milk and without bread\n"
          ],
          "name": "stdout"
        }
      ]
    },
    {
      "cell_type": "markdown",
      "metadata": {
        "id": "xM_CVWC9cr40",
        "colab_type": "text"
      },
      "source": [
        "We can predefine/fix the number of positional arguments and keyword arguments that a function must take. Following code allows only 3 positional keyword arguments and 2 keyword arguments."
      ]
    },
    {
      "cell_type": "code",
      "metadata": {
        "id": "y0hn6o7scjzr",
        "colab_type": "code",
        "outputId": "4cb48101-6043-41e9-a042-c5c60d26f99b",
        "colab": {
          "base_uri": "https://localhost:8080/",
          "height": 36
        }
      },
      "source": [
        "def add_nums(a,b,c, *, d,e):\n",
        "    print(a,b,c)\n",
        "\n",
        "add_nums(2,3,4,  d=12, e=14)   # we can not do add_num(2,3,4, 12, 14), as this would mean 5 positional arguments instead of 3."
      ],
      "execution_count": 42,
      "outputs": [
        {
          "output_type": "stream",
          "text": [
            "2 3 4\n"
          ],
          "name": "stdout"
        }
      ]
    },
    {
      "cell_type": "code",
      "metadata": {
        "id": "2H-8n5nRcvMf",
        "colab_type": "code",
        "outputId": "eb81520b-1d39-4694-f8e2-86e24fae45c8",
        "colab": {
          "base_uri": "https://localhost:8080/",
          "height": 54
        }
      },
      "source": [
        "def add_nums(a,b, *args, **kwargs):\n",
        "    _sum = a+b\n",
        "    print(len(args), len(kwargs))\n",
        "    for arg in args:\n",
        "        _sum += arg\n",
        "    for key,val in kwargs.items():\n",
        "        _sum += val\n",
        "\n",
        "    return _sum\n",
        "\n",
        "add_nums(2,3)"
      ],
      "execution_count": 45,
      "outputs": [
        {
          "output_type": "stream",
          "text": [
            "1 0\n"
          ],
          "name": "stdout"
        },
        {
          "output_type": "execute_result",
          "data": {
            "text/plain": [
              "8"
            ]
          },
          "metadata": {
            "tags": []
          },
          "execution_count": 45
        }
      ]
    },
    {
      "cell_type": "code",
      "metadata": {
        "id": "hgGjmPj3cxzm",
        "colab_type": "code",
        "outputId": "8de3eea4-d589-46f3-cc53-b9b87a42d13d",
        "colab": {
          "base_uri": "https://localhost:8080/",
          "height": 54
        }
      },
      "source": [
        "add_nums(2,3,4,5)"
      ],
      "execution_count": 46,
      "outputs": [
        {
          "output_type": "stream",
          "text": [
            "2 0\n"
          ],
          "name": "stdout"
        },
        {
          "output_type": "execute_result",
          "data": {
            "text/plain": [
              "14"
            ]
          },
          "metadata": {
            "tags": []
          },
          "execution_count": 46
        }
      ]
    },
    {
      "cell_type": "markdown",
      "metadata": {
        "id": "ONs79cUtc7yP",
        "colab_type": "text"
      },
      "source": [
        "`4` and `5` goes to args"
      ]
    },
    {
      "cell_type": "code",
      "metadata": {
        "id": "6LG5v6Jrc4gH",
        "colab_type": "code",
        "outputId": "56ce4a76-41fc-4f92-bf4f-b1e196f87c37",
        "colab": {
          "base_uri": "https://localhost:8080/",
          "height": 54
        }
      },
      "source": [
        "add_nums(2,3,4,5,6, d=5,e=12)"
      ],
      "execution_count": 47,
      "outputs": [
        {
          "output_type": "stream",
          "text": [
            "3 2\n"
          ],
          "name": "stdout"
        },
        {
          "output_type": "execute_result",
          "data": {
            "text/plain": [
              "37"
            ]
          },
          "metadata": {
            "tags": []
          },
          "execution_count": 47
        }
      ]
    },
    {
      "cell_type": "markdown",
      "metadata": {
        "id": "cr1Wu1IDdCxk",
        "colab_type": "text"
      },
      "source": [
        "`4`, `5`, `6` goes to args and `d` and `e` goes to kwargs"
      ]
    }
  ]
}