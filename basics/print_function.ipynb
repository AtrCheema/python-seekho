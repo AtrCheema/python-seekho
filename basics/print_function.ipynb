{
  "nbformat": 4,
  "nbformat_minor": 0,
  "metadata": {
    "colab": {
      "name": "print_function.ipynb",
      "provenance": [],
      "collapsed_sections": [],
      "include_colab_link": true
    },
    "kernelspec": {
      "name": "python3",
      "display_name": "Python 3"
    }
  },
  "cells": [
    {
      "cell_type": "markdown",
      "metadata": {
        "id": "view-in-github",
        "colab_type": "text"
      },
      "source": [
        "<a href=\"https://colab.research.google.com/github/AtrCheema/python-courses/blob/master/basics/print_function.ipynb\" target=\"_parent\"><img src=\"https://colab.research.google.com/assets/colab-badge.svg\" alt=\"Open In Colab\"/></a>"
      ]
    },
    {
      "cell_type": "markdown",
      "metadata": {
        "id": "3wYNCAsUl8Vn",
        "colab_type": "text"
      },
      "source": [
        "# Intro\n",
        "\n",
        "`print` is a function in python 3. In general it will print any value given to it as inside argument. If we use two print statements, the next statement is printed on next line.\n",
        "\n",
        "Print function converts input to string (if it is not already a string) and adds a space at its start if it is not start of newline and puts new line at its end."
      ]
    },
    {
      "cell_type": "code",
      "metadata": {
        "id": "u593d9fYkiK9",
        "colab_type": "code",
        "outputId": "eac89ed2-4c9e-4522-f0ab-ef7635cdda24",
        "colab": {
          "base_uri": "https://localhost:8080/",
          "height": 54
        }
      },
      "source": [
        "name = \" Ali\"\n",
        "print(1)\n",
        "print('printing' + name)"
      ],
      "execution_count": 4,
      "outputs": [
        {
          "output_type": "stream",
          "text": [
            "1\n",
            "printing Ali\n"
          ],
          "name": "stdout"
        }
      ]
    },
    {
      "cell_type": "markdown",
      "metadata": {
        "id": "crs8Tr3EfGFQ",
        "colab_type": "text"
      },
      "source": [
        "similar thing happens withing loops. When we put a print function in loop, each print statement is printed on next line."
      ]
    },
    {
      "cell_type": "code",
      "metadata": {
        "id": "WPte9nVSs_or",
        "colab_type": "code",
        "outputId": "b54e0725-f1ff-4604-a3d6-cf31f5ca8b28",
        "colab": {
          "base_uri": "https://localhost:8080/",
          "height": 110
        }
      },
      "source": [
        "for i in range(5):\n",
        "    print('printing', i)"
      ],
      "execution_count": 5,
      "outputs": [
        {
          "output_type": "stream",
          "text": [
            "printing 0\n",
            "printing 1\n",
            "printing 2\n",
            "printing 3\n",
            "printing 4\n"
          ],
          "name": "stdout"
        }
      ]
    },
    {
      "cell_type": "markdown",
      "metadata": {
        "id": "M_vePmC1z198",
        "colab_type": "text"
      },
      "source": [
        "but what if we don't want to print at next line. We can do this by making use of `end` keyword in print function."
      ]
    },
    {
      "cell_type": "code",
      "metadata": {
        "id": "hf59s7L6uFkQ",
        "colab_type": "code",
        "outputId": "48a6feaf-84a5-40d7-f0e3-4bca3f100353",
        "colab": {
          "base_uri": "https://localhost:8080/",
          "height": 36
        }
      },
      "source": [
        "for i in range(5):\n",
        "    print(i, end=', ')"
      ],
      "execution_count": 9,
      "outputs": [
        {
          "output_type": "stream",
          "text": [
            "0, 1, 2, 3, 4, "
          ],
          "name": "stdout"
        }
      ]
    },
    {
      "cell_type": "markdown",
      "metadata": {
        "id": "c4tKIm1q1TtJ",
        "colab_type": "text"
      },
      "source": [
        "The default value of argument `end` is `end=\\n`. The print function can take more than one argument to print, and we can separate these arguments by a custom separator using the argument `sep`."
      ]
    },
    {
      "cell_type": "code",
      "metadata": {
        "id": "Ypz7H73G0oLu",
        "colab_type": "code",
        "outputId": "d4d5705e-7040-466b-aecd-12abb8e5224a",
        "colab": {
          "base_uri": "https://localhost:8080/",
          "height": 36
        }
      },
      "source": [
        "print('Iqbal was born in', 1877, sep=': ')"
      ],
      "execution_count": 10,
      "outputs": [
        {
          "output_type": "stream",
          "text": [
            "Iqbal was born in: 1877\n"
          ],
          "name": "stdout"
        }
      ]
    },
    {
      "cell_type": "markdown",
      "metadata": {
        "id": "MIJQUHp22VxM",
        "colab_type": "text"
      },
      "source": [
        "# format\n",
        "We can format the output inside print statemtn by either `%` or `format`. While `%` can work both in python 2 and python 3, however, here only `format` is discussed."
      ]
    },
    {
      "cell_type": "code",
      "metadata": {
        "id": "Sjxx_K6s2UyT",
        "colab_type": "code",
        "outputId": "ba6bf437-c2db-4c0e-f4d6-f539d760a94e",
        "colab": {
          "base_uri": "https://localhost:8080/",
          "height": 36
        }
      },
      "source": [
        "print('Allama Iqbal was born in {} in year {}'.format('Sialkot', 1877))"
      ],
      "execution_count": 11,
      "outputs": [
        {
          "output_type": "stream",
          "text": [
            "Allama Iqbal was born in Sialkot in year 1877\n"
          ],
          "name": "stdout"
        }
      ]
    },
    {
      "cell_type": "code",
      "metadata": {
        "id": "Kl5mrbej20ar",
        "colab_type": "code",
        "outputId": "d6eb977e-6bd8-4fe3-a5a8-1382aa79f639",
        "colab": {
          "base_uri": "https://localhost:8080/",
          "height": 73
        }
      },
      "source": [
        "rivers = {\n",
        "    \"Indus \": [3180000.525, 'Meters'],\n",
        "    \"Chenab \": [760000.850001004, \"Meters\"],\n",
        "    \"Jhelum\": [132.00001245, \"KiloMeters\"]\n",
        "}\n",
        "\n",
        "for river, paras in rivers.items():\n",
        "    print('River {} is {}  {} long'.format(river, paras[0], paras[1]))"
      ],
      "execution_count": 12,
      "outputs": [
        {
          "output_type": "stream",
          "text": [
            "River Indus  is 3180000.525  Meters long\n",
            "River Chenab  is 760000.850001004  Meters long\n",
            "River Jhelum is 132.00001245  KiloMeters long\n"
          ],
          "name": "stdout"
        }
      ]
    },
    {
      "cell_type": "markdown",
      "metadata": {
        "id": "SPEFG-KTuW70",
        "colab_type": "text"
      },
      "source": [
        "The number of `{}` must be `<=` number of arguments in `format`. The ordering of arguments in `format` can be customized as shown below."
      ]
    },
    {
      "cell_type": "code",
      "metadata": {
        "id": "UBeOYd8uT3xl",
        "colab_type": "code",
        "outputId": "8fa5c715-de07-4e53-c74f-e3717912b645",
        "colab": {
          "base_uri": "https://localhost:8080/",
          "height": 73
        }
      },
      "source": [
        "rivers = {\n",
        "    \"Indus \": [3180000.525, 'Meters'],\n",
        "    \"Chenab \": [760000.850001004, \"Meters\"],\n",
        "    \"Jhelum\": [132.00001245, \"KiloMeters\"]\n",
        "}\n",
        "\n",
        "for river, paras in rivers.items():\n",
        "    print('River {1} is {0}  {2} long'.format(paras[0], river, paras[1]))"
      ],
      "execution_count": 13,
      "outputs": [
        {
          "output_type": "stream",
          "text": [
            "River Indus  is 3180000.525  Meters long\n",
            "River Chenab  is 760000.850001004  Meters long\n",
            "River Jhelum is 132.00001245  KiloMeters long\n"
          ],
          "name": "stdout"
        }
      ]
    },
    {
      "cell_type": "markdown",
      "metadata": {
        "id": "Xp-iLrzRuv31",
        "colab_type": "text"
      },
      "source": [
        "By default `{}` gets as much space as required by it, but we can fix the space used by a particular `{}`. The number of spaces must be defined after `:` inside `{}`."
      ]
    },
    {
      "cell_type": "code",
      "metadata": {
        "id": "gi56U-Kh3htH",
        "colab_type": "code",
        "outputId": "98f85aba-7051-41b4-dd0d-8cb1e25debdd",
        "colab": {
          "base_uri": "https://localhost:8080/",
          "height": 73
        }
      },
      "source": [
        "for river, paras in rivers.items():\n",
        "    print('River {0:20} is {1:15}  {2:15} long'.format(river, paras[0], paras[1]))"
      ],
      "execution_count": 14,
      "outputs": [
        {
          "output_type": "stream",
          "text": [
            "River Indus                is     3180000.525  Meters          long\n",
            "River Chenab               is 760000.850001004  Meters          long\n",
            "River Jhelum               is    132.00001245  KiloMeters      long\n"
          ],
          "name": "stdout"
        }
      ]
    },
    {
      "cell_type": "markdown",
      "metadata": {
        "id": "ucdyo7esuCAo",
        "colab_type": "text"
      },
      "source": [
        "To define the format of the incoming argument in `{}`. For example we can use `f` for fractional numbers (as done below). If we don't want fractional part, we can use `d`. For right alignment, we can use `<`."
      ]
    },
    {
      "cell_type": "code",
      "metadata": {
        "id": "9T-nQwSo4qka",
        "colab_type": "code",
        "outputId": "25816dc2-e8af-4f6b-8bb3-db1a45771323",
        "colab": {
          "base_uri": "https://localhost:8080/",
          "height": 73
        }
      },
      "source": [
        "for river, paras in rivers.items():\n",
        "    print('River {0:<20} is {1:<15.2f}  {2:<15} long'.format(river, paras[0], paras[1]))"
      ],
      "execution_count": 16,
      "outputs": [
        {
          "output_type": "stream",
          "text": [
            "River Indus                is 3180000.52       Meters          long\n",
            "River Chenab               is 760000.85        Meters          long\n",
            "River Jhelum               is 132.00           KiloMeters      long\n"
          ],
          "name": "stdout"
        }
      ]
    },
    {
      "cell_type": "markdown",
      "metadata": {
        "id": "aOWXt-Nft792",
        "colab_type": "text"
      },
      "source": [
        "To left align we can use `>`. `e` can be used to show numbers in scientific notation."
      ]
    },
    {
      "cell_type": "code",
      "metadata": {
        "id": "6QbWW7gS4s5v",
        "colab_type": "code",
        "outputId": "507804f4-cdde-4ce0-d541-8be659485cb8",
        "colab": {
          "base_uri": "https://localhost:8080/",
          "height": 73
        }
      },
      "source": [
        "for river, paras in rivers.items():\n",
        "    print('River {:>20} is {:>15.3e}  {:>15} long'.format(river, paras[0], paras[1]))"
      ],
      "execution_count": 17,
      "outputs": [
        {
          "output_type": "stream",
          "text": [
            "River               Indus  is       3.180e+06           Meters long\n",
            "River              Chenab  is       7.600e+05           Meters long\n",
            "River               Jhelum is       1.320e+02       KiloMeters long\n"
          ],
          "name": "stdout"
        }
      ]
    },
    {
      "cell_type": "markdown",
      "metadata": {
        "id": "CJ8ZSzGUVmzr",
        "colab_type": "text"
      },
      "source": [
        "We probably would have wished to print it like following"
      ]
    },
    {
      "cell_type": "code",
      "metadata": {
        "id": "ZKZ6kQki41ur",
        "colab_type": "code",
        "outputId": "cb8856d2-833f-4b91-d978-1854d6dfc0e7",
        "colab": {
          "base_uri": "https://localhost:8080/",
          "height": 73
        }
      },
      "source": [
        "for river, paras in rivers.items():\n",
        "    print('River {:<10} is {:^15.1f}  {:<10} long'.format(river, paras[0], paras[1]))"
      ],
      "execution_count": 19,
      "outputs": [
        {
          "output_type": "stream",
          "text": [
            "River Indus      is    3180000.5     Meters     long\n",
            "River Chenab     is    760000.9      Meters     long\n",
            "River Jhelum     is      132.0       KiloMeters long\n"
          ],
          "name": "stdout"
        }
      ]
    },
    {
      "cell_type": "markdown",
      "metadata": {
        "id": "5Q0i9NVZV-9C",
        "colab_type": "text"
      },
      "source": [
        "`^` is used for center alignment.\n",
        "\n",
        "We can truncate long strings as following. If we don't truncate and if incoming string in `{}` is larger than the space specified, then additional space will be assigned to that `{}`."
      ]
    },
    {
      "cell_type": "code",
      "metadata": {
        "id": "TEUJyKTDVvwK",
        "colab_type": "code",
        "outputId": "d49d21d3-29e7-4ff5-cbcd-dbfc291d05ed",
        "colab": {
          "base_uri": "https://localhost:8080/",
          "height": 36
        }
      },
      "source": [
        "print('{:.12}'.format('Khayber Pakhtun Khwa'))"
      ],
      "execution_count": 22,
      "outputs": [
        {
          "output_type": "stream",
          "text": [
            "Khayber Pakh\n"
          ],
          "name": "stdout"
        }
      ]
    },
    {
      "cell_type": "markdown",
      "metadata": {
        "id": "tXqa5gMP9mXl",
        "colab_type": "text"
      },
      "source": [
        "# printing list\n",
        "\n"
      ]
    },
    {
      "cell_type": "code",
      "metadata": {
        "id": "Reoe3m0XwXPa",
        "colab_type": "code",
        "colab": {
          "base_uri": "https://localhost:8080/",
          "height": 56
        },
        "outputId": "6de3462f-bb81-4819-8387-d01149002e00"
      },
      "source": [
        "l = [8.364, 0.37, 0.09300000000000003, 7.0849999999999, 9.469999999999999, 0.28600000000000003,\n",
        "     0.229, 1e-06, 9.414, 0.98600000000001, 2.1530000000005]\n",
        "\n",
        "print(l)"
      ],
      "execution_count": 23,
      "outputs": [
        {
          "output_type": "stream",
          "text": [
            "[8.364, 0.37, 0.09300000000000003, 7.0849999999999, 9.469999999999999, 0.28600000000000003, 0.229, 1e-06, 9.414, 0.98600000000001, 2.1530000000005]\n"
          ],
          "name": "stdout"
        }
      ]
    },
    {
      "cell_type": "code",
      "metadata": {
        "id": "PDwJe8eA8myf",
        "colab_type": "code",
        "outputId": "29d6da05-6353-44ff-adb5-8c0d32bc71f4",
        "colab": {
          "base_uri": "https://localhost:8080/",
          "height": 56
        }
      },
      "source": [
        "print(*l, sep=', ')"
      ],
      "execution_count": 27,
      "outputs": [
        {
          "output_type": "stream",
          "text": [
            "8.364, 0.37, 0.09300000000000003, 7.0849999999999, 9.469999999999999, 0.28600000000000003, 0.229, 1e-06, 9.414, 0.98600000000001, 2.1530000000005\n"
          ],
          "name": "stdout"
        }
      ]
    },
    {
      "cell_type": "markdown",
      "metadata": {
        "id": "sscCuFGl1268",
        "colab_type": "text"
      },
      "source": [
        "`*` unpacks the list `l`"
      ]
    },
    {
      "cell_type": "code",
      "metadata": {
        "id": "3P6fPBnt9Lwl",
        "colab_type": "code",
        "outputId": "4b555612-786c-41df-8f0f-065cb9f69137",
        "colab": {
          "base_uri": "https://localhost:8080/",
          "height": 36
        }
      },
      "source": [
        "for p in l: print(\"{:8.5f}\".format(p), end=', ')"
      ],
      "execution_count": 29,
      "outputs": [
        {
          "output_type": "stream",
          "text": [
            " 8.36400,  0.37000,  0.09300,  7.08500,  9.47000,  0.28600,  0.22900,  0.00000,  9.41400,  0.98600,  2.15300, "
          ],
          "name": "stdout"
        }
      ]
    },
    {
      "cell_type": "markdown",
      "metadata": {
        "id": "NwNx1gec_PVs",
        "colab_type": "text"
      },
      "source": [
        "# dynamic printing"
      ]
    },
    {
      "cell_type": "code",
      "metadata": {
        "id": "cwoee0sV_64d",
        "colab_type": "code",
        "outputId": "46908708-67c3-48ea-a263-e109b602061c",
        "colab": {
          "base_uri": "https://localhost:8080/",
          "height": 36
        }
      },
      "source": [
        "import time\n",
        "\n",
        "for i in range(10):\n",
        "    print('.', end='')\n",
        "    time.sleep(0.3)"
      ],
      "execution_count": 30,
      "outputs": [
        {
          "output_type": "stream",
          "text": [
            ".........."
          ],
          "name": "stdout"
        }
      ]
    },
    {
      "cell_type": "markdown",
      "metadata": {
        "id": "E0Xi6Prix2MW",
        "colab_type": "text"
      },
      "source": [
        "`\\r` removes/deletes what is present on its left side."
      ]
    },
    {
      "cell_type": "code",
      "metadata": {
        "id": "RNSNEX9dw7g2",
        "colab_type": "code",
        "colab": {
          "base_uri": "https://localhost:8080/",
          "height": 36
        },
        "outputId": "7d8cac7c-447b-44ef-d6a5-b7028050e0b2"
      },
      "source": [
        "print('Salam \\r alaikum')"
      ],
      "execution_count": 31,
      "outputs": [
        {
          "output_type": "stream",
          "text": [
            "Salam \r alaikum\n"
          ],
          "name": "stdout"
        }
      ]
    },
    {
      "cell_type": "markdown",
      "metadata": {
        "id": "MYGH49w9x8w0",
        "colab_type": "text"
      },
      "source": [
        "This can be used for more dynamic printing as following"
      ]
    },
    {
      "cell_type": "code",
      "metadata": {
        "id": "RRLpokoA9o4F",
        "colab_type": "code",
        "outputId": "d84b7c84-48e6-4bf4-9994-dfae90549364",
        "colab": {
          "base_uri": "https://localhost:8080/",
          "height": 36
        }
      },
      "source": [
        "import sys\n",
        "\n",
        "a = 0  \n",
        "for x in range (0,10):  \n",
        "    a = a + 1  \n",
        "    b = (\"Loading\" + \".\" * a)\n",
        "    # `b` is printed on top of the previous line.\n",
        "     # sys.stdout is also called when we use print function\n",
        "    #sys.stdout.write('\\r'+b)\n",
        "    print('\\r'+b, end='')\n",
        "    time.sleep(0.3)\n",
        "print ('complete')"
      ],
      "execution_count": 33,
      "outputs": [
        {
          "output_type": "stream",
          "text": [
            "Loading..........complete\n"
          ],
          "name": "stdout"
        }
      ]
    },
    {
      "cell_type": "markdown",
      "metadata": {
        "id": "o_KLcAJDDUzr",
        "colab_type": "text"
      },
      "source": [
        "Following parts of this tutorial are not really necessary and are hardly used but they are mentioned just for the sake of completion."
      ]
    },
    {
      "cell_type": "markdown",
      "metadata": {
        "id": "xO6QdBpsa_ZO",
        "colab_type": "text"
      },
      "source": [
        "# Customizing print function\n",
        "\n",
        "We can also add additional features to print function if we wish, by redefining print function, though it will hardly be required."
      ]
    },
    {
      "cell_type": "code",
      "metadata": {
        "id": "bC13k4BnDyBK",
        "colab_type": "code",
        "colab": {}
      },
      "source": [
        "import builtins as _builtins\n",
        "\n",
        "def MyPrint(*args, **kwargs):\n",
        "    \"\"\"My custom print() function.\"\"\"\n",
        "    # Adding new arguments to the print function signature \n",
        "    # is probably a bad idea.\n",
        "    # Instead consider testing if custom argument keywords\n",
        "    # are present in kwargs\n",
        "    _builtins.print('Customized print function')\n",
        "    return _builtins.print(*args, **kwargs)"
      ],
      "execution_count": 0,
      "outputs": []
    },
    {
      "cell_type": "code",
      "metadata": {
        "id": "mxQCCbDsbzMJ",
        "colab_type": "code",
        "outputId": "3d1c85ff-17b1-4a42-df5e-2e3322a65cb4",
        "colab": {
          "base_uri": "https://localhost:8080/",
          "height": 54
        }
      },
      "source": [
        "MyPrint('Salam')"
      ],
      "execution_count": 35,
      "outputs": [
        {
          "output_type": "stream",
          "text": [
            "Customized print function\n",
            "Salam\n"
          ],
          "name": "stdout"
        }
      ]
    },
    {
      "cell_type": "markdown",
      "metadata": {
        "id": "gXNKp5qUhMrI",
        "colab_type": "text"
      },
      "source": [
        "# Colored printing"
      ]
    },
    {
      "cell_type": "code",
      "metadata": {
        "id": "lkcjEkydcQpN",
        "colab_type": "code",
        "outputId": "16e6bc0f-64df-45c9-df48-3ee587a5c7e0",
        "colab": {
          "base_uri": "https://localhost:8080/",
          "height": 36
        }
      },
      "source": [
        "print('Normal' + '\\033[91m' + ' Red' + '\\033[93m' + 'yellow' + '\\033[94m' + ' Blue')"
      ],
      "execution_count": 36,
      "outputs": [
        {
          "output_type": "stream",
          "text": [
            "Normal\u001b[91m Red\u001b[93myellow\u001b[94m Blue\n"
          ],
          "name": "stdout"
        }
      ]
    },
    {
      "cell_type": "code",
      "metadata": {
        "id": "Ah1IcdXVebvd",
        "colab_type": "code",
        "outputId": "2a6ec0da-9814-467a-aaa7-9a327cc762b4",
        "colab": {
          "base_uri": "https://localhost:8080/",
          "height": 705
        }
      },
      "source": [
        "COLOR = {\n",
        "    'Bold'       : \"\\033[1m\", \n",
        "    'Underlined' : \"\\033[4m\", \n",
        "\n",
        "    'ResetBold'       : \"\\033[21m\", \n",
        "    'ResetUnderlined' : \"\\033[24m\", \n",
        "\n",
        "    'Default'      : \"\\033[39m\",\n",
        "    'Black'        : \"\\033[30m\",\n",
        "    'Red'          : \"\\033[31m\",\n",
        "    'Green'        : \"\\033[32m\",\n",
        "    'Yellow'       : \"\\033[33m\",\n",
        "    'Blue'         : \"\\033[34m\",\n",
        "    'Magenta'      : \"\\033[35m\",\n",
        "    'Cyan'         : \"\\033[36m\",\n",
        "    'LightGray'    : \"\\033[37m\",\n",
        "    'DarkGray'     : \"\\033[90m\",\n",
        "    'LightRed'     : \"\\033[91m\",\n",
        "    'LightGreen'   : \"\\033[92m\",\n",
        "    'LightYellow'  : \"\\033[93m\",\n",
        "    'LightBlue'    : \"\\033[94m\",\n",
        "    'LightMagenta' : \"\\033[95m\",\n",
        "    'White'        : \"\\033[97m\",\n",
        "\n",
        "    'BackgroundDefault'      : \"\\033[49m\",\n",
        "    'BackgroundBlack'        : \"\\033[40m\",\n",
        "    'BackgroundRed'          : \"\\033[41m\",\n",
        "    'BackgroundGreen'        : \"\\033[42m\",\n",
        "    'BackgroundYellow'       : \"\\033[43m\",\n",
        "    'BackgroundBlue'         : \"\\033[44m\",\n",
        "    'BackgroundMagenta'      : \"\\033[45m\",\n",
        "    'BackgroundCyan'         : \"\\033[46m\",\n",
        "    'BackgroundLightGray'    : \"\\033[47m\",\n",
        "    'BackgroundDarkGray'     : \"\\033[100m\",\n",
        "    'BackgroundLightRed'     : \"\\033[101m\",\n",
        "    'BackgroundLightGreen'   : \"\\033[102m\",\n",
        "    'BackgroundLightYellow'  : \"\\033[103m\",\n",
        "    'BackgroundLightBlue'    : \"\\033[104m\",\n",
        "    'BackgroundLightMagenta' : \"\\033[105m\",\n",
        "    'BackgroundLightCyan'    : \"\\033[106m\",\n",
        "    'BackgroundWhite'        : \"\\033[107m\",\n",
        "    }\n",
        "\n",
        "last_color = '\\033[91m'\n",
        "for color, cc in COLOR.items():\n",
        "    print(last_color + cc)\n",
        "    last_color = color"
      ],
      "execution_count": 37,
      "outputs": [
        {
          "output_type": "stream",
          "text": [
            "\u001b[91m\u001b[1m\n",
            "Bold\u001b[4m\n",
            "Underlined\u001b[21m\n",
            "ResetBold\u001b[24m\n",
            "ResetUnderlined\u001b[39m\n",
            "Default\u001b[30m\n",
            "Black\u001b[31m\n",
            "Red\u001b[32m\n",
            "Green\u001b[33m\n",
            "Yellow\u001b[34m\n",
            "Blue\u001b[35m\n",
            "Magenta\u001b[36m\n",
            "Cyan\u001b[37m\n",
            "LightGray\u001b[90m\n",
            "DarkGray\u001b[91m\n",
            "LightRed\u001b[92m\n",
            "LightGreen\u001b[93m\n",
            "LightYellow\u001b[94m\n",
            "LightBlue\u001b[95m\n",
            "LightMagenta\u001b[97m\n",
            "White\u001b[49m\n",
            "BackgroundDefault\u001b[40m\n",
            "BackgroundBlack\u001b[41m\n",
            "BackgroundRed\u001b[42m\n",
            "BackgroundGreen\u001b[43m\n",
            "BackgroundYellow\u001b[44m\n",
            "BackgroundBlue\u001b[45m\n",
            "BackgroundMagenta\u001b[46m\n",
            "BackgroundCyan\u001b[47m\n",
            "BackgroundLightGray\u001b[100m\n",
            "BackgroundDarkGray\u001b[101m\n",
            "BackgroundLightRed\u001b[102m\n",
            "BackgroundLightGreen\u001b[103m\n",
            "BackgroundLightYellow\u001b[104m\n",
            "BackgroundLightBlue\u001b[105m\n",
            "BackgroundLightMagenta\u001b[106m\n",
            "BackgroundLightCyan\u001b[107m\n"
          ],
          "name": "stdout"
        }
      ]
    },
    {
      "cell_type": "code",
      "metadata": {
        "id": "6mPRlPT6fVuD",
        "colab_type": "code",
        "outputId": "426639b5-0fc5-461d-dfe6-c440199ca449",
        "colab": {
          "base_uri": "https://localhost:8080/",
          "height": 36
        }
      },
      "source": [
        "print('ali')"
      ],
      "execution_count": 38,
      "outputs": [
        {
          "output_type": "stream",
          "text": [
            "ali\n"
          ],
          "name": "stdout"
        }
      ]
    },
    {
      "cell_type": "markdown",
      "metadata": {
        "id": "U8t2HY5O8Pl8",
        "colab_type": "text"
      },
      "source": [
        "# printing special characters"
      ]
    },
    {
      "cell_type": "code",
      "metadata": {
        "id": "tbmn-ybFhohn",
        "colab_type": "code",
        "outputId": "ffaf4298-80cf-4de4-b806-01806da2a48e",
        "colab": {
          "base_uri": "https://localhost:8080/",
          "height": 36
        }
      },
      "source": [
        "print(\"\\N{COPYRIGHT SIGN}\")"
      ],
      "execution_count": 39,
      "outputs": [
        {
          "output_type": "stream",
          "text": [
            "©\n"
          ],
          "name": "stdout"
        }
      ]
    },
    {
      "cell_type": "markdown",
      "metadata": {
        "id": "PtPpXNpH8R1Z",
        "colab_type": "text"
      },
      "source": [
        "A complete code for special characters can be found [here](http://www.fileformat.info/info/charset/UTF-16/list.htm)"
      ]
    },
    {
      "cell_type": "code",
      "metadata": {
        "id": "sbBFxQpqjUb_",
        "colab_type": "code",
        "outputId": "9ad7371b-bdc7-4dec-b068-c58eab5822fc",
        "colab": {
          "base_uri": "https://localhost:8080/",
          "height": 1000
        }
      },
      "source": [
        "special_characters = {\n",
        "\"NULL\": \"\\N{NULL}\",\n",
        "\"SECTION SIGN\": \"\\N{SECTION SIGN}\",\n",
        "\"COPYRIGHT SIGN\": \"\\N{COPYRIGHT SIGN}\", \n",
        "\"REGISTERED SIGN\": \"\\N{REGISTERED SIGN}\",\n",
        "\"MICRO SIGN\": \"\\N{MICRO SIGN}\",\n",
        "\"MICRO SIGN\": \"\\N{MICRO SIGN}\",\n",
        "\"PILCROW SIGN\": \"\\N{PILCROW SIGN}\",\n",
        "\"PILCROW SIGN\": \"\\N{PILCROW SIGN}\",\n",
        "\"INVERTED QUESTION MARK\": \"\\N{LATIN CAPITAL LETTER O WITH STROKE}\",\n",
        "\"LATIN CAPITAL LETTER O WITH STROKE\": \"\\N{LATIN CAPITAL LETTER O WITH STROKE}\",\n",
        "\"LATIN CAPITAL LETTER SCHWA\": \"\\N{LATIN CAPITAL LETTER SCHWA}\",\n",
        "\"LATIN CAPITAL LETTER OPEN E\": \"\\N{LATIN CAPITAL LETTER OPEN E}\",\n",
        "\"LATIN SMALL LETTER N WITH LONG RIGHT LEG\": \"\\N{LATIN SMALL LETTER N WITH LONG RIGHT LEG}\",\n",
        "\"LATIN CAPITAL LETTER O WITH MIDDLE TILDE\": \"\\N{LATIN CAPITAL LETTER O WITH MIDDLE TILDE}\",\n",
        "\"LATIN CAPITAL LETTER ESH\": \"\\N{LATIN CAPITAL LETTER ESH}\",\n",
        "\"LATIN SMALL LETTER T WITH HOOK\": \"\\N{LATIN SMALL LETTER T WITH HOOK}\",\n",
        "\"LATIN CAPITAL LETTER T WITH RETROFLEX HOOK\": \"\\N{LATIN CAPITAL LETTER T WITH RETROFLEX HOOK}\",\n",
        "\"LATIN CAPITAL LETTER UPSILON\": \"\\N{LATIN CAPITAL LETTER UPSILON}\",\n",
        "\"LATIN SMALL LETTER SCHWA\": \"\\N{LATIN SMALL LETTER SCHWA}\",\n",
        "\"LATIN SMALL LETTER ESH\": \"\\N{LATIN SMALL LETTER ESH}\",\n",
        "\"LATIN LETTER BILABIAL CLICK\": \"\\N{LATIN LETTER BILABIAL CLICK}\",\n",
        "\"GREEK CAPITAL LETTER OMEGA WITH TONOS\": \"\\N{GREEK CAPITAL LETTER OMEGA WITH TONOS}\",\n",
        "\"GREEK SMALL LETTER IOTA WITH DIALYTIKA AND TONOS\": \"\\N{GREEK SMALL LETTER IOTA WITH DIALYTIKA AND TONOS}\",\n",
        "\"GREEK CAPITAL LETTER DELTA\": \"\\N{GREEK CAPITAL LETTER DELTA}\",\n",
        "\"GREEK CAPITAL LETTER THETA\": \"\\N{GREEK CAPITAL LETTER THETA}\",\n",
        "\"GREEK CAPITAL LETTER LAMDA\": \"\\N{GREEK CAPITAL LETTER LAMDA}\",\n",
        "\"GREEK CAPITAL LETTER PI\": \"\\N{GREEK CAPITAL LETTER PI}\",\n",
        "\"GREEK CAPITAL LETTER SIGMA\": \"\\N{GREEK CAPITAL LETTER SIGMA}\",\n",
        "\"GREEK CAPITAL LETTER PHI\": \"\\N{GREEK CAPITAL LETTER PHI}\",\n",
        "\"GREEK CAPITAL LETTER PSI\": \"\\N{GREEK CAPITAL LETTER PSI}\",\n",
        "\"GREEK CAPITAL LETTER OMEGA\": \"\\N{GREEK CAPITAL LETTER OMEGA}\",\n",
        "\"GREEK SMALL LETTER ETA WITH TONOS\": \"\\N{GREEK SMALL LETTER ETA WITH TONOS}\",\n",
        "\"GREEK SMALL LETTER IOTA WITH TONOS\": \"\\N{GREEK SMALL LETTER IOTA WITH TONOS}\",\n",
        "\"GREEK SMALL LETTER UPSILON WITH DIALYTIKA AND TONOS\": \"\\N{GREEK SMALL LETTER UPSILON WITH DIALYTIKA AND TONOS}\",\n",
        "\"GREEK SMALL LETTER ALPHA\": \"\\N{GREEK SMALL LETTER ALPHA}\",\n",
        "\"GREEK SMALL LETTER BETA\": \"\\N{GREEK SMALL LETTER BETA}\",\n",
        "\"GREEK SMALL LETTER GAMMA\": \"\\N{GREEK SMALL LETTER GAMMA}\",\n",
        "\"GREEK SMALL LETTER DELTA\": \"\\N{GREEK SMALL LETTER DELTA}\",\n",
        "\"GREEK SMALL LETTER EPSILON\": \"\\N{GREEK SMALL LETTER EPSILON}\",\n",
        "\"GREEK SMALL LETTER ZETA\": \"\\N{GREEK SMALL LETTER ZETA}\",\n",
        "\"GREEK SMALL LETTER ETA\": \"\\N{GREEK SMALL LETTER ETA}\",\n",
        "\"GREEK SMALL LETTER THETA\": \"\\N{GREEK SMALL LETTER THETA}\",\n",
        "\"GREEK SMALL LETTER LAMDA\": \"\\N{GREEK SMALL LETTER LAMDA}\",\n",
        "\"GREEK SMALL LETTER MU\": \"\\N{GREEK SMALL LETTER MU}\",\n",
        "\"GREEK SMALL LETTER NU\": \"\\N{GREEK SMALL LETTER NU}\",\n",
        "\"GREEK SMALL LETTER XI\": \"\\N{GREEK SMALL LETTER XI}\",\n",
        "\"GREEK SMALL LETTER PI\": \"\\N{GREEK SMALL LETTER PI}\",\n",
        "\"GREEK SMALL LETTER SIGMA\": \"\\N{GREEK SMALL LETTER SIGMA}\",\n",
        "\"GREEK SMALL LETTER TAU\": \"\\N{GREEK SMALL LETTER TAU}\",\n",
        "\"GREEK SMALL LETTER CHI\": \"\\N{GREEK SMALL LETTER CHI}\",\n",
        "\"GREEK SMALL LETTER PSI\": \"\\N{GREEK SMALL LETTER PSI}\",\n",
        "\"GREEK SMALL LETTER OMEGA\": \"\\N{GREEK SMALL LETTER OMEGA}\",\n",
        "\"GREEK PHI SYMBOL\": \"\\N{GREEK PHI SYMBOL}\",\n",
        "\"GREEK SMALL LETTER ARCHAIC KOPPA\": \"\\N{GREEK SMALL LETTER ARCHAIC KOPPA}\",\n",
        "\"GREEK CAPITAL THETA SYMBOL\": \"\\N{GREEK CAPITAL THETA SYMBOL}\",\n",
        "\"GREEK LUNATE EPSILON SYMBOL\" : \"\\N{GREEK LUNATE EPSILON SYMBOL}\"\n",
        "}\n",
        "\n",
        "for sp, val in special_characters.items():\n",
        "    print(\"{:52} {:>5}\".format(sp, val))\n"
      ],
      "execution_count": 40,
      "outputs": [
        {
          "output_type": "stream",
          "text": [
            "NULL                                                     \u0000\n",
            "SECTION SIGN                                             §\n",
            "COPYRIGHT SIGN                                           ©\n",
            "REGISTERED SIGN                                          ®\n",
            "MICRO SIGN                                               µ\n",
            "PILCROW SIGN                                             ¶\n",
            "INVERTED QUESTION MARK                                   Ø\n",
            "LATIN CAPITAL LETTER O WITH STROKE                       Ø\n",
            "LATIN CAPITAL LETTER SCHWA                               Ə\n",
            "LATIN CAPITAL LETTER OPEN E                              Ɛ\n",
            "LATIN SMALL LETTER N WITH LONG RIGHT LEG                 ƞ\n",
            "LATIN CAPITAL LETTER O WITH MIDDLE TILDE                 Ɵ\n",
            "LATIN CAPITAL LETTER ESH                                 Ʃ\n",
            "LATIN SMALL LETTER T WITH HOOK                           ƭ\n",
            "LATIN CAPITAL LETTER T WITH RETROFLEX HOOK               Ʈ\n",
            "LATIN CAPITAL LETTER UPSILON                             Ʊ\n",
            "LATIN SMALL LETTER SCHWA                                 ə\n",
            "LATIN SMALL LETTER ESH                                   ʃ\n",
            "LATIN LETTER BILABIAL CLICK                              ʘ\n",
            "GREEK CAPITAL LETTER OMEGA WITH TONOS                    Ώ\n",
            "GREEK SMALL LETTER IOTA WITH DIALYTIKA AND TONOS         ΐ\n",
            "GREEK CAPITAL LETTER DELTA                               Δ\n",
            "GREEK CAPITAL LETTER THETA                               Θ\n",
            "GREEK CAPITAL LETTER LAMDA                               Λ\n",
            "GREEK CAPITAL LETTER PI                                  Π\n",
            "GREEK CAPITAL LETTER SIGMA                               Σ\n",
            "GREEK CAPITAL LETTER PHI                                 Φ\n",
            "GREEK CAPITAL LETTER PSI                                 Ψ\n",
            "GREEK CAPITAL LETTER OMEGA                               Ω\n",
            "GREEK SMALL LETTER ETA WITH TONOS                        ή\n",
            "GREEK SMALL LETTER IOTA WITH TONOS                       ί\n",
            "GREEK SMALL LETTER UPSILON WITH DIALYTIKA AND TONOS      ΰ\n",
            "GREEK SMALL LETTER ALPHA                                 α\n",
            "GREEK SMALL LETTER BETA                                  β\n",
            "GREEK SMALL LETTER GAMMA                                 γ\n",
            "GREEK SMALL LETTER DELTA                                 δ\n",
            "GREEK SMALL LETTER EPSILON                               ε\n",
            "GREEK SMALL LETTER ZETA                                  ζ\n",
            "GREEK SMALL LETTER ETA                                   η\n",
            "GREEK SMALL LETTER THETA                                 θ\n",
            "GREEK SMALL LETTER LAMDA                                 λ\n",
            "GREEK SMALL LETTER MU                                    μ\n",
            "GREEK SMALL LETTER NU                                    ν\n",
            "GREEK SMALL LETTER XI                                    ξ\n",
            "GREEK SMALL LETTER PI                                    π\n",
            "GREEK SMALL LETTER SIGMA                                 σ\n",
            "GREEK SMALL LETTER TAU                                   τ\n",
            "GREEK SMALL LETTER CHI                                   χ\n",
            "GREEK SMALL LETTER PSI                                   ψ\n",
            "GREEK SMALL LETTER OMEGA                                 ω\n",
            "GREEK PHI SYMBOL                                         ϕ\n",
            "GREEK SMALL LETTER ARCHAIC KOPPA                         ϙ\n",
            "GREEK CAPITAL THETA SYMBOL                               ϴ\n",
            "GREEK LUNATE EPSILON SYMBOL                              ϵ\n"
          ],
          "name": "stdout"
        }
      ]
    }
  ]
}