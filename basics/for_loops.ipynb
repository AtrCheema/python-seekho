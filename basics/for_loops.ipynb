{
  "nbformat": 4,
  "nbformat_minor": 0,
  "metadata": {
    "colab": {
      "name": "for_loops.ipynb",
      "provenance": [],
      "collapsed_sections": [],
      "include_colab_link": true
    },
    "kernelspec": {
      "name": "python3",
      "display_name": "Python 3"
    }
  },
  "cells": [
    {
      "cell_type": "markdown",
      "metadata": {
        "id": "view-in-github",
        "colab_type": "text"
      },
      "source": [
        "<a href=\"https://colab.research.google.com/github/AtrCheema/python-courses/blob/master/basics/for_loops.ipynb\" target=\"_parent\"><img src=\"https://colab.research.google.com/assets/colab-badge.svg\" alt=\"Open In Colab\"/></a>"
      ]
    },
    {
      "cell_type": "markdown",
      "metadata": {
        "id": "3wYNCAsUl8Vn",
        "colab_type": "text"
      },
      "source": [
        "# Intro\n",
        "\n",
        "Just like while loops, `for` loops allow an instruction to be executed a certain number of times. How many times? It depends upon iterator.\n",
        "\n",
        "As per wikipedia 11 peaple have received [Nishan-e-Haider](https://en.wikipedia.org/wiki/Nishan-e-Haider) award in Pakistan. Let's say we want to iterate over this list."
      ]
    },
    {
      "cell_type": "code",
      "metadata": {
        "id": "u593d9fYkiK9",
        "colab_type": "code",
        "colab": {
          "base_uri": "https://localhost:8080/",
          "height": 222
        },
        "outputId": "a09f5aad-524a-4328-bef8-34a4616c1bc5"
      },
      "source": [
        "NH_receivers = ['Saif Ali Janjua', 'Muhammad Sarwar', 'Tufail Muhammad',\n",
        "                'Aziz Bhatti', 'Rashid Minhas', 'Muhammad Akran',\n",
        "                'Shabbir Sharif', 'Muhammad Husain Janjua', 'Muhammad Mahfuz',\n",
        "                'Sher Khan', 'Lalak Jan']\n",
        "\n",
        "for shaheed in NH_receivers:\n",
        "    print(shaheed)"
      ],
      "execution_count": 1,
      "outputs": [
        {
          "output_type": "stream",
          "text": [
            "Saif Ali Janjua\n",
            "Muhammad Sarwar\n",
            "Tufail Muhammad\n",
            "Aziz Bhatti\n",
            "Rashid Minhas\n",
            "Muhammad Akran\n",
            "Shabbir Sharif\n",
            "Muhammad Husain Janjua\n",
            "Muhammad Mahfuz\n",
            "Sher Khan\n",
            "Lalak Jan\n"
          ],
          "name": "stdout"
        }
      ]
    },
    {
      "cell_type": "markdown",
      "metadata": {
        "id": "crs8Tr3EfGFQ",
        "colab_type": "text"
      },
      "source": [
        "In above example, a list is acting as an iterator. In fact it can be a tuple, string or any other sequence.\n",
        "The basic syntax of for loop in python is:\n",
        "\n",
        "```python\n",
        "for variable in sequence:\n",
        "    do something\n",
        "```\n",
        "The `variable` in above syntax is assigned a new new value from `sequence` upon every iteration."
      ]
    },
    {
      "cell_type": "code",
      "metadata": {
        "id": "WPte9nVSs_or",
        "colab_type": "code",
        "colab": {
          "base_uri": "https://localhost:8080/",
          "height": 91
        },
        "outputId": "e64abce0-99b6-4921-a808-32941d3cff9f"
      },
      "source": [
        "for podcast in (\"Hujjat\", \"The east is the podcast\", \"Philosophise this\", \"Lex Friedman\"):\n",
        "    print(\"I am listening to: \", podcast)"
      ],
      "execution_count": 2,
      "outputs": [
        {
          "output_type": "stream",
          "text": [
            "I am listening to:  Hujjat\n",
            "I am listening to:  The east is the podcast\n",
            "I am listening to:  Philosophise this\n",
            "I am listening to:  Lex Friedman\n"
          ],
          "name": "stdout"
        }
      ]
    },
    {
      "cell_type": "code",
      "metadata": {
        "id": "hf59s7L6uFkQ",
        "colab_type": "code",
        "colab": {
          "base_uri": "https://localhost:8080/",
          "height": 129
        },
        "outputId": "03d1aa7d-5d02-4d7b-ca88-d0cb49134de3"
      },
      "source": [
        "scholars = {\n",
        "    \"Baqir al sadr\": 1980,\n",
        "    \"Murtaza Mutahri\": 1979,\n",
        "    \"Allama Iqbal\": 1938,\n",
        "    \"Jamal ul din Afghani\": 1897,\n",
        "    \"Ali Shariati\": 1977,\n",
        "    \"Moh Husain Tabatabai\": 1981\n",
        "}\n",
        "\n",
        "for scholar, date_of_death in scholars.items():\n",
        "    print(scholar, \"died in \", date_of_death)"
      ],
      "execution_count": 3,
      "outputs": [
        {
          "output_type": "stream",
          "text": [
            "Baqir al sadr died in  1980\n",
            "Murtaza Mutahri died in  1979\n",
            "Allama Iqbal died in  1938\n",
            "Jamal ul din Afghani died in  1897\n",
            "Ali Shariati died in  1977\n",
            "Moh Husain Tabatabai died in  1981\n"
          ],
          "name": "stdout"
        }
      ]
    },
    {
      "cell_type": "markdown",
      "metadata": {
        "id": "xJYCxQWqREnv",
        "colab_type": "text"
      },
      "source": [
        "# `for` with else\n",
        "\n",
        "Just like `while` loops, the code under else gets executed if everything goes well within `for` loop. If let's say, we are running for loop to search an item in the iterator, and when we find the item, there is not point in continuing the `for` loop further. Hence we `break` out of for loop. In such a case code under `else` will not be executed.\n",
        "\n",
        "```python\n",
        "for variable in sequence:\n",
        "    do something\n",
        "else:\n",
        "\tdo at last\n",
        "```"
      ]
    },
    {
      "cell_type": "code",
      "metadata": {
        "id": "ZAPojITduh5J",
        "colab_type": "code",
        "colab": {
          "base_uri": "https://localhost:8080/",
          "height": 36
        },
        "outputId": "422dc52f-bfe2-4648-abb9-0ce9baf8dc1f"
      },
      "source": [
        "for shaheed in NH_receivers:\n",
        "    if shaheed == 'Rashid Minhas':\n",
        "        print(\"Person from air force found\")\n",
        "        break\n",
        "else:\n",
        "    print('Search completed')"
      ],
      "execution_count": 4,
      "outputs": [
        {
          "output_type": "stream",
          "text": [
            "Person from air force found\n"
          ],
          "name": "stdout"
        }
      ]
    },
    {
      "cell_type": "markdown",
      "metadata": {
        "id": "RbDpVKr_CHcN",
        "colab_type": "text"
      },
      "source": [
        "# range"
      ]
    },
    {
      "cell_type": "code",
      "metadata": {
        "id": "5WlBP9GhA6ec",
        "colab_type": "code",
        "colab": {
          "base_uri": "https://localhost:8080/",
          "height": 36
        },
        "outputId": "a3e16f9c-0ec6-499b-8670-a7c377e2f0d0"
      },
      "source": [
        "range(5)"
      ],
      "execution_count": 5,
      "outputs": [
        {
          "output_type": "execute_result",
          "data": {
            "text/plain": [
              "range(0, 5)"
            ]
          },
          "metadata": {
            "tags": []
          },
          "execution_count": 5
        }
      ]
    },
    {
      "cell_type": "code",
      "metadata": {
        "id": "kaXaox5lCJRn",
        "colab_type": "code",
        "colab": {
          "base_uri": "https://localhost:8080/",
          "height": 110
        },
        "outputId": "5f41f4f3-1b66-41b7-dee8-aa12b1b0977c"
      },
      "source": [
        "for i in range(5):\n",
        "    print(i)"
      ],
      "execution_count": 6,
      "outputs": [
        {
          "output_type": "stream",
          "text": [
            "0\n",
            "1\n",
            "2\n",
            "3\n",
            "4\n"
          ],
          "name": "stdout"
        }
      ]
    },
    {
      "cell_type": "markdown",
      "metadata": {
        "id": "w89Ck43nCamu",
        "colab_type": "text"
      },
      "source": [
        "We can alo iterate over a list using range."
      ]
    },
    {
      "cell_type": "code",
      "metadata": {
        "id": "j5yWIJIXCQIV",
        "colab_type": "code",
        "colab": {
          "base_uri": "https://localhost:8080/",
          "height": 110
        },
        "outputId": "6b422dac-369e-4989-f6c0-56b7f98946b3"
      },
      "source": [
        "for i in range(5):\n",
        "    print(NH_receivers[i])"
      ],
      "execution_count": 7,
      "outputs": [
        {
          "output_type": "stream",
          "text": [
            "Saif Ali Janjua\n",
            "Muhammad Sarwar\n",
            "Tufail Muhammad\n",
            "Aziz Bhatti\n",
            "Rashid Minhas\n"
          ],
          "name": "stdout"
        }
      ]
    },
    {
      "cell_type": "code",
      "metadata": {
        "id": "9yca_1hECYTx",
        "colab_type": "code",
        "colab": {
          "base_uri": "https://localhost:8080/",
          "height": 73
        },
        "outputId": "7bc0fbf9-255f-4f7c-e511-c931c526db5a"
      },
      "source": [
        "for i in range(2,5):\n",
        "    print(NH_receivers[i])"
      ],
      "execution_count": 8,
      "outputs": [
        {
          "output_type": "stream",
          "text": [
            "Tufail Muhammad\n",
            "Aziz Bhatti\n",
            "Rashid Minhas\n"
          ],
          "name": "stdout"
        }
      ]
    },
    {
      "cell_type": "markdown",
      "metadata": {
        "id": "BZnZIg81iS2-",
        "colab_type": "text"
      },
      "source": [
        "#Skipping every nth value in iterator"
      ]
    },
    {
      "cell_type": "markdown",
      "metadata": {
        "id": "tI--1dXQKY8N",
        "colab_type": "text"
      },
      "source": [
        "We can also include step argument in range, which decides how big the jump/step we want to have in our iterator."
      ]
    },
    {
      "cell_type": "code",
      "metadata": {
        "id": "uYDRpbvjHDfD",
        "colab_type": "code",
        "colab": {
          "base_uri": "https://localhost:8080/",
          "height": 73
        },
        "outputId": "93469d4c-2b20-4f42-9739-98893a1f7e65"
      },
      "source": [
        "for i in range(2,8, 2):\n",
        "    print(NH_receivers[i])"
      ],
      "execution_count": 9,
      "outputs": [
        {
          "output_type": "stream",
          "text": [
            "Tufail Muhammad\n",
            "Rashid Minhas\n",
            "Shabbir Sharif\n"
          ],
          "name": "stdout"
        }
      ]
    },
    {
      "cell_type": "markdown",
      "metadata": {
        "id": "kxEBYrjfKR25",
        "colab_type": "text"
      },
      "source": [
        "We can also go backwards in the iterator"
      ]
    },
    {
      "cell_type": "code",
      "metadata": {
        "id": "iE8cBq9DJCPL",
        "colab_type": "code",
        "colab": {
          "base_uri": "https://localhost:8080/",
          "height": 129
        },
        "outputId": "1cc15d1b-7f2b-4c92-b906-7a21bd6bbe59"
      },
      "source": [
        "for i in range(8,2, -1):\n",
        "    print(NH_receivers[i])"
      ],
      "execution_count": 10,
      "outputs": [
        {
          "output_type": "stream",
          "text": [
            "Muhammad Mahfuz\n",
            "Muhammad Husain Janjua\n",
            "Shabbir Sharif\n",
            "Muhammad Akran\n",
            "Rashid Minhas\n",
            "Aziz Bhatti\n"
          ],
          "name": "stdout"
        }
      ]
    },
    {
      "cell_type": "code",
      "metadata": {
        "id": "K2wKaeuaJG26",
        "colab_type": "code",
        "colab": {
          "base_uri": "https://localhost:8080/",
          "height": 91
        },
        "outputId": "9e053c5f-71de-4b41-cbf9-bdda8c103ad0"
      },
      "source": [
        "for i in range(8,0, -2):\n",
        "    print(NH_receivers[i])"
      ],
      "execution_count": 11,
      "outputs": [
        {
          "output_type": "stream",
          "text": [
            "Muhammad Mahfuz\n",
            "Shabbir Sharif\n",
            "Rashid Minhas\n",
            "Tufail Muhammad\n"
          ],
          "name": "stdout"
        }
      ]
    },
    {
      "cell_type": "markdown",
      "metadata": {
        "id": "qitss2RSSuH5",
        "colab_type": "text"
      },
      "source": [
        "# accessing index\n",
        "\n",
        "If we want to access index itself, we can do this by using `enumerate`."
      ]
    },
    {
      "cell_type": "code",
      "metadata": {
        "id": "4a7Ija3qSvUS",
        "colab_type": "code",
        "colab": {
          "base_uri": "https://localhost:8080/",
          "height": 222
        },
        "outputId": "487625f8-e9fc-4331-cb4f-b9acbb42a2eb"
      },
      "source": [
        "for index,item in enumerate(NH_receivers, start=0): #default value of start is zero.\n",
        "    print(item, ' is Nishan - Haider receiver number ', index)"
      ],
      "execution_count": 12,
      "outputs": [
        {
          "output_type": "stream",
          "text": [
            "Saif Ali Janjua  is Nishan - Haider receiver number  0\n",
            "Muhammad Sarwar  is Nishan - Haider receiver number  1\n",
            "Tufail Muhammad  is Nishan - Haider receiver number  2\n",
            "Aziz Bhatti  is Nishan - Haider receiver number  3\n",
            "Rashid Minhas  is Nishan - Haider receiver number  4\n",
            "Muhammad Akran  is Nishan - Haider receiver number  5\n",
            "Shabbir Sharif  is Nishan - Haider receiver number  6\n",
            "Muhammad Husain Janjua  is Nishan - Haider receiver number  7\n",
            "Muhammad Mahfuz  is Nishan - Haider receiver number  8\n",
            "Sher Khan  is Nishan - Haider receiver number  9\n",
            "Lalak Jan  is Nishan - Haider receiver number  10\n"
          ],
          "name": "stdout"
        }
      ]
    },
    {
      "cell_type": "markdown",
      "metadata": {
        "id": "iu8UjAVVV68h",
        "colab_type": "text"
      },
      "source": [
        "which is equivalent to"
      ]
    },
    {
      "cell_type": "code",
      "metadata": {
        "id": "-hV3KoiOVv-h",
        "colab_type": "code",
        "colab": {
          "base_uri": "https://localhost:8080/",
          "height": 222
        },
        "outputId": "f34870eb-0186-46bc-be50-535b7a0b77df"
      },
      "source": [
        "index = 0\n",
        "for item in NH_receivers:\n",
        "    print(item, ' is Nishan - Haider receiver number ', index)\n",
        "    index += 1"
      ],
      "execution_count": 13,
      "outputs": [
        {
          "output_type": "stream",
          "text": [
            "Saif Ali Janjua  is Nishan - Haider receiver number  0\n",
            "Muhammad Sarwar  is Nishan - Haider receiver number  1\n",
            "Tufail Muhammad  is Nishan - Haider receiver number  2\n",
            "Aziz Bhatti  is Nishan - Haider receiver number  3\n",
            "Rashid Minhas  is Nishan - Haider receiver number  4\n",
            "Muhammad Akran  is Nishan - Haider receiver number  5\n",
            "Shabbir Sharif  is Nishan - Haider receiver number  6\n",
            "Muhammad Husain Janjua  is Nishan - Haider receiver number  7\n",
            "Muhammad Mahfuz  is Nishan - Haider receiver number  8\n",
            "Sher Khan  is Nishan - Haider receiver number  9\n",
            "Lalak Jan  is Nishan - Haider receiver number  10\n"
          ],
          "name": "stdout"
        }
      ]
    },
    {
      "cell_type": "markdown",
      "metadata": {
        "id": "UfMOdLJ-UYWp",
        "colab_type": "text"
      },
      "source": [
        "This is another way to keep track that how many times the loop has been executed.\n",
        "\n",
        "# Iterating over more than one sequence"
      ]
    },
    {
      "cell_type": "code",
      "metadata": {
        "id": "UHKltq5rT0Zh",
        "colab_type": "code",
        "colab": {
          "base_uri": "https://localhost:8080/",
          "height": 129
        },
        "outputId": "4b2c8f14-bdab-49dd-eb33-537cd992b423"
      },
      "source": [
        "scholars = ['Baqir al sadr', 'Murtaza Mutahri', 'Allama Iqbal', 'Jamal ul din Afghani', 'Ali Shariati', 'Moh Husain Tabatabai']\n",
        "date_of_death = [1980, 1979, 1938, 1897, 1977, 1981]\n",
        "\n",
        "for scholar, dod in zip(scholars, date_of_death):\n",
        "    print(scholar, ' died in year ', dod)"
      ],
      "execution_count": 14,
      "outputs": [
        {
          "output_type": "stream",
          "text": [
            "Baqir al sadr  died in year  1980\n",
            "Murtaza Mutahri  died in year  1979\n",
            "Allama Iqbal  died in year  1938\n",
            "Jamal ul din Afghani  died in year  1897\n",
            "Ali Shariati  died in year  1977\n",
            "Moh Husain Tabatabai  died in year  1981\n"
          ],
          "name": "stdout"
        }
      ]
    },
    {
      "cell_type": "code",
      "metadata": {
        "id": "21j4A9-AUVdi",
        "colab_type": "code",
        "colab": {
          "base_uri": "https://localhost:8080/",
          "height": 129
        },
        "outputId": "263837ce-e533-4365-d92e-05501df5d273"
      },
      "source": [
        "date_of_birth = [1935, 1919, 1877, 1838, 1933, 1904]\n",
        "for scholar, dod, dob in zip(scholars, date_of_death, date_of_birth):\n",
        "    print(scholar, ' was born in ', dob, ' and died in year ', dod)"
      ],
      "execution_count": 15,
      "outputs": [
        {
          "output_type": "stream",
          "text": [
            "Baqir al sadr  was born in  1935  and died in year  1980\n",
            "Murtaza Mutahri  was born in  1919  and died in year  1979\n",
            "Allama Iqbal  was born in  1877  and died in year  1938\n",
            "Jamal ul din Afghani  was born in  1838  and died in year  1897\n",
            "Ali Shariati  was born in  1933  and died in year  1977\n",
            "Moh Husain Tabatabai  was born in  1904  and died in year  1981\n"
          ],
          "name": "stdout"
        }
      ]
    },
    {
      "cell_type": "markdown",
      "metadata": {
        "id": "icJpcfp-m38I",
        "colab_type": "text"
      },
      "source": [
        "But what if lengths of lists are not equal."
      ]
    },
    {
      "cell_type": "code",
      "metadata": {
        "id": "JIecawW5nBJ_",
        "colab_type": "code",
        "colab": {
          "base_uri": "https://localhost:8080/",
          "height": 147
        },
        "outputId": "d4dc4037-ae50-4b98-c616-bd93b244f98b"
      },
      "source": [
        "scholars = ['Baqir al sadr', 'Murtaza Mutahri', 'Allama Iqbal', 'Jamal ul din Afghani', 'Ali Shariati',\n",
        "            'Moh Husain Tabatabai']\n",
        "date_of_death = [1980, 1979, 1938, 1897, 1977, 1981, 1989]\n",
        "\n",
        "print(len(scholars), len(date_of_death))\n",
        "\n",
        "for scholar, dod in zip(scholars, date_of_death):\n",
        "    print(scholar, ' died in year ', dod)"
      ],
      "execution_count": 16,
      "outputs": [
        {
          "output_type": "stream",
          "text": [
            "6 7\n",
            "Baqir al sadr  died in year  1980\n",
            "Murtaza Mutahri  died in year  1979\n",
            "Allama Iqbal  died in year  1938\n",
            "Jamal ul din Afghani  died in year  1897\n",
            "Ali Shariati  died in year  1977\n",
            "Moh Husain Tabatabai  died in year  1981\n"
          ],
          "name": "stdout"
        }
      ]
    },
    {
      "cell_type": "markdown",
      "metadata": {
        "id": "OKvPE5n_oUJf",
        "colab_type": "text"
      },
      "source": [
        "Simple `zip` will iterate over the point when all lists are equal and ignore if any sequence is larger than the others. If we want to iterate until the longest sequence, we have to use `zip_longest` from `itertools`"
      ]
    },
    {
      "cell_type": "code",
      "metadata": {
        "id": "_zNTGds0npPn",
        "colab_type": "code",
        "colab": {
          "base_uri": "https://localhost:8080/",
          "height": 147
        },
        "outputId": "f3caeedd-1f53-410b-dc98-f1543e08e3ec"
      },
      "source": [
        "from itertools import zip_longest\n",
        "\n",
        "scholars = ['Baqir al sadr', 'Murtaza Mutahri', 'Allama Iqbal', 'Jamal ul din Afghani', 'Ali Shariati',\n",
        "            'Moh Husain Tabatabai']\n",
        "date_of_death = [1980, 1979, 1938, 1897, 1977, 1981, 1989]\n",
        "\n",
        "for scholar, dod in zip_longest(scholars, date_of_death):\n",
        "    print('name: ', scholar, ' date of death: ', dod)"
      ],
      "execution_count": 17,
      "outputs": [
        {
          "output_type": "stream",
          "text": [
            "name:  Baqir al sadr  date of death:  1980\n",
            "name:  Murtaza Mutahri  date of death:  1979\n",
            "name:  Allama Iqbal  date of death:  1938\n",
            "name:  Jamal ul din Afghani  date of death:  1897\n",
            "name:  Ali Shariati  date of death:  1977\n",
            "name:  Moh Husain Tabatabai  date of death:  1981\n",
            "name:  None  date of death:  1989\n"
          ],
          "name": "stdout"
        }
      ]
    },
    {
      "cell_type": "markdown",
      "metadata": {
        "id": "ZYMti5SUoK_f",
        "colab_type": "text"
      },
      "source": [
        "notice the last printed line."
      ]
    },
    {
      "cell_type": "markdown",
      "metadata": {
        "id": "e9QeXr6SWUGc",
        "colab_type": "text"
      },
      "source": [
        "# accessing previous and next value"
      ]
    },
    {
      "cell_type": "code",
      "metadata": {
        "id": "e4IppudaWTiq",
        "colab_type": "code",
        "colab": {
          "base_uri": "https://localhost:8080/",
          "height": 184
        },
        "outputId": "3c5fcb1f-57be-40a1-97e2-ea1af98776be"
      },
      "source": [
        "# we must start from 1 and end before last item in order to print correct values\n",
        "for i in range(1, len(NH_receivers)-1): \n",
        "    print(NH_receivers[i], ' cambe before ', NH_receivers[i+1], ' and after ', NH_receivers[i-1])"
      ],
      "execution_count": 18,
      "outputs": [
        {
          "output_type": "stream",
          "text": [
            "Muhammad Sarwar  cambe before  Tufail Muhammad  and after  Saif Ali Janjua\n",
            "Tufail Muhammad  cambe before  Aziz Bhatti  and after  Muhammad Sarwar\n",
            "Aziz Bhatti  cambe before  Rashid Minhas  and after  Tufail Muhammad\n",
            "Rashid Minhas  cambe before  Muhammad Akran  and after  Aziz Bhatti\n",
            "Muhammad Akran  cambe before  Shabbir Sharif  and after  Rashid Minhas\n",
            "Shabbir Sharif  cambe before  Muhammad Husain Janjua  and after  Muhammad Akran\n",
            "Muhammad Husain Janjua  cambe before  Muhammad Mahfuz  and after  Shabbir Sharif\n",
            "Muhammad Mahfuz  cambe before  Sher Khan  and after  Muhammad Husain Janjua\n",
            "Sher Khan  cambe before  Lalak Jan  and after  Muhammad Mahfuz\n"
          ],
          "name": "stdout"
        }
      ]
    },
    {
      "cell_type": "markdown",
      "metadata": {
        "id": "AQflzh_DhFMJ",
        "colab_type": "text"
      },
      "source": [
        "# changing loop variable inside loop\n",
        "\n",
        "Let's say we want to iterate over sequence from 0 to 10 i.e `0,1,2,3,4,5,6,7,8,9` but after `5` we wan to jump to `8` and then carry on. It means we should change the loop variable inside the loop. A naive mind might thing following approach would work"
      ]
    },
    {
      "cell_type": "code",
      "metadata": {
        "id": "D_Ai1l2AjfJY",
        "colab_type": "code",
        "colab": {
          "base_uri": "https://localhost:8080/",
          "height": 203
        },
        "outputId": "74226c63-89b9-46c3-bd40-719ed98976d3"
      },
      "source": [
        "for i in range(10):\n",
        "    if i==5:\n",
        "        i +=3\n",
        "    print(i)\n",
        "    "
      ],
      "execution_count": 19,
      "outputs": [
        {
          "output_type": "stream",
          "text": [
            "0\n",
            "1\n",
            "2\n",
            "3\n",
            "4\n",
            "8\n",
            "6\n",
            "7\n",
            "8\n",
            "9\n"
          ],
          "name": "stdout"
        }
      ]
    },
    {
      "cell_type": "markdown",
      "metadata": {
        "id": "8dlethVWlAzU",
        "colab_type": "text"
      },
      "source": [
        "But we had wished the output as `0,1,2,3,4,5,8,9`. \n",
        "\n",
        "The reasons is, for loop iterated over `0,1,2,3,4,5,6,7,8,9` and if we changed current value of `i`, it will not affect next value of `i` at next iteration. We have to use `while` loop in such a scenario."
      ]
    },
    {
      "cell_type": "code",
      "metadata": {
        "id": "lW1qhKRBVUBn",
        "colab_type": "code",
        "colab": {
          "base_uri": "https://localhost:8080/",
          "height": 147
        },
        "outputId": "4057f6d2-1d03-4702-94a8-0407d5b5dd46"
      },
      "source": [
        "i = 0\n",
        "while i<10:\n",
        "    if i==5:\n",
        "        i += 3\n",
        "    print(i)\n",
        "    i +=1"
      ],
      "execution_count": 20,
      "outputs": [
        {
          "output_type": "stream",
          "text": [
            "0\n",
            "1\n",
            "2\n",
            "3\n",
            "4\n",
            "8\n",
            "9\n"
          ],
          "name": "stdout"
        }
      ]
    },
    {
      "cell_type": "markdown",
      "metadata": {
        "id": "082g-7j1qMpf",
        "colab_type": "text"
      },
      "source": [
        "# Flattening a list of lists\n",
        "\n",
        "If we have a list of lists, and we want to flatten all the elements of that list into one list, we can use a nested for loop to achieve this."
      ]
    },
    {
      "cell_type": "code",
      "metadata": {
        "id": "d4oml-5opx8Q",
        "colab_type": "code",
        "colab": {
          "base_uri": "https://localhost:8080/",
          "height": 166
        },
        "outputId": "3b9fb874-2750-45b9-816c-c7745b9aa91f"
      },
      "source": [
        "prime_miniters = [['zafrullah jamali', 'chaudhry shujaat', 'shaukat aziz'],\n",
        "                  ['yousuf raza gilani', 'raja pervaiz ashraf'],\n",
        "                  ['nawaz sharif', 'shahid khaqan']]\n",
        "\n",
        "print(len(prime_miniters))\n",
        "\n",
        "all_pms = []\n",
        "for era in prime_miniters:\n",
        "    for pm in era:\n",
        "        all_pms.append(pm)\n",
        "\n",
        "all_pms"
      ],
      "execution_count": 21,
      "outputs": [
        {
          "output_type": "stream",
          "text": [
            "3\n"
          ],
          "name": "stdout"
        },
        {
          "output_type": "execute_result",
          "data": {
            "text/plain": [
              "['zafrullah jamali',\n",
              " 'chaudhry shujaat',\n",
              " 'shaukat aziz',\n",
              " 'yousuf raza gilani',\n",
              " 'raja pervaiz ashraf',\n",
              " 'nawaz sharif',\n",
              " 'shahid khaqan']"
            ]
          },
          "metadata": {
            "tags": []
          },
          "execution_count": 21
        }
      ]
    },
    {
      "cell_type": "code",
      "metadata": {
        "id": "YwN3lY2wqls5",
        "colab_type": "code",
        "colab": {
          "base_uri": "https://localhost:8080/",
          "height": 36
        },
        "outputId": "2d5b0f01-97e9-49a2-c219-4f8f77900878"
      },
      "source": [
        "print(len(all_pms))"
      ],
      "execution_count": 22,
      "outputs": [
        {
          "output_type": "stream",
          "text": [
            "7\n"
          ],
          "name": "stdout"
        }
      ]
    }
  ]
}