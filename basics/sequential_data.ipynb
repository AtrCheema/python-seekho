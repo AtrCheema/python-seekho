{
  "nbformat": 4,
  "nbformat_minor": 0,
  "metadata": {
    "colab": {
      "name": "sequential data.ipynb",
      "provenance": [],
      "collapsed_sections": [],
      "authorship_tag": "ABX9TyPPwQLGj9BYag3Ufk3g7mDf",
      "include_colab_link": true
    },
    "kernelspec": {
      "name": "python3",
      "display_name": "Python 3"
    }
  },
  "cells": [
    {
      "cell_type": "markdown",
      "metadata": {
        "id": "view-in-github",
        "colab_type": "text"
      },
      "source": [
        "<a href=\"https://colab.research.google.com/github/AtrCheema/python-courses/blob/master/basics/sequential_data.ipynb\" target=\"_parent\"><img src=\"https://colab.research.google.com/assets/colab-badge.svg\" alt=\"Open In Colab\"/></a>"
      ]
    },
    {
      "cell_type": "markdown",
      "metadata": {
        "id": "v7n6zY7Y-e4M",
        "colab_type": "text"
      },
      "source": [
        "# Sequential data types\n",
        "\n",
        "* Strings\n",
        "\n",
        "* Lists\n",
        "\n",
        "* Tuple\n",
        "\n",
        "* Range\n",
        "\n",
        "## Lists\n",
        "\n",
        "Lists are array likes, enclosed by square brackets."
      ]
    },
    {
      "cell_type": "code",
      "metadata": {
        "id": "s7CL7rEVwGg7",
        "colab_type": "code",
        "outputId": "f5f73dd7-a236-4e86-b84d-4e11616a4a4f",
        "colab": {
          "base_uri": "https://localhost:8080/",
          "height": 35
        }
      },
      "source": [
        "a = [1,2,3,4]\n",
        "a"
      ],
      "execution_count": 1,
      "outputs": [
        {
          "output_type": "execute_result",
          "data": {
            "text/plain": [
              "[1, 2, 3, 4]"
            ]
          },
          "metadata": {
            "tags": []
          },
          "execution_count": 1
        }
      ]
    },
    {
      "cell_type": "markdown",
      "metadata": {
        "id": "NnkqbB0APWxc",
        "colab_type": "text"
      },
      "source": [
        "we can verify that a is a fo `list` tyep"
      ]
    },
    {
      "cell_type": "code",
      "metadata": {
        "id": "eazfCbbJcKlt",
        "colab_type": "code",
        "outputId": "040bcb6f-f2cf-4f22-96d6-183333126336",
        "colab": {
          "base_uri": "https://localhost:8080/",
          "height": 35
        }
      },
      "source": [
        "type(a)"
      ],
      "execution_count": 2,
      "outputs": [
        {
          "output_type": "execute_result",
          "data": {
            "text/plain": [
              "list"
            ]
          },
          "metadata": {
            "tags": []
          },
          "execution_count": 2
        }
      ]
    },
    {
      "cell_type": "markdown",
      "metadata": {
        "id": "gFps1cq0cQcv",
        "colab_type": "text"
      },
      "source": [
        "But a is not just an array like `Fortran` rather it is much more than that. It is a collection of objects."
      ]
    },
    {
      "cell_type": "code",
      "metadata": {
        "id": "l-VUS4vByIzw",
        "colab_type": "code",
        "outputId": "52d2bd6c-7fcf-4320-850e-200780c45390",
        "colab": {
          "base_uri": "https://localhost:8080/",
          "height": 35
        }
      },
      "source": [
        "type(a[0]), type(a[1])"
      ],
      "execution_count": 3,
      "outputs": [
        {
          "output_type": "execute_result",
          "data": {
            "text/plain": [
              "(int, int)"
            ]
          },
          "metadata": {
            "tags": []
          },
          "execution_count": 3
        }
      ]
    },
    {
      "cell_type": "markdown",
      "metadata": {
        "id": "Ap60tH4AP3je",
        "colab_type": "text"
      },
      "source": [
        "All elements in above list were of type `int` but a list can hold any kind of objects all in same list. The following list cnotains, `int`, `float`, `str` and a `list` type in it. Yes a list can have a list inside it as well. That is why is called a **collection of objects**."
      ]
    },
    {
      "cell_type": "code",
      "metadata": {
        "id": "P6b4s4vVccFY",
        "colab_type": "code",
        "outputId": "a285dc4c-7026-4aa8-90d7-8a942d7d6cae",
        "colab": {
          "base_uri": "https://localhost:8080/",
          "height": 35
        }
      },
      "source": [
        "a = [1,2.0, '3', [4,5]]\n",
        "type(a[0]), type(a[1]), type(a[2]), type(a[3])"
      ],
      "execution_count": 4,
      "outputs": [
        {
          "output_type": "execute_result",
          "data": {
            "text/plain": [
              "(int, float, str, list)"
            ]
          },
          "metadata": {
            "tags": []
          },
          "execution_count": 4
        }
      ]
    },
    {
      "cell_type": "markdown",
      "metadata": {
        "id": "-HcYULmDyWen",
        "colab_type": "text"
      },
      "source": [
        "as we have seen above that we can index list elements as well. However, if we try to access for an index in a list which is not present, it will result in error. For example above list contains 4 elements. If we try to access a[4] (which means element at 4rth index or 5th element), it will result in error."
      ]
    },
    {
      "cell_type": "code",
      "metadata": {
        "id": "hmqaQpqtyVsQ",
        "colab_type": "code",
        "outputId": "a4f4cfbb-36d8-4f55-8615-395835a72fb5",
        "colab": {
          "base_uri": "https://localhost:8080/",
          "height": 173
        }
      },
      "source": [
        "a[4]"
      ],
      "execution_count": 5,
      "outputs": [
        {
          "output_type": "error",
          "ename": "IndexError",
          "evalue": "ignored",
          "traceback": [
            "\u001b[0;31m---------------------------------------------------------------------------\u001b[0m",
            "\u001b[0;31mIndexError\u001b[0m                                Traceback (most recent call last)",
            "\u001b[0;32m<ipython-input-5-ed40d1f49c42>\u001b[0m in \u001b[0;36m<module>\u001b[0;34m()\u001b[0m\n\u001b[0;32m----> 1\u001b[0;31m \u001b[0ma\u001b[0m\u001b[0;34m[\u001b[0m\u001b[0;36m4\u001b[0m\u001b[0;34m]\u001b[0m\u001b[0;34m\u001b[0m\u001b[0;34m\u001b[0m\u001b[0m\n\u001b[0m",
            "\u001b[0;31mIndexError\u001b[0m: list index out of range"
          ]
        }
      ]
    },
    {
      "cell_type": "markdown",
      "metadata": {
        "id": "AP5oTUXIzGsH",
        "colab_type": "text"
      },
      "source": [
        "We have also seen that list is an ordered collection of objects. If we print list `a`, it will print its elements in same sequence as they are originally."
      ]
    },
    {
      "cell_type": "code",
      "metadata": {
        "id": "r3UyPq67zMUv",
        "colab_type": "code",
        "outputId": "a7afb128-e64e-448d-9375-3bc4eaf6da36",
        "colab": {
          "base_uri": "https://localhost:8080/",
          "height": 35
        }
      },
      "source": [
        "a"
      ],
      "execution_count": 6,
      "outputs": [
        {
          "output_type": "execute_result",
          "data": {
            "text/plain": [
              "[1, 2.0, '3', [4, 5]]"
            ]
          },
          "metadata": {
            "tags": []
          },
          "execution_count": 6
        }
      ]
    },
    {
      "cell_type": "markdown",
      "metadata": {
        "id": "Wx5jDwmjgs-n",
        "colab_type": "text"
      },
      "source": [
        "Unlike strings, we can change contents of lists using indexing."
      ]
    },
    {
      "cell_type": "code",
      "metadata": {
        "id": "Lu1O7ME4gdan",
        "colab_type": "code",
        "outputId": "06c649a6-f0c4-414b-fae0-b63178b95951",
        "colab": {
          "base_uri": "https://localhost:8080/",
          "height": 35
        }
      },
      "source": [
        "a[3] = 'a new element'\n",
        "a"
      ],
      "execution_count": 7,
      "outputs": [
        {
          "output_type": "execute_result",
          "data": {
            "text/plain": [
              "[1, 2.0, '3', 'a new element']"
            ]
          },
          "metadata": {
            "tags": []
          },
          "execution_count": 7
        }
      ]
    },
    {
      "cell_type": "markdown",
      "metadata": {
        "id": "e-GWNJX4gmG-",
        "colab_type": "text"
      },
      "source": [
        "We can replace a sequence of elements in a list with a new sequence and the new sequence does not have to be of same length and type as old sequence."
      ]
    },
    {
      "cell_type": "code",
      "metadata": {
        "id": "xm5AIZjZgiKO",
        "colab_type": "code",
        "outputId": "193cce17-9946-4f0e-ed9a-1fc4965b277c",
        "colab": {
          "base_uri": "https://localhost:8080/",
          "height": 54
        }
      },
      "source": [
        "print(a[0:3])\n",
        "\n",
        "a[0:3] = [2.0,2]\n",
        "a"
      ],
      "execution_count": 8,
      "outputs": [
        {
          "output_type": "stream",
          "text": [
            "[1, 2.0, '3']\n"
          ],
          "name": "stdout"
        },
        {
          "output_type": "execute_result",
          "data": {
            "text/plain": [
              "[2.0, 2, 'a new element']"
            ]
          },
          "metadata": {
            "tags": []
          },
          "execution_count": 8
        }
      ]
    },
    {
      "cell_type": "markdown",
      "metadata": {
        "id": "ulgQnO9mdIgZ",
        "colab_type": "text"
      },
      "source": [
        "So we see the size of list is changed automatically\n",
        "\n",
        "### nested lists\n",
        "\n",
        "A list can contain several lists and every list in side a list further sublists and so on."
      ]
    },
    {
      "cell_type": "code",
      "metadata": {
        "id": "xFUz9ngJzWNX",
        "colab_type": "code",
        "outputId": "50a19615-5bb9-4621-d425-a75fae487a4d",
        "colab": {
          "base_uri": "https://localhost:8080/",
          "height": 35
        }
      },
      "source": [
        "pakistan = [[['Nawakali', 'Alamdar Road', 'Killi Ismail', 'Kharotabad'],\n",
        "             'Kallat', 'Ziarat', 'Gawadar'],\n",
        "            ['Sukkur', 'Rohri', 'Hayderabad', 'Karachi'],\n",
        "            ['Peshawar', 'Hangue', 'Mardan', 'Charsadda'], ['Lahore', ['ugoki', 'sambrial', 'pasrur', 'daska'], 'Sadiqabad', 'Multan']]\n",
        "\n",
        "len(pakistan)"
      ],
      "execution_count": 9,
      "outputs": [
        {
          "output_type": "execute_result",
          "data": {
            "text/plain": [
              "4"
            ]
          },
          "metadata": {
            "tags": []
          },
          "execution_count": 9
        }
      ]
    },
    {
      "cell_type": "markdown",
      "metadata": {
        "id": "qTbBXGVgq7QM",
        "colab_type": "text"
      },
      "source": [
        "Finding length of `pakistan` will give length of outmost list. We can find out lengths of inner lists as well."
      ]
    },
    {
      "cell_type": "code",
      "metadata": {
        "id": "q1AL3DLMWBY0",
        "colab_type": "code",
        "outputId": "da707ee9-6639-4f64-d3a7-20470b013d2f",
        "colab": {
          "base_uri": "https://localhost:8080/",
          "height": 35
        }
      },
      "source": [
        "len(pakistan[0]), len(pakistan[1]), len(pakistan[2]), len(pakistan[3])"
      ],
      "execution_count": 10,
      "outputs": [
        {
          "output_type": "execute_result",
          "data": {
            "text/plain": [
              "(4, 4, 4, 4)"
            ]
          },
          "metadata": {
            "tags": []
          },
          "execution_count": 10
        }
      ]
    },
    {
      "cell_type": "code",
      "metadata": {
        "id": "bmJphvEoWaKV",
        "colab_type": "code",
        "outputId": "9d28c036-88df-4782-d13a-fcb2130cf1d9",
        "colab": {
          "base_uri": "https://localhost:8080/",
          "height": 35
        }
      },
      "source": [
        "pakistan[0][0][0:]"
      ],
      "execution_count": 11,
      "outputs": [
        {
          "output_type": "execute_result",
          "data": {
            "text/plain": [
              "['Nawakali', 'Alamdar Road', 'Killi Ismail', 'Kharotabad']"
            ]
          },
          "metadata": {
            "tags": []
          },
          "execution_count": 11
        }
      ]
    },
    {
      "cell_type": "code",
      "metadata": {
        "id": "bG8cW64nX2kM",
        "colab_type": "code",
        "outputId": "204a1209-b037-4f4d-80db-1fbc1ac62fc8",
        "colab": {
          "base_uri": "https://localhost:8080/",
          "height": 35
        }
      },
      "source": [
        "pakistan[3][0][:]"
      ],
      "execution_count": 12,
      "outputs": [
        {
          "output_type": "execute_result",
          "data": {
            "text/plain": [
              "'Lahore'"
            ]
          },
          "metadata": {
            "tags": []
          },
          "execution_count": 12
        }
      ]
    },
    {
      "cell_type": "code",
      "metadata": {
        "id": "Sgr_HVaTYB8N",
        "colab_type": "code",
        "outputId": "4f1cf282-17e5-4380-e7a9-09c3c90dd314",
        "colab": {
          "base_uri": "https://localhost:8080/",
          "height": 35
        }
      },
      "source": [
        "pakistan[3][1][-3:]"
      ],
      "execution_count": 13,
      "outputs": [
        {
          "output_type": "execute_result",
          "data": {
            "text/plain": [
              "['sambrial', 'pasrur', 'daska']"
            ]
          },
          "metadata": {
            "tags": []
          },
          "execution_count": 13
        }
      ]
    },
    {
      "cell_type": "code",
      "metadata": {
        "id": "Alun2ExGYIB4",
        "colab_type": "code",
        "outputId": "1f1002a5-da39-46b2-f7fe-fcf905957692",
        "colab": {
          "base_uri": "https://localhost:8080/",
          "height": 35
        }
      },
      "source": [
        "pakistan[3][1][3][3:]"
      ],
      "execution_count": 14,
      "outputs": [
        {
          "output_type": "execute_result",
          "data": {
            "text/plain": [
              "'ka'"
            ]
          },
          "metadata": {
            "tags": []
          },
          "execution_count": 14
        }
      ]
    },
    {
      "cell_type": "code",
      "metadata": {
        "id": "vZvzyNBrY7nU",
        "colab_type": "code",
        "outputId": "f5ae5b9f-efeb-4808-8aaf-ca1cc1237c93",
        "colab": {
          "base_uri": "https://localhost:8080/",
          "height": 35
        }
      },
      "source": [
        "enigma = 'IRtu diysa rtdo oK icpolnivnegn iweanst  at ow hbiet ea  sluipbeerrmaalc!i s t'\n",
        "enigma[::2]"
      ],
      "execution_count": 15,
      "outputs": [
        {
          "output_type": "execute_result",
          "data": {
            "text/plain": [
              "'It is too convenient to be a liberal!  '"
            ]
          },
          "metadata": {
            "tags": []
          },
          "execution_count": 15
        }
      ]
    },
    {
      "cell_type": "code",
      "metadata": {
        "id": "0Pr9bHboo3BH",
        "colab_type": "code",
        "outputId": "81389e1a-3566-49a5-e550-4813ddc061da",
        "colab": {
          "base_uri": "https://localhost:8080/",
          "height": 35
        }
      },
      "source": [
        "enigma[1::2]"
      ],
      "execution_count": 16,
      "outputs": [
        {
          "output_type": "execute_result",
          "data": {
            "text/plain": [
              "'Rudyard Kipling was a white supermacist'"
            ]
          },
          "metadata": {
            "tags": []
          },
          "execution_count": 16
        }
      ]
    },
    {
      "cell_type": "markdown",
      "metadata": {
        "id": "vuGorurMrXjV",
        "colab_type": "text"
      },
      "source": [
        "### concatenation\n",
        "\n",
        "List concatenation works same as thaat of strings."
      ]
    },
    {
      "cell_type": "code",
      "metadata": {
        "id": "OUbjE_6OreBT",
        "colab_type": "code",
        "outputId": "22f391f5-236a-4e8f-c55e-c3ecbd85956b",
        "colab": {
          "base_uri": "https://localhost:8080/",
          "height": 35
        }
      },
      "source": [
        "provinces = ['sind', 'balochistan', 'kpk', 'punjab'] + ['janubi punjab', 'kashmir', 'potohar']\n",
        "provinces"
      ],
      "execution_count": 17,
      "outputs": [
        {
          "output_type": "execute_result",
          "data": {
            "text/plain": [
              "['sind', 'balochistan', 'kpk', 'punjab', 'janubi punjab', 'kashmir', 'potohar']"
            ]
          },
          "metadata": {
            "tags": []
          },
          "execution_count": 17
        }
      ]
    },
    {
      "cell_type": "code",
      "metadata": {
        "id": "4vcSbXt6sQkQ",
        "colab_type": "code",
        "outputId": "8a5a6d22-1035-42f5-dc64-0bdf9e18aac5",
        "colab": {
          "base_uri": "https://localhost:8080/",
          "height": 183
        }
      },
      "source": [
        "provinces += ['hazara', 'karachi']\n",
        "provinces"
      ],
      "execution_count": 18,
      "outputs": [
        {
          "output_type": "execute_result",
          "data": {
            "text/plain": [
              "['sind',\n",
              " 'balochistan',\n",
              " 'kpk',\n",
              " 'punjab',\n",
              " 'janubi punjab',\n",
              " 'kashmir',\n",
              " 'potohar',\n",
              " 'hazara',\n",
              " 'karachi']"
            ]
          },
          "metadata": {
            "tags": []
          },
          "execution_count": 18
        }
      ]
    },
    {
      "cell_type": "markdown",
      "metadata": {
        "id": "ZSS_r2CtYi_v",
        "colab_type": "text"
      },
      "source": [
        "## Tuples\n",
        "\n",
        "In contrast to lists, tuples are immutables."
      ]
    },
    {
      "cell_type": "code",
      "metadata": {
        "id": "0Rgt5X9oYZok",
        "colab_type": "code",
        "outputId": "40f17dab-21fa-43fa-d015-fcc7b203d29f",
        "colab": {
          "base_uri": "https://localhost:8080/",
          "height": 35
        }
      },
      "source": [
        "a = (1,2,3)\n",
        "type(a)"
      ],
      "execution_count": 19,
      "outputs": [
        {
          "output_type": "execute_result",
          "data": {
            "text/plain": [
              "tuple"
            ]
          },
          "metadata": {
            "tags": []
          },
          "execution_count": 19
        }
      ]
    },
    {
      "cell_type": "code",
      "metadata": {
        "id": "TleBEYPBYskj",
        "colab_type": "code",
        "outputId": "fca2d4f6-3adb-4b88-a558-3a5dfd9b319c",
        "colab": {
          "base_uri": "https://localhost:8080/",
          "height": 202
        }
      },
      "source": [
        "a = (1,2.0,'a', pakistan)\n",
        "a"
      ],
      "execution_count": 20,
      "outputs": [
        {
          "output_type": "execute_result",
          "data": {
            "text/plain": [
              "(1,\n",
              " 2.0,\n",
              " 'a',\n",
              " [[['Nawakali', 'Alamdar Road', 'Killi Ismail', 'Kharotabad'],\n",
              "   'Kallat',\n",
              "   'Ziarat',\n",
              "   'Gawadar'],\n",
              "  ['Sukkur', 'Rohri', 'Hayderabad', 'Karachi'],\n",
              "  ['Peshawar', 'Hangue', 'Mardan', 'Charsadda'],\n",
              "  ['Lahore', ['ugoki', 'sambrial', 'pasrur', 'daska'], 'Sadiqabad', 'Multan']])"
            ]
          },
          "metadata": {
            "tags": []
          },
          "execution_count": 20
        }
      ]
    },
    {
      "cell_type": "markdown",
      "metadata": {
        "id": "fDe0-GUOlkJ-",
        "colab_type": "text"
      },
      "source": [
        "We can not change a value in a tutple."
      ]
    },
    {
      "cell_type": "code",
      "metadata": {
        "id": "FFYzTI0VYxWK",
        "colab_type": "code",
        "outputId": "f0189e4d-eca4-47bb-efe1-2438f077fd1f",
        "colab": {
          "base_uri": "https://localhost:8080/",
          "height": 173
        }
      },
      "source": [
        "a[2] = 'last'"
      ],
      "execution_count": 21,
      "outputs": [
        {
          "output_type": "error",
          "ename": "TypeError",
          "evalue": "ignored",
          "traceback": [
            "\u001b[0;31m---------------------------------------------------------------------------\u001b[0m",
            "\u001b[0;31mTypeError\u001b[0m                                 Traceback (most recent call last)",
            "\u001b[0;32m<ipython-input-21-b895adba331c>\u001b[0m in \u001b[0;36m<module>\u001b[0;34m()\u001b[0m\n\u001b[0;32m----> 1\u001b[0;31m \u001b[0ma\u001b[0m\u001b[0;34m[\u001b[0m\u001b[0;36m2\u001b[0m\u001b[0;34m]\u001b[0m \u001b[0;34m=\u001b[0m \u001b[0;34m'last'\u001b[0m\u001b[0;34m\u001b[0m\u001b[0;34m\u001b[0m\u001b[0m\n\u001b[0m",
            "\u001b[0;31mTypeError\u001b[0m: 'tuple' object does not support item assignment"
          ]
        }
      ]
    },
    {
      "cell_type": "markdown",
      "metadata": {
        "id": "lw3Yisfrlwez",
        "colab_type": "text"
      },
      "source": [
        "Tuples are used to store data where we know it will not change. This also makes sure that we don't change the data accidently.\n",
        "\n",
        "## `in`\n",
        "\n",
        "The `in` keyword is used to check whether an element is present in a sequence or not."
      ]
    },
    {
      "cell_type": "code",
      "metadata": {
        "id": "P413tj9JpBEF",
        "colab_type": "code",
        "outputId": "45405585-1f1a-427b-8de1-49485526cb43",
        "colab": {
          "base_uri": "https://localhost:8080/",
          "height": 35
        }
      },
      "source": [
        "\"Bahawalpur\" in provinces"
      ],
      "execution_count": 22,
      "outputs": [
        {
          "output_type": "execute_result",
          "data": {
            "text/plain": [
              "False"
            ]
          },
          "metadata": {
            "tags": []
          },
          "execution_count": 22
        }
      ]
    },
    {
      "cell_type": "code",
      "metadata": {
        "id": "OgSDsbrPs3KT",
        "colab_type": "code",
        "outputId": "180a595d-ebac-4878-e8f0-8758e1643fe1",
        "colab": {
          "base_uri": "https://localhost:8080/",
          "height": 35
        }
      },
      "source": [
        "\"Multan\" not in provinces"
      ],
      "execution_count": 23,
      "outputs": [
        {
          "output_type": "execute_result",
          "data": {
            "text/plain": [
              "True"
            ]
          },
          "metadata": {
            "tags": []
          },
          "execution_count": 23
        }
      ]
    },
    {
      "cell_type": "code",
      "metadata": {
        "id": "jKJWKcp8s51w",
        "colab_type": "code",
        "outputId": "ca512197-f780-4de0-cb8d-9bde45418b9f",
        "colab": {
          "base_uri": "https://localhost:8080/",
          "height": 35
        }
      },
      "source": [
        "\"pubjab\" in provinces"
      ],
      "execution_count": 24,
      "outputs": [
        {
          "output_type": "execute_result",
          "data": {
            "text/plain": [
              "False"
            ]
          },
          "metadata": {
            "tags": []
          },
          "execution_count": 24
        }
      ]
    },
    {
      "cell_type": "code",
      "metadata": {
        "id": "OZnJvaScs898",
        "colab_type": "code",
        "outputId": "4525b80c-e4b7-4718-f439-f2db833f0cb1",
        "colab": {
          "base_uri": "https://localhost:8080/",
          "height": 35
        }
      },
      "source": [
        "'a' in a"
      ],
      "execution_count": 25,
      "outputs": [
        {
          "output_type": "execute_result",
          "data": {
            "text/plain": [
              "True"
            ]
          },
          "metadata": {
            "tags": []
          },
          "execution_count": 25
        }
      ]
    },
    {
      "cell_type": "code",
      "metadata": {
        "id": "jA0oRoO3tBm5",
        "colab_type": "code",
        "outputId": "c37df4fd-68f9-450d-b471-1672edcf8905",
        "colab": {
          "base_uri": "https://localhost:8080/",
          "height": 35
        }
      },
      "source": [
        "'at' in enigma"
      ],
      "execution_count": 26,
      "outputs": [
        {
          "output_type": "execute_result",
          "data": {
            "text/plain": [
              "True"
            ]
          },
          "metadata": {
            "tags": []
          },
          "execution_count": 26
        }
      ]
    },
    {
      "cell_type": "markdown",
      "metadata": {
        "id": "ganntMmkt5cM",
        "colab_type": "text"
      },
      "source": [
        "### Repeatition"
      ]
    },
    {
      "cell_type": "code",
      "metadata": {
        "id": "lbpOehbAtZLy",
        "colab_type": "code",
        "outputId": "aa3c2ae6-f8a5-4654-bba8-fecfa3331875",
        "colab": {
          "base_uri": "https://localhost:8080/",
          "height": 72
        }
      },
      "source": [
        "text = [\"Gaza is an open air prison. \"]\n",
        "t = [text] * 3\n",
        "t"
      ],
      "execution_count": 27,
      "outputs": [
        {
          "output_type": "execute_result",
          "data": {
            "text/plain": [
              "[['Gaza is an open air prison. '],\n",
              " ['Gaza is an open air prison. '],\n",
              " ['Gaza is an open air prison. ']]"
            ]
          },
          "metadata": {
            "tags": []
          },
          "execution_count": 27
        }
      ]
    },
    {
      "cell_type": "markdown",
      "metadata": {
        "id": "WqpiU-HYvdQO",
        "colab_type": "text"
      },
      "source": [
        "#### Caveat"
      ]
    },
    {
      "cell_type": "code",
      "metadata": {
        "id": "wXwriyCyvmzC",
        "colab_type": "code",
        "outputId": "b61f4324-0a71-494d-e2c2-d973e45dd6d2",
        "colab": {
          "base_uri": "https://localhost:8080/",
          "height": 35
        }
      },
      "source": [
        "t[0][0]"
      ],
      "execution_count": 28,
      "outputs": [
        {
          "output_type": "execute_result",
          "data": {
            "text/plain": [
              "'Gaza is an open air prison. '"
            ]
          },
          "metadata": {
            "tags": []
          },
          "execution_count": 28
        }
      ]
    },
    {
      "cell_type": "code",
      "metadata": {
        "id": "zGJtpVN4uTKq",
        "colab_type": "code",
        "outputId": "ff1d2c08-2edb-4459-e7a5-51a37bfffb60",
        "colab": {
          "base_uri": "https://localhost:8080/",
          "height": 72
        }
      },
      "source": [
        "t[0][0] = \"Yemen is an open air prison. \"\n",
        "t"
      ],
      "execution_count": 29,
      "outputs": [
        {
          "output_type": "execute_result",
          "data": {
            "text/plain": [
              "[['Yemen is an open air prison. '],\n",
              " ['Yemen is an open air prison. '],\n",
              " ['Yemen is an open air prison. ']]"
            ]
          },
          "metadata": {
            "tags": []
          },
          "execution_count": 29
        }
      ]
    },
    {
      "cell_type": "markdown",
      "metadata": {
        "id": "kvOUPl9b6Rh6",
        "colab_type": "text"
      },
      "source": [
        "## Indexing"
      ]
    },
    {
      "cell_type": "code",
      "metadata": {
        "id": "IDMdxjhC6S5H",
        "colab_type": "code",
        "colab": {
          "base_uri": "https://localhost:8080/",
          "height": 91
        },
        "outputId": "6963b76e-294c-4bde-9b10-5b9b0acd7578"
      },
      "source": [
        "#a = ['Makran',' coastal', 'highway', 'in', 'Balochistan', 'is', 'stunning']\n",
        "a = \"Lasbela and Loralai!\"\n",
        "#a = ('Makran',' coastal', 'highway', 'in', 'Balochistan', 'is', 'stunning')\n",
        "\n",
        "start = 2\n",
        "stop = 7\n",
        "print(a[start:stop])  # items start through stop-1\n",
        "print(a[start:])      # items start through the rest of the array\n",
        "print(a[:stop])       # items from the beginning through stop-1\n",
        "print(a[:])           # every item in sequence"
      ],
      "execution_count": 39,
      "outputs": [
        {
          "output_type": "stream",
          "text": [
            "sbela\n",
            "sbela and Loralai!\n",
            "Lasbela\n",
            "Lasbela and Loralai!\n"
          ],
          "name": "stdout"
        }
      ]
    },
    {
      "cell_type": "code",
      "metadata": {
        "id": "WsS-kooO6u5w",
        "colab_type": "code",
        "colab": {
          "base_uri": "https://localhost:8080/",
          "height": 72
        },
        "outputId": "1a89a3af-82bb-407c-c1e7-f96187e14e31"
      },
      "source": [
        "print(a[-1])    # last item in the sequence\n",
        "print(a[-2:])   # last two items in the sequence\n",
        "print(a[:-2])   # whole sequence"
      ],
      "execution_count": 40,
      "outputs": [
        {
          "output_type": "stream",
          "text": [
            "!\n",
            "i!\n",
            "Lasbela and Lorala\n"
          ],
          "name": "stdout"
        }
      ]
    },
    {
      "cell_type": "code",
      "metadata": {
        "id": "AgJycklx663b",
        "colab_type": "code",
        "colab": {
          "base_uri": "https://localhost:8080/",
          "height": 91
        },
        "outputId": "17544d90-7762-4c3a-b0ba-0bc2a1151f1a"
      },
      "source": [
        "print(a[::-1])    # all items in the sequence, reversed\n",
        "print(a[1::-1])   # the first two items, reversed\n",
        "print(a[:-3:-1])  # the last two items, reversed\n",
        "print(a[-3::-1])  # everything ex"
      ],
      "execution_count": 41,
      "outputs": [
        {
          "output_type": "stream",
          "text": [
            "!ialaroL dna alebsaL\n",
            "aL\n",
            "!i\n",
            "alaroL dna alebsaL\n"
          ],
          "name": "stdout"
        }
      ]
    }
  ]
}