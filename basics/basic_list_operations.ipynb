{
  "nbformat": 4,
  "nbformat_minor": 0,
  "metadata": {
    "colab": {
      "name": "Lists.ipynb",
      "provenance": [],
      "authorship_tag": "ABX9TyOkvvO4TbDSAyMC6WRYL554",
      "include_colab_link": true
    },
    "kernelspec": {
      "name": "python3",
      "display_name": "Python 3"
    }
  },
  "cells": [
    {
      "cell_type": "markdown",
      "metadata": {
        "id": "view-in-github",
        "colab_type": "text"
      },
      "source": [
        "<a href=\"https://colab.research.google.com/github/AtrCheema/python-courses/blob/master/basics/basic_list_operations.ipynb\" target=\"_parent\"><img src=\"https://colab.research.google.com/assets/colab-badge.svg\" alt=\"Open In Colab\"/></a>"
      ]
    },
    {
      "cell_type": "markdown",
      "metadata": {
        "id": "3wYNCAsUl8Vn",
        "colab_type": "text"
      },
      "source": [
        "### append"
      ]
    },
    {
      "cell_type": "code",
      "metadata": {
        "id": "u593d9fYkiK9",
        "colab_type": "code",
        "outputId": "847897a6-3770-4b1f-9d49-3fac17a50c7e",
        "colab": {
          "base_uri": "https://localhost:8080/",
          "height": 35
        }
      },
      "source": [
        "imperialists = ['Bush', 'Obama', 'Trump', 'Zuckerberg', 'Bezos', 'coca cola']\n",
        "imperialists"
      ],
      "execution_count": 1,
      "outputs": [
        {
          "output_type": "execute_result",
          "data": {
            "text/plain": [
              "['Bush', 'Obama', 'Trump', 'Zuckerberg', 'Bezos', 'coca cola']"
            ]
          },
          "metadata": {
            "tags": []
          },
          "execution_count": 1
        }
      ]
    },
    {
      "cell_type": "code",
      "metadata": {
        "id": "-Rs4DjLYm6OJ",
        "colab_type": "code",
        "outputId": "ca103e16-5d79-467b-bd8e-9b2f1a5745e2",
        "colab": {
          "base_uri": "https://localhost:8080/",
          "height": 35
        }
      },
      "source": [
        "imperialists.append('clinton')\n",
        "imperialists"
      ],
      "execution_count": 2,
      "outputs": [
        {
          "output_type": "execute_result",
          "data": {
            "text/plain": [
              "['Bush', 'Obama', 'Trump', 'Zuckerberg', 'Bezos', 'coca cola', 'clinton']"
            ]
          },
          "metadata": {
            "tags": []
          },
          "execution_count": 2
        }
      ]
    },
    {
      "cell_type": "markdown",
      "metadata": {
        "id": "SUPhqPJjok-5",
        "colab_type": "text"
      },
      "source": [
        "`append` changes the original list and it itself returns `None`."
      ]
    },
    {
      "cell_type": "code",
      "metadata": {
        "id": "yGA-tgcLobPw",
        "colab_type": "code",
        "outputId": "70a1cadc-721a-4479-e8d0-37b7a9ff579e",
        "colab": {
          "base_uri": "https://localhost:8080/",
          "height": 35
        }
      },
      "source": [
        "new_imperialists = imperialists.append('netanyahu')\n",
        "print(new_imperialists)"
      ],
      "execution_count": 3,
      "outputs": [
        {
          "output_type": "stream",
          "text": [
            "None\n"
          ],
          "name": "stdout"
        }
      ]
    },
    {
      "cell_type": "code",
      "metadata": {
        "id": "-GzVhuK0o3oN",
        "colab_type": "code",
        "outputId": "a432b6f4-ce88-462f-cea7-dabd44aac7e3",
        "colab": {
          "base_uri": "https://localhost:8080/",
          "height": 165
        }
      },
      "source": [
        "imperialists"
      ],
      "execution_count": 4,
      "outputs": [
        {
          "output_type": "execute_result",
          "data": {
            "text/plain": [
              "['Bush',\n",
              " 'Obama',\n",
              " 'Trump',\n",
              " 'Zuckerberg',\n",
              " 'Bezos',\n",
              " 'coca cola',\n",
              " 'clinton',\n",
              " 'netanyahu']"
            ]
          },
          "metadata": {
            "tags": []
          },
          "execution_count": 4
        }
      ]
    },
    {
      "cell_type": "markdown",
      "metadata": {
        "id": "08-LAi0qpAmV",
        "colab_type": "text"
      },
      "source": [
        "If we add a similar but new element in list, then the list will have 2 such elements as its member."
      ]
    },
    {
      "cell_type": "code",
      "metadata": {
        "id": "c55loWpMo7sT",
        "colab_type": "code",
        "outputId": "6f789fae-fb2b-4e33-cb43-1baeed326e0d",
        "colab": {
          "base_uri": "https://localhost:8080/",
          "height": 183
        }
      },
      "source": [
        "imperialists.append('netanyahu')\n",
        "imperialists"
      ],
      "execution_count": 5,
      "outputs": [
        {
          "output_type": "execute_result",
          "data": {
            "text/plain": [
              "['Bush',\n",
              " 'Obama',\n",
              " 'Trump',\n",
              " 'Zuckerberg',\n",
              " 'Bezos',\n",
              " 'coca cola',\n",
              " 'clinton',\n",
              " 'netanyahu',\n",
              " 'netanyahu']"
            ]
          },
          "metadata": {
            "tags": []
          },
          "execution_count": 5
        }
      ]
    },
    {
      "cell_type": "markdown",
      "metadata": {
        "id": "Q8u60OAnpanF",
        "colab_type": "text"
      },
      "source": [
        "## pop"
      ]
    },
    {
      "cell_type": "code",
      "metadata": {
        "id": "c4Ir-0K4pPNa",
        "colab_type": "code",
        "outputId": "74dd687a-134a-4477-800c-2941b8cd5c5c",
        "colab": {
          "base_uri": "https://localhost:8080/",
          "height": 165
        }
      },
      "source": [
        "last_element = imperialists.pop(-1)\n",
        "imperialists"
      ],
      "execution_count": 6,
      "outputs": [
        {
          "output_type": "execute_result",
          "data": {
            "text/plain": [
              "['Bush',\n",
              " 'Obama',\n",
              " 'Trump',\n",
              " 'Zuckerberg',\n",
              " 'Bezos',\n",
              " 'coca cola',\n",
              " 'clinton',\n",
              " 'netanyahu']"
            ]
          },
          "metadata": {
            "tags": []
          },
          "execution_count": 6
        }
      ]
    },
    {
      "cell_type": "code",
      "metadata": {
        "id": "G2OjxVm-pw3R",
        "colab_type": "code",
        "outputId": "210a0095-8d1e-4a9d-e9eb-2c3a2e7be527",
        "colab": {
          "base_uri": "https://localhost:8080/",
          "height": 35
        }
      },
      "source": [
        "last_element"
      ],
      "execution_count": 7,
      "outputs": [
        {
          "output_type": "execute_result",
          "data": {
            "text/plain": [
              "'netanyahu'"
            ]
          },
          "metadata": {
            "tags": []
          },
          "execution_count": 7
        }
      ]
    },
    {
      "cell_type": "code",
      "metadata": {
        "id": "fd3bBam0pzZw",
        "colab_type": "code",
        "outputId": "6a460844-6c03-4773-a603-686b75308848",
        "colab": {
          "base_uri": "https://localhost:8080/",
          "height": 173
        }
      },
      "source": [
        "imperialists.pop(8)"
      ],
      "execution_count": 8,
      "outputs": [
        {
          "output_type": "error",
          "ename": "IndexError",
          "evalue": "ignored",
          "traceback": [
            "\u001b[0;31m---------------------------------------------------------------------------\u001b[0m",
            "\u001b[0;31mIndexError\u001b[0m                                Traceback (most recent call last)",
            "\u001b[0;32m<ipython-input-8-5e834b842e0c>\u001b[0m in \u001b[0;36m<module>\u001b[0;34m()\u001b[0m\n\u001b[0;32m----> 1\u001b[0;31m \u001b[0mimperialists\u001b[0m\u001b[0;34m.\u001b[0m\u001b[0mpop\u001b[0m\u001b[0;34m(\u001b[0m\u001b[0;36m8\u001b[0m\u001b[0;34m)\u001b[0m\u001b[0;34m\u001b[0m\u001b[0;34m\u001b[0m\u001b[0m\n\u001b[0m",
            "\u001b[0;31mIndexError\u001b[0m: pop index out of range"
          ]
        }
      ]
    },
    {
      "cell_type": "code",
      "metadata": {
        "id": "-Lm4i1TyqIfr",
        "colab_type": "code",
        "outputId": "794c363f-771a-463c-a8e7-84f0a0efe615",
        "colab": {
          "base_uri": "https://localhost:8080/",
          "height": 35
        }
      },
      "source": [
        "imperialists.pop()"
      ],
      "execution_count": 9,
      "outputs": [
        {
          "output_type": "execute_result",
          "data": {
            "text/plain": [
              "'netanyahu'"
            ]
          },
          "metadata": {
            "tags": []
          },
          "execution_count": 9
        }
      ]
    },
    {
      "cell_type": "code",
      "metadata": {
        "id": "6W4bVDVyqSqM",
        "colab_type": "code",
        "outputId": "03bbb320-da11-4b1c-a15a-2a156d41a4b2",
        "colab": {
          "base_uri": "https://localhost:8080/",
          "height": 35
        }
      },
      "source": [
        "imperialists"
      ],
      "execution_count": 10,
      "outputs": [
        {
          "output_type": "execute_result",
          "data": {
            "text/plain": [
              "['Bush', 'Obama', 'Trump', 'Zuckerberg', 'Bezos', 'coca cola', 'clinton']"
            ]
          },
          "metadata": {
            "tags": []
          },
          "execution_count": 10
        }
      ]
    },
    {
      "cell_type": "code",
      "metadata": {
        "id": "Vzf4IlRxqU_R",
        "colab_type": "code",
        "outputId": "c541fe0a-87cc-44ee-fa3d-209974bb7253",
        "colab": {
          "base_uri": "https://localhost:8080/",
          "height": 173
        }
      },
      "source": [
        "imperialists.pop('Bush')"
      ],
      "execution_count": 11,
      "outputs": [
        {
          "output_type": "error",
          "ename": "TypeError",
          "evalue": "ignored",
          "traceback": [
            "\u001b[0;31m---------------------------------------------------------------------------\u001b[0m",
            "\u001b[0;31mTypeError\u001b[0m                                 Traceback (most recent call last)",
            "\u001b[0;32m<ipython-input-11-9db7d7da3203>\u001b[0m in \u001b[0;36m<module>\u001b[0;34m()\u001b[0m\n\u001b[0;32m----> 1\u001b[0;31m \u001b[0mimperialists\u001b[0m\u001b[0;34m.\u001b[0m\u001b[0mpop\u001b[0m\u001b[0;34m(\u001b[0m\u001b[0;34m'Bush'\u001b[0m\u001b[0;34m)\u001b[0m\u001b[0;34m\u001b[0m\u001b[0;34m\u001b[0m\u001b[0m\n\u001b[0m",
            "\u001b[0;31mTypeError\u001b[0m: 'str' object cannot be interpreted as an integer"
          ]
        }
      ]
    },
    {
      "cell_type": "markdown",
      "metadata": {
        "id": "s7_3anN3q0LX",
        "colab_type": "text"
      },
      "source": [
        "## Extend\n",
        "\n",
        "If we want to add multiple elements to a list, using `append` will put a new list in the previous list"
      ]
    },
    {
      "cell_type": "code",
      "metadata": {
        "id": "ZQe5DG0QqX24",
        "colab_type": "code",
        "outputId": "44299ff7-bff4-42f9-fefe-8cc2979a7f75",
        "colab": {
          "base_uri": "https://localhost:8080/",
          "height": 165
        }
      },
      "source": [
        "imperialists = ['Bush', 'Obama', 'Trump', 'Zuckerberg', 'Bezos', 'coca cola', 'clinton']\n",
        "uk_imperialists = ['churchil', 'Tony Blair', 'BBC']\n",
        "imperialists.append(uk_imperialists)\n",
        "imperialists"
      ],
      "execution_count": 12,
      "outputs": [
        {
          "output_type": "execute_result",
          "data": {
            "text/plain": [
              "['Bush',\n",
              " 'Obama',\n",
              " 'Trump',\n",
              " 'Zuckerberg',\n",
              " 'Bezos',\n",
              " 'coca cola',\n",
              " 'clinton',\n",
              " ['churchil', 'Tony Blair', 'BBC']]"
            ]
          },
          "metadata": {
            "tags": []
          },
          "execution_count": 12
        }
      ]
    },
    {
      "cell_type": "code",
      "metadata": {
        "id": "ZWEajpferS2v",
        "colab_type": "code",
        "outputId": "b70daeeb-4f10-4519-d5ab-37f1227041cd",
        "colab": {
          "base_uri": "https://localhost:8080/",
          "height": 202
        }
      },
      "source": [
        "imperialists = ['Bush', 'Obama', 'Trump', 'Zuckerberg', 'Bezos', 'coca cola', 'clinton']\n",
        "imperialists.extend(uk_imperialists)\n",
        "imperialists"
      ],
      "execution_count": 13,
      "outputs": [
        {
          "output_type": "execute_result",
          "data": {
            "text/plain": [
              "['Bush',\n",
              " 'Obama',\n",
              " 'Trump',\n",
              " 'Zuckerberg',\n",
              " 'Bezos',\n",
              " 'coca cola',\n",
              " 'clinton',\n",
              " 'churchil',\n",
              " 'Tony Blair',\n",
              " 'BBC']"
            ]
          },
          "metadata": {
            "tags": []
          },
          "execution_count": 13
        }
      ]
    },
    {
      "cell_type": "markdown",
      "metadata": {
        "id": "R7HFegcDsBRX",
        "colab_type": "text"
      },
      "source": [
        "`extend` actually takes any sequence as input. It must not be a list. It can be a string or tuple."
      ]
    },
    {
      "cell_type": "code",
      "metadata": {
        "id": "uBRkI4yDrqpX",
        "colab_type": "code",
        "outputId": "a4886e85-8c3c-482e-e071-b28992df4e9a",
        "colab": {
          "base_uri": "https://localhost:8080/",
          "height": 331
        }
      },
      "source": [
        "new_one = \"Murdoch\"\n",
        "imperialists.extend(new_one)\n",
        "imperialists"
      ],
      "execution_count": 14,
      "outputs": [
        {
          "output_type": "execute_result",
          "data": {
            "text/plain": [
              "['Bush',\n",
              " 'Obama',\n",
              " 'Trump',\n",
              " 'Zuckerberg',\n",
              " 'Bezos',\n",
              " 'coca cola',\n",
              " 'clinton',\n",
              " 'churchil',\n",
              " 'Tony Blair',\n",
              " 'BBC',\n",
              " 'M',\n",
              " 'u',\n",
              " 'r',\n",
              " 'd',\n",
              " 'o',\n",
              " 'c',\n",
              " 'h']"
            ]
          },
          "metadata": {
            "tags": []
          },
          "execution_count": 14
        }
      ]
    },
    {
      "cell_type": "code",
      "metadata": {
        "id": "scazwuihr8h8",
        "colab_type": "code",
        "outputId": "012212d6-01ad-456b-94aa-ce2a8a28569f",
        "colab": {
          "base_uri": "https://localhost:8080/",
          "height": 35
        }
      },
      "source": [
        "imperialists = ['Bush', 'Obama', 'Trump', 'clinton']\n",
        "capitalists = ('Zuckerberg', 'Bezos', 'coca cola')\n",
        "imperialists.extend(capitalists)\n",
        "imperialists"
      ],
      "execution_count": 15,
      "outputs": [
        {
          "output_type": "execute_result",
          "data": {
            "text/plain": [
              "['Bush', 'Obama', 'Trump', 'clinton', 'Zuckerberg', 'Bezos', 'coca cola']"
            ]
          },
          "metadata": {
            "tags": []
          },
          "execution_count": 15
        }
      ]
    },
    {
      "cell_type": "markdown",
      "metadata": {
        "id": "We_tqj8qtEPr",
        "colab_type": "text"
      },
      "source": [
        "## using `+` operator\n",
        "\n",
        "We can also append lists using the `+` operator."
      ]
    },
    {
      "cell_type": "code",
      "metadata": {
        "id": "qV9wO3kVsWCh",
        "colab_type": "code",
        "outputId": "5df71252-f109-4bd1-df7a-f4631f43766b",
        "colab": {
          "base_uri": "https://localhost:8080/",
          "height": 220
        }
      },
      "source": [
        "media_houses = ['bbc', 'cnn', 'reuters', 'springer']\n",
        "imperialists + media_houses"
      ],
      "execution_count": 16,
      "outputs": [
        {
          "output_type": "execute_result",
          "data": {
            "text/plain": [
              "['Bush',\n",
              " 'Obama',\n",
              " 'Trump',\n",
              " 'clinton',\n",
              " 'Zuckerberg',\n",
              " 'Bezos',\n",
              " 'coca cola',\n",
              " 'bbc',\n",
              " 'cnn',\n",
              " 'reuters',\n",
              " 'springer']"
            ]
          },
          "metadata": {
            "tags": []
          },
          "execution_count": 16
        }
      ]
    },
    {
      "cell_type": "code",
      "metadata": {
        "id": "e--tQZdctgGU",
        "colab_type": "code",
        "outputId": "488a8a40-6ad4-4efc-c938-8673943f1ec3",
        "colab": {
          "base_uri": "https://localhost:8080/",
          "height": 35
        }
      },
      "source": [
        "imperialists"
      ],
      "execution_count": 17,
      "outputs": [
        {
          "output_type": "execute_result",
          "data": {
            "text/plain": [
              "['Bush', 'Obama', 'Trump', 'clinton', 'Zuckerberg', 'Bezos', 'coca cola']"
            ]
          },
          "metadata": {
            "tags": []
          },
          "execution_count": 17
        }
      ]
    },
    {
      "cell_type": "code",
      "metadata": {
        "id": "0keZudtMtiLy",
        "colab_type": "code",
        "outputId": "5d8366fd-5c87-4db9-8932-e2b113a640e4",
        "colab": {
          "base_uri": "https://localhost:8080/",
          "height": 220
        }
      },
      "source": [
        "imperialists = imperialists + media_houses\n",
        "imperialists"
      ],
      "execution_count": 18,
      "outputs": [
        {
          "output_type": "execute_result",
          "data": {
            "text/plain": [
              "['Bush',\n",
              " 'Obama',\n",
              " 'Trump',\n",
              " 'clinton',\n",
              " 'Zuckerberg',\n",
              " 'Bezos',\n",
              " 'coca cola',\n",
              " 'bbc',\n",
              " 'cnn',\n",
              " 'reuters',\n",
              " 'springer']"
            ]
          },
          "metadata": {
            "tags": []
          },
          "execution_count": 18
        }
      ]
    },
    {
      "cell_type": "code",
      "metadata": {
        "id": "kzMvlbI9twT5",
        "colab_type": "code",
        "outputId": "2b1722c1-8dc7-436a-8969-a4eca1c2b0c8",
        "colab": {
          "base_uri": "https://localhost:8080/",
          "height": 294
        }
      },
      "source": [
        "morons = ['sam haris', 'richard dawkins', 'baghdadi', 'bin ladan']\n",
        "imperialists += morons\n",
        "imperialists"
      ],
      "execution_count": 19,
      "outputs": [
        {
          "output_type": "execute_result",
          "data": {
            "text/plain": [
              "['Bush',\n",
              " 'Obama',\n",
              " 'Trump',\n",
              " 'clinton',\n",
              " 'Zuckerberg',\n",
              " 'Bezos',\n",
              " 'coca cola',\n",
              " 'bbc',\n",
              " 'cnn',\n",
              " 'reuters',\n",
              " 'springer',\n",
              " 'sam haris',\n",
              " 'richard dawkins',\n",
              " 'baghdadi',\n",
              " 'bin ladan']"
            ]
          },
          "metadata": {
            "tags": []
          },
          "execution_count": 19
        }
      ]
    },
    {
      "cell_type": "markdown",
      "metadata": {
        "id": "p9t66JyKvAID",
        "colab_type": "text"
      },
      "source": [
        "## remove"
      ]
    },
    {
      "cell_type": "code",
      "metadata": {
        "id": "XyFhCc57urXN",
        "colab_type": "code",
        "outputId": "7b70f444-db42-473e-c493-a15b13bfff2e",
        "colab": {
          "base_uri": "https://localhost:8080/",
          "height": 276
        }
      },
      "source": [
        "imperialists.remove('springer')\n",
        "imperialists"
      ],
      "execution_count": 20,
      "outputs": [
        {
          "output_type": "execute_result",
          "data": {
            "text/plain": [
              "['Bush',\n",
              " 'Obama',\n",
              " 'Trump',\n",
              " 'clinton',\n",
              " 'Zuckerberg',\n",
              " 'Bezos',\n",
              " 'coca cola',\n",
              " 'bbc',\n",
              " 'cnn',\n",
              " 'reuters',\n",
              " 'sam haris',\n",
              " 'richard dawkins',\n",
              " 'baghdadi',\n",
              " 'bin ladan']"
            ]
          },
          "metadata": {
            "tags": []
          },
          "execution_count": 20
        }
      ]
    },
    {
      "cell_type": "markdown",
      "metadata": {
        "id": "J5wDBLPzvv83",
        "colab_type": "text"
      },
      "source": [
        "If we repeat the above operation, it will result in error because `springer` has already been removed from the list `imperialists`."
      ]
    },
    {
      "cell_type": "code",
      "metadata": {
        "id": "4r5UIVGpvUkf",
        "colab_type": "code",
        "outputId": "57e4d07b-69b0-48ee-aece-d0fd1cdd8ed1",
        "colab": {
          "base_uri": "https://localhost:8080/",
          "height": 191
        }
      },
      "source": [
        "imperialists.remove('springer')\n",
        "imperialists"
      ],
      "execution_count": 21,
      "outputs": [
        {
          "output_type": "error",
          "ename": "ValueError",
          "evalue": "ignored",
          "traceback": [
            "\u001b[0;31m---------------------------------------------------------------------------\u001b[0m",
            "\u001b[0;31mValueError\u001b[0m                                Traceback (most recent call last)",
            "\u001b[0;32m<ipython-input-21-eac091273ca8>\u001b[0m in \u001b[0;36m<module>\u001b[0;34m()\u001b[0m\n\u001b[0;32m----> 1\u001b[0;31m \u001b[0mimperialists\u001b[0m\u001b[0;34m.\u001b[0m\u001b[0mremove\u001b[0m\u001b[0;34m(\u001b[0m\u001b[0;34m'springer'\u001b[0m\u001b[0;34m)\u001b[0m\u001b[0;34m\u001b[0m\u001b[0;34m\u001b[0m\u001b[0m\n\u001b[0m\u001b[1;32m      2\u001b[0m \u001b[0mimperialists\u001b[0m\u001b[0;34m\u001b[0m\u001b[0;34m\u001b[0m\u001b[0m\n",
            "\u001b[0;31mValueError\u001b[0m: list.remove(x): x not in list"
          ]
        }
      ]
    },
    {
      "cell_type": "markdown",
      "metadata": {
        "id": "Rz23haEvw38_",
        "colab_type": "text"
      },
      "source": [
        "## insert\n",
        "\n",
        "puts an the value before the index"
      ]
    },
    {
      "cell_type": "code",
      "metadata": {
        "id": "sFabEctqwh8Z",
        "colab_type": "code",
        "outputId": "ba688cc2-0bc0-42e4-a655-ac2e5a1cd410",
        "colab": {
          "base_uri": "https://localhost:8080/",
          "height": 312
        }
      },
      "source": [
        "imperialists.insert(-1, 'DW')\n",
        "imperialists"
      ],
      "execution_count": 23,
      "outputs": [
        {
          "output_type": "execute_result",
          "data": {
            "text/plain": [
              "['Bush',\n",
              " 'Obama',\n",
              " 'Trump',\n",
              " 'clinton',\n",
              " 'Zuckerberg',\n",
              " 'Bezos',\n",
              " 'coca cola',\n",
              " 'bbc',\n",
              " 'cnn',\n",
              " 'reuters',\n",
              " 'sam haris',\n",
              " 'richard dawkins',\n",
              " 'baghdadi',\n",
              " 'DW',\n",
              " 'DW',\n",
              " 'bin ladan']"
            ]
          },
          "metadata": {
            "tags": []
          },
          "execution_count": 23
        }
      ]
    },
    {
      "cell_type": "markdown",
      "metadata": {
        "id": "QCy2Y-8ZwBwY",
        "colab_type": "text"
      },
      "source": [
        "## Finding position/index of a member of a list"
      ]
    },
    {
      "cell_type": "code",
      "metadata": {
        "id": "4FhL7EKOvqKU",
        "colab_type": "code",
        "outputId": "b6a8a265-a59e-4b3a-e1c5-1558c086582a",
        "colab": {
          "base_uri": "https://localhost:8080/",
          "height": 35
        }
      },
      "source": [
        "imperialists.index('bbc')"
      ],
      "execution_count": 24,
      "outputs": [
        {
          "output_type": "execute_result",
          "data": {
            "text/plain": [
              "7"
            ]
          },
          "metadata": {
            "tags": []
          },
          "execution_count": 24
        }
      ]
    },
    {
      "cell_type": "code",
      "metadata": {
        "id": "pJ6oKn_fwOJj",
        "colab_type": "code",
        "outputId": "aef5d920-65aa-45bf-ec97-36e25cc42508",
        "colab": {
          "base_uri": "https://localhost:8080/",
          "height": 173
        }
      },
      "source": [
        "imperialists.index('bbc', 8)"
      ],
      "execution_count": 25,
      "outputs": [
        {
          "output_type": "error",
          "ename": "ValueError",
          "evalue": "ignored",
          "traceback": [
            "\u001b[0;31m---------------------------------------------------------------------------\u001b[0m",
            "\u001b[0;31mValueError\u001b[0m                                Traceback (most recent call last)",
            "\u001b[0;32m<ipython-input-25-5f76feb78c8b>\u001b[0m in \u001b[0;36m<module>\u001b[0;34m()\u001b[0m\n\u001b[0;32m----> 1\u001b[0;31m \u001b[0mimperialists\u001b[0m\u001b[0;34m.\u001b[0m\u001b[0mindex\u001b[0m\u001b[0;34m(\u001b[0m\u001b[0;34m'bbc'\u001b[0m\u001b[0;34m,\u001b[0m \u001b[0;36m8\u001b[0m\u001b[0;34m)\u001b[0m\u001b[0;34m\u001b[0m\u001b[0;34m\u001b[0m\u001b[0m\n\u001b[0m",
            "\u001b[0;31mValueError\u001b[0m: 'bbc' is not in list"
          ]
        }
      ]
    },
    {
      "cell_type": "code",
      "metadata": {
        "id": "HyvJIASawc8K",
        "colab_type": "code",
        "outputId": "7ce31f08-0361-4e72-d1cf-da3345e1146b",
        "colab": {
          "base_uri": "https://localhost:8080/",
          "height": 173
        }
      },
      "source": [
        "imperialists.index('bbc', 3, 6)"
      ],
      "execution_count": 26,
      "outputs": [
        {
          "output_type": "error",
          "ename": "ValueError",
          "evalue": "ignored",
          "traceback": [
            "\u001b[0;31m---------------------------------------------------------------------------\u001b[0m",
            "\u001b[0;31mValueError\u001b[0m                                Traceback (most recent call last)",
            "\u001b[0;32m<ipython-input-26-436d1852a3c4>\u001b[0m in \u001b[0;36m<module>\u001b[0;34m()\u001b[0m\n\u001b[0;32m----> 1\u001b[0;31m \u001b[0mimperialists\u001b[0m\u001b[0;34m.\u001b[0m\u001b[0mindex\u001b[0m\u001b[0;34m(\u001b[0m\u001b[0;34m'bbc'\u001b[0m\u001b[0;34m,\u001b[0m \u001b[0;36m3\u001b[0m\u001b[0;34m,\u001b[0m \u001b[0;36m6\u001b[0m\u001b[0;34m)\u001b[0m\u001b[0;34m\u001b[0m\u001b[0;34m\u001b[0m\u001b[0m\n\u001b[0m",
            "\u001b[0;31mValueError\u001b[0m: 'bbc' is not in list"
          ]
        }
      ]
    },
    {
      "cell_type": "markdown",
      "metadata": {
        "id": "bkah2D3O0G6V",
        "colab_type": "text"
      },
      "source": [
        "if an element is present in a list twice, index of its first position is returned."
      ]
    },
    {
      "cell_type": "code",
      "metadata": {
        "id": "p4XT82PLzh4e",
        "colab_type": "code",
        "outputId": "c6ae8a22-17a7-45eb-bbb6-36b8512b0751",
        "colab": {
          "base_uri": "https://localhost:8080/",
          "height": 331
        }
      },
      "source": [
        "last_value = imperialists[-1]\n",
        "imperialists.insert(2, last_value)\n",
        "imperialists"
      ],
      "execution_count": 27,
      "outputs": [
        {
          "output_type": "execute_result",
          "data": {
            "text/plain": [
              "['Bush',\n",
              " 'Obama',\n",
              " 'bin ladan',\n",
              " 'Trump',\n",
              " 'clinton',\n",
              " 'Zuckerberg',\n",
              " 'Bezos',\n",
              " 'coca cola',\n",
              " 'bbc',\n",
              " 'cnn',\n",
              " 'reuters',\n",
              " 'sam haris',\n",
              " 'richard dawkins',\n",
              " 'baghdadi',\n",
              " 'DW',\n",
              " 'DW',\n",
              " 'bin ladan']"
            ]
          },
          "metadata": {
            "tags": []
          },
          "execution_count": 27
        }
      ]
    },
    {
      "cell_type": "code",
      "metadata": {
        "id": "Y0lZnCtq0Rtz",
        "colab_type": "code",
        "outputId": "1c0a57bc-c13d-4144-ae45-55bf1878875e",
        "colab": {
          "base_uri": "https://localhost:8080/",
          "height": 35
        }
      },
      "source": [
        "imperialists.index(last_value)"
      ],
      "execution_count": 28,
      "outputs": [
        {
          "output_type": "execute_result",
          "data": {
            "text/plain": [
              "2"
            ]
          },
          "metadata": {
            "tags": []
          },
          "execution_count": 28
        }
      ]
    },
    {
      "cell_type": "markdown",
      "metadata": {
        "id": "smgpEOW5x74M",
        "colab_type": "text"
      },
      "source": [
        "## Reverse"
      ]
    },
    {
      "cell_type": "code",
      "metadata": {
        "id": "yeu84S_O1gF6",
        "colab_type": "code",
        "colab": {}
      },
      "source": [
        "imperialists = ['bbc', 'cnn', 'reuters', 'springer', 'voa']\n",
        "imperialists.reverse()"
      ],
      "execution_count": 0,
      "outputs": []
    },
    {
      "cell_type": "markdown",
      "metadata": {
        "id": "OXS0hG_q19vF",
        "colab_type": "text"
      },
      "source": [
        "The function does not return anything itself but the original list is reversed."
      ]
    },
    {
      "cell_type": "code",
      "metadata": {
        "id": "chOi4BCx1yjB",
        "colab_type": "code",
        "outputId": "b4696260-7067-48b0-d4fc-ff706f1cad28",
        "colab": {
          "base_uri": "https://localhost:8080/",
          "height": 35
        }
      },
      "source": [
        "imperialists"
      ],
      "execution_count": 30,
      "outputs": [
        {
          "output_type": "execute_result",
          "data": {
            "text/plain": [
              "['voa', 'springer', 'reuters', 'cnn', 'bbc']"
            ]
          },
          "metadata": {
            "tags": []
          },
          "execution_count": 30
        }
      ]
    },
    {
      "cell_type": "markdown",
      "metadata": {
        "id": "4bfKg073x_MM",
        "colab_type": "text"
      },
      "source": [
        "## sort"
      ]
    },
    {
      "cell_type": "code",
      "metadata": {
        "id": "3EwtXYBixbhC",
        "colab_type": "code",
        "outputId": "c2bf28a3-5546-4d0c-859d-0c472f0c6adc",
        "colab": {
          "base_uri": "https://localhost:8080/",
          "height": 35
        }
      },
      "source": [
        "imperialists"
      ],
      "execution_count": 31,
      "outputs": [
        {
          "output_type": "execute_result",
          "data": {
            "text/plain": [
              "['voa', 'springer', 'reuters', 'cnn', 'bbc']"
            ]
          },
          "metadata": {
            "tags": []
          },
          "execution_count": 31
        }
      ]
    },
    {
      "cell_type": "code",
      "metadata": {
        "id": "r5-6zbQCxz9F",
        "colab_type": "code",
        "colab": {}
      },
      "source": [
        "imperialists.sort()"
      ],
      "execution_count": 0,
      "outputs": []
    },
    {
      "cell_type": "code",
      "metadata": {
        "id": "LPBrR42t268f",
        "colab_type": "code",
        "outputId": "b632a549-8cfb-4960-ed20-ae6e3bb6f85f",
        "colab": {
          "base_uri": "https://localhost:8080/",
          "height": 35
        }
      },
      "source": [
        "imperialists"
      ],
      "execution_count": 33,
      "outputs": [
        {
          "output_type": "execute_result",
          "data": {
            "text/plain": [
              "['bbc', 'cnn', 'reuters', 'springer', 'voa']"
            ]
          },
          "metadata": {
            "tags": []
          },
          "execution_count": 33
        }
      ]
    },
    {
      "cell_type": "code",
      "metadata": {
        "id": "zRn5VHxf28YU",
        "colab_type": "code",
        "outputId": "b456c748-aa92-4db8-e7bd-c9311e0c7727",
        "colab": {
          "base_uri": "https://localhost:8080/",
          "height": 35
        }
      },
      "source": [
        "imperialists.sort(reverse=True)\n",
        "imperialists"
      ],
      "execution_count": 34,
      "outputs": [
        {
          "output_type": "execute_result",
          "data": {
            "text/plain": [
              "['voa', 'springer', 'reuters', 'cnn', 'bbc']"
            ]
          },
          "metadata": {
            "tags": []
          },
          "execution_count": 34
        }
      ]
    },
    {
      "cell_type": "code",
      "metadata": {
        "id": "VkL119TG3Rpe",
        "colab_type": "code",
        "outputId": "714ad461-ca88-4b0d-e7e9-94d50225352c",
        "colab": {
          "base_uri": "https://localhost:8080/",
          "height": 35
        }
      },
      "source": [
        "numbers = [4,3,6,2]\n",
        "numbers.sort()\n",
        "numbers"
      ],
      "execution_count": 35,
      "outputs": [
        {
          "output_type": "execute_result",
          "data": {
            "text/plain": [
              "[2, 3, 4, 6]"
            ]
          },
          "metadata": {
            "tags": []
          },
          "execution_count": 35
        }
      ]
    },
    {
      "cell_type": "code",
      "metadata": {
        "id": "RMipKxLC3A2y",
        "colab_type": "code",
        "outputId": "b718cd0b-8260-4760-bfcf-34f2202bbc8f",
        "colab": {
          "base_uri": "https://localhost:8080/",
          "height": 191
        }
      },
      "source": [
        "imperialists = ['bbc', 1, 'cnn', 3, 'voa', 2]\n",
        "imperialists.sort()"
      ],
      "execution_count": 36,
      "outputs": [
        {
          "output_type": "error",
          "ename": "TypeError",
          "evalue": "ignored",
          "traceback": [
            "\u001b[0;31m---------------------------------------------------------------------------\u001b[0m",
            "\u001b[0;31mTypeError\u001b[0m                                 Traceback (most recent call last)",
            "\u001b[0;32m<ipython-input-36-55ee0a8d5cea>\u001b[0m in \u001b[0;36m<module>\u001b[0;34m()\u001b[0m\n\u001b[1;32m      1\u001b[0m \u001b[0mimperialists\u001b[0m \u001b[0;34m=\u001b[0m \u001b[0;34m[\u001b[0m\u001b[0;34m'bbc'\u001b[0m\u001b[0;34m,\u001b[0m \u001b[0;36m1\u001b[0m\u001b[0;34m,\u001b[0m \u001b[0;34m'cnn'\u001b[0m\u001b[0;34m,\u001b[0m \u001b[0;36m3\u001b[0m\u001b[0;34m,\u001b[0m \u001b[0;34m'voa'\u001b[0m\u001b[0;34m,\u001b[0m \u001b[0;36m2\u001b[0m\u001b[0;34m]\u001b[0m\u001b[0;34m\u001b[0m\u001b[0;34m\u001b[0m\u001b[0m\n\u001b[0;32m----> 2\u001b[0;31m \u001b[0mimperialists\u001b[0m\u001b[0;34m.\u001b[0m\u001b[0msort\u001b[0m\u001b[0;34m(\u001b[0m\u001b[0;34m)\u001b[0m\u001b[0;34m\u001b[0m\u001b[0;34m\u001b[0m\u001b[0m\n\u001b[0m",
            "\u001b[0;31mTypeError\u001b[0m: '<' not supported between instances of 'int' and 'str'"
          ]
        }
      ]
    },
    {
      "cell_type": "markdown",
      "metadata": {
        "id": "Tg2V6-aj3cmD",
        "colab_type": "text"
      },
      "source": [
        "## Notes\n",
        "I have been using the word function for `append`, `sort` etc, however in Object Oriented Programming, it can be seen that they are actually called `methods`.\n",
        "\n",
        "There are a lot more much powerful list manipulations which can be done by combining conditional and looping statements. We will come back to them once looping and conditioning statements are covered."
      ]
    }
  ]
}