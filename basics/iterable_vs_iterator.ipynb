{
  "nbformat": 4,
  "nbformat_minor": 0,
  "metadata": {
    "colab": {
      "name": "iterable_vs_iterator.ipynb",
      "provenance": [],
      "collapsed_sections": [],
      "include_colab_link": true
    },
    "kernelspec": {
      "name": "python3",
      "display_name": "Python 3"
    }
  },
  "cells": [
    {
      "cell_type": "markdown",
      "metadata": {
        "id": "view-in-github",
        "colab_type": "text"
      },
      "source": [
        "<a href=\"https://colab.research.google.com/github/AtrCheema/python-courses/blob/master/basics/iterable_vs_iterator.ipynb\" target=\"_parent\"><img src=\"https://colab.research.google.com/assets/colab-badge.svg\" alt=\"Open In Colab\"/></a>"
      ]
    },
    {
      "cell_type": "markdown",
      "metadata": {
        "id": "XYaKYxp1IX7e",
        "colab_type": "text"
      },
      "source": [
        "An `iterable` is any object which can be looped over. An \n",
        "`iterable` can be turned into `iterator` after applying `iter` function on it. An `iterator` is an object upon which `next` method can be applied. (Note: This is not a complete definition but without OOP, I suppose this will work)"
      ]
    },
    {
      "cell_type": "code",
      "metadata": {
        "id": "XfvTcoUJNweU",
        "colab_type": "code",
        "colab": {
          "base_uri": "https://localhost:8080/",
          "height": 110
        },
        "outputId": "1f52d760-6f3d-4856-df12-c78be1686ac2"
      },
      "source": [
        "provinces = [\"Sindh\", \"Balochistan\", \"Janubi Pubjab\", \"Hazara\", \"Pakhtunkhwa\"]\n",
        "for prov in provinces:\n",
        "    print(prov)"
      ],
      "execution_count": 1,
      "outputs": [
        {
          "output_type": "stream",
          "text": [
            "Sindh\n",
            "Balochistan\n",
            "Janubi Pubjab\n",
            "Hazara\n",
            "Pakhtunkhwa\n"
          ],
          "name": "stdout"
        }
      ]
    },
    {
      "cell_type": "code",
      "metadata": {
        "id": "TaudU7HeIW7y",
        "colab_type": "code",
        "colab": {
          "base_uri": "https://localhost:8080/",
          "height": 174
        },
        "outputId": "76fe99e3-bf30-4043-81ab-cad320fbc667"
      },
      "source": [
        "next(provinces)"
      ],
      "execution_count": 2,
      "outputs": [
        {
          "output_type": "error",
          "ename": "TypeError",
          "evalue": "ignored",
          "traceback": [
            "\u001b[0;31m---------------------------------------------------------------------------\u001b[0m",
            "\u001b[0;31mTypeError\u001b[0m                                 Traceback (most recent call last)",
            "\u001b[0;32m<ipython-input-2-8cd6dca0d0fd>\u001b[0m in \u001b[0;36m<module>\u001b[0;34m()\u001b[0m\n\u001b[0;32m----> 1\u001b[0;31m \u001b[0mnext\u001b[0m\u001b[0;34m(\u001b[0m\u001b[0mprovinces\u001b[0m\u001b[0;34m)\u001b[0m\u001b[0;34m\u001b[0m\u001b[0;34m\u001b[0m\u001b[0m\n\u001b[0m",
            "\u001b[0;31mTypeError\u001b[0m: 'list' object is not an iterator"
          ]
        }
      ]
    },
    {
      "cell_type": "markdown",
      "metadata": {
        "id": "vH76KiLtKOGE",
        "colab_type": "text"
      },
      "source": [
        "As the error explicitly states, `provinces` is not `iterator`. so we can not apply `next` method on it.\n",
        "\n",
        "However, we can convert it into `iterator` after applying `next` method on it."
      ]
    },
    {
      "cell_type": "code",
      "metadata": {
        "id": "4GULMuDtJ_m2",
        "colab_type": "code",
        "colab": {
          "base_uri": "https://localhost:8080/",
          "height": 36
        },
        "outputId": "3b0e49aa-d924-42c9-aec2-7ff80eeb51fe"
      },
      "source": [
        "prov_iterator = iter(provinces)\n",
        "next(prov_iterator)"
      ],
      "execution_count": 3,
      "outputs": [
        {
          "output_type": "execute_result",
          "data": {
            "text/plain": [
              "'Sindh'"
            ]
          },
          "metadata": {
            "tags": []
          },
          "execution_count": 3
        }
      ]
    },
    {
      "cell_type": "markdown",
      "metadata": {
        "id": "GMZ2WuYpOUNq",
        "colab_type": "text"
      },
      "source": [
        " but what is next good for?"
      ]
    },
    {
      "cell_type": "code",
      "metadata": {
        "id": "-THVSKWmOxp4",
        "colab_type": "code",
        "colab": {
          "base_uri": "https://localhost:8080/",
          "height": 266
        },
        "outputId": "28fded54-fb89-4680-8f06-66a56b5b8a81"
      },
      "source": [
        "for i in range(len(provinces)):\n",
        "    print(next(prov_iterator))"
      ],
      "execution_count": 4,
      "outputs": [
        {
          "output_type": "stream",
          "text": [
            "Balochistan\n",
            "Janubi Pubjab\n",
            "Hazara\n",
            "Pakhtunkhwa\n"
          ],
          "name": "stdout"
        },
        {
          "output_type": "error",
          "ename": "StopIteration",
          "evalue": "ignored",
          "traceback": [
            "\u001b[0;31m---------------------------------------------------------------------------\u001b[0m",
            "\u001b[0;31mStopIteration\u001b[0m                             Traceback (most recent call last)",
            "\u001b[0;32m<ipython-input-4-f11e91184f28>\u001b[0m in \u001b[0;36m<module>\u001b[0;34m()\u001b[0m\n\u001b[1;32m      1\u001b[0m \u001b[0;32mfor\u001b[0m \u001b[0mi\u001b[0m \u001b[0;32min\u001b[0m \u001b[0mrange\u001b[0m\u001b[0;34m(\u001b[0m\u001b[0mlen\u001b[0m\u001b[0;34m(\u001b[0m\u001b[0mprovinces\u001b[0m\u001b[0;34m)\u001b[0m\u001b[0;34m)\u001b[0m\u001b[0;34m:\u001b[0m\u001b[0;34m\u001b[0m\u001b[0;34m\u001b[0m\u001b[0m\n\u001b[0;32m----> 2\u001b[0;31m     \u001b[0mprint\u001b[0m\u001b[0;34m(\u001b[0m\u001b[0mnext\u001b[0m\u001b[0;34m(\u001b[0m\u001b[0mprov_iterator\u001b[0m\u001b[0;34m)\u001b[0m\u001b[0;34m)\u001b[0m\u001b[0;34m\u001b[0m\u001b[0;34m\u001b[0m\u001b[0m\n\u001b[0m",
            "\u001b[0;31mStopIteration\u001b[0m: "
          ]
        }
      ]
    },
    {
      "cell_type": "markdown",
      "metadata": {
        "id": "ItE84mZmO_Xj",
        "colab_type": "text"
      },
      "source": [
        "Let's create the iterator again and run this code."
      ]
    },
    {
      "cell_type": "code",
      "metadata": {
        "id": "_w_N6jU6PD4d",
        "colab_type": "code",
        "colab": {
          "base_uri": "https://localhost:8080/",
          "height": 110
        },
        "outputId": "ea7753f3-be5e-4700-cf24-98dc25106053"
      },
      "source": [
        "prov_iterator = iter(provinces)\n",
        "for i in range(len(provinces)):\n",
        "    print(next(prov_iterator))"
      ],
      "execution_count": 5,
      "outputs": [
        {
          "output_type": "stream",
          "text": [
            "Sindh\n",
            "Balochistan\n",
            "Janubi Pubjab\n",
            "Hazara\n",
            "Pakhtunkhwa\n"
          ],
          "name": "stdout"
        }
      ]
    },
    {
      "cell_type": "markdown",
      "metadata": {
        "id": "M-VIaVcwPNsb",
        "colab_type": "text"
      },
      "source": [
        "Now try `next` on `prov_iterator` once again"
      ]
    },
    {
      "cell_type": "code",
      "metadata": {
        "id": "SmkjRGaIPMvy",
        "colab_type": "code",
        "colab": {
          "base_uri": "https://localhost:8080/",
          "height": 174
        },
        "outputId": "34653ba1-732d-4500-bd07-3e12c321ce85"
      },
      "source": [
        "next(prov_iterator)"
      ],
      "execution_count": 6,
      "outputs": [
        {
          "output_type": "error",
          "ename": "StopIteration",
          "evalue": "ignored",
          "traceback": [
            "\u001b[0;31m---------------------------------------------------------------------------\u001b[0m",
            "\u001b[0;31mStopIteration\u001b[0m                             Traceback (most recent call last)",
            "\u001b[0;32m<ipython-input-6-17835a81907b>\u001b[0m in \u001b[0;36m<module>\u001b[0;34m()\u001b[0m\n\u001b[0;32m----> 1\u001b[0;31m \u001b[0mnext\u001b[0m\u001b[0;34m(\u001b[0m\u001b[0mprov_iterator\u001b[0m\u001b[0;34m)\u001b[0m\u001b[0;34m\u001b[0m\u001b[0;34m\u001b[0m\u001b[0m\n\u001b[0m",
            "\u001b[0;31mStopIteration\u001b[0m: "
          ]
        }
      ]
    },
    {
      "cell_type": "markdown",
      "metadata": {
        "id": "QgEC9CszPTWP",
        "colab_type": "text"
      },
      "source": [
        "So we can get next item from an iterator until it has returned all items from the iteraable."
      ]
    },
    {
      "cell_type": "code",
      "metadata": {
        "id": "B4iC1IWPKtZ8",
        "colab_type": "code",
        "colab": {
          "base_uri": "https://localhost:8080/",
          "height": 36
        },
        "outputId": "3e2973b7-c4a8-490f-db35-92c95e562fba"
      },
      "source": [
        "type(prov_iterator)"
      ],
      "execution_count": 7,
      "outputs": [
        {
          "output_type": "execute_result",
          "data": {
            "text/plain": [
              "list_iterator"
            ]
          },
          "metadata": {
            "tags": []
          },
          "execution_count": 7
        }
      ]
    },
    {
      "cell_type": "markdown",
      "metadata": {
        "id": "MxTQzhp3raRx",
        "colab_type": "text"
      },
      "source": [
        "Let's create an iterator from `tuple`"
      ]
    },
    {
      "cell_type": "code",
      "metadata": {
        "id": "LC5O6KHaPiV3",
        "colab_type": "code",
        "colab": {
          "base_uri": "https://localhost:8080/",
          "height": 36
        },
        "outputId": "09537460-7249-42d9-8b80-feab0ae668ca"
      },
      "source": [
        "provinces = (\"Sindh\", \"Balochistan\", \"Janubi Pubjab\", \"Hazara\", \"Pakhtunkhwa\")\n",
        "prov_iterator = iter(provinces)\n",
        "type(prov_iterator)"
      ],
      "execution_count": 8,
      "outputs": [
        {
          "output_type": "execute_result",
          "data": {
            "text/plain": [
              "tuple_iterator"
            ]
          },
          "metadata": {
            "tags": []
          },
          "execution_count": 8
        }
      ]
    },
    {
      "cell_type": "markdown",
      "metadata": {
        "id": "jrk1sTTRP210",
        "colab_type": "text"
      },
      "source": [
        "Do we need a better way to check if an object is iterator or not?"
      ]
    },
    {
      "cell_type": "markdown",
      "metadata": {
        "id": "xJmfyDdqZZoT",
        "colab_type": "text"
      },
      "source": [
        "## `isinstance` \n",
        "can also be used if some object is of a particular type or not."
      ]
    },
    {
      "cell_type": "code",
      "metadata": {
        "id": "I7FIbEXHQGpE",
        "colab_type": "code",
        "colab": {
          "base_uri": "https://localhost:8080/",
          "height": 36
        },
        "outputId": "956e0aff-8b4a-417b-ae78-610cbc4c1e99"
      },
      "source": [
        "isinstance(2.5, float)"
      ],
      "execution_count": 9,
      "outputs": [
        {
          "output_type": "execute_result",
          "data": {
            "text/plain": [
              "True"
            ]
          },
          "metadata": {
            "tags": []
          },
          "execution_count": 9
        }
      ]
    },
    {
      "cell_type": "code",
      "metadata": {
        "id": "cwHx638iD1gl",
        "colab_type": "code",
        "colab": {
          "base_uri": "https://localhost:8080/",
          "height": 36
        },
        "outputId": "6879213c-89e0-41c8-dcda-5d3c32e25efe"
      },
      "source": [
        "isinstance(2.5, str)"
      ],
      "execution_count": 12,
      "outputs": [
        {
          "output_type": "execute_result",
          "data": {
            "text/plain": [
              "False"
            ]
          },
          "metadata": {
            "tags": []
          },
          "execution_count": 12
        }
      ]
    },
    {
      "cell_type": "code",
      "metadata": {
        "id": "jJ77MgA_QOoO",
        "colab_type": "code",
        "colab": {
          "base_uri": "https://localhost:8080/",
          "height": 36
        },
        "outputId": "4a946869-884c-40f1-ac7a-8bbc494b5c32"
      },
      "source": [
        "from collections.abc import Iterator, Iterable\n",
        "isinstance(prov_iterator, Iterable)"
      ],
      "execution_count": 13,
      "outputs": [
        {
          "output_type": "execute_result",
          "data": {
            "text/plain": [
              "True"
            ]
          },
          "metadata": {
            "tags": []
          },
          "execution_count": 13
        }
      ]
    },
    {
      "cell_type": "code",
      "metadata": {
        "id": "HC8GZUxhQXFv",
        "colab_type": "code",
        "colab": {
          "base_uri": "https://localhost:8080/",
          "height": 36
        },
        "outputId": "96634326-7074-42f2-d40a-d94ee4cf5e51"
      },
      "source": [
        "isinstance(prov_iterator, Iterator)"
      ],
      "execution_count": 14,
      "outputs": [
        {
          "output_type": "execute_result",
          "data": {
            "text/plain": [
              "True"
            ]
          },
          "metadata": {
            "tags": []
          },
          "execution_count": 14
        }
      ]
    },
    {
      "cell_type": "code",
      "metadata": {
        "id": "geU2viGbbSCw",
        "colab_type": "code",
        "colab": {
          "base_uri": "https://localhost:8080/",
          "height": 128
        },
        "outputId": "9b1aaa44-3dad-405d-fee4-1f5068fd4279"
      },
      "source": [
        "sequences = {\n",
        "             list: [\"Islamabad\", \"Tehran\", \"Istambul\"],\n",
        "             str: \"Islamabad\",\n",
        "             tuple: (\"Islamabad\", \"Tehran\", \"Istambul\"),\n",
        "             dict: {\"Islamabad\": '', \"Tehran\": '', \"Istambul\": ''},\n",
        "             int: 2,\n",
        "             float: 2.5\n",
        "}\n",
        "\n",
        "for _type, obj in sequences.items():\n",
        "    print(isinstance(obj, _type))"
      ],
      "execution_count": 16,
      "outputs": [
        {
          "output_type": "stream",
          "text": [
            "True\n",
            "True\n",
            "True\n",
            "True\n",
            "True\n",
            "True\n"
          ],
          "name": "stdout"
        }
      ]
    },
    {
      "cell_type": "code",
      "metadata": {
        "id": "o20vVF3pb0t5",
        "colab_type": "code",
        "colab": {
          "base_uri": "https://localhost:8080/",
          "height": 128
        },
        "outputId": "bb85fea0-436f-4c43-b078-8cdb71dc3119"
      },
      "source": [
        "for obj in sequences.values():\n",
        "    print(isinstance(obj, Iterable), isinstance(obj, Iterator))"
      ],
      "execution_count": 17,
      "outputs": [
        {
          "output_type": "stream",
          "text": [
            "True False\n",
            "True False\n",
            "True False\n",
            "True False\n",
            "False False\n",
            "False False\n"
          ],
          "name": "stdout"
        }
      ]
    },
    {
      "cell_type": "code",
      "metadata": {
        "id": "uAIaTeTHFPDk",
        "colab_type": "code",
        "colab": {
          "base_uri": "https://localhost:8080/",
          "height": 128
        },
        "outputId": "72e53676-6f7f-4029-acc0-36cf62102147"
      },
      "source": [
        "for obj in sequences.values():\n",
        "    if isinstance(obj, Iterable):\n",
        "        obj = iter(obj)\n",
        "        print(isinstance(obj, Iterable), isinstance(obj, Iterator))\n",
        "    else:\n",
        "        print(\"{} can not be converted into iterator because it is not iterable\".format(obj))"
      ],
      "execution_count": 18,
      "outputs": [
        {
          "output_type": "stream",
          "text": [
            "True True\n",
            "True True\n",
            "True True\n",
            "True True\n",
            "2 can not be converted into iterator because it is not iterable\n",
            "2.5 can not be converted into iterator because it is not iterable\n"
          ],
          "name": "stdout"
        }
      ]
    },
    {
      "cell_type": "markdown",
      "metadata": {
        "id": "9EM7pOvJLoLU",
        "colab_type": "text"
      },
      "source": [
        "The key takeaways from above two cells are following:\n",
        "\n",
        "* So `list`, `str`, `tuple` and `dict` are iterables as such and not iterators. However they can be converted into `iterators` after applying `next` method on it.\n",
        "\n",
        "* Every `iterator` is also and `iterable` but all iterables are not iterators.\n",
        "\n",
        "* In order to be able to create `iterator` from an object, it must be `iterable` first. Floats and integers are not iterable so can not be converted into iterators as well."
      ]
    },
    {
      "cell_type": "markdown",
      "metadata": {
        "id": "YW70duQAq8EH",
        "colab_type": "text"
      },
      "source": [
        "As an `iterator` is also `iterable` so it can also be used on right side of `for` loop."
      ]
    },
    {
      "cell_type": "code",
      "metadata": {
        "id": "nclRH94nrFZP",
        "colab_type": "code",
        "colab": {
          "base_uri": "https://localhost:8080/",
          "height": 110
        },
        "outputId": "2eb0a39d-30ce-4b83-d847-c78982b9adf9"
      },
      "source": [
        "for prov in prov_iterator:\n",
        "    print(prov)"
      ],
      "execution_count": 19,
      "outputs": [
        {
          "output_type": "stream",
          "text": [
            "Sindh\n",
            "Balochistan\n",
            "Janubi Pubjab\n",
            "Hazara\n",
            "Pakhtunkhwa\n"
          ],
          "name": "stdout"
        }
      ]
    },
    {
      "cell_type": "markdown",
      "metadata": {
        "id": "z5AyGcNIsQYC",
        "colab_type": "text"
      },
      "source": [
        "If you run the above cell again, it will not print anything because the iterator is already exhausted.\n",
        "\n",
        "Not all methods that can be applied on an `iterable` can also be applied on `iterator`. For example the `len` method can not be applied on `iterator`."
      ]
    },
    {
      "cell_type": "code",
      "metadata": {
        "id": "FUDIGPQJsL0e",
        "colab_type": "code",
        "colab": {
          "base_uri": "https://localhost:8080/",
          "height": 174
        },
        "outputId": "ed201f4c-fc81-4e2f-ec25-aa84f9255b49"
      },
      "source": [
        "len(prov_iterator)"
      ],
      "execution_count": 20,
      "outputs": [
        {
          "output_type": "error",
          "ename": "TypeError",
          "evalue": "ignored",
          "traceback": [
            "\u001b[0;31m---------------------------------------------------------------------------\u001b[0m",
            "\u001b[0;31mTypeError\u001b[0m                                 Traceback (most recent call last)",
            "\u001b[0;32m<ipython-input-20-7806856223c2>\u001b[0m in \u001b[0;36m<module>\u001b[0;34m()\u001b[0m\n\u001b[0;32m----> 1\u001b[0;31m \u001b[0mlen\u001b[0m\u001b[0;34m(\u001b[0m\u001b[0mprov_iterator\u001b[0m\u001b[0;34m)\u001b[0m\u001b[0;34m\u001b[0m\u001b[0;34m\u001b[0m\u001b[0m\n\u001b[0m",
            "\u001b[0;31mTypeError\u001b[0m: object of type 'tuple_iterator' has no len()"
          ]
        }
      ]
    },
    {
      "cell_type": "markdown",
      "metadata": {
        "id": "6i7OB4A-thcC",
        "colab_type": "text"
      },
      "source": [
        "we can however find the number of items in an iterator after converting it into list"
      ]
    },
    {
      "cell_type": "code",
      "metadata": {
        "id": "JROeG5_usN3X",
        "colab_type": "code",
        "colab": {
          "base_uri": "https://localhost:8080/",
          "height": 36
        },
        "outputId": "64230c29-b1a2-4ee7-adb5-cbcbbb8cecad"
      },
      "source": [
        "prov_iterator = iter(provinces)\n",
        "len(list(prov_iterator))"
      ],
      "execution_count": 21,
      "outputs": [
        {
          "output_type": "execute_result",
          "data": {
            "text/plain": [
              "5"
            ]
          },
          "metadata": {
            "tags": []
          },
          "execution_count": 21
        }
      ]
    },
    {
      "cell_type": "markdown",
      "metadata": {
        "id": "VqnrD9IbuOPB",
        "colab_type": "text"
      },
      "source": [
        "The methods `next` and `iter` for iterator and iterable actually from `__next__` and `__iter__` methods which reside inside corresponding class. Since OOP concepts are not discussed in this course, so these methods are also not discussed."
      ]
    }
  ]
}