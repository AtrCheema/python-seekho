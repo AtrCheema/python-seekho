{
  "nbformat": 4,
  "nbformat_minor": 0,
  "metadata": {
    "colab": {
      "name": "basic_operators.ipynb",
      "provenance": [],
      "collapsed_sections": [],
      "authorship_tag": "ABX9TyPLyBK5h37RP+tMBK0Krop7",
      "include_colab_link": true
    },
    "kernelspec": {
      "name": "python3",
      "display_name": "Python 3"
    }
  },
  "cells": [
    {
      "cell_type": "markdown",
      "metadata": {
        "id": "view-in-github",
        "colab_type": "text"
      },
      "source": [
        "<a href=\"https://colab.research.google.com/github/AtrCheema/python-courses/blob/master/basics/basic_operators.ipynb\" target=\"_parent\"><img src=\"https://colab.research.google.com/assets/colab-badge.svg\" alt=\"Open In Colab\"/></a>"
      ]
    },
    {
      "cell_type": "markdown",
      "metadata": {
        "id": "v7n6zY7Y-e4M",
        "colab_type": "text"
      },
      "source": [
        "# Basic operators in python\n",
        "\n",
        "`+` for addition"
      ]
    },
    {
      "cell_type": "code",
      "metadata": {
        "id": "s7CL7rEVwGg7",
        "colab_type": "code",
        "colab": {
          "base_uri": "https://localhost:8080/",
          "height": 35
        },
        "outputId": "a3526963-8e78-4b8c-ecd2-bcf69cb33c3b"
      },
      "source": [
        "a = 10 + 20\n",
        "a"
      ],
      "execution_count": 2,
      "outputs": [
        {
          "output_type": "execute_result",
          "data": {
            "text/plain": [
              "30"
            ]
          },
          "metadata": {
            "tags": []
          },
          "execution_count": 2
        }
      ]
    },
    {
      "cell_type": "code",
      "metadata": {
        "id": "eazfCbbJcKlt",
        "colab_type": "code",
        "colab": {
          "base_uri": "https://localhost:8080/",
          "height": 35
        },
        "outputId": "763184fe-587d-4092-ae83-613862d3946e"
      },
      "source": [
        "a +=10\n",
        "a"
      ],
      "execution_count": 3,
      "outputs": [
        {
          "output_type": "execute_result",
          "data": {
            "text/plain": [
              "40"
            ]
          },
          "metadata": {
            "tags": []
          },
          "execution_count": 3
        }
      ]
    },
    {
      "cell_type": "markdown",
      "metadata": {
        "id": "gFps1cq0cQcv",
        "colab_type": "text"
      },
      "source": [
        "`-` for subtraction"
      ]
    },
    {
      "cell_type": "code",
      "metadata": {
        "id": "l-VUS4vByIzw",
        "colab_type": "code",
        "colab": {
          "base_uri": "https://localhost:8080/",
          "height": 35
        },
        "outputId": "64ceb456-4951-4b41-b3e5-a99b388b5d0a"
      },
      "source": [
        "a = 20 - 10\n",
        "a"
      ],
      "execution_count": 4,
      "outputs": [
        {
          "output_type": "execute_result",
          "data": {
            "text/plain": [
              "10"
            ]
          },
          "metadata": {
            "tags": []
          },
          "execution_count": 4
        }
      ]
    },
    {
      "cell_type": "code",
      "metadata": {
        "id": "P6b4s4vVccFY",
        "colab_type": "code",
        "colab": {
          "base_uri": "https://localhost:8080/",
          "height": 35
        },
        "outputId": "69088d06-44b2-4d5a-9685-fff527de70ac"
      },
      "source": [
        "a -= 5\n",
        "a"
      ],
      "execution_count": 5,
      "outputs": [
        {
          "output_type": "execute_result",
          "data": {
            "text/plain": [
              "5"
            ]
          },
          "metadata": {
            "tags": []
          },
          "execution_count": 5
        }
      ]
    },
    {
      "cell_type": "markdown",
      "metadata": {
        "id": "-HcYULmDyWen",
        "colab_type": "text"
      },
      "source": [
        "`*` for multiplication"
      ]
    },
    {
      "cell_type": "code",
      "metadata": {
        "id": "hmqaQpqtyVsQ",
        "colab_type": "code",
        "outputId": "fd4aad5a-8bbf-4f19-9ea6-a8875820d0b0",
        "colab": {
          "base_uri": "https://localhost:8080/",
          "height": 35
        }
      },
      "source": [
        "a = 2*10\n",
        "a"
      ],
      "execution_count": 6,
      "outputs": [
        {
          "output_type": "execute_result",
          "data": {
            "text/plain": [
              "20"
            ]
          },
          "metadata": {
            "tags": []
          },
          "execution_count": 6
        }
      ]
    },
    {
      "cell_type": "code",
      "metadata": {
        "id": "RW-JR_bRcoxF",
        "colab_type": "code",
        "colab": {
          "base_uri": "https://localhost:8080/",
          "height": 35
        },
        "outputId": "84aa2860-0dbc-4a9d-f413-aaae5e76320b"
      },
      "source": [
        "a *= 2\n",
        "a"
      ],
      "execution_count": 7,
      "outputs": [
        {
          "output_type": "execute_result",
          "data": {
            "text/plain": [
              "40"
            ]
          },
          "metadata": {
            "tags": []
          },
          "execution_count": 7
        }
      ]
    },
    {
      "cell_type": "markdown",
      "metadata": {
        "id": "AP5oTUXIzGsH",
        "colab_type": "text"
      },
      "source": [
        "`%` modulo\n",
        "\n",
        "returns remainder"
      ]
    },
    {
      "cell_type": "code",
      "metadata": {
        "id": "r3UyPq67zMUv",
        "colab_type": "code",
        "outputId": "70a63f01-05fe-499f-9e31-51eeb61ae9fc",
        "colab": {
          "base_uri": "https://localhost:8080/",
          "height": 35
        }
      },
      "source": [
        "14 % 5"
      ],
      "execution_count": 8,
      "outputs": [
        {
          "output_type": "execute_result",
          "data": {
            "text/plain": [
              "4"
            ]
          },
          "metadata": {
            "tags": []
          },
          "execution_count": 8
        }
      ]
    },
    {
      "cell_type": "markdown",
      "metadata": {
        "id": "Wx5jDwmjgs-n",
        "colab_type": "text"
      },
      "source": [
        "If one of the value is float, result will be float."
      ]
    },
    {
      "cell_type": "code",
      "metadata": {
        "id": "Lu1O7ME4gdan",
        "colab_type": "code",
        "colab": {
          "base_uri": "https://localhost:8080/",
          "height": 35
        },
        "outputId": "09a4d808-6724-4226-f9e0-4c3d82db29df"
      },
      "source": [
        "17 % 5.0"
      ],
      "execution_count": 9,
      "outputs": [
        {
          "output_type": "execute_result",
          "data": {
            "text/plain": [
              "2.0"
            ]
          },
          "metadata": {
            "tags": []
          },
          "execution_count": 9
        }
      ]
    },
    {
      "cell_type": "markdown",
      "metadata": {
        "id": "e-GWNJX4gmG-",
        "colab_type": "text"
      },
      "source": [
        "The sign of the result will be same as sign of divider."
      ]
    },
    {
      "cell_type": "code",
      "metadata": {
        "id": "xm5AIZjZgiKO",
        "colab_type": "code",
        "colab": {
          "base_uri": "https://localhost:8080/",
          "height": 35
        },
        "outputId": "cc9abe8f-4c34-41ef-f2b2-0b12a93d27ee"
      },
      "source": [
        "17 % -5.0"
      ],
      "execution_count": 10,
      "outputs": [
        {
          "output_type": "execute_result",
          "data": {
            "text/plain": [
              "-3.0"
            ]
          },
          "metadata": {
            "tags": []
          },
          "execution_count": 10
        }
      ]
    },
    {
      "cell_type": "markdown",
      "metadata": {
        "id": "ulgQnO9mdIgZ",
        "colab_type": "text"
      },
      "source": [
        "`/` for division"
      ]
    },
    {
      "cell_type": "code",
      "metadata": {
        "id": "xFUz9ngJzWNX",
        "colab_type": "code",
        "outputId": "780cd047-38aa-4644-ef9a-3250e5f42687",
        "colab": {
          "base_uri": "https://localhost:8080/",
          "height": 35
        }
      },
      "source": [
        "a = 20/6\n",
        "a"
      ],
      "execution_count": 11,
      "outputs": [
        {
          "output_type": "execute_result",
          "data": {
            "text/plain": [
              "3.3333333333333335"
            ]
          },
          "metadata": {
            "tags": []
          },
          "execution_count": 11
        }
      ]
    },
    {
      "cell_type": "markdown",
      "metadata": {
        "id": "yDXtSToXzjOH",
        "colab_type": "text"
      },
      "source": [
        "`//` for truncated division"
      ]
    },
    {
      "cell_type": "code",
      "metadata": {
        "id": "VfU1tfMQzhxn",
        "colab_type": "code",
        "outputId": "e02f8ebb-4478-4fb7-bcc8-649a606faae3",
        "colab": {
          "base_uri": "https://localhost:8080/",
          "height": 35
        }
      },
      "source": [
        "20//6"
      ],
      "execution_count": 12,
      "outputs": [
        {
          "output_type": "execute_result",
          "data": {
            "text/plain": [
              "3"
            ]
          },
          "metadata": {
            "tags": []
          },
          "execution_count": 12
        }
      ]
    },
    {
      "cell_type": "code",
      "metadata": {
        "id": "i3sX1kWs1kKN",
        "colab_type": "code",
        "outputId": "3fbca564-b0c1-4c8d-fd64-8b6d44174399",
        "colab": {
          "base_uri": "https://localhost:8080/",
          "height": 35
        }
      },
      "source": [
        "20//6.0"
      ],
      "execution_count": 13,
      "outputs": [
        {
          "output_type": "execute_result",
          "data": {
            "text/plain": [
              "3.0"
            ]
          },
          "metadata": {
            "tags": []
          },
          "execution_count": 13
        }
      ]
    },
    {
      "cell_type": "markdown",
      "metadata": {
        "id": "i_CGXRcLjH6e",
        "colab_type": "text"
      },
      "source": [
        "If the answer of the truncated division is negative, the answer is rounded to the next smallest iteger (greater negative)"
      ]
    },
    {
      "cell_type": "code",
      "metadata": {
        "id": "f2BGPHkni_bx",
        "colab_type": "code",
        "colab": {
          "base_uri": "https://localhost:8080/",
          "height": 35
        },
        "outputId": "80be37cd-0ba8-406d-88c0-96aa680f8565"
      },
      "source": [
        "20//-6.0, -20//6.0"
      ],
      "execution_count": 14,
      "outputs": [
        {
          "output_type": "execute_result",
          "data": {
            "text/plain": [
              "(-4.0, -4.0)"
            ]
          },
          "metadata": {
            "tags": []
          },
          "execution_count": 14
        }
      ]
    },
    {
      "cell_type": "code",
      "metadata": {
        "id": "zWhdICbCjros",
        "colab_type": "code",
        "colab": {
          "base_uri": "https://localhost:8080/",
          "height": 35
        },
        "outputId": "a5ddf09b-2a90-4b7c-a90d-6ad092168b35"
      },
      "source": [
        "-20 // -6.0"
      ],
      "execution_count": 15,
      "outputs": [
        {
          "output_type": "execute_result",
          "data": {
            "text/plain": [
              "3.0"
            ]
          },
          "metadata": {
            "tags": []
          },
          "execution_count": 15
        }
      ]
    },
    {
      "cell_type": "markdown",
      "metadata": {
        "id": "gNPE1lyWh-Id",
        "colab_type": "text"
      },
      "source": [
        "`**` for exponentiation"
      ]
    },
    {
      "cell_type": "code",
      "metadata": {
        "id": "4a1PORgnh86h",
        "colab_type": "code",
        "colab": {
          "base_uri": "https://localhost:8080/",
          "height": 35
        },
        "outputId": "8c385de4-e122-4252-d6bb-eca32764e35a"
      },
      "source": [
        "2**3"
      ],
      "execution_count": 16,
      "outputs": [
        {
          "output_type": "execute_result",
          "data": {
            "text/plain": [
              "8"
            ]
          },
          "metadata": {
            "tags": []
          },
          "execution_count": 16
        }
      ]
    },
    {
      "cell_type": "markdown",
      "metadata": {
        "id": "ItFjTI5NkdBE",
        "colab_type": "text"
      },
      "source": [
        "## Comparisons"
      ]
    },
    {
      "cell_type": "code",
      "metadata": {
        "id": "8HHlF4YRiCax",
        "colab_type": "code",
        "colab": {
          "base_uri": "https://localhost:8080/",
          "height": 35
        },
        "outputId": "b30f4715-8199-40c6-83d6-667cbb8b9cf0"
      },
      "source": [
        "2 == 3\n"
      ],
      "execution_count": 19,
      "outputs": [
        {
          "output_type": "execute_result",
          "data": {
            "text/plain": [
              "False"
            ]
          },
          "metadata": {
            "tags": []
          },
          "execution_count": 19
        }
      ]
    },
    {
      "cell_type": "code",
      "metadata": {
        "id": "lEA6giaFkg4X",
        "colab_type": "code",
        "colab": {
          "base_uri": "https://localhost:8080/",
          "height": 35
        },
        "outputId": "9e1ced9d-99f9-416e-dd5f-6b5b2a7ad4ed"
      },
      "source": [
        "2 ==2"
      ],
      "execution_count": 20,
      "outputs": [
        {
          "output_type": "execute_result",
          "data": {
            "text/plain": [
              "True"
            ]
          },
          "metadata": {
            "tags": []
          },
          "execution_count": 20
        }
      ]
    },
    {
      "cell_type": "code",
      "metadata": {
        "id": "uySuOPTwk9_-",
        "colab_type": "code",
        "colab": {
          "base_uri": "https://localhost:8080/",
          "height": 35
        },
        "outputId": "9de7c34c-e0cb-4527-b43b-a1c66788cd24"
      },
      "source": [
        "2.2 == 1.1 + 1.1"
      ],
      "execution_count": 21,
      "outputs": [
        {
          "output_type": "execute_result",
          "data": {
            "text/plain": [
              "True"
            ]
          },
          "metadata": {
            "tags": []
          },
          "execution_count": 21
        }
      ]
    },
    {
      "cell_type": "markdown",
      "metadata": {
        "id": "pyoJmt15pm0v",
        "colab_type": "text"
      },
      "source": [
        "1.1 + 2.2 results in an approximated answer so we avoid comparing floats."
      ]
    },
    {
      "cell_type": "code",
      "metadata": {
        "id": "6ky1tvkbkh0t",
        "colab_type": "code",
        "colab": {
          "base_uri": "https://localhost:8080/",
          "height": 35
        },
        "outputId": "5f8240af-6a72-43a7-c7e6-2de1a8616586"
      },
      "source": [
        "3.3 == 1.1 + 2.2"
      ],
      "execution_count": 22,
      "outputs": [
        {
          "output_type": "execute_result",
          "data": {
            "text/plain": [
              "False"
            ]
          },
          "metadata": {
            "tags": []
          },
          "execution_count": 22
        }
      ]
    },
    {
      "cell_type": "code",
      "metadata": {
        "id": "9K2QzFD5kyor",
        "colab_type": "code",
        "colab": {
          "base_uri": "https://localhost:8080/",
          "height": 35
        },
        "outputId": "49f159d3-dcf7-4bb9-e079-eacb2ce461d1"
      },
      "source": [
        "abs((1.1 + 2.2) - 3.3) < 1e-15"
      ],
      "execution_count": 24,
      "outputs": [
        {
          "output_type": "execute_result",
          "data": {
            "text/plain": [
              "False"
            ]
          },
          "metadata": {
            "tags": []
          },
          "execution_count": 24
        }
      ]
    },
    {
      "cell_type": "markdown",
      "metadata": {
        "id": "YIJDxd1lqk88",
        "colab_type": "text"
      },
      "source": [
        "Check if a number lies between two numbers"
      ]
    },
    {
      "cell_type": "code",
      "metadata": {
        "id": "ZRH-fmdZlfol",
        "colab_type": "code",
        "colab": {
          "base_uri": "https://localhost:8080/",
          "height": 35
        },
        "outputId": "c756af37-431e-4f5f-c593-5a484deb2653"
      },
      "source": [
        "8<10<12"
      ],
      "execution_count": 25,
      "outputs": [
        {
          "output_type": "execute_result",
          "data": {
            "text/plain": [
              "True"
            ]
          },
          "metadata": {
            "tags": []
          },
          "execution_count": 25
        }
      ]
    },
    {
      "cell_type": "code",
      "metadata": {
        "id": "R-rzxzh05Zey",
        "colab_type": "code",
        "colab": {
          "base_uri": "https://localhost:8080/",
          "height": 35
        },
        "outputId": "ecc3d4dc-caa7-43c7-e0d3-7d7c8cc8df67"
      },
      "source": [
        "capitalism = 'a system based on individualism'\n",
        "\n",
        "capitalism != 'justice'"
      ],
      "execution_count": 26,
      "outputs": [
        {
          "output_type": "execute_result",
          "data": {
            "text/plain": [
              "True"
            ]
          },
          "metadata": {
            "tags": []
          },
          "execution_count": 26
        }
      ]
    },
    {
      "cell_type": "markdown",
      "metadata": {
        "id": "l9a7_BjmrMOq",
        "colab_type": "text"
      },
      "source": [
        "## Logical operators\n",
        "\n",
        "`not` results in opposite to what comes after it."
      ]
    },
    {
      "cell_type": "code",
      "metadata": {
        "id": "ul43BzwFqapF",
        "colab_type": "code",
        "colab": {
          "base_uri": "https://localhost:8080/",
          "height": 35
        },
        "outputId": "dac1dcee-6abd-42ad-feca-5d86aaae7853"
      },
      "source": [
        "not True"
      ],
      "execution_count": 27,
      "outputs": [
        {
          "output_type": "execute_result",
          "data": {
            "text/plain": [
              "False"
            ]
          },
          "metadata": {
            "tags": []
          },
          "execution_count": 27
        }
      ]
    },
    {
      "cell_type": "code",
      "metadata": {
        "id": "_vq6qcUQrUEy",
        "colab_type": "code",
        "colab": {
          "base_uri": "https://localhost:8080/",
          "height": 35
        },
        "outputId": "9c788e4f-e933-4559-b15a-9698c9d12a92"
      },
      "source": [
        "not False"
      ],
      "execution_count": 28,
      "outputs": [
        {
          "output_type": "execute_result",
          "data": {
            "text/plain": [
              "True"
            ]
          },
          "metadata": {
            "tags": []
          },
          "execution_count": 28
        }
      ]
    },
    {
      "cell_type": "code",
      "metadata": {
        "id": "H_2lzYXcreGH",
        "colab_type": "code",
        "colab": {
          "base_uri": "https://localhost:8080/",
          "height": 35
        },
        "outputId": "bd8564cf-500c-411e-8ce2-6f51a3b249ed"
      },
      "source": [
        "x = 5.2\n",
        "not x<=10"
      ],
      "execution_count": 29,
      "outputs": [
        {
          "output_type": "execute_result",
          "data": {
            "text/plain": [
              "False"
            ]
          },
          "metadata": {
            "tags": []
          },
          "execution_count": 29
        }
      ]
    },
    {
      "cell_type": "code",
      "metadata": {
        "id": "DBj6eWqDrvrd",
        "colab_type": "code",
        "colab": {
          "base_uri": "https://localhost:8080/",
          "height": 35
        },
        "outputId": "2d43ba47-9141-4ac4-c4e6-35cd1220b90f"
      },
      "source": [
        "capitalism = False\n",
        "communism = False\n",
        "justice = True\n",
        "capitalism and communism"
      ],
      "execution_count": 30,
      "outputs": [
        {
          "output_type": "execute_result",
          "data": {
            "text/plain": [
              "False"
            ]
          },
          "metadata": {
            "tags": []
          },
          "execution_count": 30
        }
      ]
    },
    {
      "cell_type": "code",
      "metadata": {
        "id": "b-da31OasRXG",
        "colab_type": "code",
        "colab": {
          "base_uri": "https://localhost:8080/",
          "height": 35
        },
        "outputId": "2cbc2fe6-53e0-447c-94cb-2fde97b79bc3"
      },
      "source": [
        "capitalism or communism"
      ],
      "execution_count": 31,
      "outputs": [
        {
          "output_type": "execute_result",
          "data": {
            "text/plain": [
              "False"
            ]
          },
          "metadata": {
            "tags": []
          },
          "execution_count": 31
        }
      ]
    },
    {
      "cell_type": "code",
      "metadata": {
        "id": "vM69Dq63sXcw",
        "colab_type": "code",
        "colab": {
          "base_uri": "https://localhost:8080/",
          "height": 35
        },
        "outputId": "8e6b6453-5a6e-44f9-9b17-7b46ca5da247"
      },
      "source": [
        "capitalism and justice"
      ],
      "execution_count": 32,
      "outputs": [
        {
          "output_type": "execute_result",
          "data": {
            "text/plain": [
              "False"
            ]
          },
          "metadata": {
            "tags": []
          },
          "execution_count": 32
        }
      ]
    },
    {
      "cell_type": "code",
      "metadata": {
        "id": "lMPl6nFyscVJ",
        "colab_type": "code",
        "colab": {
          "base_uri": "https://localhost:8080/",
          "height": 35
        },
        "outputId": "6631f1fd-6bcf-4738-d2af-6d94a2eb9041"
      },
      "source": [
        "capitalism or justice"
      ],
      "execution_count": 33,
      "outputs": [
        {
          "output_type": "execute_result",
          "data": {
            "text/plain": [
              "True"
            ]
          },
          "metadata": {
            "tags": []
          },
          "execution_count": 33
        }
      ]
    },
    {
      "cell_type": "code",
      "metadata": {
        "id": "m0tgWxIBskyJ",
        "colab_type": "code",
        "colab": {
          "base_uri": "https://localhost:8080/",
          "height": 35
        },
        "outputId": "4bbff3a5-d1dc-425c-b413-8e4fee79f824"
      },
      "source": [
        "capitalism is not justice"
      ],
      "execution_count": 34,
      "outputs": [
        {
          "output_type": "execute_result",
          "data": {
            "text/plain": [
              "True"
            ]
          },
          "metadata": {
            "tags": []
          },
          "execution_count": 34
        }
      ]
    },
    {
      "cell_type": "markdown",
      "metadata": {
        "id": "eECVGWGOvjIy",
        "colab_type": "text"
      },
      "source": [
        "## Default values"
      ]
    },
    {
      "cell_type": "code",
      "metadata": {
        "id": "GYCmuM_XtTQk",
        "colab_type": "code",
        "colab": {
          "base_uri": "https://localhost:8080/",
          "height": 35
        },
        "outputId": "101c72fa-8c81-45ee-c535-952bbd5753c5"
      },
      "source": [
        "food = 'bread'\n",
        "lunch = food or 'curry'\n",
        "lunch"
      ],
      "execution_count": 35,
      "outputs": [
        {
          "output_type": "execute_result",
          "data": {
            "text/plain": [
              "'bread'"
            ]
          },
          "metadata": {
            "tags": []
          },
          "execution_count": 35
        }
      ]
    },
    {
      "cell_type": "code",
      "metadata": {
        "id": "EFmVnPmBvg49",
        "colab_type": "code",
        "colab": {
          "base_uri": "https://localhost:8080/",
          "height": 35
        },
        "outputId": "d3263d38-33ac-4443-9463-e2d498962e1b"
      },
      "source": [
        "food = None\n",
        "lunch = food or 'curry'\n",
        "lunch"
      ],
      "execution_count": 36,
      "outputs": [
        {
          "output_type": "execute_result",
          "data": {
            "text/plain": [
              "'curry'"
            ]
          },
          "metadata": {
            "tags": []
          },
          "execution_count": 36
        }
      ]
    },
    {
      "cell_type": "markdown",
      "metadata": {
        "id": "GCUPZSTywu9F",
        "colab_type": "text"
      },
      "source": [
        "If the first argument before `or` is `True`, the value after `or` is discarded."
      ]
    },
    {
      "cell_type": "code",
      "metadata": {
        "id": "VIS-hw5tvrPg",
        "colab_type": "code",
        "colab": {
          "base_uri": "https://localhost:8080/",
          "height": 35
        },
        "outputId": "effef325-293e-4616-b17c-589bcdfe85c4"
      },
      "source": [
        "food = None\n",
        "lunch = 'currey' or food\n",
        "lunch"
      ],
      "execution_count": 37,
      "outputs": [
        {
          "output_type": "execute_result",
          "data": {
            "text/plain": [
              "'currey'"
            ]
          },
          "metadata": {
            "tags": []
          },
          "execution_count": 37
        }
      ]
    },
    {
      "cell_type": "code",
      "metadata": {
        "id": "l6JLLEEDv5Z-",
        "colab_type": "code",
        "colab": {
          "base_uri": "https://localhost:8080/",
          "height": 35
        },
        "outputId": "9261fb2e-e82a-47be-ac23-78907976bb21"
      },
      "source": [
        "food = 'bread'\n",
        "lunch = 'currey' or food\n",
        "lunch"
      ],
      "execution_count": 38,
      "outputs": [
        {
          "output_type": "execute_result",
          "data": {
            "text/plain": [
              "'currey'"
            ]
          },
          "metadata": {
            "tags": []
          },
          "execution_count": 38
        }
      ]
    },
    {
      "cell_type": "markdown",
      "metadata": {
        "id": "LOspSZ0xyIgp",
        "colab_type": "text"
      },
      "source": [
        "## Identity\n",
        "\n",
        "`is` operator compares whether both variables on its right and left side refer to same memory location or not."
      ]
    },
    {
      "cell_type": "code",
      "metadata": {
        "id": "_KOpn1D6x3SB",
        "colab_type": "code",
        "colab": {
          "base_uri": "https://localhost:8080/",
          "height": 35
        },
        "outputId": "7eda3d67-447d-4132-d928-73f63aef8ba3"
      },
      "source": [
        "a = 257\n",
        "b = 257\n",
        "a == b"
      ],
      "execution_count": 44,
      "outputs": [
        {
          "output_type": "execute_result",
          "data": {
            "text/plain": [
              "True"
            ]
          },
          "metadata": {
            "tags": []
          },
          "execution_count": 44
        }
      ]
    },
    {
      "cell_type": "code",
      "metadata": {
        "id": "TqK_BAzUGQ9F",
        "colab_type": "code",
        "colab": {
          "base_uri": "https://localhost:8080/",
          "height": 35
        },
        "outputId": "8d337404-e586-4020-df8b-18bb867b8f20"
      },
      "source": [
        "id(a), id(b)"
      ],
      "execution_count": 45,
      "outputs": [
        {
          "output_type": "execute_result",
          "data": {
            "text/plain": [
              "(140212899688944, 140212899689072)"
            ]
          },
          "metadata": {
            "tags": []
          },
          "execution_count": 45
        }
      ]
    },
    {
      "cell_type": "markdown",
      "metadata": {
        "id": "C7E32zAYzCNe",
        "colab_type": "text"
      },
      "source": [
        "Because ali and hasan are stored at different location at different location, thus and answer "
      ]
    },
    {
      "cell_type": "code",
      "metadata": {
        "id": "ivkWPTCSyc53",
        "colab_type": "code",
        "colab": {
          "base_uri": "https://localhost:8080/",
          "height": 35
        },
        "outputId": "b076600c-06b5-4e01-a4d8-85f1e1a3bc6a"
      },
      "source": [
        "a is b"
      ],
      "execution_count": 40,
      "outputs": [
        {
          "output_type": "execute_result",
          "data": {
            "text/plain": [
              "False"
            ]
          },
          "metadata": {
            "tags": []
          },
          "execution_count": 40
        }
      ]
    },
    {
      "cell_type": "markdown",
      "metadata": {
        "id": "1snr0gXq0yC0",
        "colab_type": "text"
      },
      "source": [
        "However, python alreay stores some commonly used sammler numbers in memory, so when they are created, python refers to that same memory location and does not really create them. Thus for smaller numbers (from -5 to 256 integers) `is` returs True."
      ]
    },
    {
      "cell_type": "code",
      "metadata": {
        "id": "SLcmfgruyd_8",
        "colab_type": "code",
        "colab": {
          "base_uri": "https://localhost:8080/",
          "height": 35
        },
        "outputId": "0ee04422-3052-41b9-bbbc-a6e4e1a0fb2f"
      },
      "source": [
        "a = 256\n",
        "b = 254 + 2\n",
        "a is b"
      ],
      "execution_count": 42,
      "outputs": [
        {
          "output_type": "execute_result",
          "data": {
            "text/plain": [
              "True"
            ]
          },
          "metadata": {
            "tags": []
          },
          "execution_count": 42
        }
      ]
    },
    {
      "cell_type": "code",
      "metadata": {
        "id": "1TcPqiTWGNAE",
        "colab_type": "code",
        "colab": {
          "base_uri": "https://localhost:8080/",
          "height": 35
        },
        "outputId": "8101d308-1fc4-45e9-dfc3-ec541a1c8deb"
      },
      "source": [
        "id(a), id(b)"
      ],
      "execution_count": 43,
      "outputs": [
        {
          "output_type": "execute_result",
          "data": {
            "text/plain": [
              "(10922656, 10922656)"
            ]
          },
          "metadata": {
            "tags": []
          },
          "execution_count": 43
        }
      ]
    },
    {
      "cell_type": "code",
      "metadata": {
        "id": "kc5OoXGF4b0C",
        "colab_type": "code",
        "colab": {
          "base_uri": "https://localhost:8080/",
          "height": 35
        },
        "outputId": "5df28981-fc05-4ad7-9e29-029ed850f75b"
      },
      "source": [
        "feudalism = 'slavery'\n",
        "capitalism = 'slavery'\n",
        "\n",
        "feudalism is capitalism"
      ],
      "execution_count": 46,
      "outputs": [
        {
          "output_type": "execute_result",
          "data": {
            "text/plain": [
              "True"
            ]
          },
          "metadata": {
            "tags": []
          },
          "execution_count": 46
        }
      ]
    },
    {
      "cell_type": "code",
      "metadata": {
        "id": "BJ2M_HDn5DA4",
        "colab_type": "code",
        "colab": {
          "base_uri": "https://localhost:8080/",
          "height": 35
        },
        "outputId": "2b2aea2e-6a40-4c9c-c7f2-69386e132e34"
      },
      "source": [
        "feudalism = 'a system of slavery'\n",
        "capitalism = 'a system of slavery'\n",
        "\n",
        "feudalism is capitalism"
      ],
      "execution_count": 47,
      "outputs": [
        {
          "output_type": "execute_result",
          "data": {
            "text/plain": [
              "False"
            ]
          },
          "metadata": {
            "tags": []
          },
          "execution_count": 47
        }
      ]
    },
    {
      "cell_type": "markdown",
      "metadata": {
        "id": "6ZP_CT_B2SDU",
        "colab_type": "text"
      },
      "source": [
        "## Order of operations"
      ]
    },
    {
      "cell_type": "code",
      "metadata": {
        "id": "5cSvdKNrz18v",
        "colab_type": "code",
        "colab": {
          "base_uri": "https://localhost:8080/",
          "height": 35
        },
        "outputId": "f49729a7-233c-455d-9933-1320a4679673"
      },
      "source": [
        "20 + 4 * 10"
      ],
      "execution_count": 48,
      "outputs": [
        {
          "output_type": "execute_result",
          "data": {
            "text/plain": [
              "60"
            ]
          },
          "metadata": {
            "tags": []
          },
          "execution_count": 48
        }
      ]
    },
    {
      "cell_type": "code",
      "metadata": {
        "id": "gTzwQ9eD2VSA",
        "colab_type": "code",
        "colab": {
          "base_uri": "https://localhost:8080/",
          "height": 35
        },
        "outputId": "41c66124-4b5b-4c94-e3c2-289e7ee79104"
      },
      "source": [
        "2 * 3 ** 4 * 5"
      ],
      "execution_count": 49,
      "outputs": [
        {
          "output_type": "execute_result",
          "data": {
            "text/plain": [
              "810"
            ]
          },
          "metadata": {
            "tags": []
          },
          "execution_count": 49
        }
      ]
    },
    {
      "cell_type": "markdown",
      "metadata": {
        "id": "RTHvllAr3sXs",
        "colab_type": "text"
      },
      "source": [
        "Complete order of precedence of operators in python can be found from [here](https://docs.python.org/3/reference/expressions.html#operator-precedence)."
      ]
    }
  ]
}