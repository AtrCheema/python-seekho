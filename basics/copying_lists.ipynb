{
  "nbformat": 4,
  "nbformat_minor": 0,
  "metadata": {
    "colab": {
      "name": "copying_lists.ipynb",
      "provenance": [],
      "collapsed_sections": [],
      "include_colab_link": true
    },
    "kernelspec": {
      "name": "python3",
      "display_name": "Python 3"
    }
  },
  "cells": [
    {
      "cell_type": "markdown",
      "metadata": {
        "id": "view-in-github",
        "colab_type": "text"
      },
      "source": [
        "<a href=\"https://colab.research.google.com/github/AtrCheema/python-courses/blob/master/basics/copying_lists.ipynb\" target=\"_parent\"><img src=\"https://colab.research.google.com/assets/colab-badge.svg\" alt=\"Open In Colab\"/></a>"
      ]
    },
    {
      "cell_type": "markdown",
      "metadata": {
        "id": "3wYNCAsUl8Vn",
        "colab_type": "text"
      },
      "source": [
        "## Copying List"
      ]
    },
    {
      "cell_type": "code",
      "metadata": {
        "id": "u593d9fYkiK9",
        "colab_type": "code",
        "outputId": "7f7806b2-0f02-44cb-b468-01328a7f34fe",
        "colab": {
          "base_uri": "https://localhost:8080/",
          "height": 54
        }
      },
      "source": [
        "countries1 = [\"Pakistan\", \"Iran\", \"Turkey\"]\n",
        "countries2 = countries1\n",
        "\n",
        "print(countries1)\n",
        "\n",
        "print(countries2)"
      ],
      "execution_count": 1,
      "outputs": [
        {
          "output_type": "stream",
          "text": [
            "['Pakistan', 'Iran', 'Turkey']\n",
            "['Pakistan', 'Iran', 'Turkey']\n"
          ],
          "name": "stdout"
        }
      ]
    },
    {
      "cell_type": "code",
      "metadata": {
        "id": "yGA-tgcLobPw",
        "colab_type": "code",
        "outputId": "a1fd07ca-8d99-4156-d496-b7a9bb30e572",
        "colab": {
          "base_uri": "https://localhost:8080/",
          "height": 36
        }
      },
      "source": [
        "print(id(countries1),id(countries2))"
      ],
      "execution_count": 2,
      "outputs": [
        {
          "output_type": "stream",
          "text": [
            "140412754074056 140412754074056\n"
          ],
          "name": "stdout"
        }
      ]
    },
    {
      "cell_type": "code",
      "metadata": {
        "id": "-GzVhuK0o3oN",
        "colab_type": "code",
        "outputId": "278acc90-3487-4a41-b85c-ec530a4e593b",
        "colab": {
          "base_uri": "https://localhost:8080/",
          "height": 54
        }
      },
      "source": [
        "countries2 = [\"Qatar\", \"Malaysia\", \"Libanon\"]\n",
        "print(countries1)\n",
        "\n",
        "print(countries2)"
      ],
      "execution_count": 3,
      "outputs": [
        {
          "output_type": "stream",
          "text": [
            "['Pakistan', 'Iran', 'Turkey']\n",
            "['Qatar', 'Malaysia', 'Libanon']\n"
          ],
          "name": "stdout"
        }
      ]
    },
    {
      "cell_type": "code",
      "metadata": {
        "id": "yNkT-aelh4nI",
        "colab_type": "code",
        "outputId": "16039c5a-2171-454b-eb1c-71567d2acaa5",
        "colab": {
          "base_uri": "https://localhost:8080/",
          "height": 36
        }
      },
      "source": [
        "print(id(countries1),id(countries2))"
      ],
      "execution_count": 4,
      "outputs": [
        {
          "output_type": "stream",
          "text": [
            "140412754074056 140412754179848\n"
          ],
          "name": "stdout"
        }
      ]
    },
    {
      "cell_type": "markdown",
      "metadata": {
        "id": "Q8u60OAnpanF",
        "colab_type": "text"
      },
      "source": [
        "So the `countries2` list became different from `countries1` when we assigned a new different object to it.\n",
        "\n",
        "What happens when we change the contents of list"
      ]
    },
    {
      "cell_type": "code",
      "metadata": {
        "id": "c4Ir-0K4pPNa",
        "colab_type": "code",
        "outputId": "b3e298cb-4196-4e24-ca35-2a3ceffd7a9d",
        "colab": {
          "base_uri": "https://localhost:8080/",
          "height": 54
        }
      },
      "source": [
        "countries1 = [\"Pakistan\", \"Iran\", \"Turkey\"]\n",
        "countries2 = countries1\n",
        "\n",
        "countries2[2] = \"Syria\"\n",
        "\n",
        "print(countries1)\n",
        "\n",
        "print(countries2)"
      ],
      "execution_count": 5,
      "outputs": [
        {
          "output_type": "stream",
          "text": [
            "['Pakistan', 'Iran', 'Syria']\n",
            "['Pakistan', 'Iran', 'Syria']\n"
          ],
          "name": "stdout"
        }
      ]
    },
    {
      "cell_type": "markdown",
      "metadata": {
        "id": "CYksIG92kXTn",
        "colab_type": "text"
      },
      "source": [
        "The list `countries1` changed automatically. This is because, we don't have two lists in reality. We have one list with two names. What we did was `in place` change in `countries2` list and did not assign a new object to `countries2`, so the the name `countries2` still points to the same object as `countries1`."
      ]
    },
    {
      "cell_type": "markdown",
      "metadata": {
        "id": "nrwzRtjUlC8X",
        "colab_type": "text"
      },
      "source": [
        "### Copying using slicing\n",
        "\n",
        "The above problem can be avoided by using the slice operator"
      ]
    },
    {
      "cell_type": "code",
      "metadata": {
        "id": "kHfzKQrgkNTf",
        "colab_type": "code",
        "outputId": "4cd1717e-7f32-43e7-c9c9-a2b1e354ce90",
        "colab": {
          "base_uri": "https://localhost:8080/",
          "height": 54
        }
      },
      "source": [
        "countries1 = [\"Pakistan\", \"Iran\", \"Turkey\"]\n",
        "countries2 = countries1[:]\n",
        "countries2[2] = 'Syria'\n",
        "\n",
        "print(countries1)\n",
        "\n",
        "print(countries2)"
      ],
      "execution_count": 6,
      "outputs": [
        {
          "output_type": "stream",
          "text": [
            "['Pakistan', 'Iran', 'Turkey']\n",
            "['Pakistan', 'Iran', 'Syria']\n"
          ],
          "name": "stdout"
        }
      ]
    },
    {
      "cell_type": "code",
      "metadata": {
        "id": "yCUkyVf8lIzV",
        "colab_type": "code",
        "colab": {}
      },
      "source": [
        "print(id(countries1), id(countries2))"
      ],
      "execution_count": 0,
      "outputs": []
    },
    {
      "cell_type": "markdown",
      "metadata": {
        "id": "N0zMiGQANbEG",
        "colab_type": "text"
      },
      "source": [
        "Now `countries1` and `countries2` are not same objects. \n",
        "\n",
        "What about sublists in a list?"
      ]
    },
    {
      "cell_type": "code",
      "metadata": {
        "id": "3-BQxtRSlNR9",
        "colab_type": "code",
        "outputId": "febcdaba-bbe1-49be-9962-2f441303114b",
        "colab": {
          "base_uri": "https://localhost:8080/",
          "height": 54
        }
      },
      "source": [
        "countries1 = [\"Pakistan\", \"Iran\", \"Turkey\",[\"Qatar\", \"Malaysia\"]]\n",
        "countries2 = countries1[:]\n",
        "\n",
        "print(countries1)\n",
        "\n",
        "print(countries2)"
      ],
      "execution_count": 7,
      "outputs": [
        {
          "output_type": "stream",
          "text": [
            "['Pakistan', 'Iran', 'Turkey', ['Qatar', 'Malaysia']]\n",
            "['Pakistan', 'Iran', 'Turkey', ['Qatar', 'Malaysia']]\n"
          ],
          "name": "stdout"
        }
      ]
    },
    {
      "cell_type": "code",
      "metadata": {
        "id": "KPFENAlPmPCJ",
        "colab_type": "code",
        "outputId": "2d5bdded-865a-4ec9-cd6b-2992af407631",
        "colab": {
          "base_uri": "https://localhost:8080/",
          "height": 54
        }
      },
      "source": [
        "countries2[0] = \"Syria\"\n",
        "print(countries1)\n",
        "\n",
        "print(countries2)"
      ],
      "execution_count": 8,
      "outputs": [
        {
          "output_type": "stream",
          "text": [
            "['Pakistan', 'Iran', 'Turkey', ['Qatar', 'Malaysia']]\n",
            "['Syria', 'Iran', 'Turkey', ['Qatar', 'Malaysia']]\n"
          ],
          "name": "stdout"
        }
      ]
    },
    {
      "cell_type": "code",
      "metadata": {
        "id": "CRFaVq_a0eQV",
        "colab_type": "code",
        "outputId": "74aec5dd-e652-41ef-bf1a-9aa151e5c21c",
        "colab": {
          "base_uri": "https://localhost:8080/",
          "height": 54
        }
      },
      "source": [
        "countries2[3][1] = \"Iraq\"\n",
        "print(countries1)\n",
        "\n",
        "print(countries2)"
      ],
      "execution_count": 9,
      "outputs": [
        {
          "output_type": "stream",
          "text": [
            "['Pakistan', 'Iran', 'Turkey', ['Qatar', 'Iraq']]\n",
            "['Syria', 'Iran', 'Turkey', ['Qatar', 'Iraq']]\n"
          ],
          "name": "stdout"
        }
      ]
    },
    {
      "cell_type": "markdown",
      "metadata": {
        "id": "lNW8xxQNJHvW",
        "colab_type": "text"
      },
      "source": [
        "So again `countries1` is changed even though we changed only `countries2` list. This is because when we copy a list containing sublists, the sublists are not copied but their reference is copied.\n"
      ]
    },
    {
      "cell_type": "code",
      "metadata": {
        "id": "kn3goH6CNwWt",
        "colab_type": "code",
        "outputId": "36ce0cfc-751b-4f7a-dc2c-084531141d0a",
        "colab": {
          "base_uri": "https://localhost:8080/",
          "height": 36
        }
      },
      "source": [
        "print(id(countries1[3]), id(countries2[3]))"
      ],
      "execution_count": 10,
      "outputs": [
        {
          "output_type": "stream",
          "text": [
            "140412991179208 140412991179208\n"
          ],
          "name": "stdout"
        }
      ]
    },
    {
      "cell_type": "markdown",
      "metadata": {
        "id": "lqnF1LmRMYSm",
        "colab_type": "text"
      },
      "source": [
        "The same can be achieved by using `copy` method of `list` object."
      ]
    },
    {
      "cell_type": "code",
      "metadata": {
        "id": "FjT9TNQYLEjy",
        "colab_type": "code",
        "outputId": "25952a3e-5249-4c1a-8140-d91e1ffc7a54",
        "colab": {
          "base_uri": "https://localhost:8080/",
          "height": 36
        }
      },
      "source": [
        "countries1 = [\"Pakistan\", \"Iran\", \"Turkey\",[\"Qatar\", \"Malaysia\"]]\n",
        "countries2 = countries1.copy()\n",
        "\n",
        "print(id(countries1), id(countries2))"
      ],
      "execution_count": 11,
      "outputs": [
        {
          "output_type": "stream",
          "text": [
            "140412754397576 140412754431688\n"
          ],
          "name": "stdout"
        }
      ]
    },
    {
      "cell_type": "code",
      "metadata": {
        "id": "mbvUWV62MWGL",
        "colab_type": "code",
        "outputId": "6bb39062-fafe-45f0-8b56-e55797e6cf7a",
        "colab": {
          "base_uri": "https://localhost:8080/",
          "height": 54
        }
      },
      "source": [
        "countries2[3][1] = \"Iraq\"\n",
        "\n",
        "print(countries1)\n",
        "\n",
        "print(countries2)"
      ],
      "execution_count": 12,
      "outputs": [
        {
          "output_type": "stream",
          "text": [
            "['Pakistan', 'Iran', 'Turkey', ['Qatar', 'Iraq']]\n",
            "['Pakistan', 'Iran', 'Turkey', ['Qatar', 'Iraq']]\n"
          ],
          "name": "stdout"
        }
      ]
    },
    {
      "cell_type": "code",
      "metadata": {
        "id": "7l8gp0joN_FX",
        "colab_type": "code",
        "outputId": "18a94f51-e9a5-4c13-ffb2-3b2256449aab",
        "colab": {
          "base_uri": "https://localhost:8080/",
          "height": 36
        }
      },
      "source": [
        "print(id(countries1[3]), id(countries2[3]))"
      ],
      "execution_count": 13,
      "outputs": [
        {
          "output_type": "stream",
          "text": [
            "140412754395784 140412754395784\n"
          ],
          "name": "stdout"
        }
      ]
    },
    {
      "cell_type": "markdown",
      "metadata": {
        "id": "EJaS-o6qO9lD",
        "colab_type": "text"
      },
      "source": [
        "### Using `list` function\n",
        "\n",
        "The `list` function converts a sequence into list, if it is not already a list"
      ]
    },
    {
      "cell_type": "code",
      "metadata": {
        "id": "nFxHx78yMipH",
        "colab_type": "code",
        "outputId": "274c6987-ffb8-4435-c8a0-6458077fa44d",
        "colab": {
          "base_uri": "https://localhost:8080/",
          "height": 36
        }
      },
      "source": [
        "countries1 = [\"Pakistan\", \"Iran\", \"Turkey\",[\"Qatar\", \"Malaysia\"]]\n",
        "countries2 = list(countries1)\n",
        "\n",
        "print(id(countries1), id(countries2))"
      ],
      "execution_count": 14,
      "outputs": [
        {
          "output_type": "stream",
          "text": [
            "140412754427976 140412754468168\n"
          ],
          "name": "stdout"
        }
      ]
    },
    {
      "cell_type": "code",
      "metadata": {
        "id": "EMMB6gn_O3BU",
        "colab_type": "code",
        "outputId": "2d68405c-9ea2-475b-e6bb-585dfac17e75",
        "colab": {
          "base_uri": "https://localhost:8080/",
          "height": 36
        }
      },
      "source": [
        "print(id(countries1[3]), id(countries2[3]))"
      ],
      "execution_count": 15,
      "outputs": [
        {
          "output_type": "stream",
          "text": [
            "140412754399112 140412754399112\n"
          ],
          "name": "stdout"
        }
      ]
    },
    {
      "cell_type": "markdown",
      "metadata": {
        "id": "VGXlm-z4M0YG",
        "colab_type": "text"
      },
      "source": [
        "### using copy module"
      ]
    },
    {
      "cell_type": "code",
      "metadata": {
        "id": "YDoi5WAUPOCp",
        "colab_type": "code",
        "outputId": "56358a38-a59d-4118-b77f-a0c3fce7d3db",
        "colab": {
          "base_uri": "https://localhost:8080/",
          "height": 36
        }
      },
      "source": [
        "from copy import copy\n",
        "\n",
        "countries1 = [\"Pakistan\", \"Iran\", \"Turkey\",[\"Qatar\", \"Malaysia\"]]\n",
        "countries2 = copy(countries1)\n",
        "\n",
        "print(id(countries1), id(countries2))"
      ],
      "execution_count": 16,
      "outputs": [
        {
          "output_type": "stream",
          "text": [
            "140412754429896 140412754398728\n"
          ],
          "name": "stdout"
        }
      ]
    },
    {
      "cell_type": "code",
      "metadata": {
        "id": "No5TqvFuQHNc",
        "colab_type": "code",
        "outputId": "fec01de1-a058-414a-c270-5fc4e71f31bc",
        "colab": {
          "base_uri": "https://localhost:8080/",
          "height": 36
        }
      },
      "source": [
        "print(id(countries1[3]), id(countries2[3]))"
      ],
      "execution_count": 17,
      "outputs": [
        {
          "output_type": "stream",
          "text": [
            "140412754395784 140412754395784\n"
          ],
          "name": "stdout"
        }
      ]
    },
    {
      "cell_type": "code",
      "metadata": {
        "id": "s2b-MoZFJGAZ",
        "colab_type": "code",
        "outputId": "8ae93249-7954-435e-973c-c4ef7c305321",
        "colab": {
          "base_uri": "https://localhost:8080/",
          "height": 36
        }
      },
      "source": [
        "from copy import deepcopy\n",
        "\n",
        "countries1 = [\"Pakistan\", \"Iran\", \"Turkey\",[\"Qatar\", \"Malaysia\"]]\n",
        "\n",
        "countries2 = deepcopy(countries1)\n",
        "\n",
        "print(id(countries1), id(countries2))"
      ],
      "execution_count": 18,
      "outputs": [
        {
          "output_type": "stream",
          "text": [
            "140412754465544 140412754465736\n"
          ],
          "name": "stdout"
        }
      ]
    },
    {
      "cell_type": "markdown",
      "metadata": {
        "id": "29hTnYx2KiN1",
        "colab_type": "text"
      },
      "source": [
        "Now `countries1` and `counries2` are different and also the sublists in both lists are different now."
      ]
    },
    {
      "cell_type": "code",
      "metadata": {
        "id": "Euin40J3KuE3",
        "colab_type": "code",
        "outputId": "66137d5f-b0b3-4fcf-cf38-78db003753e3",
        "colab": {
          "base_uri": "https://localhost:8080/",
          "height": 36
        }
      },
      "source": [
        "print(id(countries1[3]), id(countries2[3]))"
      ],
      "execution_count": 19,
      "outputs": [
        {
          "output_type": "stream",
          "text": [
            "140412754468232 140412754430664\n"
          ],
          "name": "stdout"
        }
      ]
    },
    {
      "cell_type": "markdown",
      "metadata": {
        "id": "T7bhMdI2OXTj",
        "colab_type": "text"
      },
      "source": [
        "So if we make change in one sublist, the sublist in other list will not be affected."
      ]
    },
    {
      "cell_type": "code",
      "metadata": {
        "id": "zbymN1vDKxGw",
        "colab_type": "code",
        "outputId": "ba5588ba-4211-4a11-d9a7-a45a48715e34",
        "colab": {
          "base_uri": "https://localhost:8080/",
          "height": 54
        }
      },
      "source": [
        "countries2[3][1] = \"Iraq\"\n",
        "\n",
        "print(countries1)\n",
        "\n",
        "print(countries2)"
      ],
      "execution_count": 20,
      "outputs": [
        {
          "output_type": "stream",
          "text": [
            "['Pakistan', 'Iran', 'Turkey', ['Qatar', 'Malaysia']]\n",
            "['Pakistan', 'Iran', 'Turkey', ['Qatar', 'Iraq']]\n"
          ],
          "name": "stdout"
        }
      ]
    },
    {
      "cell_type": "markdown",
      "metadata": {
        "id": "C8Wp09BcK2KR",
        "colab_type": "text"
      },
      "source": [
        "but the strings in them are not copied so they still have same id."
      ]
    },
    {
      "cell_type": "code",
      "metadata": {
        "id": "g-gzGAprJ2nl",
        "colab_type": "code",
        "outputId": "5869c383-3e72-4e9c-e500-9e3544728829",
        "colab": {
          "base_uri": "https://localhost:8080/",
          "height": 36
        }
      },
      "source": [
        "print(id(countries1[0]), id(countries2[0]))"
      ],
      "execution_count": 21,
      "outputs": [
        {
          "output_type": "stream",
          "text": [
            "140412754430576 140412754430576\n"
          ],
          "name": "stdout"
        }
      ]
    },
    {
      "cell_type": "markdown",
      "metadata": {
        "id": "EffCNt_3Qa_3",
        "colab_type": "text"
      },
      "source": [
        "So `deepcopy` method from `copy` module is the safest way to copy a list when it contain sublists but it is also the slowest one among others.\n",
        "\n",
        "But what if the two sublists in a list are themselves same objects?"
      ]
    },
    {
      "cell_type": "code",
      "metadata": {
        "id": "bvAdpVooQonN",
        "colab_type": "code",
        "outputId": "db599a78-df3e-47b5-ec80-faa8f6bd5fe4",
        "colab": {
          "base_uri": "https://localhost:8080/",
          "height": 36
        }
      },
      "source": [
        "countries1 = [\"Pakistan\", \"Iran\"]\n",
        "b = [countries1,countries1] # there's only 1 object countries1\n",
        "c = deepcopy(b)\n",
        "\n",
        "# check the result\n",
        "c[0] is countries1 # return False, a new object a' is created\n"
      ],
      "execution_count": 22,
      "outputs": [
        {
          "output_type": "execute_result",
          "data": {
            "text/plain": [
              "False"
            ]
          },
          "metadata": {
            "tags": []
          },
          "execution_count": 22
        }
      ]
    },
    {
      "cell_type": "code",
      "metadata": {
        "id": "Qn9mW96XSdku",
        "colab_type": "code",
        "outputId": "25edde73-4b09-4edd-86ee-fa59c75a898c",
        "colab": {
          "base_uri": "https://localhost:8080/",
          "height": 36
        }
      },
      "source": [
        "c[0] is c[1]"
      ],
      "execution_count": 23,
      "outputs": [
        {
          "output_type": "execute_result",
          "data": {
            "text/plain": [
              "True"
            ]
          },
          "metadata": {
            "tags": []
          },
          "execution_count": 23
        }
      ]
    },
    {
      "cell_type": "markdown",
      "metadata": {
        "id": "JiaFsQh4Xj9j",
        "colab_type": "text"
      },
      "source": [
        "In such a scenario, copying with nested for loops is the safest way. `for loops` will be described later."
      ]
    },
    {
      "cell_type": "code",
      "metadata": {
        "id": "G3x9HhSMSe5m",
        "colab_type": "code",
        "colab": {}
      },
      "source": [
        "countries1 = [\"Pakistan\", \"Iran\"]\n",
        "b = [countries1,countries1] # there's only 1 object countries1\n",
        "\n",
        "c = [[i for i in row] for row in b]"
      ],
      "execution_count": 0,
      "outputs": []
    },
    {
      "cell_type": "code",
      "metadata": {
        "id": "i_UkHc_jXXjv",
        "colab_type": "code",
        "outputId": "fe07571c-7577-433a-dbcf-5f32ac6d4dc5",
        "colab": {
          "base_uri": "https://localhost:8080/",
          "height": 36
        }
      },
      "source": [
        "c[0] is countries1"
      ],
      "execution_count": 25,
      "outputs": [
        {
          "output_type": "execute_result",
          "data": {
            "text/plain": [
              "False"
            ]
          },
          "metadata": {
            "tags": []
          },
          "execution_count": 25
        }
      ]
    },
    {
      "cell_type": "code",
      "metadata": {
        "id": "lV9JhJdbXaYv",
        "colab_type": "code",
        "outputId": "a6bc2e43-32da-4890-d712-f0679756db24",
        "colab": {
          "base_uri": "https://localhost:8080/",
          "height": 36
        }
      },
      "source": [
        "c[0] is c[1]"
      ],
      "execution_count": 26,
      "outputs": [
        {
          "output_type": "execute_result",
          "data": {
            "text/plain": [
              "False"
            ]
          },
          "metadata": {
            "tags": []
          },
          "execution_count": 26
        }
      ]
    }
  ]
}