{
  "nbformat": 4,
  "nbformat_minor": 0,
  "metadata": {
    "colab": {
      "name": "functions.ipynb",
      "provenance": [],
      "collapsed_sections": [],
      "include_colab_link": true
    },
    "kernelspec": {
      "name": "python3",
      "display_name": "Python 3"
    }
  },
  "cells": [
    {
      "cell_type": "markdown",
      "metadata": {
        "id": "view-in-github",
        "colab_type": "text"
      },
      "source": [
        "<a href=\"https://colab.research.google.com/github/AtrCheema/python-courses/blob/master/basics/functions.ipynb\" target=\"_parent\"><img src=\"https://colab.research.google.com/assets/colab-badge.svg\" alt=\"Open In Colab\"/></a>"
      ]
    },
    {
      "cell_type": "markdown",
      "metadata": {
        "id": "3wYNCAsUl8Vn",
        "colab_type": "text"
      },
      "source": [
        "# Intro\n",
        "A function is a box to which give some input and it gives you output after performing some operations in that input. In python, the input and output arguments are optional. The basic syntax of a minimal function in is as\n",
        "```python\n",
        "def FunctionName(InputArguments):\n",
        "    commands to find output\n",
        "    return output\n",
        "```\n",
        "\n",
        "As said earlier, `InputArguments` and `return` are optional.\n"
      ]
    },
    {
      "cell_type": "code",
      "metadata": {
        "id": "Bv8sKPTnE2a6",
        "colab_type": "code",
        "colab": {
          "base_uri": "https://localhost:8080/",
          "height": 35
        },
        "outputId": "7dcccbc8-7b1a-4b34-891c-d345c14f4032"
      },
      "source": [
        "def add_nums():\n",
        "    pass\n",
        "\n",
        "print(add_nums)"
      ],
      "execution_count": 1,
      "outputs": [
        {
          "output_type": "stream",
          "text": [
            "<function add_nums at 0x7fb5e2d7b6a8>\n"
          ],
          "name": "stdout"
        }
      ]
    },
    {
      "cell_type": "code",
      "metadata": {
        "id": "ipieiwWdMEPQ",
        "colab_type": "code",
        "outputId": "98609e49-71ac-4337-f916-4cd0fa86a981",
        "colab": {
          "base_uri": "https://localhost:8080/",
          "height": 35
        }
      },
      "source": [
        "type(add_nums)"
      ],
      "execution_count": 2,
      "outputs": [
        {
          "output_type": "execute_result",
          "data": {
            "text/plain": [
              "function"
            ]
          },
          "metadata": {
            "tags": []
          },
          "execution_count": 2
        }
      ]
    },
    {
      "cell_type": "markdown",
      "metadata": {
        "id": "JCGei6V_lbYc",
        "colab_type": "text"
      },
      "source": [
        "Following syntax can be used to call the function\n",
        "```python\n",
        "Output = FunctionName(InputArguments)\n",
        "```\n",
        "\n",
        "`Output` is optional and so does `InputArguments`"
      ]
    },
    {
      "cell_type": "code",
      "metadata": {
        "id": "r0olKh-tlSN8",
        "colab_type": "code",
        "colab": {}
      },
      "source": [
        "add_nums()"
      ],
      "execution_count": 0,
      "outputs": []
    },
    {
      "cell_type": "markdown",
      "metadata": {
        "id": "TQnks_BKmmMi",
        "colab_type": "text"
      },
      "source": [
        "The following function takes two input arguments and addes them"
      ]
    },
    {
      "cell_type": "code",
      "metadata": {
        "id": "AVBkDuUbMF3a",
        "colab_type": "code",
        "outputId": "97bc7799-daaa-459e-8173-cfbef5769854",
        "colab": {
          "base_uri": "https://localhost:8080/",
          "height": 35
        }
      },
      "source": [
        "def add_nums(_a, _b):  # for brevity, we can not write add_nums(_a+_b):\n",
        "    print('_a: ', _a, ' _b:', _b)\n",
        "    _a + _b\n",
        "\n",
        "add_nums(1,5)"
      ],
      "execution_count": 4,
      "outputs": [
        {
          "output_type": "stream",
          "text": [
            "_a:  1  _b: 5\n"
          ],
          "name": "stdout"
        }
      ]
    },
    {
      "cell_type": "markdown",
      "metadata": {
        "id": "WIGxhCcgmsGF",
        "colab_type": "text"
      },
      "source": [
        "Inside the function, we name the two input arguments as `_a` and `_b`. "
      ]
    },
    {
      "cell_type": "code",
      "metadata": {
        "id": "CS6nx6_9MUZi",
        "colab_type": "code",
        "outputId": "00a9fe6b-6c2d-444c-8c41-f2e2c15ef291",
        "colab": {
          "base_uri": "https://localhost:8080/",
          "height": 35
        }
      },
      "source": [
        "def add_nums(_a, _b): \n",
        "    print('_a: ', _a, ' _b:', _b)\n",
        "    _a + _b\n",
        "\n",
        "x = 12\n",
        "y = 14\n",
        "add_nums(x,y)"
      ],
      "execution_count": 5,
      "outputs": [
        {
          "output_type": "stream",
          "text": [
            "_a:  12  _b: 14\n"
          ],
          "name": "stdout"
        }
      ]
    },
    {
      "cell_type": "markdown",
      "metadata": {
        "id": "zFYL_zu1rSCH",
        "colab_type": "text"
      },
      "source": [
        "Outside function `12` is `x` but inside function, `12` is `_a`. The variable `_a` is not available outside fucntion."
      ]
    },
    {
      "cell_type": "code",
      "metadata": {
        "id": "qHrJ7XpuM6AJ",
        "colab_type": "code",
        "outputId": "378613aa-ed9b-4126-e300-aa2bd618aaae",
        "colab": {
          "base_uri": "https://localhost:8080/",
          "height": 54
        }
      },
      "source": [
        "def add_nums(_a, _b): \n",
        "    print('_a: ', _a, ' _b:', _b)\n",
        "    c = _a + _b\n",
        "    return c\n",
        "\n",
        "x = 12\n",
        "y = 14\n",
        "add_nums(x,y)"
      ],
      "execution_count": 8,
      "outputs": [
        {
          "output_type": "stream",
          "text": [
            "_a:  12  _b: 14\n"
          ],
          "name": "stdout"
        },
        {
          "output_type": "execute_result",
          "data": {
            "text/plain": [
              "26"
            ]
          },
          "metadata": {
            "tags": []
          },
          "execution_count": 8
        }
      ]
    },
    {
      "cell_type": "markdown",
      "metadata": {
        "id": "HGYeEAztrll6",
        "colab_type": "text"
      },
      "source": [
        "Inside the function we created `c` and returned it. Outside the function when called the function, this value of `c` is printed the variable named `c` is not available itself. We can assign this value to a new variable whose is is `z` below. It can be any legal variable name.\n",
        "\n",
        "Which variables can be seen inside the function and which can be seen outside the function will be covered under the topic global and local variables."
      ]
    },
    {
      "cell_type": "code",
      "metadata": {
        "id": "psL41UQ_NCyI",
        "colab_type": "code",
        "outputId": "15087da6-e919-4393-c0df-f985565c7130",
        "colab": {
          "base_uri": "https://localhost:8080/",
          "height": 54
        }
      },
      "source": [
        "def add_nums(_a, _b): \n",
        "    print('_a: ', _a, ' _b:', _b)\n",
        "    c = _a + _b\n",
        "    return c\n",
        "\n",
        "x = 12\n",
        "y = 14\n",
        "z = add_nums(x,y)\n",
        "print('The function returns z: ', z)"
      ],
      "execution_count": 9,
      "outputs": [
        {
          "output_type": "stream",
          "text": [
            "_a:  12  _b: 14\n",
            "The function returns z:  26\n"
          ],
          "name": "stdout"
        }
      ]
    },
    {
      "cell_type": "markdown",
      "metadata": {
        "id": "Mnc5tujysCJa",
        "colab_type": "text"
      },
      "source": [
        "`c` and `z` have same values with the difference that `c` exists only inside the function. However, creation of `c` is not necessary, we can just return the result as it is."
      ]
    },
    {
      "cell_type": "code",
      "metadata": {
        "id": "oQKBnxdbNLbA",
        "colab_type": "code",
        "outputId": "b33ed2a5-69f8-45a9-fb9f-0dc3b34a1802",
        "colab": {
          "base_uri": "https://localhost:8080/",
          "height": 54
        }
      },
      "source": [
        "def add_nums(_a, _b): \n",
        "    print('_a: ', _a, ' _b:', _b)\n",
        "    return  _a + _b\n",
        "\n",
        "x = 12\n",
        "y = 14\n",
        "z = add_nums(x,y)\n",
        "print('The function returns z: ', z)"
      ],
      "execution_count": 10,
      "outputs": [
        {
          "output_type": "stream",
          "text": [
            "_a:  12  _b: 14\n",
            "The function returns z:  26\n"
          ],
          "name": "stdout"
        }
      ]
    },
    {
      "cell_type": "markdown",
      "metadata": {
        "id": "MngW5Aw7sb5W",
        "colab_type": "text"
      },
      "source": [
        "Default arguments can be provided to input arguments. The default arguments are only used if we don't provide their values when calling them, otherwise their values are overwritten."
      ]
    },
    {
      "cell_type": "code",
      "metadata": {
        "id": "Ovvmi8_GNS4p",
        "colab_type": "code",
        "outputId": "5348f6d8-6761-4dea-dea4-2b55cbf1466f",
        "colab": {
          "base_uri": "https://localhost:8080/",
          "height": 54
        }
      },
      "source": [
        "def add_nums(_a=12, _b=14): \n",
        "    print('_a: ', _a, ' _b:', _b)\n",
        "    return  _a + _b\n",
        "\n",
        "x = 114\n",
        "y = 313\n",
        "z = add_nums(x,y)\n",
        "print('The function returns z: ', z)"
      ],
      "execution_count": 11,
      "outputs": [
        {
          "output_type": "stream",
          "text": [
            "_a:  114  _b: 313\n",
            "The function returns z:  427\n"
          ],
          "name": "stdout"
        }
      ]
    },
    {
      "cell_type": "markdown",
      "metadata": {
        "id": "fLAlx8P3ss_y",
        "colab_type": "text"
      },
      "source": [
        "Above: The value from variable `x` is going to `_a` and will replace its default value. The value from variable `y` will go to `_b` and will overwrite its default value i.e. 14.\n",
        "\n",
        "When we have have defined the default values of input arguments in function definition, we can skip one or more input arguments when calling the function as shown below."
      ]
    },
    {
      "cell_type": "code",
      "metadata": {
        "id": "8WB3OvstNhY7",
        "colab_type": "code",
        "outputId": "f6feed86-5242-43a3-fab3-f21300f7a846",
        "colab": {
          "base_uri": "https://localhost:8080/",
          "height": 54
        }
      },
      "source": [
        "def add_nums(_a=12, _b=14): \n",
        "    print('_a: ', _a, ' _b:', _b)\n",
        "    return  _a + _b\n",
        "\n",
        "y = 313\n",
        "z = add_nums( y)\n",
        "print('The function returns z: ', z)"
      ],
      "execution_count": 12,
      "outputs": [
        {
          "output_type": "stream",
          "text": [
            "_a:  313  _b: 14\n",
            "The function returns z:  327\n"
          ],
          "name": "stdout"
        }
      ]
    },
    {
      "cell_type": "markdown",
      "metadata": {
        "id": "PoRdABnttP7p",
        "colab_type": "text"
      },
      "source": [
        "Above: The value from `y` will be assigned to `_a` while `_b` will use its default value."
      ]
    },
    {
      "cell_type": "code",
      "metadata": {
        "id": "QDJNqn-_Nmb_",
        "colab_type": "code",
        "outputId": "2034d271-dc49-45f7-e779-a9e7bd07060b",
        "colab": {
          "base_uri": "https://localhost:8080/",
          "height": 54
        }
      },
      "source": [
        "def add_nums(_a=12, _b=14): \n",
        "    print('_a: ', _a, ' _b:', _b)\n",
        "    return  _a + _b\n",
        "\n",
        "y = 313\n",
        "z = add_nums( _b=y)\n",
        "print('The function returns z: ', z)"
      ],
      "execution_count": 13,
      "outputs": [
        {
          "output_type": "stream",
          "text": [
            "_a:  12  _b: 313\n",
            "The function returns z:  325\n"
          ],
          "name": "stdout"
        }
      ]
    },
    {
      "cell_type": "markdown",
      "metadata": {
        "id": "8u4OTlzAta1g",
        "colab_type": "text"
      },
      "source": [
        "Above: `_a` will use its default value while `_b` will get value of `y`."
      ]
    },
    {
      "cell_type": "code",
      "metadata": {
        "id": "Jx-AagvrNp6g",
        "colab_type": "code",
        "outputId": "cde2acd4-6feb-4f76-b29f-622e9879916d",
        "colab": {
          "base_uri": "https://localhost:8080/",
          "height": 54
        }
      },
      "source": [
        "def add_nums(_a=12, _b=14): \n",
        "    print('_a: ', _a, ' _b:', _b)\n",
        "    return  _a + _b\n",
        "\n",
        "x = 114\n",
        "z = add_nums(_a = x)\n",
        "print('The function returns z: ', z)"
      ],
      "execution_count": 14,
      "outputs": [
        {
          "output_type": "stream",
          "text": [
            "_a:  114  _b: 14\n",
            "The function returns z:  128\n"
          ],
          "name": "stdout"
        }
      ]
    },
    {
      "cell_type": "markdown",
      "metadata": {
        "id": "naAoegndtm3d",
        "colab_type": "text"
      },
      "source": [
        "Above: `_a` will use the value of `x` i.e. 114 while `_b` will use its default value i.e. 14."
      ]
    },
    {
      "cell_type": "code",
      "metadata": {
        "id": "Zn6XW82cNzXg",
        "colab_type": "code",
        "outputId": "cb83be11-e4e1-4af1-ea43-2cac4bb694b6",
        "colab": {
          "base_uri": "https://localhost:8080/",
          "height": 54
        }
      },
      "source": [
        "def add_nums(_a=12, _b=14): \n",
        "    print('_a: ', _a, ' _b:', _b)\n",
        "    return  _a + _b\n",
        "\n",
        "z = add_nums(1)\n",
        "print('The function returns z: ', z)"
      ],
      "execution_count": 15,
      "outputs": [
        {
          "output_type": "stream",
          "text": [
            "_a:  1  _b: 14\n",
            "The function returns z:  15\n"
          ],
          "name": "stdout"
        }
      ]
    },
    {
      "cell_type": "markdown",
      "metadata": {
        "id": "4nK_VzdUt0CM",
        "colab_type": "text"
      },
      "source": [
        "Above: `1` will go to `_a` while `_b` will use its default value.\n",
        "\n",
        "The function cal also be called without providing any input argument because both input arguments are optional. In this case the default values will be used."
      ]
    },
    {
      "cell_type": "code",
      "metadata": {
        "id": "SN2Pn1FWN4qI",
        "colab_type": "code",
        "outputId": "b01cbeb0-e02b-4dca-b5b8-eec7d7565a5a",
        "colab": {
          "base_uri": "https://localhost:8080/",
          "height": 54
        }
      },
      "source": [
        "def add_nums(_a=12, _b=14): \n",
        "    print('_a: ', _a, ' _b:', _b)\n",
        "    return  _a + _b\n",
        "\n",
        "z = add_nums()\n",
        "print('The function returns z: ', z)"
      ],
      "execution_count": 16,
      "outputs": [
        {
          "output_type": "stream",
          "text": [
            "_a:  12  _b: 14\n",
            "The function returns z:  26\n"
          ],
          "name": "stdout"
        }
      ]
    },
    {
      "cell_type": "markdown",
      "metadata": {
        "id": "b1REuE-iuO_B",
        "colab_type": "text"
      },
      "source": [
        "We can define the optional arguments with obligatory arguments. In function below, `_c` is optional, while `_a` and `_b` are obligatory."
      ]
    },
    {
      "cell_type": "code",
      "metadata": {
        "id": "L7rzyO2sOEK4",
        "colab_type": "code",
        "outputId": "ad3e9783-c701-4969-da14-fe8f6042b0fb",
        "colab": {
          "base_uri": "https://localhost:8080/",
          "height": 54
        }
      },
      "source": [
        "def add_nums(_a, _b, _c=14): \n",
        "    print('_a:', _a, '  _b:', _b, '  _c:', _c)\n",
        "    return  _a + _b\n",
        "\n",
        "z = add_nums(1,2)\n",
        "print('The function returns z: ', z)"
      ],
      "execution_count": 17,
      "outputs": [
        {
          "output_type": "stream",
          "text": [
            "_a: 1   _b: 2   _c: 14\n",
            "The function returns z:  3\n"
          ],
          "name": "stdout"
        }
      ]
    },
    {
      "cell_type": "markdown",
      "metadata": {
        "id": "5rVPNCVlucLN",
        "colab_type": "text"
      },
      "source": [
        "Above: We have not provided the value for `_c`. As it was optional argument, its default value was used."
      ]
    },
    {
      "cell_type": "markdown",
      "metadata": {
        "id": "YXvHAxdIOy-4",
        "colab_type": "text"
      },
      "source": [
        "What will be the output of following function?"
      ]
    },
    {
      "cell_type": "code",
      "metadata": {
        "id": "HBkiYkL-Od4o",
        "colab_type": "code",
        "colab": {}
      },
      "source": [
        "#z = add_nums()\n",
        "#print('The function returns z: ', z)"
      ],
      "execution_count": 0,
      "outputs": []
    },
    {
      "cell_type": "markdown",
      "metadata": {
        "id": "9hClIkrEPDK_",
        "colab_type": "text"
      },
      "source": [
        "Guess the output from following cell."
      ]
    },
    {
      "cell_type": "code",
      "metadata": {
        "id": "vLJNE7qWPDVv",
        "colab_type": "code",
        "colab": {}
      },
      "source": [
        "# z = add_nums(a=1, c=313)\n",
        "# print('The function returns z: ', z)"
      ],
      "execution_count": 0,
      "outputs": []
    },
    {
      "cell_type": "markdown",
      "metadata": {
        "id": "UeB9UuubKwKb",
        "colab_type": "text"
      },
      "source": [
        "# Return\n",
        "\n",
        "A function returns `None` by default."
      ]
    },
    {
      "cell_type": "code",
      "metadata": {
        "id": "ebN1ibR6Jyds",
        "colab_type": "code",
        "outputId": "9c06ba2e-3955-499c-9026-430a4ef9cc68",
        "colab": {
          "base_uri": "https://localhost:8080/",
          "height": 54
        }
      },
      "source": [
        "import random\n",
        "qatleen = ['winsten churchil', 'rana sanaullah', 'obama', 'musharaf']\n",
        "\n",
        "def print_qatal():\n",
        "    print(random.choice(qatleen))\n",
        "    return None\n",
        "\n",
        "a = print_qatal()\n",
        "type(a)"
      ],
      "execution_count": 18,
      "outputs": [
        {
          "output_type": "stream",
          "text": [
            "winsten churchil\n"
          ],
          "name": "stdout"
        },
        {
          "output_type": "execute_result",
          "data": {
            "text/plain": [
              "NoneType"
            ]
          },
          "metadata": {
            "tags": []
          },
          "execution_count": 18
        }
      ]
    },
    {
      "cell_type": "markdown",
      "metadata": {
        "id": "Qg94F6UnJ3eT",
        "colab_type": "text"
      },
      "source": [
        "Even if a function does not return anything explicitly, it returns `None`."
      ]
    },
    {
      "cell_type": "code",
      "metadata": {
        "id": "8LYDfnRSJbJV",
        "colab_type": "code",
        "outputId": "6f9df594-8bd0-450a-c513-bffd33cb4740",
        "colab": {
          "base_uri": "https://localhost:8080/",
          "height": 54
        }
      },
      "source": [
        "def print_qatal():\n",
        "    print(random.choice(qatleen))\n",
        "    return\n",
        "\n",
        "a = print_qatal()\n",
        "type(a)"
      ],
      "execution_count": 19,
      "outputs": [
        {
          "output_type": "stream",
          "text": [
            "musharaf\n"
          ],
          "name": "stdout"
        },
        {
          "output_type": "execute_result",
          "data": {
            "text/plain": [
              "NoneType"
            ]
          },
          "metadata": {
            "tags": []
          },
          "execution_count": 19
        }
      ]
    },
    {
      "cell_type": "markdown",
      "metadata": {
        "id": "XfrCJ0ozJOW1",
        "colab_type": "text"
      },
      "source": [
        "if a function does not return anythin, it returns `None`."
      ]
    },
    {
      "cell_type": "code",
      "metadata": {
        "id": "ufiwe4yVI3E_",
        "colab_type": "code",
        "outputId": "565012e5-d1d1-4e1f-fc07-8fecd7cbd1c3",
        "colab": {
          "base_uri": "https://localhost:8080/",
          "height": 54
        }
      },
      "source": [
        "def print_qatal():\n",
        "    print(random.choice(qatleen))\n",
        "\n",
        "a = print_qatal()\n",
        "type(a)"
      ],
      "execution_count": 20,
      "outputs": [
        {
          "output_type": "stream",
          "text": [
            "winsten churchil\n"
          ],
          "name": "stdout"
        },
        {
          "output_type": "execute_result",
          "data": {
            "text/plain": [
              "NoneType"
            ]
          },
          "metadata": {
            "tags": []
          },
          "execution_count": 20
        }
      ]
    },
    {
      "cell_type": "markdown",
      "metadata": {
        "id": "R5vwaU7UJUzT",
        "colab_type": "text"
      },
      "source": [
        "So it is impossible in python to write a function which returns absolutely nothing."
      ]
    },
    {
      "cell_type": "code",
      "metadata": {
        "id": "RhbYQkO6t3jn",
        "colab_type": "code",
        "outputId": "b6659a20-1669-47df-b924-225203b3eeb2",
        "colab": {
          "base_uri": "https://localhost:8080/",
          "height": 35
        }
      },
      "source": [
        "def func(a,b):\n",
        "    x = a\n",
        "    y = b\n",
        "    return x,y\n",
        "\n",
        "xx = func(5,12)\n",
        "print(xx, type(xx))"
      ],
      "execution_count": 21,
      "outputs": [
        {
          "output_type": "stream",
          "text": [
            "(5, 12) <class 'tuple'>\n"
          ],
          "name": "stdout"
        }
      ]
    },
    {
      "cell_type": "markdown",
      "metadata": {
        "id": "ZUPNIaA20P0v",
        "colab_type": "text"
      },
      "source": [
        "Above: The function returns 2 arguments but we assigned it to 1 variable named `xx`. Thus, `xx` will be a tuple consisting of two values"
      ]
    },
    {
      "cell_type": "code",
      "metadata": {
        "id": "WgplpMTKuGzO",
        "colab_type": "code",
        "outputId": "68b5bb15-ca59-4cae-8f31-4114a6dddcd0",
        "colab": {
          "base_uri": "https://localhost:8080/",
          "height": 54
        }
      },
      "source": [
        "xx, yy = func(5,12)\n",
        "print(xx, type(xx))\n",
        "print(yy, type(yy))"
      ],
      "execution_count": 22,
      "outputs": [
        {
          "output_type": "stream",
          "text": [
            "5 <class 'int'>\n",
            "12 <class 'int'>\n"
          ],
          "name": "stdout"
        }
      ]
    },
    {
      "cell_type": "markdown",
      "metadata": {
        "id": "IEgIbt4K0c-6",
        "colab_type": "text"
      },
      "source": [
        "If the function returns fewer arguments that the variables assigned, then it will give error. Try calling `xx, yy, zz = func(5,12)` and it will give error."
      ]
    },
    {
      "cell_type": "markdown",
      "metadata": {
        "id": "BJufOpAqQ1YK",
        "colab_type": "text"
      },
      "source": [
        "If the function returns multiple values but we want to get only one value, we can do it as"
      ]
    },
    {
      "cell_type": "code",
      "metadata": {
        "id": "rceZ4C0sQyfk",
        "colab_type": "code",
        "colab": {
          "base_uri": "https://localhost:8080/",
          "height": 35
        },
        "outputId": "25faedc9-23ac-4ee1-9803-d67ef658c7c0"
      },
      "source": [
        "xx = func(15,12)[1]\n",
        "xx"
      ],
      "execution_count": 25,
      "outputs": [
        {
          "output_type": "execute_result",
          "data": {
            "text/plain": [
              "12"
            ]
          },
          "metadata": {
            "tags": []
          },
          "execution_count": 25
        }
      ]
    },
    {
      "cell_type": "markdown",
      "metadata": {
        "id": "BGhYVfBeCXLz",
        "colab_type": "text"
      },
      "source": [
        "# return a tuple from function"
      ]
    },
    {
      "cell_type": "code",
      "metadata": {
        "id": "u593d9fYkiK9",
        "colab_type": "code",
        "outputId": "2152a209-d074-4b93-80b1-d23de7938c09",
        "colab": {
          "base_uri": "https://localhost:8080/",
          "height": 35
        }
      },
      "source": [
        "def retun_list(a):\n",
        "    return [a]\n",
        "\n",
        "out = retun_list(10)\n",
        "type(out)"
      ],
      "execution_count": 26,
      "outputs": [
        {
          "output_type": "execute_result",
          "data": {
            "text/plain": [
              "list"
            ]
          },
          "metadata": {
            "tags": []
          },
          "execution_count": 26
        }
      ]
    },
    {
      "cell_type": "code",
      "metadata": {
        "id": "2MpcjwTnEDm4",
        "colab_type": "code",
        "outputId": "d4085a26-1dcb-43cc-816c-2c06fd9df927",
        "colab": {
          "base_uri": "https://localhost:8080/",
          "height": 35
        }
      },
      "source": [
        "def return_tuple(a):\n",
        "    return (a, a)\n",
        "\n",
        "out = return_tuple(10)\n",
        "type(out)"
      ],
      "execution_count": 27,
      "outputs": [
        {
          "output_type": "execute_result",
          "data": {
            "text/plain": [
              "tuple"
            ]
          },
          "metadata": {
            "tags": []
          },
          "execution_count": 27
        }
      ]
    },
    {
      "cell_type": "code",
      "metadata": {
        "id": "3rNmqkXOCjAz",
        "colab_type": "code",
        "outputId": "083d762c-a803-4447-c228-7880ae40d153",
        "colab": {
          "base_uri": "https://localhost:8080/",
          "height": 35
        }
      },
      "source": [
        "def return_tuple(a):\n",
        "    return (a)\n",
        "\n",
        "out = return_tuple(10)\n",
        "type(out)"
      ],
      "execution_count": 28,
      "outputs": [
        {
          "output_type": "execute_result",
          "data": {
            "text/plain": [
              "int"
            ]
          },
          "metadata": {
            "tags": []
          },
          "execution_count": 28
        }
      ]
    },
    {
      "cell_type": "markdown",
      "metadata": {
        "id": "xWP5z28-EoqI",
        "colab_type": "text"
      },
      "source": [
        "The reason is that it is comma `,` which makes something a tuple not the brackets. So in order to get a tuple from function, we must put comma event if there is only one object in the tuple as shown below."
      ]
    },
    {
      "cell_type": "code",
      "metadata": {
        "id": "_YZGaQmXEioX",
        "colab_type": "code",
        "outputId": "5bbb2aa0-5f7a-43ef-e8f0-9770ba002bfb",
        "colab": {
          "base_uri": "https://localhost:8080/",
          "height": 35
        }
      },
      "source": [
        "def return_tuple(a):\n",
        "    return (a,)\n",
        "\n",
        "out = return_tuple(10)\n",
        "type(out)"
      ],
      "execution_count": 29,
      "outputs": [
        {
          "output_type": "execute_result",
          "data": {
            "text/plain": [
              "tuple"
            ]
          },
          "metadata": {
            "tags": []
          },
          "execution_count": 29
        }
      ]
    },
    {
      "cell_type": "markdown",
      "metadata": {
        "id": "UD5ORuP1GM6_",
        "colab_type": "text"
      },
      "source": [
        "# function as input argument\n",
        "\n",
        "We can assign a function to a variable and use that variable to call the function."
      ]
    },
    {
      "cell_type": "code",
      "metadata": {
        "id": "6ndLvKOZRQpp",
        "colab_type": "code",
        "colab": {
          "base_uri": "https://localhost:8080/",
          "height": 35
        },
        "outputId": "b9155993-568e-4972-d752-b962874cb099"
      },
      "source": [
        "def print_me(to_print):\n",
        "    print(to_print)\n",
        "\n",
        "a = print_me\n",
        "\n",
        "a('This goes into print_me')"
      ],
      "execution_count": 30,
      "outputs": [
        {
          "output_type": "stream",
          "text": [
            "This goes into print_me\n"
          ],
          "name": "stdout"
        }
      ]
    },
    {
      "cell_type": "markdown",
      "metadata": {
        "id": "0NAwa2YZRsay",
        "colab_type": "text"
      },
      "source": [
        "Thus we can use functions as input arguments to other functions as well."
      ]
    },
    {
      "cell_type": "code",
      "metadata": {
        "id": "WMaCx2q_GKsW",
        "colab_type": "code",
        "outputId": "59d84037-8f25-41b9-929a-52501cefd0e0",
        "colab": {
          "base_uri": "https://localhost:8080/",
          "height": 35
        }
      },
      "source": [
        "def magic(left, op, right):\n",
        "    return op(left, right)\n",
        "\n",
        "\n",
        "def my_op(a,b):\n",
        "    return a==b\n",
        "\n",
        "magic(2,my_op, 2)"
      ],
      "execution_count": 31,
      "outputs": [
        {
          "output_type": "execute_result",
          "data": {
            "text/plain": [
              "True"
            ]
          },
          "metadata": {
            "tags": []
          },
          "execution_count": 31
        }
      ]
    },
    {
      "cell_type": "markdown",
      "metadata": {
        "id": "-CC2mMzDgEFi",
        "colab_type": "text"
      },
      "source": [
        "\n",
        "\n",
        "# break vs return"
      ]
    },
    {
      "cell_type": "code",
      "metadata": {
        "id": "-G_ZqMLhf2cv",
        "colab_type": "code",
        "outputId": "4181d000-33a3-46d7-eac6-0c324e44f225",
        "colab": {
          "base_uri": "https://localhost:8080/",
          "height": 35
        }
      },
      "source": [
        "def add_nums(a_list, break_point=5):\n",
        "    _sum = 0.0\n",
        "    for val in a_list:\n",
        "        _sum += val\n",
        "        if _sum>break_point:\n",
        "            break\n",
        "    return _sum\n",
        "\n",
        "a = add_nums([1,2,3,4,5])\n",
        "print(a)"
      ],
      "execution_count": 32,
      "outputs": [
        {
          "output_type": "stream",
          "text": [
            "6.0\n"
          ],
          "name": "stdout"
        }
      ]
    },
    {
      "cell_type": "markdown",
      "metadata": {
        "id": "THs4lGS6i8C_",
        "colab_type": "text"
      },
      "source": [
        "As sooon as the value of `_sum` became greater than `break_point` the function exited and we got the value of _sum at that point."
      ]
    },
    {
      "cell_type": "code",
      "metadata": {
        "id": "W8mKh0XqiUXi",
        "colab_type": "code",
        "outputId": "c1b55956-c7b0-4bf3-9b2a-4d7ed135b95c",
        "colab": {
          "base_uri": "https://localhost:8080/",
          "height": 35
        }
      },
      "source": [
        "a = add_nums([1,2,3,4,5], 50)\n",
        "print(a)"
      ],
      "execution_count": 33,
      "outputs": [
        {
          "output_type": "stream",
          "text": [
            "15.0\n"
          ],
          "name": "stdout"
        }
      ]
    },
    {
      "cell_type": "markdown",
      "metadata": {
        "id": "3Jv6bNCVjJcv",
        "colab_type": "text"
      },
      "source": [
        "Was the `break` statement executed above?"
      ]
    },
    {
      "cell_type": "markdown",
      "metadata": {
        "id": "XEdbioYksW1v",
        "colab_type": "text"
      },
      "source": [
        "# docstring\n",
        "\n",
        "The first string inside the functions is usually put for help. This is called `docstring`. It can be called by `__doc__` method"
      ]
    },
    {
      "cell_type": "code",
      "metadata": {
        "id": "F0DotnLysVgJ",
        "colab_type": "code",
        "outputId": "4683b0e2-b6bd-4076-adbc-be713bbe5104",
        "colab": {
          "base_uri": "https://localhost:8080/",
          "height": 35
        }
      },
      "source": [
        "def fahrenheit(T_in_celcius):\n",
        "    \"\"\"This function converts temperature from celcius to Fahrenheit. \"\"\"\n",
        "    return (T_in_celsius * 9 / 5) + 32\n",
        "\n",
        "fahrenheit.__doc__"
      ],
      "execution_count": 34,
      "outputs": [
        {
          "output_type": "execute_result",
          "data": {
            "text/plain": [
              "'This function converts temperature from celcius to Fahrenheit. '"
            ]
          },
          "metadata": {
            "tags": []
          },
          "execution_count": 34
        }
      ]
    },
    {
      "cell_type": "code",
      "metadata": {
        "id": "OCy3jg427oVm",
        "colab_type": "code",
        "colab": {
          "base_uri": "https://localhost:8080/",
          "height": 109
        },
        "outputId": "bf51d377-0cc7-4fee-ec71-375df8083ad6"
      },
      "source": [
        "help(fahrenheit)"
      ],
      "execution_count": 35,
      "outputs": [
        {
          "output_type": "stream",
          "text": [
            "Help on function fahrenheit in module __main__:\n",
            "\n",
            "fahrenheit(T_in_celcius)\n",
            "    This function converts temperature from celcius to Fahrenheit.\n",
            "\n"
          ],
          "name": "stdout"
        }
      ]
    },
    {
      "cell_type": "markdown",
      "metadata": {
        "id": "foVKtLAR2qfl",
        "colab_type": "text"
      },
      "source": [
        "If we want to know the name of a function as string we can do it as following."
      ]
    },
    {
      "cell_type": "code",
      "metadata": {
        "id": "gQPFlDm0ivWG",
        "colab_type": "code",
        "outputId": "1c451e51-c281-4dae-be2b-9db28dda7976",
        "colab": {
          "base_uri": "https://localhost:8080/",
          "height": 35
        }
      },
      "source": [
        "converter = fahrenheit\n",
        "\n",
        "converter.__name__"
      ],
      "execution_count": 36,
      "outputs": [
        {
          "output_type": "execute_result",
          "data": {
            "text/plain": [
              "'fahrenheit'"
            ]
          },
          "metadata": {
            "tags": []
          },
          "execution_count": 36
        }
      ]
    }
  ]
}