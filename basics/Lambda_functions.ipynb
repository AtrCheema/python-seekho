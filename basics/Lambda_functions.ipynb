{
  "nbformat": 4,
  "nbformat_minor": 0,
  "metadata": {
    "colab": {
      "name": "Lambda functions.ipynb",
      "provenance": [],
      "collapsed_sections": [],
      "include_colab_link": true
    },
    "kernelspec": {
      "name": "python3",
      "display_name": "Python 3"
    }
  },
  "cells": [
    {
      "cell_type": "markdown",
      "metadata": {
        "id": "view-in-github",
        "colab_type": "text"
      },
      "source": [
        "<a href=\"https://colab.research.google.com/github/AtrCheema/python-courses/blob/master/basics/Lambda_functions.ipynb\" target=\"_parent\"><img src=\"https://colab.research.google.com/assets/colab-badge.svg\" alt=\"Open In Colab\"/></a>"
      ]
    },
    {
      "cell_type": "code",
      "metadata": {
        "id": "5kyokVkyUgjz",
        "colab_type": "code",
        "colab": {
          "base_uri": "https://localhost:8080/",
          "height": 36
        },
        "outputId": "6859261d-9db7-4e8c-8cd2-921d4cd52a53"
      },
      "source": [
        "def square(x):\n",
        "    return x**2\n",
        "\n",
        "square(2)"
      ],
      "execution_count": 1,
      "outputs": [
        {
          "output_type": "execute_result",
          "data": {
            "text/plain": [
              "4"
            ]
          },
          "metadata": {
            "tags": []
          },
          "execution_count": 1
        }
      ]
    },
    {
      "cell_type": "markdown",
      "metadata": {
        "id": "DSoTlGY53vCB",
        "colab_type": "text"
      },
      "source": [
        "The basic syntax for lambda functiosn is\n",
        "\n",
        "```python\n",
        "lambda argument_list: expression\n",
        "```"
      ]
    },
    {
      "cell_type": "code",
      "metadata": {
        "id": "zVghz8saAq8i",
        "colab_type": "code",
        "colab": {}
      },
      "source": [
        "square = lambda x: x**2"
      ],
      "execution_count": 0,
      "outputs": []
    },
    {
      "cell_type": "code",
      "metadata": {
        "id": "bbxtWbijAttB",
        "colab_type": "code",
        "outputId": "487db424-fffc-47ab-9699-4adc8ba32248",
        "colab": {
          "base_uri": "https://localhost:8080/",
          "height": 36
        }
      },
      "source": [
        "square(2)"
      ],
      "execution_count": 3,
      "outputs": [
        {
          "output_type": "execute_result",
          "data": {
            "text/plain": [
              "4"
            ]
          },
          "metadata": {
            "tags": []
          },
          "execution_count": 3
        }
      ]
    },
    {
      "cell_type": "markdown",
      "metadata": {
        "id": "p7U6tLi975PV",
        "colab_type": "text"
      },
      "source": [
        "# lambda for more complex functions"
      ]
    },
    {
      "cell_type": "code",
      "metadata": {
        "id": "H2QQmvpJGw2R",
        "colab_type": "code",
        "outputId": "78a8034e-2e0d-4ba4-f995-152ac75d8032",
        "colab": {
          "base_uri": "https://localhost:8080/",
          "height": 36
        }
      },
      "source": [
        "def Centigrade_to_Fahrenheit(T_C):\n",
        "    return (float(9)/5)*T_C + 32\n",
        "\n",
        "Centigrade_to_Fahrenheit(37)"
      ],
      "execution_count": 4,
      "outputs": [
        {
          "output_type": "execute_result",
          "data": {
            "text/plain": [
              "98.60000000000001"
            ]
          },
          "metadata": {
            "tags": []
          },
          "execution_count": 4
        }
      ]
    },
    {
      "cell_type": "code",
      "metadata": {
        "id": "AyF6HvPWA1wI",
        "colab_type": "code",
        "outputId": "df14baff-9eff-44df-c042-010a53e94170",
        "colab": {
          "base_uri": "https://localhost:8080/",
          "height": 36
        }
      },
      "source": [
        "Centigrade_to_Fahrenheit = lambda T_C: (float(9)/5)*T_C + 32\n",
        "Centigrade_to_Fahrenheit(37)"
      ],
      "execution_count": 5,
      "outputs": [
        {
          "output_type": "execute_result",
          "data": {
            "text/plain": [
              "98.60000000000001"
            ]
          },
          "metadata": {
            "tags": []
          },
          "execution_count": 5
        }
      ]
    },
    {
      "cell_type": "markdown",
      "metadata": {
        "id": "j2rABzx4RNPN",
        "colab_type": "text"
      },
      "source": [
        "Lambda functions can be made for more than one input arguments as well."
      ]
    },
    {
      "cell_type": "code",
      "metadata": {
        "id": "oFcScvWd7FbH",
        "colab_type": "code",
        "outputId": "b667132f-883a-4c89-b6f0-5f3cbce73742",
        "colab": {
          "base_uri": "https://localhost:8080/",
          "height": 36
        }
      },
      "source": [
        "x = lambda a,b: a+b\n",
        "x(1,2)"
      ],
      "execution_count": 6,
      "outputs": [
        {
          "output_type": "execute_result",
          "data": {
            "text/plain": [
              "3"
            ]
          },
          "metadata": {
            "tags": []
          },
          "execution_count": 6
        }
      ]
    },
    {
      "cell_type": "markdown",
      "metadata": {
        "id": "SGUU2WVbRX_3",
        "colab_type": "text"
      },
      "source": [
        "Just like normal functions in python, lambda function can also compensate default input arguments."
      ]
    },
    {
      "cell_type": "code",
      "metadata": {
        "id": "hQNdyYXl7PfB",
        "colab_type": "code",
        "outputId": "9d703c8a-1763-4a4a-fc62-01ddf8085eb0",
        "colab": {
          "base_uri": "https://localhost:8080/",
          "height": 36
        }
      },
      "source": [
        "x = lambda a,b=2: a+b\n",
        "x(1)"
      ],
      "execution_count": 7,
      "outputs": [
        {
          "output_type": "execute_result",
          "data": {
            "text/plain": [
              "3"
            ]
          },
          "metadata": {
            "tags": []
          },
          "execution_count": 7
        }
      ]
    },
    {
      "cell_type": "markdown",
      "metadata": {
        "id": "x_AVyoi8RjDQ",
        "colab_type": "text"
      },
      "source": [
        "`b` is an optional input argument in above function named `x`. \n",
        "\n",
        "Below, both input arguments are optional and have their default parameters set."
      ]
    },
    {
      "cell_type": "code",
      "metadata": {
        "id": "7098mLsJ7VUJ",
        "colab_type": "code",
        "outputId": "4d009504-fe11-463d-db6b-2d418f8c6bef",
        "colab": {
          "base_uri": "https://localhost:8080/",
          "height": 36
        }
      },
      "source": [
        "x = lambda a=1,b=2: a+b\n",
        "x()"
      ],
      "execution_count": 8,
      "outputs": [
        {
          "output_type": "execute_result",
          "data": {
            "text/plain": [
              "3"
            ]
          },
          "metadata": {
            "tags": []
          },
          "execution_count": 8
        }
      ]
    },
    {
      "cell_type": "markdown",
      "metadata": {
        "id": "LoG0s9iOR1jF",
        "colab_type": "text"
      },
      "source": [
        "`if` and `if else` statements can also be used inside lambda."
      ]
    },
    {
      "cell_type": "code",
      "metadata": {
        "id": "xWBXXFlw7eGu",
        "colab_type": "code",
        "outputId": "d044f874-1c93-4cf9-bebe-8088cb84f084",
        "colab": {
          "base_uri": "https://localhost:8080/",
          "height": 36
        }
      },
      "source": [
        "x = lambda a,b=None: a+b if b is not None else a\n",
        "x(1,2)"
      ],
      "execution_count": 9,
      "outputs": [
        {
          "output_type": "execute_result",
          "data": {
            "text/plain": [
              "3"
            ]
          },
          "metadata": {
            "tags": []
          },
          "execution_count": 9
        }
      ]
    },
    {
      "cell_type": "code",
      "metadata": {
        "id": "R4w3ORk37nrw",
        "colab_type": "code",
        "outputId": "29b96556-115b-4e07-d4d9-86c41094de2e",
        "colab": {
          "base_uri": "https://localhost:8080/",
          "height": 36
        }
      },
      "source": [
        "x(1)"
      ],
      "execution_count": 10,
      "outputs": [
        {
          "output_type": "execute_result",
          "data": {
            "text/plain": [
              "1"
            ]
          },
          "metadata": {
            "tags": []
          },
          "execution_count": 10
        }
      ]
    },
    {
      "cell_type": "markdown",
      "metadata": {
        "id": "NZcnxPjNWtx1",
        "colab_type": "text"
      },
      "source": [
        "# Combining lambda with map\n",
        "\n",
        "When lambda is combined with `map` function, it results in very concise code."
      ]
    },
    {
      "cell_type": "code",
      "metadata": {
        "id": "TMOJVYVfKGCH",
        "colab_type": "code",
        "outputId": "18f922c0-aaa6-4089-e596-7af439a47146",
        "colab": {
          "base_uri": "https://localhost:8080/",
          "height": 36
        }
      },
      "source": [
        "a = [0, 1, 2, 3, 4,5 ,6 ,7, 8, 9]\n",
        "squares = map(lambda x: x**2, a)\n",
        "type(squares)"
      ],
      "execution_count": 11,
      "outputs": [
        {
          "output_type": "execute_result",
          "data": {
            "text/plain": [
              "map"
            ]
          },
          "metadata": {
            "tags": []
          },
          "execution_count": 11
        }
      ]
    },
    {
      "cell_type": "markdown",
      "metadata": {
        "id": "9PuCX2cZ5zmu",
        "colab_type": "text"
      },
      "source": [
        "`squares` is an iterator, which can be verified."
      ]
    },
    {
      "cell_type": "code",
      "metadata": {
        "id": "xZKA7j0H43EX",
        "colab_type": "code",
        "outputId": "313dc4b8-3b7f-4a5f-d213-67743051c783",
        "colab": {
          "base_uri": "https://localhost:8080/",
          "height": 36
        }
      },
      "source": [
        "from collections.abc import Iterator\n",
        "isinstance(squares, Iterator)"
      ],
      "execution_count": 12,
      "outputs": [
        {
          "output_type": "execute_result",
          "data": {
            "text/plain": [
              "True"
            ]
          },
          "metadata": {
            "tags": []
          },
          "execution_count": 12
        }
      ]
    },
    {
      "cell_type": "code",
      "metadata": {
        "id": "7iFlOuZJ5A2p",
        "colab_type": "code",
        "outputId": "4d3c7017-8309-45d2-bfb2-e431b3c7b69e",
        "colab": {
          "base_uri": "https://localhost:8080/",
          "height": 203
        }
      },
      "source": [
        "for i in squares:\n",
        "    print(i)"
      ],
      "execution_count": 13,
      "outputs": [
        {
          "output_type": "stream",
          "text": [
            "0\n",
            "1\n",
            "4\n",
            "9\n",
            "16\n",
            "25\n",
            "36\n",
            "49\n",
            "64\n",
            "81\n"
          ],
          "name": "stdout"
        }
      ]
    },
    {
      "cell_type": "markdown",
      "metadata": {
        "id": "5yT0EeiBSMsC",
        "colab_type": "text"
      },
      "source": [
        "The sequence to which we want our function to `map` can be any sequence. It was `list` above while it is `tuple` below."
      ]
    },
    {
      "cell_type": "code",
      "metadata": {
        "id": "TxDJBT6QWZUv",
        "colab_type": "code",
        "outputId": "f9f5e999-7148-4b1f-e0a9-95cdd0548298",
        "colab": {
          "base_uri": "https://localhost:8080/",
          "height": 110
        }
      },
      "source": [
        "temperatures = (36.5, 37, 37.5, 38, 39)\n",
        "t_f = map(lambda T_C: (float(9)/5)*T_C + 32, temperatures)\n",
        "for t in t_f:\n",
        "    print(t)"
      ],
      "execution_count": 14,
      "outputs": [
        {
          "output_type": "stream",
          "text": [
            "97.7\n",
            "98.60000000000001\n",
            "99.5\n",
            "100.4\n",
            "102.2\n"
          ],
          "name": "stdout"
        }
      ]
    },
    {
      "cell_type": "markdown",
      "metadata": {
        "id": "BYzB5w9ZJoc-",
        "colab_type": "text"
      },
      "source": [
        "# Combining the power of lambda and dictionaries"
      ]
    },
    {
      "cell_type": "code",
      "metadata": {
        "id": "EcE5ueWmH0y1",
        "colab_type": "code",
        "outputId": "26d250b0-8c8e-41a0-c510-d7c4f380440c",
        "colab": {
          "base_uri": "https://localhost:8080/",
          "height": 36
        }
      },
      "source": [
        "TempUnitConverter = {\n",
        "\"Fahrenheit\":{  \n",
        "    \"Fahrenheit\":  lambda fahrenheit: fahrenheit * 1.0,  # fahrenheit to Centigrade\n",
        "     \"Kelvin\":     lambda fahrenheit: (fahrenheit + 459.67) * 5/9,  # fahrenheit to kelvin\n",
        "     \"Centigrade\": lambda fahrenheit: (fahrenheit - 32) / 1.8  # fahrenheit to Centigrade\n",
        "},\n",
        "\"Kelvin\":{\n",
        "    \"Fahrenheit\":  lambda kelvin: kelvin * 9/5 - 459.67,  # kelvin to fahrenheit\n",
        "     \"Kelvin\":     lambda k: k*1.0,     # Kelvin to Kelvin\n",
        "     \"Centigrade\": lambda kelvin: kelvin - 273.15  # kelvin to Centigrade}\n",
        "},\n",
        "\"Centigrade\":{\n",
        "    \"Fahrenheit\":  lambda Centigrade: Centigrade * 1.8 + 32,  # Centigrade to fahrenheit\n",
        "     \"Kelvin\":     lambda Centigrade: Centigrade + 273.15,  # Centigrade to kelvin\n",
        "     \"Centigrade\": lambda Centigrade: Centigrade * 1.0}\n",
        "}\n",
        "\n",
        "TempUnitConverter['Fahrenheit']['Kelvin'](98)  # converting from fahrenheit to kelvin"
      ],
      "execution_count": 15,
      "outputs": [
        {
          "output_type": "execute_result",
          "data": {
            "text/plain": [
              "309.8166666666667"
            ]
          },
          "metadata": {
            "tags": []
          },
          "execution_count": 15
        }
      ]
    },
    {
      "cell_type": "code",
      "metadata": {
        "id": "UnXhd11qJCmP",
        "colab_type": "code",
        "outputId": "71971e32-51bb-4bca-cf8b-4b69cc1a4fc6",
        "colab": {
          "base_uri": "https://localhost:8080/",
          "height": 36
        }
      },
      "source": [
        "TempUnitConverter['Kelvin']['Centigrade'](273.15) # converting from kelvin to centigrade"
      ],
      "execution_count": 16,
      "outputs": [
        {
          "output_type": "execute_result",
          "data": {
            "text/plain": [
              "0.0"
            ]
          },
          "metadata": {
            "tags": []
          },
          "execution_count": 16
        }
      ]
    }
  ]
}