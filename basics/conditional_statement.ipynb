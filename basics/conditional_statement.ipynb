{
  "nbformat": 4,
  "nbformat_minor": 0,
  "metadata": {
    "colab": {
      "name": "conditional_statement.ipynb",
      "provenance": [],
      "collapsed_sections": [],
      "include_colab_link": true
    },
    "kernelspec": {
      "name": "python3",
      "display_name": "Python 3"
    }
  },
  "cells": [
    {
      "cell_type": "markdown",
      "metadata": {
        "id": "view-in-github",
        "colab_type": "text"
      },
      "source": [
        "<a href=\"https://colab.research.google.com/github/AtrCheema/python-courses/blob/master/basics/conditional_statement.ipynb\" target=\"_parent\"><img src=\"https://colab.research.google.com/assets/colab-badge.svg\" alt=\"Open In Colab\"/></a>"
      ]
    },
    {
      "cell_type": "markdown",
      "metadata": {
        "id": "3wYNCAsUl8Vn",
        "colab_type": "text"
      },
      "source": [
        "# conditional statement in python\n",
        "\n",
        "The basic syntax of if statement in python is:\n",
        "\n",
        "```python\n",
        "if (condition):\n",
        "    do something\n",
        "```"
      ]
    },
    {
      "cell_type": "code",
      "metadata": {
        "id": "u593d9fYkiK9",
        "colab_type": "code",
        "outputId": "9d918ec0-4d01-480f-c282-53ca8bcb57a5",
        "colab": {
          "base_uri": "https://localhost:8080/",
          "height": 36
        }
      },
      "source": [
        "name = \"zardari\"\n",
        "\n",
        "if name == 'zardari':\n",
        "    print('chor')"
      ],
      "execution_count": 1,
      "outputs": [
        {
          "output_type": "stream",
          "text": [
            "chor\n"
          ],
          "name": "stdout"
        }
      ]
    },
    {
      "cell_type": "code",
      "metadata": {
        "id": "vg9NHEx9Vl6y",
        "colab_type": "code",
        "outputId": "0731eb42-28a1-4617-ca6a-a75a59afe7f3",
        "colab": {
          "base_uri": "https://localhost:8080/",
          "height": 36
        }
      },
      "source": [
        "name = 'Zardari'\n",
        "if name == 'zardari' or name == 'Zardari':\n",
        "    print('chor')"
      ],
      "execution_count": 2,
      "outputs": [
        {
          "output_type": "stream",
          "text": [
            "chor\n"
          ],
          "name": "stdout"
        }
      ]
    },
    {
      "cell_type": "code",
      "metadata": {
        "id": "joaYrP9o8IkN",
        "colab_type": "code",
        "outputId": "b7f6eb1f-5805-46d6-ef74-2579c17fdd0a",
        "colab": {
          "base_uri": "https://localhost:8080/",
          "height": 36
        }
      },
      "source": [
        "name = 'nawaz'\n",
        "if name == 'zardari' or name == 'Zardari':\n",
        "    print('chor')\n",
        "if name == 'nawaz' or name == 'Nawaz':\n",
        "    print('chor')"
      ],
      "execution_count": 3,
      "outputs": [
        {
          "output_type": "stream",
          "text": [
            "chor\n"
          ],
          "name": "stdout"
        }
      ]
    },
    {
      "cell_type": "markdown",
      "metadata": {
        "id": "uH3nAFEgfuzU",
        "colab_type": "text"
      },
      "source": [
        "Similarly the syntax for `if` and `elif` statement is\n",
        "\n",
        "```python\n",
        "if (cnodition):\n",
        "    do something\n",
        "elif (condition):\n",
        "    do something \n",
        "else:\n",
        "    do something\n",
        "```"
      ]
    },
    {
      "cell_type": "code",
      "metadata": {
        "id": "V8GUgsTe8ObV",
        "colab_type": "code",
        "outputId": "537affa6-c458-4efc-a0b2-38b3c9926330",
        "colab": {
          "base_uri": "https://localhost:8080/",
          "height": 36
        }
      },
      "source": [
        "name = 'edhi'\n",
        "if name == 'zardari' or name == 'Zardari':\n",
        "    print(name, ' is chor')\n",
        "elif name == 'nawaz' or name == 'Nawaz':\n",
        "    print(name, ' is chor')\n",
        "else:\n",
        "    print(name, ' is not chor')"
      ],
      "execution_count": 4,
      "outputs": [
        {
          "output_type": "stream",
          "text": [
            "edhi  is not chor\n"
          ],
          "name": "stdout"
        }
      ]
    },
    {
      "cell_type": "markdown",
      "metadata": {
        "id": "rqXh1Rn-a5Wz",
        "colab_type": "text"
      },
      "source": [
        "# `elif`s vs multiple `if`s\n",
        "\n",
        "Mutiple ifs means, the all the ifs will be checked, while with elif, the code will stop if one of the if is True."
      ]
    },
    {
      "cell_type": "code",
      "metadata": {
        "id": "5HiwQd3ObAtM",
        "colab_type": "code",
        "colab": {
          "base_uri": "https://localhost:8080/",
          "height": 54
        },
        "outputId": "38af71bb-5020-48fe-9223-0993b1d81ac5"
      },
      "source": [
        "age = 14\n",
        "\n",
        "if age < 16:\n",
        "    print(\"You are a child\")\n",
        "if age >= 16: #Greater than or equal to\n",
        "    print(\"You are an adult\")\n",
        "else:   #Handle all cases where 'age' is negative \n",
        "    print(\"The age must be a positive integer!\")"
      ],
      "execution_count": 5,
      "outputs": [
        {
          "output_type": "stream",
          "text": [
            "You are a child\n",
            "The age must be a positive integer!\n"
          ],
          "name": "stdout"
        }
      ]
    },
    {
      "cell_type": "code",
      "metadata": {
        "id": "aV4xDm7-bWNF",
        "colab_type": "code",
        "colab": {
          "base_uri": "https://localhost:8080/",
          "height": 36
        },
        "outputId": "6d8c37e9-64fb-44ff-b598-c2c23647341b"
      },
      "source": [
        "age = 14\n",
        "\n",
        "if age < 16:\n",
        "       print(\"You are a child\")\n",
        "elif age > 16:\n",
        "       print(\"You are an adult\")\n",
        "else:   #Handle all cases where 'age' is negative \n",
        "       print(\"The age must be a positive integer!\")"
      ],
      "execution_count": 6,
      "outputs": [
        {
          "output_type": "stream",
          "text": [
            "You are a child\n"
          ],
          "name": "stdout"
        }
      ]
    },
    {
      "cell_type": "markdown",
      "metadata": {
        "id": "6WcNoe99W-Zq",
        "colab_type": "text"
      },
      "source": [
        "# `in`\n",
        "\n",
        "We can use `in` statement to compare a variable against multiple variables."
      ]
    },
    {
      "cell_type": "code",
      "metadata": {
        "id": "OYdNYiOT8l-r",
        "colab_type": "code",
        "outputId": "cc386c72-5e86-494a-e8e2-c332ceeab7b2",
        "colab": {
          "base_uri": "https://localhost:8080/",
          "height": 36
        }
      },
      "source": [
        "name = 'zardari'\n",
        "if name in ['zardari', 'nawaz', 'chaudhrys', 'mqm']:\n",
        "    print(name, ' was democratic thug')\n",
        "elif name in ['zia', 'yahya', 'musharaf', 'ayub']:\n",
        "    print(name, ' was non-democratic thug')\n",
        "else:\n",
        "    print(name, ' is not chor')"
      ],
      "execution_count": 7,
      "outputs": [
        {
          "output_type": "stream",
          "text": [
            "zardari  was democratic thug\n"
          ],
          "name": "stdout"
        }
      ]
    },
    {
      "cell_type": "code",
      "metadata": {
        "id": "6WhfKxh29QAb",
        "colab_type": "code",
        "outputId": "f9adec4c-fffd-483a-e7ef-9f0db792f1bd",
        "colab": {
          "base_uri": "https://localhost:8080/",
          "height": 36
        }
      },
      "source": [
        "name = 'Zia'\n",
        "if name.upper() in ['ZARDARI', 'NAWAZ', 'CHAUDHRYS', 'MQM']:\n",
        "    print(name, ' was a democratic chor')\n",
        "elif name.upper() in ['ZIA', 'YAHYA', 'MUSHARAF', 'AYUB']:\n",
        "    print(name, ' was a non-democratic is chor')\n",
        "else:\n",
        "    print(name, ' is not chor')"
      ],
      "execution_count": 8,
      "outputs": [
        {
          "output_type": "stream",
          "text": [
            "Zia  was a non-democratic is chor\n"
          ],
          "name": "stdout"
        }
      ]
    },
    {
      "cell_type": "markdown",
      "metadata": {
        "id": "mVEAjvElXc7t",
        "colab_type": "text"
      },
      "source": [
        "# comparing numbers"
      ]
    },
    {
      "cell_type": "code",
      "metadata": {
        "id": "pfOAoaTw9WJ7",
        "colab_type": "code",
        "outputId": "cf1872ed-0409-4b0a-b84c-f28116dd486f",
        "colab": {
          "base_uri": "https://localhost:8080/",
          "height": 36
        }
      },
      "source": [
        "year = 2009\n",
        "\n",
        "if 2007>year>2000:\n",
        "    print('Non-democratic thug ruled Pakistan')\n",
        "elif 2020>year>=2007:\n",
        "    print('democratic thug ruled Pakistan')\n",
        "else:\n",
        "    print('not considering')"
      ],
      "execution_count": 9,
      "outputs": [
        {
          "output_type": "stream",
          "text": [
            "democratic thug ruled Pakistan\n"
          ],
          "name": "stdout"
        }
      ]
    },
    {
      "cell_type": "code",
      "metadata": {
        "id": "RrRRBBd5-aha",
        "colab_type": "code",
        "outputId": "282d9d2c-8f27-45ff-c64d-c909f4c49179",
        "colab": {
          "base_uri": "https://localhost:8080/",
          "height": 36
        }
      },
      "source": [
        "year = 2012\n",
        "\n",
        "if 2007>year>2000:\n",
        "    print('Non-democratic thug ruled Pakistan')\n",
        "elif 2020>year>=2007:\n",
        "\n",
        "    if 2013>year>=2007:\n",
        "        print('democratic thug zardari ruled Pakistan')\n",
        "    elif 2018>year>=2013:\n",
        "        print('democratic thug Nawaz ruled Pakistan')\n",
        "    else:\n",
        "        print('It seems the ruler is incapable')\n",
        "else:\n",
        "    print('not considering')"
      ],
      "execution_count": 10,
      "outputs": [
        {
          "output_type": "stream",
          "text": [
            "democratic thug zardari ruled Pakistan\n"
          ],
          "name": "stdout"
        }
      ]
    },
    {
      "cell_type": "markdown",
      "metadata": {
        "id": "WPOhYVPrQonT",
        "colab_type": "text"
      },
      "source": [
        "# One liner"
      ]
    },
    {
      "cell_type": "code",
      "metadata": {
        "id": "_meYZqfNWLaJ",
        "colab_type": "code",
        "colab": {
          "base_uri": "https://localhost:8080/",
          "height": 36
        },
        "outputId": "18809c10-d247-4e97-fb0a-e48e50474aa6"
      },
      "source": [
        "day = \"14 aug\"\n",
        "\n",
        "if day == '14 aug':  print('This is independence day not partition day.')"
      ],
      "execution_count": 11,
      "outputs": [
        {
          "output_type": "stream",
          "text": [
            "This is independence day not partition day.\n"
          ],
          "name": "stdout"
        }
      ]
    },
    {
      "cell_type": "code",
      "metadata": {
        "id": "Z1ZcUvSm_JeC",
        "colab_type": "code",
        "outputId": "717d944c-891f-40db-dcb4-37dfec9f18e6",
        "colab": {
          "base_uri": "https://localhost:8080/",
          "height": 36
        }
      },
      "source": [
        "oil = True\n",
        "us_presence = 1 if oil else 0\n",
        "\n",
        "us_presence"
      ],
      "execution_count": 12,
      "outputs": [
        {
          "output_type": "execute_result",
          "data": {
            "text/plain": [
              "1"
            ]
          },
          "metadata": {
            "tags": []
          },
          "execution_count": 12
        }
      ]
    },
    {
      "cell_type": "markdown",
      "metadata": {
        "id": "zrgkqndBSHZp",
        "colab_type": "text"
      },
      "source": [
        "We can use such one liners to set default values to a variable."
      ]
    },
    {
      "cell_type": "code",
      "metadata": {
        "id": "EWyFkq7nIriz",
        "colab_type": "code",
        "colab": {
          "base_uri": "https://localhost:8080/",
          "height": 36
        },
        "outputId": "3a14e758-2a17-464e-8fa2-10e46b09c83a"
      },
      "source": [
        "human = {\"arms\": 2,\n",
        "         \"legs\": 2,\n",
        "         \"head\": 1}\n",
        "\n",
        "default_age = 14\n",
        "\n",
        "age = human[\"age\"] if \"age\" in human else default_age\n",
        "age"
      ],
      "execution_count": 13,
      "outputs": [
        {
          "output_type": "execute_result",
          "data": {
            "text/plain": [
              "14"
            ]
          },
          "metadata": {
            "tags": []
          },
          "execution_count": 13
        }
      ]
    },
    {
      "cell_type": "code",
      "metadata": {
        "id": "LoAehzr0SE9C",
        "colab_type": "code",
        "colab": {}
      },
      "source": [
        "provinces = 4\n",
        "capital = \"Kathmandu\"\n",
        "pm = \"unknown\"\n",
        "\n",
        "if provinces == 4 and capital == \"Islamabad\" or pm == \"Imran Khan\":\n",
        "    print(\"This is Pakistan\")"
      ],
      "execution_count": 0,
      "outputs": []
    },
    {
      "cell_type": "code",
      "metadata": {
        "id": "ex1kJqpKTCQU",
        "colab_type": "code",
        "colab": {
          "base_uri": "https://localhost:8080/",
          "height": 36
        },
        "outputId": "43e7656a-a81a-4279-8f53-4e9023321ac3"
      },
      "source": [
        "provinces = 4\n",
        "capital = \"unknown\"\n",
        "pm = \"Imran Khan\"\n",
        "\n",
        "if provinces == 4 and capital == \"Islamabad\" or pm == \"Imran Khan\":\n",
        "    print(\"This is Pakistan\")"
      ],
      "execution_count": 16,
      "outputs": [
        {
          "output_type": "stream",
          "text": [
            "This is Pakistan\n"
          ],
          "name": "stdout"
        }
      ]
    },
    {
      "cell_type": "markdown",
      "metadata": {
        "id": "AvSS9tk6T91J",
        "colab_type": "text"
      },
      "source": [
        "# `if not` vs `!=`\n",
        "\n",
        "Inner working is different but the output is same however `not` is preferred."
      ]
    },
    {
      "cell_type": "code",
      "metadata": {
        "id": "LsJw3KauTLgq",
        "colab_type": "code",
        "colab": {
          "base_uri": "https://localhost:8080/",
          "height": 36
        },
        "outputId": "c1d72baa-6a93-453c-d7ab-de9cd91b30ed"
      },
      "source": [
        "day = \"Thursday\"\n",
        "if day != 'Friday': \n",
        "    print('no jumma prayer')"
      ],
      "execution_count": 17,
      "outputs": [
        {
          "output_type": "stream",
          "text": [
            "no jumma prayer\n"
          ],
          "name": "stdout"
        }
      ]
    },
    {
      "cell_type": "code",
      "metadata": {
        "id": "hAs8zgeLUJ5q",
        "colab_type": "code",
        "colab": {
          "base_uri": "https://localhost:8080/",
          "height": 36
        },
        "outputId": "f8a06f72-2b0f-4aee-ed13-61b000a6456f"
      },
      "source": [
        "day = \"Thursday\"\n",
        "if not day == 'Friday': \n",
        "    print('no jumma prayer')"
      ],
      "execution_count": 18,
      "outputs": [
        {
          "output_type": "stream",
          "text": [
            "no jumma prayer\n"
          ],
          "name": "stdout"
        }
      ]
    },
    {
      "cell_type": "code",
      "metadata": {
        "id": "4F8a2rZTUPyf",
        "colab_type": "code",
        "colab": {
          "base_uri": "https://localhost:8080/",
          "height": 36
        },
        "outputId": "58e84e3e-dfbd-465f-826c-beedc8c70e47"
      },
      "source": [
        "if day == 'Friday':\n",
        "    pass\n",
        "else:\n",
        "    print(\"no jumma prayer\")"
      ],
      "execution_count": 19,
      "outputs": [
        {
          "output_type": "stream",
          "text": [
            "no jumma prayer\n"
          ],
          "name": "stdout"
        }
      ]
    },
    {
      "cell_type": "markdown",
      "metadata": {
        "id": "uZ_Y35cuX9NZ",
        "colab_type": "text"
      },
      "source": [
        "# `any` vs `all`"
      ]
    },
    {
      "cell_type": "code",
      "metadata": {
        "id": "oHvL-dwNVj0x",
        "colab_type": "code",
        "colab": {
          "base_uri": "https://localhost:8080/",
          "height": 36
        },
        "outputId": "93cedf32-a063-451b-f421-c47bc6f473c0"
      },
      "source": [
        "a = [False, 2>4, 2!=1]\n",
        "if any(a):\n",
        "    print('go ahead')"
      ],
      "execution_count": 20,
      "outputs": [
        {
          "output_type": "stream",
          "text": [
            "go ahead\n"
          ],
          "name": "stdout"
        }
      ]
    },
    {
      "cell_type": "code",
      "metadata": {
        "id": "r7xA_vYiYMwa",
        "colab_type": "code",
        "colab": {}
      },
      "source": [
        "a = [False, 2>4, 2!=1]\n",
        "if all(a):\n",
        "    print('go ahead')"
      ],
      "execution_count": 0,
      "outputs": []
    }
  ]
}