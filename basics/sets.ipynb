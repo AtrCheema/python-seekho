{
  "nbformat": 4,
  "nbformat_minor": 0,
  "metadata": {
    "colab": {
      "name": "sets.ipynb",
      "provenance": [],
      "collapsed_sections": [],
      "include_colab_link": true
    },
    "kernelspec": {
      "name": "python3",
      "display_name": "Python 3"
    }
  },
  "cells": [
    {
      "cell_type": "markdown",
      "metadata": {
        "id": "view-in-github",
        "colab_type": "text"
      },
      "source": [
        "<a href=\"https://colab.research.google.com/github/AtrCheema/python-courses/blob/master/basics/sets.ipynb\" target=\"_parent\"><img src=\"https://colab.research.google.com/assets/colab-badge.svg\" alt=\"Open In Colab\"/></a>"
      ]
    },
    {
      "cell_type": "markdown",
      "metadata": {
        "id": "3wYNCAsUl8Vn",
        "colab_type": "text"
      },
      "source": [
        "# Sets\n",
        "A set is a collection of objects just like lists with the exception that it is unordered, does not contain same objects more than once, and can not contain immutable objects like lists.\n",
        "\n",
        "A set can be created from an existing sequence object such as a string, list or tuple."
      ]
    },
    {
      "cell_type": "code",
      "metadata": {
        "id": "u593d9fYkiK9",
        "colab_type": "code",
        "outputId": "e782868d-5675-44f5-f9f3-86232637b9bd",
        "colab": {
          "base_uri": "https://localhost:8080/",
          "height": 54
        }
      },
      "source": [
        "urdu = set(\"National language of Pakistan\")\n",
        "\n",
        "print(type(urdu))\n",
        "\n",
        "print(urdu)"
      ],
      "execution_count": 1,
      "outputs": [
        {
          "output_type": "stream",
          "text": [
            "<class 'set'>\n",
            "{'l', ' ', 'a', 'u', 'P', 't', 'k', 's', 'n', 'e', 'N', 'g', 'o', 'f', 'i'}\n"
          ],
          "name": "stdout"
        }
      ]
    },
    {
      "cell_type": "code",
      "metadata": {
        "id": "vg9NHEx9Vl6y",
        "colab_type": "code",
        "colab": {
          "base_uri": "https://localhost:8080/",
          "height": 36
        },
        "outputId": "3f11fb66-f2d9-481a-8511-73c34f2d5b08"
      },
      "source": [
        "pak_langs = set([\"Balochi\", \"Barohi\", \"Sindhi\", \"Balti\"])\n",
        "pak_langs"
      ],
      "execution_count": 2,
      "outputs": [
        {
          "output_type": "execute_result",
          "data": {
            "text/plain": [
              "{'Balochi', 'Balti', 'Barohi', 'Sindhi'}"
            ]
          },
          "metadata": {
            "tags": []
          },
          "execution_count": 2
        }
      ]
    },
    {
      "cell_type": "markdown",
      "metadata": {
        "id": "oKKZ0_mwWLhn",
        "colab_type": "text"
      },
      "source": [
        "If our sequence contains repeating objects, only one instance of those repeating objects will be included in the list."
      ]
    },
    {
      "cell_type": "code",
      "metadata": {
        "id": "2Qvaz-HhVq7I",
        "colab_type": "code",
        "colab": {
          "base_uri": "https://localhost:8080/",
          "height": 36
        },
        "outputId": "59ba6318-da4a-4bf1-b3a1-8de74491011c"
      },
      "source": [
        "pak_langs = set((\"Balochi\", \"Barohi\", \"Sindhi\", \"Balti\", \"Balochi\"))\n",
        "pak_langs"
      ],
      "execution_count": 3,
      "outputs": [
        {
          "output_type": "execute_result",
          "data": {
            "text/plain": [
              "{'Balochi', 'Balti', 'Barohi', 'Sindhi'}"
            ]
          },
          "metadata": {
            "tags": []
          },
          "execution_count": 3
        }
      ]
    },
    {
      "cell_type": "markdown",
      "metadata": {
        "id": "1nWdPEz_W38M",
        "colab_type": "text"
      },
      "source": [
        "Although, we can create sets from lists, but a set can not contain a list as an object. "
      ]
    },
    {
      "cell_type": "code",
      "metadata": {
        "id": "s0bL57FPV7ic",
        "colab_type": "code",
        "colab": {
          "base_uri": "https://localhost:8080/",
          "height": 36
        },
        "outputId": "630f4d31-8736-40c4-de5d-28aa36127fa4"
      },
      "source": [
        "pak_langs = set(((\"Balochi\", \"Barohi\"), (\"punbabi\", \"siraiki\")))\n",
        "pak_langs"
      ],
      "execution_count": 4,
      "outputs": [
        {
          "output_type": "execute_result",
          "data": {
            "text/plain": [
              "{('Balochi', 'Barohi'), ('punbabi', 'siraiki')}"
            ]
          },
          "metadata": {
            "tags": []
          },
          "execution_count": 4
        }
      ]
    },
    {
      "cell_type": "code",
      "metadata": {
        "id": "00hMN007zqJE",
        "colab_type": "code",
        "colab": {
          "base_uri": "https://localhost:8080/",
          "height": 193
        },
        "outputId": "4769ebe2-76b6-448c-9890-31ce19ff6033"
      },
      "source": [
        "pak_langs = set(([\"Balochi\", \"Barohi\"], [\"punbabi\", \"siraiki\"]))\n",
        "pak_langs"
      ],
      "execution_count": 5,
      "outputs": [
        {
          "output_type": "error",
          "ename": "TypeError",
          "evalue": "ignored",
          "traceback": [
            "\u001b[0;31m---------------------------------------------------------------------------\u001b[0m",
            "\u001b[0;31mTypeError\u001b[0m                                 Traceback (most recent call last)",
            "\u001b[0;32m<ipython-input-5-ca2226139291>\u001b[0m in \u001b[0;36m<module>\u001b[0;34m()\u001b[0m\n\u001b[0;32m----> 1\u001b[0;31m \u001b[0mpak_langs\u001b[0m \u001b[0;34m=\u001b[0m \u001b[0mset\u001b[0m\u001b[0;34m(\u001b[0m\u001b[0;34m(\u001b[0m\u001b[0;34m[\u001b[0m\u001b[0;34m\"Balochi\"\u001b[0m\u001b[0;34m,\u001b[0m \u001b[0;34m\"Barohi\"\u001b[0m\u001b[0;34m]\u001b[0m\u001b[0;34m,\u001b[0m \u001b[0;34m[\u001b[0m\u001b[0;34m\"punbabi\"\u001b[0m\u001b[0;34m,\u001b[0m \u001b[0;34m\"siraiki\"\u001b[0m\u001b[0;34m]\u001b[0m\u001b[0;34m)\u001b[0m\u001b[0;34m)\u001b[0m\u001b[0;34m\u001b[0m\u001b[0;34m\u001b[0m\u001b[0m\n\u001b[0m\u001b[1;32m      2\u001b[0m \u001b[0mpak_langs\u001b[0m\u001b[0;34m\u001b[0m\u001b[0;34m\u001b[0m\u001b[0m\n",
            "\u001b[0;31mTypeError\u001b[0m: unhashable type: 'list'"
          ]
        }
      ]
    },
    {
      "cell_type": "markdown",
      "metadata": {
        "id": "4jqcfG1fXTD5",
        "colab_type": "text"
      },
      "source": [
        "In second case above, we wnat our set to have two lists as objects, so the error was prompted.\n",
        "\n",
        "Sets are mutable i.e. they can be changed. We can add new objects in sets as following"
      ]
    },
    {
      "cell_type": "code",
      "metadata": {
        "id": "DOdSf8H1XPR6",
        "colab_type": "code",
        "colab": {
          "base_uri": "https://localhost:8080/",
          "height": 36
        },
        "outputId": "700fc6d3-1e96-4f55-fa08-16f6436bb5ec"
      },
      "source": [
        "pak_langs = set([\"Balochi\", \"Barohi\", \"Sindhi\"])\n",
        "pak_langs.add(\"Pashto\")\n",
        "pak_langs"
      ],
      "execution_count": 6,
      "outputs": [
        {
          "output_type": "execute_result",
          "data": {
            "text/plain": [
              "{'Balochi', 'Barohi', 'Pashto', 'Sindhi'}"
            ]
          },
          "metadata": {
            "tags": []
          },
          "execution_count": 6
        }
      ]
    },
    {
      "cell_type": "markdown",
      "metadata": {
        "id": "FlLY8hMRYDAL",
        "colab_type": "text"
      },
      "source": [
        "There are immutable sets as well with the name `frozensets`."
      ]
    },
    {
      "cell_type": "code",
      "metadata": {
        "id": "tu-B8ikkX0yX",
        "colab_type": "code",
        "colab": {
          "base_uri": "https://localhost:8080/",
          "height": 193
        },
        "outputId": "523620d3-772c-4e4c-ae1c-1cfb26c6a78f"
      },
      "source": [
        "balochistan_langs = frozenset([\"Balochi\", \"Barohi\", \"Pashto\"])\n",
        "balochistan_langs.add(\"punjabi\")"
      ],
      "execution_count": 7,
      "outputs": [
        {
          "output_type": "error",
          "ename": "AttributeError",
          "evalue": "ignored",
          "traceback": [
            "\u001b[0;31m---------------------------------------------------------------------------\u001b[0m",
            "\u001b[0;31mAttributeError\u001b[0m                            Traceback (most recent call last)",
            "\u001b[0;32m<ipython-input-7-99b0a0f9740f>\u001b[0m in \u001b[0;36m<module>\u001b[0;34m()\u001b[0m\n\u001b[1;32m      1\u001b[0m \u001b[0mbalochistan_langs\u001b[0m \u001b[0;34m=\u001b[0m \u001b[0mfrozenset\u001b[0m\u001b[0;34m(\u001b[0m\u001b[0;34m[\u001b[0m\u001b[0;34m\"Balochi\"\u001b[0m\u001b[0;34m,\u001b[0m \u001b[0;34m\"Barohi\"\u001b[0m\u001b[0;34m,\u001b[0m \u001b[0;34m\"Pashto\"\u001b[0m\u001b[0;34m]\u001b[0m\u001b[0;34m)\u001b[0m\u001b[0;34m\u001b[0m\u001b[0;34m\u001b[0m\u001b[0m\n\u001b[0;32m----> 2\u001b[0;31m \u001b[0mbalochistan_langs\u001b[0m\u001b[0;34m.\u001b[0m\u001b[0madd\u001b[0m\u001b[0;34m(\u001b[0m\u001b[0;34m\"punjabi\"\u001b[0m\u001b[0;34m)\u001b[0m\u001b[0;34m\u001b[0m\u001b[0;34m\u001b[0m\u001b[0m\n\u001b[0m",
            "\u001b[0;31mAttributeError\u001b[0m: 'frozenset' object has no attribute 'add'"
          ]
        }
      ]
    },
    {
      "cell_type": "markdown",
      "metadata": {
        "id": "zRX_tqFHYQdC",
        "colab_type": "text"
      },
      "source": [
        "# Operations on sets\n",
        "\n"
      ]
    },
    {
      "cell_type": "markdown",
      "metadata": {
        "id": "RJqbvt5dYn3j",
        "colab_type": "text"
      },
      "source": [
        "## adding elements\n",
        "We saw, how to add objects in sets with the method `add`. We can not violate aformentioned rules using `add` method."
      ]
    },
    {
      "cell_type": "code",
      "metadata": {
        "id": "NXoB7xKUYMLr",
        "colab_type": "code",
        "colab": {
          "base_uri": "https://localhost:8080/",
          "height": 211
        },
        "outputId": "09f34290-ac48-45b5-b569-f1c137b278c3"
      },
      "source": [
        "imperialists = {\"bbc\", \"cnn\"}\n",
        "\n",
        "imperialists.add([\"voa\",\"dw\"])"
      ],
      "execution_count": 8,
      "outputs": [
        {
          "output_type": "error",
          "ename": "TypeError",
          "evalue": "ignored",
          "traceback": [
            "\u001b[0;31m---------------------------------------------------------------------------\u001b[0m",
            "\u001b[0;31mTypeError\u001b[0m                                 Traceback (most recent call last)",
            "\u001b[0;32m<ipython-input-8-15a202fc0cae>\u001b[0m in \u001b[0;36m<module>\u001b[0;34m()\u001b[0m\n\u001b[1;32m      1\u001b[0m \u001b[0mimperialists\u001b[0m \u001b[0;34m=\u001b[0m \u001b[0;34m{\u001b[0m\u001b[0;34m\"bbc\"\u001b[0m\u001b[0;34m,\u001b[0m \u001b[0;34m\"cnn\"\u001b[0m\u001b[0;34m}\u001b[0m\u001b[0;34m\u001b[0m\u001b[0;34m\u001b[0m\u001b[0m\n\u001b[1;32m      2\u001b[0m \u001b[0;34m\u001b[0m\u001b[0m\n\u001b[0;32m----> 3\u001b[0;31m \u001b[0mimperialists\u001b[0m\u001b[0;34m.\u001b[0m\u001b[0madd\u001b[0m\u001b[0;34m(\u001b[0m\u001b[0;34m[\u001b[0m\u001b[0;34m\"voa\"\u001b[0m\u001b[0;34m,\u001b[0m\u001b[0;34m\"dw\"\u001b[0m\u001b[0;34m]\u001b[0m\u001b[0;34m)\u001b[0m\u001b[0;34m\u001b[0m\u001b[0;34m\u001b[0m\u001b[0m\n\u001b[0m",
            "\u001b[0;31mTypeError\u001b[0m: unhashable type: 'list'"
          ]
        }
      ]
    },
    {
      "cell_type": "code",
      "metadata": {
        "id": "gqx7bkikY_s6",
        "colab_type": "code",
        "colab": {
          "base_uri": "https://localhost:8080/",
          "height": 36
        },
        "outputId": "214a9b74-8300-4e26-e319-c7b4d95212b3"
      },
      "source": [
        "imperialists.add('bbc')\n",
        "imperialists"
      ],
      "execution_count": 9,
      "outputs": [
        {
          "output_type": "execute_result",
          "data": {
            "text/plain": [
              "{'bbc', 'cnn'}"
            ]
          },
          "metadata": {
            "tags": []
          },
          "execution_count": 9
        }
      ]
    },
    {
      "cell_type": "code",
      "metadata": {
        "id": "4cAz2yAVxEkt",
        "colab_type": "code",
        "colab": {
          "base_uri": "https://localhost:8080/",
          "height": 36
        },
        "outputId": "bc04667b-8cbd-435d-8ea5-60de02740bbd"
      },
      "source": [
        "imperialists.update([\"voa\",\"dw\"])\n",
        "imperialists"
      ],
      "execution_count": 10,
      "outputs": [
        {
          "output_type": "execute_result",
          "data": {
            "text/plain": [
              "{'bbc', 'cnn', 'dw', 'voa'}"
            ]
          },
          "metadata": {
            "tags": []
          },
          "execution_count": 10
        }
      ]
    },
    {
      "cell_type": "code",
      "metadata": {
        "id": "g2D-B3Rlxm79",
        "colab_type": "code",
        "colab": {
          "base_uri": "https://localhost:8080/",
          "height": 211
        },
        "outputId": "81c54046-c9ba-43d3-8500-1c7a9c69a0eb"
      },
      "source": [
        "imperialists = {\"bbc\", \"cnn\"}\n",
        "imperialists.update([[\"voa\",\"dw\"]])\n",
        "imperialists"
      ],
      "execution_count": 11,
      "outputs": [
        {
          "output_type": "error",
          "ename": "TypeError",
          "evalue": "ignored",
          "traceback": [
            "\u001b[0;31m---------------------------------------------------------------------------\u001b[0m",
            "\u001b[0;31mTypeError\u001b[0m                                 Traceback (most recent call last)",
            "\u001b[0;32m<ipython-input-11-f6f7ac7b8290>\u001b[0m in \u001b[0;36m<module>\u001b[0;34m()\u001b[0m\n\u001b[1;32m      1\u001b[0m \u001b[0mimperialists\u001b[0m \u001b[0;34m=\u001b[0m \u001b[0;34m{\u001b[0m\u001b[0;34m\"bbc\"\u001b[0m\u001b[0;34m,\u001b[0m \u001b[0;34m\"cnn\"\u001b[0m\u001b[0;34m}\u001b[0m\u001b[0;34m\u001b[0m\u001b[0;34m\u001b[0m\u001b[0m\n\u001b[0;32m----> 2\u001b[0;31m \u001b[0mimperialists\u001b[0m\u001b[0;34m.\u001b[0m\u001b[0mupdate\u001b[0m\u001b[0;34m(\u001b[0m\u001b[0;34m[\u001b[0m\u001b[0;34m[\u001b[0m\u001b[0;34m\"voa\"\u001b[0m\u001b[0;34m,\u001b[0m\u001b[0;34m\"dw\"\u001b[0m\u001b[0;34m]\u001b[0m\u001b[0;34m]\u001b[0m\u001b[0;34m)\u001b[0m\u001b[0;34m\u001b[0m\u001b[0;34m\u001b[0m\u001b[0m\n\u001b[0m\u001b[1;32m      3\u001b[0m \u001b[0mimperialists\u001b[0m\u001b[0;34m\u001b[0m\u001b[0;34m\u001b[0m\u001b[0m\n",
            "\u001b[0;31mTypeError\u001b[0m: unhashable type: 'list'"
          ]
        }
      ]
    },
    {
      "cell_type": "markdown",
      "metadata": {
        "id": "H5ZoIuDk0n4M",
        "colab_type": "text"
      },
      "source": [
        "`|` operator can also be used to add/concatenate two sets"
      ]
    },
    {
      "cell_type": "code",
      "metadata": {
        "id": "yR9E42Ru0Xmj",
        "colab_type": "code",
        "colab": {
          "base_uri": "https://localhost:8080/",
          "height": 36
        },
        "outputId": "03fdd78b-1d5d-4d85-8358-373513a1565e"
      },
      "source": [
        "imperialists = {\"bbc\", \"cnn\"}\n",
        "\n",
        "imperialists | {\"voa\", \"dw\"}"
      ],
      "execution_count": 12,
      "outputs": [
        {
          "output_type": "execute_result",
          "data": {
            "text/plain": [
              "{'bbc', 'cnn', 'dw', 'voa'}"
            ]
          },
          "metadata": {
            "tags": []
          },
          "execution_count": 12
        }
      ]
    },
    {
      "cell_type": "code",
      "metadata": {
        "id": "LjRZ_1wr0vZ3",
        "colab_type": "code",
        "colab": {
          "base_uri": "https://localhost:8080/",
          "height": 36
        },
        "outputId": "d941fd16-15b2-4ec0-acee-9aa5fd3d952f"
      },
      "source": [
        "imperialists = {\"bbc\", \"cnn\"}\n",
        "\n",
        "imperialists |= {\"voa\", \"dw\"}\n",
        "\n",
        "imperialists"
      ],
      "execution_count": 13,
      "outputs": [
        {
          "output_type": "execute_result",
          "data": {
            "text/plain": [
              "{'bbc', 'cnn', 'dw', 'voa'}"
            ]
          },
          "metadata": {
            "tags": []
          },
          "execution_count": 13
        }
      ]
    },
    {
      "cell_type": "markdown",
      "metadata": {
        "id": "QZDkEZa8ZXui",
        "colab_type": "text"
      },
      "source": [
        "## `clear`\n",
        "We can clear the contents of a set by using the method `clear` on a set."
      ]
    },
    {
      "cell_type": "code",
      "metadata": {
        "id": "zH-Hy1GoZDcM",
        "colab_type": "code",
        "colab": {
          "base_uri": "https://localhost:8080/",
          "height": 36
        },
        "outputId": "3562a095-a241-4235-9e0b-c30ac7d1939d"
      },
      "source": [
        "dakus = {\"musharaf\", \"nawaz\", \"benazir\"}\n",
        "\n",
        "dakus.clear()  # after NRO (https://en.wikipedia.org/wiki/National_Reconciliation_Ordinance)\n",
        "dakus"
      ],
      "execution_count": 14,
      "outputs": [
        {
          "output_type": "execute_result",
          "data": {
            "text/plain": [
              "set()"
            ]
          },
          "metadata": {
            "tags": []
          },
          "execution_count": 14
        }
      ]
    },
    {
      "cell_type": "markdown",
      "metadata": {
        "id": "sHo04XXnZnEr",
        "colab_type": "text"
      },
      "source": [
        "## Copy\n",
        "\n",
        "The assignment operation `=` does not create a new set."
      ]
    },
    {
      "cell_type": "code",
      "metadata": {
        "id": "9HeH__LtZVfw",
        "colab_type": "code",
        "colab": {
          "base_uri": "https://localhost:8080/",
          "height": 36
        },
        "outputId": "e916c51e-1142-4bb1-9207-a39272164037"
      },
      "source": [
        "more_dakus = {\"pervaiz elahi\", \"altaf husain\"}\n",
        "dakus_backup = more_dakus\n",
        "more_dakus.clear()\n",
        "dakus_backup"
      ],
      "execution_count": 15,
      "outputs": [
        {
          "output_type": "execute_result",
          "data": {
            "text/plain": [
              "set()"
            ]
          },
          "metadata": {
            "tags": []
          },
          "execution_count": 15
        }
      ]
    },
    {
      "cell_type": "markdown",
      "metadata": {
        "id": "KKWDW_JKa1au",
        "colab_type": "text"
      },
      "source": [
        "`copy` method creates a shallow copy"
      ]
    },
    {
      "cell_type": "code",
      "metadata": {
        "id": "-CxM20cYZx5Y",
        "colab_type": "code",
        "colab": {
          "base_uri": "https://localhost:8080/",
          "height": 36
        },
        "outputId": "9553e762-528b-4c38-f7a3-d6e0c203088e"
      },
      "source": [
        "more_dakus = {\"pervaiz elahi\", \"altaf husain\"}\n",
        "dakus_backup = more_dakus.copy()\n",
        "more_dakus.clear()\n",
        "dakus_backup"
      ],
      "execution_count": 16,
      "outputs": [
        {
          "output_type": "execute_result",
          "data": {
            "text/plain": [
              "{'altaf husain', 'pervaiz elahi'}"
            ]
          },
          "metadata": {
            "tags": []
          },
          "execution_count": 16
        }
      ]
    },
    {
      "cell_type": "code",
      "metadata": {
        "id": "CZ_gJLWFZ7Fi",
        "colab_type": "code",
        "colab": {
          "base_uri": "https://localhost:8080/",
          "height": 54
        },
        "outputId": "5fb94dec-8c12-4ca7-e5d1-6aa6253b2a78"
      },
      "source": [
        "imperialists = {\"BBC\", \"CNN\", \"VOA\"}\n",
        "\n",
        "more_imperialists = imperialists.copy()\n",
        "\n",
        "more_imperialists.add(\"DW\")\n",
        "\n",
        "print(imperialists)\n",
        "\n",
        "print(more_imperialists)\n",
        "\n"
      ],
      "execution_count": 17,
      "outputs": [
        {
          "output_type": "stream",
          "text": [
            "{'VOA', 'BBC', 'CNN'}\n",
            "{'VOA', 'BBC', 'DW', 'CNN'}\n"
          ],
          "name": "stdout"
        }
      ]
    },
    {
      "cell_type": "markdown",
      "metadata": {
        "id": "r0aV1OaNbWix",
        "colab_type": "text"
      },
      "source": [
        "## `difference`\n",
        "\n"
      ]
    },
    {
      "cell_type": "code",
      "metadata": {
        "id": "DMuMA2d8ajtM",
        "colab_type": "code",
        "colab": {
          "base_uri": "https://localhost:8080/",
          "height": 36
        },
        "outputId": "6de27170-1388-4ed0-f499-0868003bae72"
      },
      "source": [
        "pml_q = {\"zafrullah jamali\", \"fawad hussain\", \"pervaiz elahi\", \"umar ayyub\"}\n",
        "pml_n = {\"choi Nisar\" , \"umar ayyub\", \"khawaja Asif\"}\n",
        "pti = {\"firdows ashiq\", \"umar ayyub\", \"asad umar\", \"fawad hussain\"}\n",
        "\n",
        "pml_q.difference(pti)\n"
      ],
      "execution_count": 18,
      "outputs": [
        {
          "output_type": "execute_result",
          "data": {
            "text/plain": [
              "{'pervaiz elahi', 'zafrullah jamali'}"
            ]
          },
          "metadata": {
            "tags": []
          },
          "execution_count": 18
        }
      ]
    },
    {
      "cell_type": "code",
      "metadata": {
        "id": "O3UX8l05bgYd",
        "colab_type": "code",
        "colab": {
          "base_uri": "https://localhost:8080/",
          "height": 36
        },
        "outputId": "9d189157-1501-4a5e-ab40-582199d39e4a"
      },
      "source": [
        "lotas_2013 = pml_q.difference(pml_q.difference(pml_n))\n",
        "print(lotas_2013)"
      ],
      "execution_count": 19,
      "outputs": [
        {
          "output_type": "stream",
          "text": [
            "{'umar ayyub'}\n"
          ],
          "name": "stdout"
        }
      ]
    },
    {
      "cell_type": "markdown",
      "metadata": {
        "id": "qsex63Wfbto3",
        "colab_type": "text"
      },
      "source": [
        "We can also make use of `-` operator"
      ]
    },
    {
      "cell_type": "code",
      "metadata": {
        "id": "e18CT0mzbmji",
        "colab_type": "code",
        "colab": {
          "base_uri": "https://localhost:8080/",
          "height": 36
        },
        "outputId": "14046976-b9a6-4072-95f6-cfa38200c2ee"
      },
      "source": [
        "pml_q - pti"
      ],
      "execution_count": 20,
      "outputs": [
        {
          "output_type": "execute_result",
          "data": {
            "text/plain": [
              "{'pervaiz elahi', 'zafrullah jamali'}"
            ]
          },
          "metadata": {
            "tags": []
          },
          "execution_count": 20
        }
      ]
    },
    {
      "cell_type": "markdown",
      "metadata": {
        "id": "xJ8cN7JBfY5A",
        "colab_type": "text"
      },
      "source": [
        "## `difference_update`\n",
        "\n",
        "This makes change in original set. similar to `x-y` with the exception that `x` is itself changed."
      ]
    },
    {
      "cell_type": "code",
      "metadata": {
        "id": "GhS4ERzVb0OW",
        "colab_type": "code",
        "colab": {
          "base_uri": "https://localhost:8080/",
          "height": 36
        },
        "outputId": "39edbc5f-249a-4389-9617-c4758a3e0848"
      },
      "source": [
        "pml_q = {\"zafrullah jamali\", \"fawad hussain\", \"pervaiz elahi\", \"umar ayyub\"}\n",
        "pml_n = {\"choi Nisar\" , \"umar ayyub\", \"khawaja Asif\"}\n",
        "pti = {\"firdows ashiq\", \"umar ayyub\", \"asad umar\", \"fawad hussain\"}\n",
        "\n",
        "pml_q.difference_update(pml_n)\n",
        "\n",
        "print(pml_q)"
      ],
      "execution_count": 21,
      "outputs": [
        {
          "output_type": "stream",
          "text": [
            "{'pervaiz elahi', 'fawad hussain', 'zafrullah jamali'}\n"
          ],
          "name": "stdout"
        }
      ]
    },
    {
      "cell_type": "code",
      "metadata": {
        "id": "rK3TV6w3fkPh",
        "colab_type": "code",
        "colab": {
          "base_uri": "https://localhost:8080/",
          "height": 36
        },
        "outputId": "d702e9b4-5557-4869-c9ca-3e15b0d0ac3d"
      },
      "source": [
        "pml_q.difference_update(pti)\n",
        "\n",
        "print(pml_q)"
      ],
      "execution_count": 22,
      "outputs": [
        {
          "output_type": "stream",
          "text": [
            "{'pervaiz elahi', 'zafrullah jamali'}\n"
          ],
          "name": "stdout"
        }
      ]
    },
    {
      "cell_type": "markdown",
      "metadata": {
        "id": "kTW79aqMgrjw",
        "colab_type": "text"
      },
      "source": [
        "## `discard`\n",
        "\n",
        "removes an element from set if it is present."
      ]
    },
    {
      "cell_type": "code",
      "metadata": {
        "id": "5oliWPbGgRwT",
        "colab_type": "code",
        "colab": {
          "base_uri": "https://localhost:8080/",
          "height": 36
        },
        "outputId": "cec2a4e8-ff61-4775-b21e-930d4c2cc36f"
      },
      "source": [
        "pml_q = {\"zafrullah jamali\", \"fawad hussain\", \"pervaiz elahi\", \"umar ayyub\"} \n",
        "pml_q.discard(\"zafrullah jamali\")\n",
        "pml_q"
      ],
      "execution_count": 23,
      "outputs": [
        {
          "output_type": "execute_result",
          "data": {
            "text/plain": [
              "{'fawad hussain', 'pervaiz elahi', 'umar ayyub'}"
            ]
          },
          "metadata": {
            "tags": []
          },
          "execution_count": 23
        }
      ]
    },
    {
      "cell_type": "code",
      "metadata": {
        "id": "S1V9g45LgzfF",
        "colab_type": "code",
        "colab": {
          "base_uri": "https://localhost:8080/",
          "height": 36
        },
        "outputId": "b9071869-6256-4271-a618-e4bd273c64bb"
      },
      "source": [
        "pml_q.discard(\"choi nisar\")\n",
        "pml_q"
      ],
      "execution_count": 24,
      "outputs": [
        {
          "output_type": "execute_result",
          "data": {
            "text/plain": [
              "{'fawad hussain', 'pervaiz elahi', 'umar ayyub'}"
            ]
          },
          "metadata": {
            "tags": []
          },
          "execution_count": 24
        }
      ]
    },
    {
      "cell_type": "markdown",
      "metadata": {
        "id": "8DD3rBgOh50J",
        "colab_type": "text"
      },
      "source": [
        "`ferdows ashiq` is not present in set `musharaf` but using `discard` did not raise an error.\n",
        "\n",
        "## `remove`\n",
        "\n",
        "Same as `discard` with the exception that an error is raised if the object is not present in set."
      ]
    },
    {
      "cell_type": "code",
      "metadata": {
        "id": "iBML6HkTh0z3",
        "colab_type": "code",
        "colab": {
          "base_uri": "https://localhost:8080/",
          "height": 36
        },
        "outputId": "da5cefd9-f1ab-4f06-c911-fdc7efdb99b3"
      },
      "source": [
        "pml_q = {\"zafrullah jamali\", \"fawad hussain\", \"pervaiz elahi\", \"umar ayyub\"} \n",
        "pml_q.remove(\"zafrullah jamali\")\n",
        "pml_q"
      ],
      "execution_count": 25,
      "outputs": [
        {
          "output_type": "execute_result",
          "data": {
            "text/plain": [
              "{'fawad hussain', 'pervaiz elahi', 'umar ayyub'}"
            ]
          },
          "metadata": {
            "tags": []
          },
          "execution_count": 25
        }
      ]
    },
    {
      "cell_type": "code",
      "metadata": {
        "id": "gETj9VefiVQP",
        "colab_type": "code",
        "colab": {
          "base_uri": "https://localhost:8080/",
          "height": 193
        },
        "outputId": "65bfb873-44e2-4250-c123-d91b89f22e42"
      },
      "source": [
        "pml_q.remove(\"choi nisar\")\n",
        "pml_q"
      ],
      "execution_count": 26,
      "outputs": [
        {
          "output_type": "error",
          "ename": "KeyError",
          "evalue": "ignored",
          "traceback": [
            "\u001b[0;31m---------------------------------------------------------------------------\u001b[0m",
            "\u001b[0;31mKeyError\u001b[0m                                  Traceback (most recent call last)",
            "\u001b[0;32m<ipython-input-26-5d263217bc62>\u001b[0m in \u001b[0;36m<module>\u001b[0;34m()\u001b[0m\n\u001b[0;32m----> 1\u001b[0;31m \u001b[0mpml_q\u001b[0m\u001b[0;34m.\u001b[0m\u001b[0mremove\u001b[0m\u001b[0;34m(\u001b[0m\u001b[0;34m\"choi nisar\"\u001b[0m\u001b[0;34m)\u001b[0m\u001b[0;34m\u001b[0m\u001b[0;34m\u001b[0m\u001b[0m\n\u001b[0m\u001b[1;32m      2\u001b[0m \u001b[0mpml_q\u001b[0m\u001b[0;34m\u001b[0m\u001b[0;34m\u001b[0m\u001b[0m\n",
            "\u001b[0;31mKeyError\u001b[0m: 'choi nisar'"
          ]
        }
      ]
    },
    {
      "cell_type": "markdown",
      "metadata": {
        "id": "z1n05gngixyf",
        "colab_type": "text"
      },
      "source": [
        "## `pop`"
      ]
    },
    {
      "cell_type": "code",
      "metadata": {
        "id": "t5orhSidiXyb",
        "colab_type": "code",
        "colab": {
          "base_uri": "https://localhost:8080/",
          "height": 36
        },
        "outputId": "89e8b67d-71f4-49c4-c933-4e7fda71a7ea"
      },
      "source": [
        "pml_q = {\"firdows ashiq\", \"fawad hussain\", \"pervaiz elahi\", \"umar ayyub\"} \n",
        "pml_q.pop()\n",
        "pml_q"
      ],
      "execution_count": 27,
      "outputs": [
        {
          "output_type": "execute_result",
          "data": {
            "text/plain": [
              "{'fawad hussain', 'pervaiz elahi', 'umar ayyub'}"
            ]
          },
          "metadata": {
            "tags": []
          },
          "execution_count": 27
        }
      ]
    },
    {
      "cell_type": "code",
      "metadata": {
        "id": "HG_Pob8gi5xs",
        "colab_type": "code",
        "colab": {
          "base_uri": "https://localhost:8080/",
          "height": 193
        },
        "outputId": "676b3511-3cb1-44b2-8b05-5a08c157f3ee"
      },
      "source": [
        "pml_q.pop()\n",
        "pml_q"
      ],
      "execution_count": 31,
      "outputs": [
        {
          "output_type": "error",
          "ename": "KeyError",
          "evalue": "ignored",
          "traceback": [
            "\u001b[0;31m---------------------------------------------------------------------------\u001b[0m",
            "\u001b[0;31mKeyError\u001b[0m                                  Traceback (most recent call last)",
            "\u001b[0;32m<ipython-input-31-b78944f410a5>\u001b[0m in \u001b[0;36m<module>\u001b[0;34m()\u001b[0m\n\u001b[0;32m----> 1\u001b[0;31m \u001b[0mpml_q\u001b[0m\u001b[0;34m.\u001b[0m\u001b[0mpop\u001b[0m\u001b[0;34m(\u001b[0m\u001b[0;34m)\u001b[0m\u001b[0;34m\u001b[0m\u001b[0;34m\u001b[0m\u001b[0m\n\u001b[0m\u001b[1;32m      2\u001b[0m \u001b[0mpml_q\u001b[0m\u001b[0;34m\u001b[0m\u001b[0;34m\u001b[0m\u001b[0m\n",
            "\u001b[0;31mKeyError\u001b[0m: 'pop from an empty set'"
          ]
        }
      ]
    },
    {
      "cell_type": "markdown",
      "metadata": {
        "id": "yzBPp5-0jDQp",
        "colab_type": "text"
      },
      "source": [
        "Running the above cell multiple times will eventually raise an error when the set becomes empty.\n",
        "\n",
        "## `union`"
      ]
    },
    {
      "cell_type": "code",
      "metadata": {
        "id": "zeigVbLajCCc",
        "colab_type": "code",
        "colab": {
          "base_uri": "https://localhost:8080/",
          "height": 129
        },
        "outputId": "67a55c24-1d4d-40f6-ade1-af9ec9f48ab9"
      },
      "source": [
        "pml_q = {\"firdows ashiq\", \"fawad hussain\", \"pervaiz elahi\", \"umar ayyub\"} \n",
        "pml_n = {\"choi Nisar\" , \"umar ayyub\", \"khawaja Asif\"}\n",
        "\n",
        "pml_q.union(pml_n)"
      ],
      "execution_count": 32,
      "outputs": [
        {
          "output_type": "execute_result",
          "data": {
            "text/plain": [
              "{'choi Nisar',\n",
              " 'fawad hussain',\n",
              " 'firdows ashiq',\n",
              " 'khawaja Asif',\n",
              " 'pervaiz elahi',\n",
              " 'umar ayyub'}"
            ]
          },
          "metadata": {
            "tags": []
          },
          "execution_count": 32
        }
      ]
    },
    {
      "cell_type": "code",
      "metadata": {
        "id": "AxsuLMFcjjcL",
        "colab_type": "code",
        "colab": {
          "base_uri": "https://localhost:8080/",
          "height": 129
        },
        "outputId": "c53610ac-eb40-4fcb-aa69-d074eec5c121"
      },
      "source": [
        "pml_q | pml_n"
      ],
      "execution_count": 33,
      "outputs": [
        {
          "output_type": "execute_result",
          "data": {
            "text/plain": [
              "{'choi Nisar',\n",
              " 'fawad hussain',\n",
              " 'firdows ashiq',\n",
              " 'khawaja Asif',\n",
              " 'pervaiz elahi',\n",
              " 'umar ayyub'}"
            ]
          },
          "metadata": {
            "tags": []
          },
          "execution_count": 33
        }
      ]
    },
    {
      "cell_type": "markdown",
      "metadata": {
        "id": "LjDhXs_zj9xQ",
        "colab_type": "text"
      },
      "source": [
        "## `intersection`"
      ]
    },
    {
      "cell_type": "code",
      "metadata": {
        "id": "doLqgy_hjsmY",
        "colab_type": "code",
        "colab": {
          "base_uri": "https://localhost:8080/",
          "height": 36
        },
        "outputId": "baae966d-c8e8-4ead-da03-1b5a0247c033"
      },
      "source": [
        "pml_q = {\"firdows ashiq\", \"fawad hussain\", \"pervaiz elahi\", \"umar ayyub\"}  \n",
        "pti = {\"firdows ashiq\", \"umar ayyub\", \"asad umar\", \"fawad hussain\"}\n",
        "\n",
        "pml_q.intersection(pti)"
      ],
      "execution_count": 34,
      "outputs": [
        {
          "output_type": "execute_result",
          "data": {
            "text/plain": [
              "{'fawad hussain', 'firdows ashiq', 'umar ayyub'}"
            ]
          },
          "metadata": {
            "tags": []
          },
          "execution_count": 34
        }
      ]
    },
    {
      "cell_type": "markdown",
      "metadata": {
        "id": "NB4jFiZa4Vqi",
        "colab_type": "text"
      },
      "source": [
        "We can also use `&` operator"
      ]
    },
    {
      "cell_type": "code",
      "metadata": {
        "id": "H9LTY6TJkSrH",
        "colab_type": "code",
        "colab": {
          "base_uri": "https://localhost:8080/",
          "height": 36
        },
        "outputId": "0ee68406-20b5-40bf-e5e0-185afa9ce3e0"
      },
      "source": [
        "pml_q & pti"
      ],
      "execution_count": 35,
      "outputs": [
        {
          "output_type": "execute_result",
          "data": {
            "text/plain": [
              "{'fawad hussain', 'firdows ashiq', 'umar ayyub'}"
            ]
          },
          "metadata": {
            "tags": []
          },
          "execution_count": 35
        }
      ]
    },
    {
      "cell_type": "markdown",
      "metadata": {
        "id": "n2G0vbIN4R4x",
        "colab_type": "text"
      },
      "source": [
        "The original set `pml_q` remains unchanged."
      ]
    },
    {
      "cell_type": "code",
      "metadata": {
        "id": "GDYECCPGkdNy",
        "colab_type": "code",
        "colab": {
          "base_uri": "https://localhost:8080/",
          "height": 36
        },
        "outputId": "065bf1be-8d1b-45a8-dd4c-a4b1c70c7cd6"
      },
      "source": [
        "pml_q"
      ],
      "execution_count": 36,
      "outputs": [
        {
          "output_type": "execute_result",
          "data": {
            "text/plain": [
              "{'fawad hussain', 'firdows ashiq', 'pervaiz elahi', 'umar ayyub'}"
            ]
          },
          "metadata": {
            "tags": []
          },
          "execution_count": 36
        }
      ]
    },
    {
      "cell_type": "markdown",
      "metadata": {
        "id": "YbkWaoXo4cDm",
        "colab_type": "text"
      },
      "source": [
        "However, if we use `intersection_update`, the original set is changed"
      ]
    },
    {
      "cell_type": "code",
      "metadata": {
        "id": "Emv6WWxCklGU",
        "colab_type": "code",
        "colab": {
          "base_uri": "https://localhost:8080/",
          "height": 36
        },
        "outputId": "590f0c49-ab5c-4912-f5a1-9098e53dc5c9"
      },
      "source": [
        "pml_q.intersection_update(pti)\n",
        "pml_q"
      ],
      "execution_count": 37,
      "outputs": [
        {
          "output_type": "execute_result",
          "data": {
            "text/plain": [
              "{'fawad hussain', 'firdows ashiq', 'umar ayyub'}"
            ]
          },
          "metadata": {
            "tags": []
          },
          "execution_count": 37
        }
      ]
    },
    {
      "cell_type": "markdown",
      "metadata": {
        "id": "Va2seJBp26hF",
        "colab_type": "text"
      },
      "source": [
        "If we want to find out intersection between multiple sets, we can do it as following."
      ]
    },
    {
      "cell_type": "code",
      "metadata": {
        "id": "5Uo9St8UwX8O",
        "colab_type": "code",
        "colab": {
          "base_uri": "https://localhost:8080/",
          "height": 36
        },
        "outputId": "d6f33f2c-968d-4390-b9a5-41412aa6303f"
      },
      "source": [
        "pml_q = {\"firdows ashiq\", \"fawad hussain\", \"pervaiz elahi\", \"umar ayyub\"} \n",
        "pti = {\"firdows ashiq\", \"umar ayyub\", \"asad umar\", \"fawad hussain\"}\n",
        "pml_n = {\"choi Nisar\" , \"umar ayyub\", \"khawaja Asif\"}\n",
        "\n",
        "sets = [pml_q, pml_n, pti]\n",
        "set.intersection(*sets)"
      ],
      "execution_count": 38,
      "outputs": [
        {
          "output_type": "execute_result",
          "data": {
            "text/plain": [
              "{'umar ayyub'}"
            ]
          },
          "metadata": {
            "tags": []
          },
          "execution_count": 38
        }
      ]
    },
    {
      "cell_type": "markdown",
      "metadata": {
        "id": "DSYI9BhS3L_V",
        "colab_type": "text"
      },
      "source": [
        "or"
      ]
    },
    {
      "cell_type": "code",
      "metadata": {
        "id": "So3iKD2L3GJq",
        "colab_type": "code",
        "colab": {
          "base_uri": "https://localhost:8080/",
          "height": 36
        },
        "outputId": "a999b9e4-471f-41b8-c301-793fdc739ac2"
      },
      "source": [
        "sets = [pml_n, pti]\n",
        "pml_q.intersection(*sets)"
      ],
      "execution_count": 39,
      "outputs": [
        {
          "output_type": "execute_result",
          "data": {
            "text/plain": [
              "{'umar ayyub'}"
            ]
          },
          "metadata": {
            "tags": []
          },
          "execution_count": 39
        }
      ]
    },
    {
      "cell_type": "markdown",
      "metadata": {
        "id": "xXm7RjZGoWCX",
        "colab_type": "text"
      },
      "source": [
        "So we can say that [`umar ayyub`](https://en.wikipedia.org/wiki/Omar_Ayub_Khan) is the most consistent lota.\n",
        "\n",
        "## `isdisjoint`\n",
        "\n",
        "returns `True` if the intersection of two sets is not empty set."
      ]
    },
    {
      "cell_type": "code",
      "metadata": {
        "id": "fcr5XND5koRX",
        "colab_type": "code",
        "colab": {
          "base_uri": "https://localhost:8080/",
          "height": 36
        },
        "outputId": "4f77ad56-65ab-49c9-db65-eef8163c922e"
      },
      "source": [
        "ppp = {\"firdows ashiq\", \"fawad hussain\", \"Amin Faheem\", \"umar ayyub\"} \n",
        "pti = {\"firdows ashiq\", \"umar ayyub\", \"asad umar\", \"fawad hussain\"}\n",
        "ji = {\"liaquat baloch\", \"siraj ul haq\", \"munawar hasan\"}\n",
        "\n",
        "ppp.isdisjoint(ji)"
      ],
      "execution_count": 40,
      "outputs": [
        {
          "output_type": "execute_result",
          "data": {
            "text/plain": [
              "True"
            ]
          },
          "metadata": {
            "tags": []
          },
          "execution_count": 40
        }
      ]
    },
    {
      "cell_type": "code",
      "metadata": {
        "id": "XizaV8R2oxxx",
        "colab_type": "code",
        "colab": {
          "base_uri": "https://localhost:8080/",
          "height": 36
        },
        "outputId": "a5dd0bf3-6cc3-4e48-c4d3-5fceb9f1c1ee"
      },
      "source": [
        "ppp.isdisjoint(pti)"
      ],
      "execution_count": 41,
      "outputs": [
        {
          "output_type": "execute_result",
          "data": {
            "text/plain": [
              "False"
            ]
          },
          "metadata": {
            "tags": []
          },
          "execution_count": 41
        }
      ]
    },
    {
      "cell_type": "markdown",
      "metadata": {
        "id": "erRzlj8CpHSc",
        "colab_type": "text"
      },
      "source": [
        "## `issubset`\n",
        "\n",
        "`<` is used for proper seubset and `<=` is used for subset checking."
      ]
    },
    {
      "cell_type": "code",
      "metadata": {
        "id": "YsFE02xOo4DP",
        "colab_type": "code",
        "colab": {
          "base_uri": "https://localhost:8080/",
          "height": 36
        },
        "outputId": "2c991bee-c03a-4d6a-ad81-7d4a31522295"
      },
      "source": [
        "pml_n = {\"nawaz\", \"shahbaz\", \"pervaiz elahi\", \"mushahid husain\"}\n",
        "pml_q = {\"pervaiz elahi\", \"mushahid husain\"}\n",
        "\n",
        "pml_q.issubset(pml_n)"
      ],
      "execution_count": 42,
      "outputs": [
        {
          "output_type": "execute_result",
          "data": {
            "text/plain": [
              "True"
            ]
          },
          "metadata": {
            "tags": []
          },
          "execution_count": 42
        }
      ]
    },
    {
      "cell_type": "code",
      "metadata": {
        "id": "AWqUV9SLpi2j",
        "colab_type": "code",
        "colab": {
          "base_uri": "https://localhost:8080/",
          "height": 36
        },
        "outputId": "2a458299-5a89-445e-d68c-eaf33475e14c"
      },
      "source": [
        "pml_q <= pml_n"
      ],
      "execution_count": 43,
      "outputs": [
        {
          "output_type": "execute_result",
          "data": {
            "text/plain": [
              "True"
            ]
          },
          "metadata": {
            "tags": []
          },
          "execution_count": 43
        }
      ]
    },
    {
      "cell_type": "code",
      "metadata": {
        "id": "LLUlFJLLp4Hx",
        "colab_type": "code",
        "colab": {
          "base_uri": "https://localhost:8080/",
          "height": 36
        },
        "outputId": "e01eb8fe-a14b-46f8-d523-988a044453ad"
      },
      "source": [
        "pml_q < pml_q"
      ],
      "execution_count": 44,
      "outputs": [
        {
          "output_type": "execute_result",
          "data": {
            "text/plain": [
              "False"
            ]
          },
          "metadata": {
            "tags": []
          },
          "execution_count": 44
        }
      ]
    },
    {
      "cell_type": "markdown",
      "metadata": {
        "id": "iCWnrl17qAuK",
        "colab_type": "text"
      },
      "source": [
        "## `issuperset`\n",
        "\n",
        "`>` is used for proper superset and `>=` is used for superset checking."
      ]
    },
    {
      "cell_type": "code",
      "metadata": {
        "id": "aGZOA3U_p62d",
        "colab_type": "code",
        "colab": {
          "base_uri": "https://localhost:8080/",
          "height": 36
        },
        "outputId": "357700a3-2be1-4403-8c0c-cae81b12f4a1"
      },
      "source": [
        "pml_n = {\"nawaz\", \"shahbaz\", \"pervaiz elahi\", \"mushahid husain\"}\n",
        "pml_q = {\"pervaiz elahi\", \"mushahid husain\"}\n",
        "\n",
        "pml_n.issuperset(pml_q)"
      ],
      "execution_count": 45,
      "outputs": [
        {
          "output_type": "execute_result",
          "data": {
            "text/plain": [
              "True"
            ]
          },
          "metadata": {
            "tags": []
          },
          "execution_count": 45
        }
      ]
    },
    {
      "cell_type": "code",
      "metadata": {
        "id": "fnX29Z76sDBB",
        "colab_type": "code",
        "colab": {
          "base_uri": "https://localhost:8080/",
          "height": 36
        },
        "outputId": "fc29c449-d9eb-4db2-c908-3354718da469"
      },
      "source": [
        "pml_n >= pml_q"
      ],
      "execution_count": 46,
      "outputs": [
        {
          "output_type": "execute_result",
          "data": {
            "text/plain": [
              "True"
            ]
          },
          "metadata": {
            "tags": []
          },
          "execution_count": 46
        }
      ]
    },
    {
      "cell_type": "code",
      "metadata": {
        "id": "oILfoJVIr_xD",
        "colab_type": "code",
        "colab": {
          "base_uri": "https://localhost:8080/",
          "height": 36
        },
        "outputId": "9a1c18b4-bc5e-4770-c5eb-12306d600453"
      },
      "source": [
        "pml_n > pml_n"
      ],
      "execution_count": 47,
      "outputs": [
        {
          "output_type": "execute_result",
          "data": {
            "text/plain": [
              "False"
            ]
          },
          "metadata": {
            "tags": []
          },
          "execution_count": 47
        }
      ]
    },
    {
      "cell_type": "markdown",
      "metadata": {
        "id": "RrBCw-_hvls1",
        "colab_type": "text"
      },
      "source": [
        "Since sets are unordered, the operation `in` is faster when applied to sets as compared to lists."
      ]
    },
    {
      "cell_type": "code",
      "metadata": {
        "id": "EF-ZMKMc2fBP",
        "colab_type": "code",
        "colab": {
          "base_uri": "https://localhost:8080/",
          "height": 36
        },
        "outputId": "f17080cf-4d2d-489e-b92c-120d60c1401f"
      },
      "source": [
        "\"nawaz\" in pml_n"
      ],
      "execution_count": 48,
      "outputs": [
        {
          "output_type": "execute_result",
          "data": {
            "text/plain": [
              "True"
            ]
          },
          "metadata": {
            "tags": []
          },
          "execution_count": 48
        }
      ]
    },
    {
      "cell_type": "code",
      "metadata": {
        "id": "rFXUnwjxI8iM",
        "colab_type": "code",
        "colab": {
          "base_uri": "https://localhost:8080/",
          "height": 36
        },
        "outputId": "71b3a23c-4b69-4fc7-8ec2-eacfc8adce53"
      },
      "source": [
        "\"nawaz\" not in pml_q"
      ],
      "execution_count": 49,
      "outputs": [
        {
          "output_type": "execute_result",
          "data": {
            "text/plain": [
              "True"
            ]
          },
          "metadata": {
            "tags": []
          },
          "execution_count": 49
        }
      ]
    }
  ]
}