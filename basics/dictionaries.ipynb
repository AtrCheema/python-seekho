{
  "nbformat": 4,
  "nbformat_minor": 0,
  "metadata": {
    "colab": {
      "name": "dictionaries.ipynb",
      "provenance": [],
      "collapsed_sections": [],
      "include_colab_link": true
    },
    "kernelspec": {
      "name": "python3",
      "display_name": "Python 3"
    }
  },
  "cells": [
    {
      "cell_type": "markdown",
      "metadata": {
        "id": "view-in-github",
        "colab_type": "text"
      },
      "source": [
        "<a href=\"https://colab.research.google.com/github/AtrCheema/python-courses/blob/master/basics/dictionaries.ipynb\" target=\"_parent\"><img src=\"https://colab.research.google.com/assets/colab-badge.svg\" alt=\"Open In Colab\"/></a>"
      ]
    },
    {
      "cell_type": "markdown",
      "metadata": {
        "id": "3wYNCAsUl8Vn",
        "colab_type": "text"
      },
      "source": [
        "# Intro\n",
        "Dictionaries are data containers to keep the data where each data is associated with a `key`. Also known as associative arrays, dictionaries are data types consisting of key and value pairs. Each value in a dictionary is associated with a key, and every key has a value associated with it."
      ]
    },
    {
      "cell_type": "code",
      "metadata": {
        "id": "u593d9fYkiK9",
        "colab_type": "code",
        "outputId": "89035514-e52c-4699-9c71-0689aeecc0c4",
        "colab": {
          "base_uri": "https://localhost:8080/",
          "height": 36
        }
      },
      "source": [
        "man = {\"name\": \"Baqir -al- Sadr\",\n",
        "       \"born\": 1935,\n",
        "       \"citizenship\": \"Iraq\",\n",
        "       \"died\": 1979}\n",
        "\n",
        "type(man)"
      ],
      "execution_count": 1,
      "outputs": [
        {
          "output_type": "execute_result",
          "data": {
            "text/plain": [
              "dict"
            ]
          },
          "metadata": {
            "tags": []
          },
          "execution_count": 1
        }
      ]
    },
    {
      "cell_type": "markdown",
      "metadata": {
        "id": "hF5jldfvdOpU",
        "colab_type": "text"
      },
      "source": [
        "Each key and value pair must be separated by comman. We can access data from a dictionary as following."
      ]
    },
    {
      "cell_type": "code",
      "metadata": {
        "id": "yGA-tgcLobPw",
        "colab_type": "code",
        "outputId": "94896ead-46e5-47a9-ea98-fcc14b138b54",
        "colab": {
          "base_uri": "https://localhost:8080/",
          "height": 36
        }
      },
      "source": [
        "man[\"name\"]"
      ],
      "execution_count": 2,
      "outputs": [
        {
          "output_type": "execute_result",
          "data": {
            "text/plain": [
              "'Baqir -al- Sadr'"
            ]
          },
          "metadata": {
            "tags": []
          },
          "execution_count": 2
        }
      ]
    },
    {
      "cell_type": "code",
      "metadata": {
        "id": "-GzVhuK0o3oN",
        "colab_type": "code",
        "outputId": "5a8bcdd1-a8b8-45d1-cb22-db96211e7c26",
        "colab": {
          "base_uri": "https://localhost:8080/",
          "height": 36
        }
      },
      "source": [
        "man[\"citizenship\"]"
      ],
      "execution_count": 3,
      "outputs": [
        {
          "output_type": "execute_result",
          "data": {
            "text/plain": [
              "'Iraq'"
            ]
          },
          "metadata": {
            "tags": []
          },
          "execution_count": 3
        }
      ]
    },
    {
      "cell_type": "code",
      "metadata": {
        "id": "yNkT-aelh4nI",
        "colab_type": "code",
        "outputId": "5e1f243c-912c-443f-c45e-551ab364d872",
        "colab": {
          "base_uri": "https://localhost:8080/",
          "height": 174
        }
      },
      "source": [
        "man[\"city\"]"
      ],
      "execution_count": 4,
      "outputs": [
        {
          "output_type": "error",
          "ename": "KeyError",
          "evalue": "ignored",
          "traceback": [
            "\u001b[0;31m---------------------------------------------------------------------------\u001b[0m",
            "\u001b[0;31mKeyError\u001b[0m                                  Traceback (most recent call last)",
            "\u001b[0;32m<ipython-input-4-df9fcce8a69f>\u001b[0m in \u001b[0;36m<module>\u001b[0;34m()\u001b[0m\n\u001b[0;32m----> 1\u001b[0;31m \u001b[0mman\u001b[0m\u001b[0;34m[\u001b[0m\u001b[0;34m\"city\"\u001b[0m\u001b[0;34m]\u001b[0m\u001b[0;34m\u001b[0m\u001b[0;34m\u001b[0m\u001b[0m\n\u001b[0m",
            "\u001b[0;31mKeyError\u001b[0m: 'city'"
          ]
        }
      ]
    },
    {
      "cell_type": "markdown",
      "metadata": {
        "id": "Q8u60OAnpanF",
        "colab_type": "text"
      },
      "source": [
        "The dictionary `man` does not have a key named `city`, so does the error suggests.\n",
        "\n",
        "The key must be the same object as when it was defined. We can not use indexing for keys such as"
      ]
    },
    {
      "cell_type": "code",
      "metadata": {
        "id": "c4Ir-0K4pPNa",
        "colab_type": "code",
        "outputId": "913e26a7-c311-4faa-b69f-b3ccbbd4df79",
        "colab": {
          "base_uri": "https://localhost:8080/",
          "height": 174
        }
      },
      "source": [
        "man[0]"
      ],
      "execution_count": 5,
      "outputs": [
        {
          "output_type": "error",
          "ename": "KeyError",
          "evalue": "ignored",
          "traceback": [
            "\u001b[0;31m---------------------------------------------------------------------------\u001b[0m",
            "\u001b[0;31mKeyError\u001b[0m                                  Traceback (most recent call last)",
            "\u001b[0;32m<ipython-input-5-379c40a64fe0>\u001b[0m in \u001b[0;36m<module>\u001b[0;34m()\u001b[0m\n\u001b[0;32m----> 1\u001b[0;31m \u001b[0mman\u001b[0m\u001b[0;34m[\u001b[0m\u001b[0;36m0\u001b[0m\u001b[0;34m]\u001b[0m\u001b[0;34m\u001b[0m\u001b[0;34m\u001b[0m\u001b[0m\n\u001b[0m",
            "\u001b[0;31mKeyError\u001b[0m: 0"
          ]
        }
      ]
    },
    {
      "cell_type": "markdown",
      "metadata": {
        "id": "M8xPSiaWeqmF",
        "colab_type": "text"
      },
      "source": [
        "We can add a new key, value pair in an existing dictionary as following"
      ]
    },
    {
      "cell_type": "code",
      "metadata": {
        "id": "3NbsD1QKfv_N",
        "colab_type": "code",
        "outputId": "c10b7539-4e7f-4f6f-8dc5-77837202705f",
        "colab": {
          "base_uri": "https://localhost:8080/",
          "height": 36
        }
      },
      "source": [
        "man[\"city\"] = \"Baghdad\"\n",
        "\n",
        "print(man)"
      ],
      "execution_count": 6,
      "outputs": [
        {
          "output_type": "stream",
          "text": [
            "{'name': 'Baqir -al- Sadr', 'born': 1935, 'citizenship': 'Iraq', 'died': 1979, 'city': 'Baghdad'}\n"
          ],
          "name": "stdout"
        }
      ]
    },
    {
      "cell_type": "markdown",
      "metadata": {
        "id": "9MNKHA_bfDuT",
        "colab_type": "text"
      },
      "source": [
        "Thus we can start with an empty dictionary and populate it later on\n"
      ]
    },
    {
      "cell_type": "code",
      "metadata": {
        "id": "-Lm4i1TyqIfr",
        "colab_type": "code",
        "outputId": "0e93dca8-81f1-4ce5-a4d2-1d84cb762d0b",
        "colab": {
          "base_uri": "https://localhost:8080/",
          "height": 36
        }
      },
      "source": [
        "man = {}\n",
        "\n",
        "man"
      ],
      "execution_count": 7,
      "outputs": [
        {
          "output_type": "execute_result",
          "data": {
            "text/plain": [
              "{}"
            ]
          },
          "metadata": {
            "tags": []
          },
          "execution_count": 7
        }
      ]
    },
    {
      "cell_type": "code",
      "metadata": {
        "id": "fd3bBam0pzZw",
        "colab_type": "code",
        "outputId": "e67112a4-35c6-4394-bc0c-38b74ce79c53",
        "colab": {
          "base_uri": "https://localhost:8080/",
          "height": 36
        }
      },
      "source": [
        "man[\"city\"] = \"Baghdad\"\n",
        "man[\"name\"] = \"Baqir -al- Sadr\"\n",
        "man[\"born\"] =  1935\n",
        "man[\"citizenship\"]= \"Iraq\"\n",
        "man[\"died\"] = 1979\n",
        "\n",
        "print(man)"
      ],
      "execution_count": 8,
      "outputs": [
        {
          "output_type": "stream",
          "text": [
            "{'city': 'Baghdad', 'name': 'Baqir -al- Sadr', 'born': 1935, 'citizenship': 'Iraq', 'died': 1979}\n"
          ],
          "name": "stdout"
        }
      ]
    },
    {
      "cell_type": "markdown",
      "metadata": {
        "id": "iU_esujgf-rM",
        "colab_type": "text"
      },
      "source": [
        "The values to different keys in a dictionary can be same."
      ]
    },
    {
      "cell_type": "code",
      "metadata": {
        "id": "9JALVMBigIB3",
        "colab_type": "code",
        "outputId": "ad67ab0b-4ff6-406b-b251-dd2d105dbf38",
        "colab": {
          "base_uri": "https://localhost:8080/",
          "height": 56
        }
      },
      "source": [
        "man[\"birth_place\"]  = \"Baghdad\"\n",
        "man[\"burial_place\"] = \"Baghdad\"\n",
        "\n",
        "print(man)"
      ],
      "execution_count": 9,
      "outputs": [
        {
          "output_type": "stream",
          "text": [
            "{'city': 'Baghdad', 'name': 'Baqir -al- Sadr', 'born': 1935, 'citizenship': 'Iraq', 'died': 1979, 'birth_place': 'Baghdad', 'burial_place': 'Baghdad'}\n"
          ],
          "name": "stdout"
        }
      ]
    },
    {
      "cell_type": "markdown",
      "metadata": {
        "id": "T8Ot43SQg-QB",
        "colab_type": "text"
      },
      "source": [
        "But we can not have a dictionary with two or more same keys. If we add a new key with same name, the original key, value will be replaced."
      ]
    },
    {
      "cell_type": "code",
      "metadata": {
        "id": "C213fdKdgSxW",
        "colab_type": "code",
        "outputId": "6515bb5c-894d-4538-fc8a-ce346367c9f1",
        "colab": {
          "base_uri": "https://localhost:8080/",
          "height": 56
        }
      },
      "source": [
        "man[\"died\"] = 1980\n",
        "print(man)"
      ],
      "execution_count": 10,
      "outputs": [
        {
          "output_type": "stream",
          "text": [
            "{'city': 'Baghdad', 'name': 'Baqir -al- Sadr', 'born': 1935, 'citizenship': 'Iraq', 'died': 1980, 'birth_place': 'Baghdad', 'burial_place': 'Baghdad'}\n"
          ],
          "name": "stdout"
        }
      ]
    },
    {
      "cell_type": "markdown",
      "metadata": {
        "id": "0MGJ7fphhUSs",
        "colab_type": "text"
      },
      "source": [
        "## `type` of keys and values\n",
        "The values in a dictionary can be of any type."
      ]
    },
    {
      "cell_type": "code",
      "metadata": {
        "id": "WZiVcFzchNGh",
        "colab_type": "code",
        "outputId": "169d4211-f6b7-44db-9989-9065c2138d4b",
        "colab": {
          "base_uri": "https://localhost:8080/",
          "height": 36
        }
      },
      "source": [
        "colonies = {\"british\": [\"India\", \"Australia\"],\n",
        "            \"french\": \"Libya\",\n",
        "            \"polish\": 0,\n",
        "            \"german\": 3.5,   # most of their colonies are split and joined into new countires.\n",
        "            \"cuba\": None}\n",
        "\n",
        "print(colonies)"
      ],
      "execution_count": 11,
      "outputs": [
        {
          "output_type": "stream",
          "text": [
            "{'british': ['India', 'Australia'], 'french': 'Libya', 'polish': 0, 'german': 3.5, 'cuba': None}\n"
          ],
          "name": "stdout"
        }
      ]
    },
    {
      "cell_type": "markdown",
      "metadata": {
        "id": "MNIpw89Fi3rj",
        "colab_type": "text"
      },
      "source": [
        "But the keys of a dictionary must be immutable."
      ]
    },
    {
      "cell_type": "code",
      "metadata": {
        "id": "tf-bDtCQirfA",
        "colab_type": "code",
        "outputId": "0e363246-9924-4339-ef93-caca619ad0b0",
        "colab": {
          "base_uri": "https://localhost:8080/",
          "height": 36
        }
      },
      "source": [
        "persons = {1: \"Adam\",\n",
        "           \"Two\": \"Eva\"}\n",
        "\n",
        "print(persons)"
      ],
      "execution_count": 12,
      "outputs": [
        {
          "output_type": "stream",
          "text": [
            "{1: 'Adam', 'Two': 'Eva'}\n"
          ],
          "name": "stdout"
        }
      ]
    },
    {
      "cell_type": "code",
      "metadata": {
        "id": "tInl5tOBjUUY",
        "colab_type": "code",
        "outputId": "47d4a4b1-68a7-4016-9304-7cebbf236c77",
        "colab": {
          "base_uri": "https://localhost:8080/",
          "height": 174
        }
      },
      "source": [
        "persons[[0,1]] = [\"Adam\", \"Eva\"]"
      ],
      "execution_count": 13,
      "outputs": [
        {
          "output_type": "error",
          "ename": "TypeError",
          "evalue": "ignored",
          "traceback": [
            "\u001b[0;31m---------------------------------------------------------------------------\u001b[0m",
            "\u001b[0;31mTypeError\u001b[0m                                 Traceback (most recent call last)",
            "\u001b[0;32m<ipython-input-13-7448416768f4>\u001b[0m in \u001b[0;36m<module>\u001b[0;34m()\u001b[0m\n\u001b[0;32m----> 1\u001b[0;31m \u001b[0mpersons\u001b[0m\u001b[0;34m[\u001b[0m\u001b[0;34m[\u001b[0m\u001b[0;36m0\u001b[0m\u001b[0;34m,\u001b[0m\u001b[0;36m1\u001b[0m\u001b[0;34m]\u001b[0m\u001b[0;34m]\u001b[0m \u001b[0;34m=\u001b[0m \u001b[0;34m[\u001b[0m\u001b[0;34m\"Adam\"\u001b[0m\u001b[0;34m,\u001b[0m \u001b[0;34m\"Eva\"\u001b[0m\u001b[0;34m]\u001b[0m\u001b[0;34m\u001b[0m\u001b[0;34m\u001b[0m\u001b[0m\n\u001b[0m",
            "\u001b[0;31mTypeError\u001b[0m: unhashable type: 'list'"
          ]
        }
      ]
    },
    {
      "cell_type": "markdown",
      "metadata": {
        "id": "__tEz_ikFNen",
        "colab_type": "text"
      },
      "source": [
        "## Makind a real practical dictionary"
      ]
    },
    {
      "cell_type": "code",
      "metadata": {
        "id": "PD85YkWhji0b",
        "colab_type": "code",
        "outputId": "3808b4b6-06f4-403a-a8b0-9626066a1f50",
        "colab": {
          "base_uri": "https://localhost:8080/",
          "height": 36
        }
      },
      "source": [
        "ur_per = {\"admi\" : \"mard\", \"aurat\" : \"zan\", \"bacha\":\"tefl\", \"paighambar\": \"paighambar\"}\n",
        "per_ar = {\"mard\" : \"rojol\", \"zan\" : \"nissa\", \"tefl\":\"tefl\", \"paighambar\": \"paighambar\"}\n",
        "\n",
        "\n",
        "print(\"The Arabic word for aurat is: \" + per_ar[ur_per[\"aurat\"]])"
      ],
      "execution_count": 14,
      "outputs": [
        {
          "output_type": "stream",
          "text": [
            "The Arabic word for aurat is: nissa\n"
          ],
          "name": "stdout"
        }
      ]
    },
    {
      "cell_type": "markdown",
      "metadata": {
        "id": "qP4LnY3Cma9l",
        "colab_type": "text"
      },
      "source": [
        "# Operations on dictionaries\n",
        "\n",
        "`len`, `del` and `in`"
      ]
    },
    {
      "cell_type": "code",
      "metadata": {
        "id": "UcSnKlMClXDh",
        "colab_type": "code",
        "outputId": "83cef969-a3e7-4e08-93fe-251a47957ca8",
        "colab": {
          "base_uri": "https://localhost:8080/",
          "height": 36
        }
      },
      "source": [
        "man = {\"name\": \"Baqir -al- Sadr\",\n",
        "       \"born\": 1935,\n",
        "       \"citizenship\": \"Iraq\",\n",
        "       \"died\": 1979}\n",
        "       \n",
        "len(man)"
      ],
      "execution_count": 15,
      "outputs": [
        {
          "output_type": "execute_result",
          "data": {
            "text/plain": [
              "4"
            ]
          },
          "metadata": {
            "tags": []
          },
          "execution_count": 15
        }
      ]
    },
    {
      "cell_type": "code",
      "metadata": {
        "id": "hT1Okg1qmwMh",
        "colab_type": "code",
        "outputId": "cdd1fc00-387d-476c-beae-dd5848d16e10",
        "colab": {
          "base_uri": "https://localhost:8080/",
          "height": 36
        }
      },
      "source": [
        "\"died\" in man"
      ],
      "execution_count": 16,
      "outputs": [
        {
          "output_type": "execute_result",
          "data": {
            "text/plain": [
              "True"
            ]
          },
          "metadata": {
            "tags": []
          },
          "execution_count": 16
        }
      ]
    },
    {
      "cell_type": "code",
      "metadata": {
        "id": "qtSZPgnvmuRh",
        "colab_type": "code",
        "outputId": "de492409-25bf-4c5d-9f84-b78505f9b432",
        "colab": {
          "base_uri": "https://localhost:8080/",
          "height": 193
        }
      },
      "source": [
        "del man[\"died\"]\n",
        "\"died\" not in man"
      ],
      "execution_count": 18,
      "outputs": [
        {
          "output_type": "error",
          "ename": "KeyError",
          "evalue": "ignored",
          "traceback": [
            "\u001b[0;31m---------------------------------------------------------------------------\u001b[0m",
            "\u001b[0;31mKeyError\u001b[0m                                  Traceback (most recent call last)",
            "\u001b[0;32m<ipython-input-18-05b742c990be>\u001b[0m in \u001b[0;36m<module>\u001b[0;34m()\u001b[0m\n\u001b[0;32m----> 1\u001b[0;31m \u001b[0;32mdel\u001b[0m \u001b[0mman\u001b[0m\u001b[0;34m[\u001b[0m\u001b[0;34m\"died\"\u001b[0m\u001b[0;34m]\u001b[0m\u001b[0;34m\u001b[0m\u001b[0;34m\u001b[0m\u001b[0m\n\u001b[0m\u001b[1;32m      2\u001b[0m \u001b[0;34m\"died\"\u001b[0m \u001b[0;32mnot\u001b[0m \u001b[0;32min\u001b[0m \u001b[0mman\u001b[0m\u001b[0;34m\u001b[0m\u001b[0;34m\u001b[0m\u001b[0m\n",
            "\u001b[0;31mKeyError\u001b[0m: 'died'"
          ]
        }
      ]
    },
    {
      "cell_type": "markdown",
      "metadata": {
        "id": "cXO5oNxCnFPO",
        "colab_type": "text"
      },
      "source": [
        "Repeating the above code will result in error."
      ]
    },
    {
      "cell_type": "code",
      "metadata": {
        "id": "Jr8ZFdkKmyW7",
        "colab_type": "code",
        "outputId": "0610532b-9cfe-4eb6-cef6-4f2126578a18",
        "colab": {
          "base_uri": "https://localhost:8080/",
          "height": 36
        }
      },
      "source": [
        "\"city\" not in man"
      ],
      "execution_count": 19,
      "outputs": [
        {
          "output_type": "execute_result",
          "data": {
            "text/plain": [
              "True"
            ]
          },
          "metadata": {
            "tags": []
          },
          "execution_count": 19
        }
      ]
    },
    {
      "cell_type": "markdown",
      "metadata": {
        "id": "siUyaRwH3183",
        "colab_type": "text"
      },
      "source": [
        "## `pop`"
      ]
    },
    {
      "cell_type": "code",
      "metadata": {
        "id": "WIRQFhyx3nkr",
        "colab_type": "code",
        "outputId": "023ee34e-5085-4003-ce25-2f56cd66315f",
        "colab": {
          "base_uri": "https://localhost:8080/",
          "height": 36
        }
      },
      "source": [
        "man = {\"name\": \"Baqir -al- Sadr\",\n",
        "       \"born\": 1935,\n",
        "       \"citizenship\": \"Iraq\",\n",
        "       \"died\": 1979}\n",
        "    \n",
        "man.pop(\"died\")"
      ],
      "execution_count": 25,
      "outputs": [
        {
          "output_type": "execute_result",
          "data": {
            "text/plain": [
              "1979"
            ]
          },
          "metadata": {
            "tags": []
          },
          "execution_count": 25
        }
      ]
    },
    {
      "cell_type": "code",
      "metadata": {
        "id": "EPtBOMGY3yZy",
        "colab_type": "code",
        "outputId": "cb6e42be-a5fe-44ef-bb49-f19cce16ccb2",
        "colab": {
          "base_uri": "https://localhost:8080/",
          "height": 36
        }
      },
      "source": [
        "man"
      ],
      "execution_count": 21,
      "outputs": [
        {
          "output_type": "execute_result",
          "data": {
            "text/plain": [
              "{'born': 1935, 'citizenship': 'Iraq', 'name': 'Baqir -al- Sadr'}"
            ]
          },
          "metadata": {
            "tags": []
          },
          "execution_count": 21
        }
      ]
    },
    {
      "cell_type": "code",
      "metadata": {
        "id": "W5-tr-Jt30cj",
        "colab_type": "code",
        "outputId": "2299ac75-c931-4a2b-9d60-f80ee197a6cb",
        "colab": {
          "base_uri": "https://localhost:8080/",
          "height": 174
        }
      },
      "source": [
        "man.pop(\"died\")"
      ],
      "execution_count": 22,
      "outputs": [
        {
          "output_type": "error",
          "ename": "KeyError",
          "evalue": "ignored",
          "traceback": [
            "\u001b[0;31m---------------------------------------------------------------------------\u001b[0m",
            "\u001b[0;31mKeyError\u001b[0m                                  Traceback (most recent call last)",
            "\u001b[0;32m<ipython-input-22-10c045f3ed82>\u001b[0m in \u001b[0;36m<module>\u001b[0;34m()\u001b[0m\n\u001b[0;32m----> 1\u001b[0;31m \u001b[0mman\u001b[0m\u001b[0;34m.\u001b[0m\u001b[0mpop\u001b[0m\u001b[0;34m(\u001b[0m\u001b[0;34m\"died\"\u001b[0m\u001b[0;34m)\u001b[0m\u001b[0;34m\u001b[0m\u001b[0;34m\u001b[0m\u001b[0m\n\u001b[0m",
            "\u001b[0;31mKeyError\u001b[0m: 'died'"
          ]
        }
      ]
    },
    {
      "cell_type": "code",
      "metadata": {
        "id": "1aZSx9sMLX_t",
        "colab_type": "code",
        "outputId": "0ac8d9c1-9d82-43dd-c52b-03321c2f7c02",
        "colab": {
          "base_uri": "https://localhost:8080/",
          "height": 36
        }
      },
      "source": [
        "man.pop(\"died\", 1980)"
      ],
      "execution_count": 23,
      "outputs": [
        {
          "output_type": "execute_result",
          "data": {
            "text/plain": [
              "1980"
            ]
          },
          "metadata": {
            "tags": []
          },
          "execution_count": 23
        }
      ]
    },
    {
      "cell_type": "markdown",
      "metadata": {
        "id": "dcEqZ8asLIoD",
        "colab_type": "text"
      },
      "source": [
        "We can use this method to avoid the error of removing the key from a dictionary if the key is not present in dictionary."
      ]
    },
    {
      "cell_type": "code",
      "metadata": {
        "id": "agliYAW54H_x",
        "colab_type": "code",
        "colab": {}
      },
      "source": [
        "man.pop(\"died\", None)"
      ],
      "execution_count": 0,
      "outputs": []
    },
    {
      "cell_type": "code",
      "metadata": {
        "id": "fjuvXNU84KlC",
        "colab_type": "code",
        "outputId": "bd06da71-55ec-451d-ac52-8da9020496d0",
        "colab": {
          "base_uri": "https://localhost:8080/",
          "height": 36
        }
      },
      "source": [
        "man"
      ],
      "execution_count": 27,
      "outputs": [
        {
          "output_type": "execute_result",
          "data": {
            "text/plain": [
              "{'born': 1935, 'citizenship': 'Iraq', 'name': 'Baqir -al- Sadr'}"
            ]
          },
          "metadata": {
            "tags": []
          },
          "execution_count": 27
        }
      ]
    },
    {
      "cell_type": "markdown",
      "metadata": {
        "id": "0uWN0Gxv4Spz",
        "colab_type": "text"
      },
      "source": [
        "## `poopitem`"
      ]
    },
    {
      "cell_type": "code",
      "metadata": {
        "id": "T-PrOH6P4MD3",
        "colab_type": "code",
        "outputId": "3dab5f7a-ea2d-4488-982b-2f8986ac85c0",
        "colab": {
          "base_uri": "https://localhost:8080/",
          "height": 36
        }
      },
      "source": [
        "man = {\"name\": \"Baqir -al- Sadr\",\n",
        "       \"born\": 1935,\n",
        "       \"citizenship\": \"Iraq\",\n",
        "       \"died\": 1979}\n",
        "    \n",
        "man.popitem()"
      ],
      "execution_count": 28,
      "outputs": [
        {
          "output_type": "execute_result",
          "data": {
            "text/plain": [
              "('died', 1979)"
            ]
          },
          "metadata": {
            "tags": []
          },
          "execution_count": 28
        }
      ]
    },
    {
      "cell_type": "code",
      "metadata": {
        "id": "MBuiXEKw4Z1_",
        "colab_type": "code",
        "outputId": "a7649867-dde0-471f-d370-e95c5ee7c0ce",
        "colab": {
          "base_uri": "https://localhost:8080/",
          "height": 36
        }
      },
      "source": [
        "man"
      ],
      "execution_count": 29,
      "outputs": [
        {
          "output_type": "execute_result",
          "data": {
            "text/plain": [
              "{'born': 1935, 'citizenship': 'Iraq', 'name': 'Baqir -al- Sadr'}"
            ]
          },
          "metadata": {
            "tags": []
          },
          "execution_count": 29
        }
      ]
    },
    {
      "cell_type": "code",
      "metadata": {
        "id": "YcfdRyjb4b1A",
        "colab_type": "code",
        "outputId": "4ce07a48-9e10-4e47-a2d6-0c1ae843782d",
        "colab": {
          "base_uri": "https://localhost:8080/",
          "height": 36
        }
      },
      "source": [
        "man.popitem()"
      ],
      "execution_count": 30,
      "outputs": [
        {
          "output_type": "execute_result",
          "data": {
            "text/plain": [
              "('citizenship', 'Iraq')"
            ]
          },
          "metadata": {
            "tags": []
          },
          "execution_count": 30
        }
      ]
    },
    {
      "cell_type": "code",
      "metadata": {
        "id": "WKLcpUdj4fyp",
        "colab_type": "code",
        "outputId": "29543458-e7ad-4fc2-be1c-9be03301aec4",
        "colab": {
          "base_uri": "https://localhost:8080/",
          "height": 36
        }
      },
      "source": [
        "man"
      ],
      "execution_count": 31,
      "outputs": [
        {
          "output_type": "execute_result",
          "data": {
            "text/plain": [
              "{'born': 1935, 'name': 'Baqir -al- Sadr'}"
            ]
          },
          "metadata": {
            "tags": []
          },
          "execution_count": 31
        }
      ]
    },
    {
      "cell_type": "markdown",
      "metadata": {
        "id": "2CUN4_u140Ol",
        "colab_type": "text"
      },
      "source": [
        "## `get`\n",
        "\n",
        "`get` method can also be used for accessing the values in dictionary. It returns `None` if the key is not present and we can set the default value for a key if the value is not already present."
      ]
    },
    {
      "cell_type": "code",
      "metadata": {
        "id": "0ThgRkZR4gv0",
        "colab_type": "code",
        "colab": {}
      },
      "source": [
        "man = {\"name\": \"Baqir -al- Sadr\",\n",
        "       \"born\": 1935,\n",
        "       \"citizenship\": \"Iraq\",\n",
        "       \"died\": 1979}\n",
        "    \n",
        "man.get(\"city\")"
      ],
      "execution_count": 0,
      "outputs": []
    },
    {
      "cell_type": "code",
      "metadata": {
        "id": "OT1Wote_449_",
        "colab_type": "code",
        "outputId": "d3991556-5277-496c-b85a-32abffe82dde",
        "colab": {
          "base_uri": "https://localhost:8080/",
          "height": 36
        }
      },
      "source": [
        "man.get(\"city\", \"Baghdad\")"
      ],
      "execution_count": 36,
      "outputs": [
        {
          "output_type": "execute_result",
          "data": {
            "text/plain": [
              "'Baghdad'"
            ]
          },
          "metadata": {
            "tags": []
          },
          "execution_count": 36
        }
      ]
    },
    {
      "cell_type": "markdown",
      "metadata": {
        "id": "TzUwzgG35sam",
        "colab_type": "text"
      },
      "source": [
        "## `copy`\n",
        "\n",
        "Simple object assignment with `=` makes a shallow copy."
      ]
    },
    {
      "cell_type": "code",
      "metadata": {
        "id": "HfiCoRlZ4-SE",
        "colab_type": "code",
        "outputId": "cc80ce36-2098-4f8b-c8db-185ff6adf4ee",
        "colab": {
          "base_uri": "https://localhost:8080/",
          "height": 54
        }
      },
      "source": [
        "man1 = {\"name\": \"Baqir -al- Sadr\",\n",
        "       \"born\" : 1935,\n",
        "       \"citizenship\": \"Iraq\",\n",
        "       \"died\" : 1979}\n",
        "\n",
        "man2 = man1\n",
        "man2[\"name\"] = \"Mutahri\"\n",
        "\n",
        "print(man1)\n",
        "print(man2)"
      ],
      "execution_count": 37,
      "outputs": [
        {
          "output_type": "stream",
          "text": [
            "{'name': 'Mutahri', 'born': 1935, 'citizenship': 'Iraq', 'died': 1979}\n",
            "{'name': 'Mutahri', 'born': 1935, 'citizenship': 'Iraq', 'died': 1979}\n"
          ],
          "name": "stdout"
        }
      ]
    },
    {
      "cell_type": "code",
      "metadata": {
        "id": "1ZYxtWUC51R_",
        "colab_type": "code",
        "outputId": "776d7375-abd1-4baf-f331-a300512370d0",
        "colab": {
          "base_uri": "https://localhost:8080/",
          "height": 54
        }
      },
      "source": [
        "man1 = {\"name\": \"Baqir -al- Sadr\",\n",
        "       \"born\" : 1935,\n",
        "       \"citizenship\": \"Iraq\",\n",
        "       \"died\" : 1979}\n",
        "\n",
        "man2 = man1.copy()\n",
        "\n",
        "man2[\"name\"] = \"Mutahri\"\n",
        "\n",
        "print(man1)\n",
        "print(man2)"
      ],
      "execution_count": 38,
      "outputs": [
        {
          "output_type": "stream",
          "text": [
            "{'name': 'Baqir -al- Sadr', 'born': 1935, 'citizenship': 'Iraq', 'died': 1979}\n",
            "{'name': 'Mutahri', 'born': 1935, 'citizenship': 'Iraq', 'died': 1979}\n"
          ],
          "name": "stdout"
        }
      ]
    },
    {
      "cell_type": "code",
      "metadata": {
        "id": "PAYOD26D6MTO",
        "colab_type": "code",
        "outputId": "0995f15f-81a8-4b0b-887b-69f9236df36c",
        "colab": {
          "base_uri": "https://localhost:8080/",
          "height": 74
        }
      },
      "source": [
        "men1 = {1: {\"name\": \"Baqir -al- Sadr\", \"born\": 1935, \"citizenship\": \"Iraq\", \"died\": 1980},\n",
        "        2: {\"name\": \"Mutahri\",         \"born\": 1919, \"citizenship\": \"Iran\", \"died\": 1979}\n",
        "}\n",
        "\n",
        "men2 = men1.copy()\n",
        "\n",
        "men2[2][\"name\"] = \"Murtaza Mutahri\"\n",
        "\n",
        "print(men1)\n",
        "print(men2)"
      ],
      "execution_count": 39,
      "outputs": [
        {
          "output_type": "stream",
          "text": [
            "{1: {'name': 'Baqir -al- Sadr', 'born': 1935, 'citizenship': 'Iraq', 'died': 1980}, 2: {'name': 'Murtaza Mutahri', 'born': 1919, 'citizenship': 'Iran', 'died': 1979}}\n",
            "{1: {'name': 'Baqir -al- Sadr', 'born': 1935, 'citizenship': 'Iraq', 'died': 1980}, 2: {'name': 'Murtaza Mutahri', 'born': 1919, 'citizenship': 'Iran', 'died': 1979}}\n"
          ],
          "name": "stdout"
        }
      ]
    },
    {
      "cell_type": "markdown",
      "metadata": {
        "id": "Gj7Sbyql7skF",
        "colab_type": "text"
      },
      "source": [
        "so `copy` still makes a shallow copy for dictionary inside the dictionary. Same is true for `list` in the dictioanrys"
      ]
    },
    {
      "cell_type": "code",
      "metadata": {
        "id": "BiIFA4kT6nmI",
        "colab_type": "code",
        "outputId": "5190d9c0-5892-4942-fc9d-e25cda93e5b7",
        "colab": {
          "base_uri": "https://localhost:8080/",
          "height": 54
        }
      },
      "source": [
        "books1 = {\"AlSadr\":  [\"Our Philosophy\", \"Our Economy\"],\n",
        "          \"Mutahri\": [\"Divine Justice\", \"Man and Destiny\" ]\n",
        "}\n",
        "\n",
        "books2 = books1.copy()\n",
        "\n",
        "books2[\"Mutahri\"][1] = \"The goal of life\"\n",
        "print(books1)\n",
        "print(books2)"
      ],
      "execution_count": 40,
      "outputs": [
        {
          "output_type": "stream",
          "text": [
            "{'AlSadr': ['Our Philosophy', 'Our Economy'], 'Mutahri': ['Divine Justice', 'The goal of life']}\n",
            "{'AlSadr': ['Our Philosophy', 'Our Economy'], 'Mutahri': ['Divine Justice', 'The goal of life']}\n"
          ],
          "name": "stdout"
        }
      ]
    },
    {
      "cell_type": "markdown",
      "metadata": {
        "id": "n0kyjoNN_SEx",
        "colab_type": "text"
      },
      "source": [
        "## `update`"
      ]
    },
    {
      "cell_type": "code",
      "metadata": {
        "id": "MH2Hp3J8-zXs",
        "colab_type": "code",
        "outputId": "5fe6140f-52cf-4e60-9274-f105a68cb22b",
        "colab": {
          "base_uri": "https://localhost:8080/",
          "height": 56
        }
      },
      "source": [
        "books = {\"AlSadr\":  [\"Our Philosophy\", \"Our Economy\"],\n",
        "         \"Mutahri\": [\"Divine Justice\", \"Man and Destiny\" ]\n",
        "}\n",
        "\n",
        "new_books = {\"Legenhausen\": [\"Religious pluralism\", \"Hegel's ethics\"]}\n",
        "\n",
        "books.update(new_books)\n",
        "\n",
        "print(books)"
      ],
      "execution_count": 41,
      "outputs": [
        {
          "output_type": "stream",
          "text": [
            "{'AlSadr': ['Our Philosophy', 'Our Economy'], 'Mutahri': ['Divine Justice', 'Man and Destiny'], 'Legenhausen': ['Religious pluralism', \"Hegel's ethics\"]}\n"
          ],
          "name": "stdout"
        }
      ]
    },
    {
      "cell_type": "markdown",
      "metadata": {
        "id": "pjlb4YWlGf-f",
        "colab_type": "text"
      },
      "source": [
        "## Merging dictionaries\n",
        "\n",
        "The update merges one dictionary into other. If we want to keep both dictionaries intact and create a new one by merging them together, we can do them as following (starting from python 3.5)"
      ]
    },
    {
      "cell_type": "code",
      "metadata": {
        "id": "2CfM492_GvnH",
        "colab_type": "code",
        "outputId": "6495af60-1da4-44d4-b344-e6bfaa9ea925",
        "colab": {
          "base_uri": "https://localhost:8080/",
          "height": 56
        }
      },
      "source": [
        "old_books = {\"AlSadr\":  [\"Our Philosophy\", \"Our Economy\"],\n",
        "            \"Mutahri\":  [\"Divine Justice\", \"Man and Destiny\"]\n",
        "}\n",
        "\n",
        "new_books = {\"Legenhausen\": [\"Religious pluralism\", \"Hegel's ethics\"]}\n",
        "\n",
        "books = {**old_books, **new_books}\n",
        "\n",
        "print(books)"
      ],
      "execution_count": 42,
      "outputs": [
        {
          "output_type": "stream",
          "text": [
            "{'AlSadr': ['Our Philosophy', 'Our Economy'], 'Mutahri': ['Divine Justice', 'Man and Destiny'], 'Legenhausen': ['Religious pluralism', \"Hegel's ethics\"]}\n"
          ],
          "name": "stdout"
        }
      ]
    },
    {
      "cell_type": "code",
      "metadata": {
        "id": "J4PiRlJRHEMv",
        "colab_type": "code",
        "outputId": "a18ca1e3-28e1-4571-e279-88c6d560aa86",
        "colab": {
          "base_uri": "https://localhost:8080/",
          "height": 54
        }
      },
      "source": [
        "print(old_books)\n",
        "\n",
        "print(new_books)"
      ],
      "execution_count": 43,
      "outputs": [
        {
          "output_type": "stream",
          "text": [
            "{'AlSadr': ['Our Philosophy', 'Our Economy'], 'Mutahri': ['Divine Justice', 'Man and Destiny']}\n",
            "{'Legenhausen': ['Religious pluralism', \"Hegel's ethics\"]}\n"
          ],
          "name": "stdout"
        }
      ]
    },
    {
      "cell_type": "code",
      "metadata": {
        "id": "J2HpXqdVHrmx",
        "colab_type": "code",
        "outputId": "b78a311e-dd02-4935-f66c-7a66e4298ee9",
        "colab": {
          "base_uri": "https://localhost:8080/",
          "height": 56
        }
      },
      "source": [
        "books = {**old_books, \"Iqbal\": \"reconstruction\", **new_books}\n",
        "\n",
        "print(books)"
      ],
      "execution_count": 45,
      "outputs": [
        {
          "output_type": "stream",
          "text": [
            "{'AlSadr': ['Our Philosophy', 'Our Economy'], 'Mutahri': ['Divine Justice', 'Man and Destiny'], 'Iqbal': 'reconstruction', 'Legenhausen': ['Religious pluralism', \"Hegel's ethics\"]}\n"
          ],
          "name": "stdout"
        }
      ]
    },
    {
      "cell_type": "markdown",
      "metadata": {
        "id": "3FKLSD38Md5D",
        "colab_type": "text"
      },
      "source": [
        "Double asterik `**`, actually just unpacks the dictionary."
      ]
    },
    {
      "cell_type": "code",
      "metadata": {
        "id": "Op3eWC1GMY_C",
        "colab_type": "code",
        "outputId": "136eb3f8-fab1-4a48-f445-4c901a99dc82",
        "colab": {
          "base_uri": "https://localhost:8080/",
          "height": 36
        }
      },
      "source": [
        "{'x': 1, **{'y': 2}}"
      ],
      "execution_count": 46,
      "outputs": [
        {
          "output_type": "execute_result",
          "data": {
            "text/plain": [
              "{'x': 1, 'y': 2}"
            ]
          },
          "metadata": {
            "tags": []
          },
          "execution_count": 46
        }
      ]
    },
    {
      "cell_type": "markdown",
      "metadata": {
        "id": "daGNIPFQH1gI",
        "colab_type": "text"
      },
      "source": [
        "For backup compatability, we can use the method that can run on versions before 3.5 as follows"
      ]
    },
    {
      "cell_type": "code",
      "metadata": {
        "id": "1fz0QPk5ICkZ",
        "colab_type": "code",
        "outputId": "2a6952e3-499d-4b51-d116-2857f2d3c82a",
        "colab": {
          "base_uri": "https://localhost:8080/",
          "height": 56
        }
      },
      "source": [
        "books = old_books.copy()\n",
        "books.update(new_books)\n",
        "print(books)"
      ],
      "execution_count": 44,
      "outputs": [
        {
          "output_type": "stream",
          "text": [
            "{'AlSadr': ['Our Philosophy', 'Our Economy'], 'Mutahri': ['Divine Justice', 'Man and Destiny'], 'Legenhausen': ['Religious pluralism', \"Hegel's ethics\"]}\n"
          ],
          "name": "stdout"
        }
      ]
    },
    {
      "cell_type": "markdown",
      "metadata": {
        "id": "EvQwgdKdAJdX",
        "colab_type": "text"
      },
      "source": [
        "## Keys and Values"
      ]
    },
    {
      "cell_type": "code",
      "metadata": {
        "id": "JBmZzuimABtI",
        "colab_type": "code",
        "outputId": "6541ecd1-c336-4345-dac1-af5930e07476",
        "colab": {
          "base_uri": "https://localhost:8080/",
          "height": 54
        }
      },
      "source": [
        "keys = books.keys()\n",
        "\n",
        "print(type(keys))\n",
        "print(keys)"
      ],
      "execution_count": 47,
      "outputs": [
        {
          "output_type": "stream",
          "text": [
            "<class 'dict_keys'>\n",
            "dict_keys(['AlSadr', 'Mutahri', 'Iqbal', 'Legenhausen'])\n"
          ],
          "name": "stdout"
        }
      ]
    },
    {
      "cell_type": "code",
      "metadata": {
        "id": "eqgFRG2xAPuR",
        "colab_type": "code",
        "outputId": "d593ada9-df1a-4d49-8754-f485d8b69be2",
        "colab": {
          "base_uri": "https://localhost:8080/",
          "height": 54
        }
      },
      "source": [
        "keys = list(keys)\n",
        "print(type(keys))\n",
        "print(keys)"
      ],
      "execution_count": 48,
      "outputs": [
        {
          "output_type": "stream",
          "text": [
            "<class 'list'>\n",
            "['AlSadr', 'Mutahri', 'Iqbal', 'Legenhausen']\n"
          ],
          "name": "stdout"
        }
      ]
    },
    {
      "cell_type": "code",
      "metadata": {
        "id": "GfBESye7AVNN",
        "colab_type": "code",
        "outputId": "a973e470-4f33-4d5b-d06a-9a2cbfc8b396",
        "colab": {
          "base_uri": "https://localhost:8080/",
          "height": 54
        }
      },
      "source": [
        "values = books.values()\n",
        "\n",
        "values = list(values)\n",
        "print(type(values))\n",
        "print(values)"
      ],
      "execution_count": 49,
      "outputs": [
        {
          "output_type": "stream",
          "text": [
            "<class 'list'>\n",
            "[['Our Philosophy', 'Our Economy'], ['Divine Justice', 'Man and Destiny'], 'reconstruction', ['Religious pluralism', \"Hegel's ethics\"]]\n"
          ],
          "name": "stdout"
        }
      ]
    },
    {
      "cell_type": "code",
      "metadata": {
        "id": "H92_IGXyAls8",
        "colab_type": "code",
        "outputId": "8d8c2514-d725-47f0-a2b0-69667c3e066e",
        "colab": {
          "base_uri": "https://localhost:8080/",
          "height": 92
        }
      },
      "source": [
        "books_as_list = list(books.items())\n",
        "\n",
        "books_as_list"
      ],
      "execution_count": 50,
      "outputs": [
        {
          "output_type": "execute_result",
          "data": {
            "text/plain": [
              "[('AlSadr', ['Our Philosophy', 'Our Economy']),\n",
              " ('Mutahri', ['Divine Justice', 'Man and Destiny']),\n",
              " ('Iqbal', 'reconstruction'),\n",
              " ('Legenhausen', ['Religious pluralism', \"Hegel's ethics\"])]"
            ]
          },
          "metadata": {
            "tags": []
          },
          "execution_count": 50
        }
      ]
    },
    {
      "cell_type": "code",
      "metadata": {
        "id": "HGevWUBGA-Jc",
        "colab_type": "code",
        "outputId": "1a46aab8-5c4d-401d-d878-b4f3a8f24b83",
        "colab": {
          "base_uri": "https://localhost:8080/",
          "height": 54
        }
      },
      "source": [
        "print(type(books_as_list[0]))\n",
        "\n",
        "print(books_as_list[0])"
      ],
      "execution_count": 51,
      "outputs": [
        {
          "output_type": "stream",
          "text": [
            "<class 'tuple'>\n",
            "('AlSadr', ['Our Philosophy', 'Our Economy'])\n"
          ],
          "name": "stdout"
        }
      ]
    },
    {
      "cell_type": "markdown",
      "metadata": {
        "id": "QXpIrnU4BrmM",
        "colab_type": "text"
      },
      "source": [
        "# dictionaries from lists"
      ]
    },
    {
      "cell_type": "code",
      "metadata": {
        "id": "BsK7DrAtBV-r",
        "colab_type": "code",
        "outputId": "4dc04f24-cb86-4161-ec74-a6d312bfb113",
        "colab": {
          "base_uri": "https://localhost:8080/",
          "height": 36
        }
      },
      "source": [
        "captials  = [\"Quetta\",      \"Karachi\", \"Peshawar\", \"Lahore\"]\n",
        "provinces = [\"Balochistan\", \"Sindh\",   \"KPK\",      \"Punjab\"]\n",
        "\n",
        "provinces_captials_iterator = zip(provinces, captials)\n",
        "\n",
        "provinces_captials_iterator"
      ],
      "execution_count": 52,
      "outputs": [
        {
          "output_type": "execute_result",
          "data": {
            "text/plain": [
              "<zip at 0x7fe25b61b8c8>"
            ]
          },
          "metadata": {
            "tags": []
          },
          "execution_count": 52
        }
      ]
    },
    {
      "cell_type": "code",
      "metadata": {
        "id": "lxr_uJXzB97d",
        "colab_type": "code",
        "outputId": "942dc201-b090-47b6-f5d5-92d77b9f9a74",
        "colab": {
          "base_uri": "https://localhost:8080/",
          "height": 36
        }
      },
      "source": [
        "provinces_captials = list(provinces_captials_iterator)\n",
        "print(provinces_captials)"
      ],
      "execution_count": 53,
      "outputs": [
        {
          "output_type": "stream",
          "text": [
            "[('Balochistan', 'Quetta'), ('Sindh', 'Karachi'), ('KPK', 'Peshawar'), ('Punjab', 'Lahore')]\n"
          ],
          "name": "stdout"
        }
      ]
    },
    {
      "cell_type": "code",
      "metadata": {
        "id": "Q8E4M9p2CDCi",
        "colab_type": "code",
        "outputId": "70656b9a-738b-4344-f1fa-ad0379694b14",
        "colab": {
          "base_uri": "https://localhost:8080/",
          "height": 36
        }
      },
      "source": [
        "provinces_captials_dict = dict(provinces_captials)\n",
        "print(provinces_captials_dict)"
      ],
      "execution_count": 54,
      "outputs": [
        {
          "output_type": "stream",
          "text": [
            "{'Balochistan': 'Quetta', 'Sindh': 'Karachi', 'KPK': 'Peshawar', 'Punjab': 'Lahore'}\n"
          ],
          "name": "stdout"
        }
      ]
    },
    {
      "cell_type": "code",
      "metadata": {
        "id": "LF8vzeO3CH7L",
        "colab_type": "code",
        "outputId": "e608d84e-c2cd-435d-eca5-e6ea73050098",
        "colab": {
          "base_uri": "https://localhost:8080/",
          "height": 92
        }
      },
      "source": [
        "dict(zip(provinces, captials))"
      ],
      "execution_count": 55,
      "outputs": [
        {
          "output_type": "execute_result",
          "data": {
            "text/plain": [
              "{'Balochistan': 'Quetta',\n",
              " 'KPK': 'Peshawar',\n",
              " 'Punjab': 'Lahore',\n",
              " 'Sindh': 'Karachi'}"
            ]
          },
          "metadata": {
            "tags": []
          },
          "execution_count": 55
        }
      ]
    },
    {
      "cell_type": "code",
      "metadata": {
        "id": "ckbTouoLCQi8",
        "colab_type": "code",
        "outputId": "4fa0b9e2-5cb0-4906-d1b8-7dfc30d83aa6",
        "colab": {
          "base_uri": "https://localhost:8080/",
          "height": 92
        }
      },
      "source": [
        "captials  = [\"Quetta\",      \"Karachi\", \"Peshawar\", \"Lahore\"]\n",
        "provinces = [\"Balochistan\", \"Sindh\",   \"KPK\",      \"Punjab\", \"FATA\"]\n",
        "\n",
        "dict(zip(provinces, captials))"
      ],
      "execution_count": 56,
      "outputs": [
        {
          "output_type": "execute_result",
          "data": {
            "text/plain": [
              "{'Balochistan': 'Quetta',\n",
              " 'KPK': 'Peshawar',\n",
              " 'Punjab': 'Lahore',\n",
              " 'Sindh': 'Karachi'}"
            ]
          },
          "metadata": {
            "tags": []
          },
          "execution_count": 56
        }
      ]
    },
    {
      "cell_type": "code",
      "metadata": {
        "id": "VtgrcTvDCymp",
        "colab_type": "code",
        "outputId": "00360e4f-d6a7-4153-cfd9-66f448f07728",
        "colab": {
          "base_uri": "https://localhost:8080/",
          "height": 36
        }
      },
      "source": [
        "provinces_captials_dict = dict(list(zip([\"Balochistan\", \"Sindh\", \"KPK\", \"Punjab\"], [\"Quetta\", \"Karachi\", \"Peshawar\", \"Lahore\"])))\n",
        "\n",
        "print(provinces_captials_dict)"
      ],
      "execution_count": 57,
      "outputs": [
        {
          "output_type": "stream",
          "text": [
            "{'Balochistan': 'Quetta', 'Sindh': 'Karachi', 'KPK': 'Peshawar', 'Punjab': 'Lahore'}\n"
          ],
          "name": "stdout"
        }
      ]
    },
    {
      "cell_type": "markdown",
      "metadata": {
        "id": "BlMC--RuKAzr",
        "colab_type": "text"
      },
      "source": [
        "We can now merge two dictionaries with another method."
      ]
    },
    {
      "cell_type": "code",
      "metadata": {
        "id": "Jcz35C2vJaIA",
        "colab_type": "code",
        "outputId": "10587422-819c-4dfa-94c8-3457916bafee",
        "colab": {
          "base_uri": "https://localhost:8080/",
          "height": 73
        }
      },
      "source": [
        "old_books = {\"AlSadr\":  [\"Our Philosophy\", \"Our Economy\"],\n",
        "            \"Mutahri\":  [\"Divine Justice\", \"Man and Destiny\"]}\n",
        "       \n",
        "new_books = {\"Legenhausen\": [\"Religious pluralism\", \"Hegel's ethics\"]}\n",
        "\n",
        "books = dict(list(old_books.items()) + list(new_books.items()))\n",
        "books"
      ],
      "execution_count": 58,
      "outputs": [
        {
          "output_type": "execute_result",
          "data": {
            "text/plain": [
              "{'AlSadr': ['Our Philosophy', 'Our Economy'],\n",
              " 'Legenhausen': ['Religious pluralism', \"Hegel's ethics\"],\n",
              " 'Mutahri': ['Divine Justice', 'Man and Destiny']}"
            ]
          },
          "metadata": {
            "tags": []
          },
          "execution_count": 58
        }
      ]
    }
  ]
}