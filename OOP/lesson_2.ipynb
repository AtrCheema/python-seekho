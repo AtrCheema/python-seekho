{
  "nbformat": 4,
  "nbformat_minor": 0,
  "metadata": {
    "colab": {
      "name": "lesson_2.ipynb",
      "provenance": [],
      "collapsed_sections": [],
      "authorship_tag": "ABX9TyOgRTXn4s9e9lOYyEXt7RHZ",
      "include_colab_link": true
    },
    "kernelspec": {
      "name": "python3",
      "display_name": "Python 3"
    }
  },
  "cells": [
    {
      "cell_type": "markdown",
      "metadata": {
        "id": "view-in-github",
        "colab_type": "text"
      },
      "source": [
        "<a href=\"https://colab.research.google.com/github/AtrCheema/oop_python_urdu/blob/master/chap_1/lesson_2.ipynb\" target=\"_parent\"><img src=\"https://colab.research.google.com/assets/colab-badge.svg\" alt=\"Open In Colab\"/></a>"
      ]
    },
    {
      "cell_type": "markdown",
      "metadata": {
        "id": "v7n6zY7Y-e4M",
        "colab_type": "text"
      },
      "source": [
        "### Creating Classes\n",
        "\n",
        "We can define a minimal class as follows"
      ]
    },
    {
      "cell_type": "code",
      "metadata": {
        "id": "xeWCeR3uolIo",
        "colab_type": "code",
        "colab": {}
      },
      "source": [
        "class Insan:\n",
        "    pass"
      ],
      "execution_count": 0,
      "outputs": []
    },
    {
      "cell_type": "markdown",
      "metadata": {
        "id": "a3ORmRHsKBNA",
        "colab_type": "text"
      },
      "source": [
        "class consists of two parts\n",
        "* header: keyword `class` and name of class and then listing of other classes from which this class inherits i.e. superclasses. 3rd argument is optional\n",
        "* body: indented statements, we have only one statement i.e. 'pass'\n"
      ]
    },
    {
      "cell_type": "markdown",
      "metadata": {
        "id": "6RI8mSczMRkV",
        "colab_type": "text"
      },
      "source": [
        "# Using classes\n",
        "\n",
        "We can use this simple class as following"
      ]
    },
    {
      "cell_type": "code",
      "metadata": {
        "id": "j1661EPQp9ZB",
        "colab_type": "code",
        "colab": {}
      },
      "source": [
        "ali = Insan()\n",
        "husain = Insan()"
      ],
      "execution_count": 0,
      "outputs": []
    },
    {
      "cell_type": "markdown",
      "metadata": {
        "id": "HKEw8ra0K-OI",
        "colab_type": "text"
      },
      "source": [
        "we have created two objects/instances of class `Insan` namely `ali` and `husain`. \n",
        "if we check the type of these instances we can confirm it."
      ]
    },
    {
      "cell_type": "code",
      "metadata": {
        "id": "dDpPNEHNLF__",
        "colab_type": "code",
        "colab": {}
      },
      "source": [
        "type(ali), type(husain)"
      ],
      "execution_count": 0,
      "outputs": []
    },
    {
      "cell_type": "code",
      "metadata": {
        "id": "E6Hz1l9t8I7K",
        "colab_type": "code",
        "colab": {}
      },
      "source": [
        "shabir = husain"
      ],
      "execution_count": 0,
      "outputs": []
    },
    {
      "cell_type": "code",
      "metadata": {
        "id": "F3PgQOOO8hrL",
        "colab_type": "code",
        "colab": {}
      },
      "source": [
        "print(husain == shabir)"
      ],
      "execution_count": 0,
      "outputs": []
    },
    {
      "cell_type": "code",
      "metadata": {
        "id": "k1V_65x88pXB",
        "colab_type": "code",
        "colab": {}
      },
      "source": [
        "print(husain == ali)"
      ],
      "execution_count": 0,
      "outputs": []
    },
    {
      "cell_type": "markdown",
      "metadata": {
        "id": "nSwdObmOL1h2",
        "colab_type": "text"
      },
      "source": [
        "So `husain` and `ali` are different although they are instances of same class but they are different because they are different instances of the class `Insan."
      ]
    }
  ]
}