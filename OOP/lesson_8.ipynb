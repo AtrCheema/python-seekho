{
  "nbformat": 4,
  "nbformat_minor": 0,
  "metadata": {
    "colab": {
      "name": "lesson_8.ipynb",
      "provenance": [],
      "collapsed_sections": [],
      "authorship_tag": "ABX9TyPT/3VyrfAnfuZW2Yir8khA",
      "include_colab_link": true
    },
    "kernelspec": {
      "name": "python3",
      "display_name": "Python 3"
    }
  },
  "cells": [
    {
      "cell_type": "markdown",
      "metadata": {
        "id": "view-in-github",
        "colab_type": "text"
      },
      "source": [
        "<a href=\"https://colab.research.google.com/github/AtrCheema/oop_python_urdu/blob/master/chap_1/lesson_8.ipynb\" target=\"_parent\"><img src=\"https://colab.research.google.com/assets/colab-badge.svg\" alt=\"Open In Colab\"/></a>"
      ]
    },
    {
      "cell_type": "markdown",
      "metadata": {
        "id": "v7n6zY7Y-e4M",
        "colab_type": "text"
      },
      "source": [
        "# Class and Instance attributes\n"
      ]
    },
    {
      "cell_type": "code",
      "metadata": {
        "id": "CuMsq2nt65R5",
        "colab_type": "code",
        "colab": {
          "base_uri": "https://localhost:8080/",
          "height": 34
        },
        "outputId": "4d8d938a-e4ae-4404-ee72-4f86487e0fea"
      },
      "source": [
        "class Insan: \n",
        "    ethnicity = \"Balochi\"\n",
        "\n",
        "x = Insan()\n",
        "y = Insan()\n",
        "\n",
        "x.ethnicity"
      ],
      "execution_count": 1,
      "outputs": [
        {
          "output_type": "execute_result",
          "data": {
            "text/plain": [
              "'Balochi'"
            ]
          },
          "metadata": {
            "tags": []
          },
          "execution_count": 1
        }
      ]
    },
    {
      "cell_type": "code",
      "metadata": {
        "id": "ENLjoU967CIW",
        "colab_type": "code",
        "colab": {
          "base_uri": "https://localhost:8080/",
          "height": 34
        },
        "outputId": "6de30a81-7f6d-4f5b-c088-46600a87f397"
      },
      "source": [
        "y.ethnicity"
      ],
      "execution_count": 2,
      "outputs": [
        {
          "output_type": "execute_result",
          "data": {
            "text/plain": [
              "'Balochi'"
            ]
          },
          "metadata": {
            "tags": []
          },
          "execution_count": 2
        }
      ]
    },
    {
      "cell_type": "code",
      "metadata": {
        "id": "_C3ie5vw7GB-",
        "colab_type": "code",
        "colab": {
          "base_uri": "https://localhost:8080/",
          "height": 34
        },
        "outputId": "270531f3-b401-4043-c54a-4df4b8549c50"
      },
      "source": [
        "Insan.ethnicity"
      ],
      "execution_count": 3,
      "outputs": [
        {
          "output_type": "execute_result",
          "data": {
            "text/plain": [
              "'Balochi'"
            ]
          },
          "metadata": {
            "tags": []
          },
          "execution_count": 3
        }
      ]
    },
    {
      "cell_type": "code",
      "metadata": {
        "id": "SnK5OU1d7PoC",
        "colab_type": "code",
        "colab": {
          "base_uri": "https://localhost:8080/",
          "height": 34
        },
        "outputId": "a7bab474-e8e9-4e52-acb1-4e0980846ce4"
      },
      "source": [
        "x.ethnicity = \"muhajir\"\n",
        "y.ethnicity"
      ],
      "execution_count": 4,
      "outputs": [
        {
          "output_type": "execute_result",
          "data": {
            "text/plain": [
              "'Balochi'"
            ]
          },
          "metadata": {
            "tags": []
          },
          "execution_count": 4
        }
      ]
    },
    {
      "cell_type": "code",
      "metadata": {
        "id": "WXiWAduW7T0J",
        "colab_type": "code",
        "colab": {
          "base_uri": "https://localhost:8080/",
          "height": 34
        },
        "outputId": "3db05e6a-2f98-4acb-cc1d-5ce6deecef00"
      },
      "source": [
        "Insan.ethnicity"
      ],
      "execution_count": 5,
      "outputs": [
        {
          "output_type": "execute_result",
          "data": {
            "text/plain": [
              "'Balochi'"
            ]
          },
          "metadata": {
            "tags": []
          },
          "execution_count": 5
        }
      ]
    },
    {
      "cell_type": "code",
      "metadata": {
        "id": "DedED1Yj7VEK",
        "colab_type": "code",
        "colab": {
          "base_uri": "https://localhost:8080/",
          "height": 34
        },
        "outputId": "0e286fca-637e-490e-bde1-6eb8ae9e1861"
      },
      "source": [
        "Insan.ethnicity = \"Insaniyat\"\n",
        "Insan.ethnicity"
      ],
      "execution_count": 6,
      "outputs": [
        {
          "output_type": "execute_result",
          "data": {
            "text/plain": [
              "'Insaniyat'"
            ]
          },
          "metadata": {
            "tags": []
          },
          "execution_count": 6
        }
      ]
    },
    {
      "cell_type": "code",
      "metadata": {
        "id": "xDMXMlM37aAT",
        "colab_type": "code",
        "colab": {
          "base_uri": "https://localhost:8080/",
          "height": 34
        },
        "outputId": "30341831-4817-4c72-fa0c-0267846f6fae"
      },
      "source": [
        "y.ethnicity"
      ],
      "execution_count": 7,
      "outputs": [
        {
          "output_type": "execute_result",
          "data": {
            "text/plain": [
              "'Insaniyat'"
            ]
          },
          "metadata": {
            "tags": []
          },
          "execution_count": 7
        }
      ]
    },
    {
      "cell_type": "code",
      "metadata": {
        "id": "Y5GqfIPd7dYi",
        "colab_type": "code",
        "colab": {
          "base_uri": "https://localhost:8080/",
          "height": 34
        },
        "outputId": "a41705b8-058b-4027-a904-ea89c986722f"
      },
      "source": [
        "x.ethnicity"
      ],
      "execution_count": 8,
      "outputs": [
        {
          "output_type": "execute_result",
          "data": {
            "text/plain": [
              "'muhajir'"
            ]
          },
          "metadata": {
            "tags": []
          },
          "execution_count": 8
        }
      ]
    },
    {
      "cell_type": "markdown",
      "metadata": {
        "id": "ei4fKclyEPgX",
        "colab_type": "text"
      },
      "source": [
        "Because the attribute was changed for class and instance `x` was created before this change so `x` still has old attribute value."
      ]
    },
    {
      "cell_type": "code",
      "metadata": {
        "id": "7JK8XwsB7fMa",
        "colab_type": "code",
        "colab": {
          "base_uri": "https://localhost:8080/",
          "height": 34
        },
        "outputId": "3c76ef71-3a34-4b92-e617-eb6b8f8c22bb"
      },
      "source": [
        "x.__dict__"
      ],
      "execution_count": 9,
      "outputs": [
        {
          "output_type": "execute_result",
          "data": {
            "text/plain": [
              "{'ethnicity': 'muhajir'}"
            ]
          },
          "metadata": {
            "tags": []
          },
          "execution_count": 9
        }
      ]
    },
    {
      "cell_type": "code",
      "metadata": {
        "id": "JLVHRygZ7iGR",
        "colab_type": "code",
        "colab": {
          "base_uri": "https://localhost:8080/",
          "height": 34
        },
        "outputId": "0c8136d6-c957-4cf5-92ef-9a934be27aa3"
      },
      "source": [
        "y.__dict__"
      ],
      "execution_count": 10,
      "outputs": [
        {
          "output_type": "execute_result",
          "data": {
            "text/plain": [
              "{}"
            ]
          },
          "metadata": {
            "tags": []
          },
          "execution_count": 10
        }
      ]
    },
    {
      "cell_type": "markdown",
      "metadata": {
        "id": "8n0P18QSEjWI",
        "colab_type": "text"
      },
      "source": [
        "Because `y` itself does not have attribute `ethnicity` so it looked for the attribute value in class `Insan` and used that value for itself."
      ]
    },
    {
      "cell_type": "code",
      "metadata": {
        "id": "mC-pcwII7kna",
        "colab_type": "code",
        "colab": {
          "base_uri": "https://localhost:8080/",
          "height": 105
        },
        "outputId": "701e17c4-64c4-4fd6-c440-f2e32a4ba9de"
      },
      "source": [
        "Insan.__dict__"
      ],
      "execution_count": 11,
      "outputs": [
        {
          "output_type": "execute_result",
          "data": {
            "text/plain": [
              "mappingproxy({'__dict__': <attribute '__dict__' of 'Insan' objects>,\n",
              "              '__doc__': None,\n",
              "              '__module__': '__main__',\n",
              "              '__weakref__': <attribute '__weakref__' of 'Insan' objects>,\n",
              "              'ethnicity': 'Insaniyat'})"
            ]
          },
          "metadata": {
            "tags": []
          },
          "execution_count": 11
        }
      ]
    },
    {
      "cell_type": "markdown",
      "metadata": {
        "id": "l6-Xh4hPE3xv",
        "colab_type": "text"
      },
      "source": [
        "So class attributes and isntance attributes can have different values. We can find out attributes of `class` of an `instance` from the `instance` using following clode"
      ]
    },
    {
      "cell_type": "code",
      "metadata": {
        "id": "ASOnqbAk7m85",
        "colab_type": "code",
        "colab": {
          "base_uri": "https://localhost:8080/",
          "height": 105
        },
        "outputId": "cfb8d1a2-fa5c-4497-ff5f-6ff1d8f0c6f7"
      },
      "source": [
        "x.__class__.__dict__"
      ],
      "execution_count": 12,
      "outputs": [
        {
          "output_type": "execute_result",
          "data": {
            "text/plain": [
              "mappingproxy({'__dict__': <attribute '__dict__' of 'Insan' objects>,\n",
              "              '__doc__': None,\n",
              "              '__module__': '__main__',\n",
              "              '__weakref__': <attribute '__weakref__' of 'Insan' objects>,\n",
              "              'ethnicity': 'Insaniyat'})"
            ]
          },
          "metadata": {
            "tags": []
          },
          "execution_count": 12
        }
      ]
    },
    {
      "cell_type": "code",
      "metadata": {
        "id": "wVBb9xDsanbu",
        "colab_type": "code",
        "colab": {}
      },
      "source": [
        "class philosopher:\n",
        "\n",
        "    Quotes = (\n",
        "\"\"\"What cannot be imagined cannot even be talked about.\"\"\",\n",
        "\"\"\"Philosophy is a battle against the bewitchment of our intelligence by means of language.,\"\"\",\n",
        "\"\"\"The limits of my language means the limits of my world.\"\"\"\n",
        ")\n",
        "\n",
        "    def __init__(self, name='Wittgenstein', dob=1889):\n",
        "        self.name = name\n",
        "        self.build_year = build_year\n",
        "\n",
        "    # other methods as usual"
      ],
      "execution_count": 0,
      "outputs": []
    },
    {
      "cell_type": "code",
      "metadata": {
        "id": "V3ZELQJvb5Ty",
        "colab_type": "code",
        "colab": {
          "base_uri": "https://localhost:8080/",
          "height": 122
        },
        "outputId": "0e5e473b-9d16-4d8c-879b-10c101ab8f60"
      },
      "source": [
        "for number, quote in enumerate(philosopher.Quotes):\n",
        "    print(str(number+1) + \":\\n\" + quote) "
      ],
      "execution_count": 14,
      "outputs": [
        {
          "output_type": "stream",
          "text": [
            "1:\n",
            "What cannot be imagined cannot even be talked about.\n",
            "2:\n",
            "Philosophy is a battle against the bewitchment of our intelligence by means of language.,\n",
            "3:\n",
            "The limits of my language means the limits of my world.\n"
          ],
          "name": "stdout"
        }
      ]
    },
    {
      "cell_type": "markdown",
      "metadata": {
        "id": "bJrhOSLH75Jx",
        "colab_type": "text"
      },
      "source": [
        "## Counting instances of a class"
      ]
    },
    {
      "cell_type": "code",
      "metadata": {
        "id": "ASe5JM1a7soT",
        "colab_type": "code",
        "colab": {
          "base_uri": "https://localhost:8080/",
          "height": 87
        },
        "outputId": "056f5b6c-7da8-4661-fbf3-52d5f4a04f52"
      },
      "source": [
        "class Insan: \n",
        "\n",
        "    counter = 0\n",
        "    \n",
        "    def __init__(self): \n",
        "        # every time a new instance is created the attribute 'counter' of 'Insan' increases by 1\n",
        "        type(self).counter += 1\n",
        "\n",
        "    def __del__(self):\n",
        "        # every time an instance of `Insan` is deleted, the attribute 'counter' of 'Insan' decreases by 1\n",
        "        type(self).counter -= 1\n",
        "\n",
        "\n",
        "x = Insan()\n",
        "print(\"Population count is: : \" + str(Insan.counter))\n",
        "y = Insan()\n",
        "print(\"Population count is: : \" + str(Insan.counter))\n",
        "del x\n",
        "print(\"Population count is: : \" + str(Insan.counter))\n",
        "del y\n",
        "print(\"Population count is: : \" + str(Insan.counter))"
      ],
      "execution_count": 15,
      "outputs": [
        {
          "output_type": "stream",
          "text": [
            "Population count is: : 1\n",
            "Population count is: : 2\n",
            "Population count is: : 1\n",
            "Population count is: : 0\n"
          ],
          "name": "stdout"
        }
      ]
    },
    {
      "cell_type": "markdown",
      "metadata": {
        "id": "52VxKE_H-te6",
        "colab_type": "text"
      },
      "source": [
        "`type(self)` is evaluated back to `Insan`"
      ]
    }
  ]
}