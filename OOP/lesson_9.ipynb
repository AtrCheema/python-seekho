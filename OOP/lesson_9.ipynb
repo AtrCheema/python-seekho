{
  "nbformat": 4,
  "nbformat_minor": 0,
  "metadata": {
    "colab": {
      "name": "lesson_9.ipynb",
      "provenance": [],
      "collapsed_sections": [],
      "authorship_tag": "ABX9TyOjRSuJh78t0At148fz7O15",
      "include_colab_link": true
    },
    "kernelspec": {
      "name": "python3",
      "display_name": "Python 3"
    }
  },
  "cells": [
    {
      "cell_type": "markdown",
      "metadata": {
        "id": "view-in-github",
        "colab_type": "text"
      },
      "source": [
        "<a href=\"https://colab.research.google.com/github/AtrCheema/python-courses/blob/master/OOP/lesson_9.ipynb\" target=\"_parent\"><img src=\"https://colab.research.google.com/assets/colab-badge.svg\" alt=\"Open In Colab\"/></a>"
      ]
    },
    {
      "cell_type": "markdown",
      "metadata": {
        "id": "v7n6zY7Y-e4M",
        "colab_type": "text"
      },
      "source": [
        "# Static Methods\n",
        "\n",
        "In previous section we wrote a code to count number of instances of class using a public attribute of a class. If we make this attribute `private` , we can create a method inside the class to acquire its value. In following example, we do it by `PopulationCount` method.\n"
      ]
    },
    {
      "cell_type": "code",
      "metadata": {
        "id": "yjWcw_tPQEDW",
        "colab_type": "code",
        "outputId": "91d9b5e5-3850-45d5-dd7f-e584850b5f01",
        "colab": {
          "base_uri": "https://localhost:8080/",
          "height": 54
        }
      },
      "source": [
        "class Insan:\n",
        "    __counter = 0\n",
        "    \n",
        "    def __init__(self):\n",
        "        type(self).__counter += 1\n",
        "        \n",
        "    def PopulationCount(self):\n",
        "        return Insan.__counter\n",
        "        \n",
        "\n",
        "\n",
        "ali = Insan()\n",
        "print(ali.PopulationCount())\n",
        "hasan = Insan()\n",
        "print(hasan.PopulationCount())"
      ],
      "execution_count": 1,
      "outputs": [
        {
          "output_type": "stream",
          "text": [
            "1\n",
            "2\n"
          ],
          "name": "stdout"
        }
      ]
    },
    {
      "cell_type": "markdown",
      "metadata": {
        "id": "S3bZjQeyxJPu",
        "colab_type": "text"
      },
      "source": [
        "So far so good. But we have a problem, first, the `PopulationCount` does not have anything to do with the instance of class `Insan` i.e. `ali` and second, if we want access this method directly from class' instance, we will encounter an error as shown below."
      ]
    },
    {
      "cell_type": "code",
      "metadata": {
        "id": "3WHX4I6GT4SZ",
        "colab_type": "code",
        "outputId": "383e9bba-46f5-4334-d48c-ef267f6e3414",
        "colab": {
          "base_uri": "https://localhost:8080/",
          "height": 175
        }
      },
      "source": [
        "Insan.PopulationCount()"
      ],
      "execution_count": 2,
      "outputs": [
        {
          "output_type": "error",
          "ename": "TypeError",
          "evalue": "ignored",
          "traceback": [
            "\u001b[0;31m---------------------------------------------------------------------------\u001b[0m",
            "\u001b[0;31mTypeError\u001b[0m                                 Traceback (most recent call last)",
            "\u001b[0;32m<ipython-input-2-cc8b3b22748a>\u001b[0m in \u001b[0;36m<module>\u001b[0;34m()\u001b[0m\n\u001b[0;32m----> 1\u001b[0;31m \u001b[0mInsan\u001b[0m\u001b[0;34m.\u001b[0m\u001b[0mPopulationCount\u001b[0m\u001b[0;34m(\u001b[0m\u001b[0;34m)\u001b[0m\u001b[0;34m\u001b[0m\u001b[0;34m\u001b[0m\u001b[0m\n\u001b[0m",
            "\u001b[0;31mTypeError\u001b[0m: PopulationCount() missing 1 required positional argument: 'self'"
          ]
        }
      ]
    },
    {
      "cell_type": "markdown",
      "metadata": {
        "id": "oaFdUk7Jxqqx",
        "colab_type": "text"
      },
      "source": [
        "This is because, the method `PopulationCount` takes one input argument `self`. When we call this method using instance of class, python implicity puts the class' instance, `ali` in this case, as an input argument but now we are not calling this method from instance, so python does not provide the implicit first input argument to this method. \n",
        "\n",
        "We could however, avoid this error by explicitly providing the instance `ali` as first input argument."
      ]
    },
    {
      "cell_type": "code",
      "metadata": {
        "id": "ycifMDhyyN6n",
        "colab_type": "code",
        "colab": {
          "base_uri": "https://localhost:8080/",
          "height": 36
        },
        "outputId": "5f776eff-3748-448c-8486-69a905b44fac"
      },
      "source": [
        "Insan.PopulationCount(ali)"
      ],
      "execution_count": 3,
      "outputs": [
        {
          "output_type": "execute_result",
          "data": {
            "text/plain": [
              "2"
            ]
          },
          "metadata": {
            "tags": []
          },
          "execution_count": 3
        }
      ]
    },
    {
      "cell_type": "markdown",
      "metadata": {
        "id": "NVEXbhUyyuHG",
        "colab_type": "text"
      },
      "source": [
        "However, this is not a good way. An alternative would be to avoid the `self` statement when defining the method in the class."
      ]
    },
    {
      "cell_type": "code",
      "metadata": {
        "id": "l0JivUxNu1om",
        "colab_type": "code",
        "colab": {
          "base_uri": "https://localhost:8080/",
          "height": 36
        },
        "outputId": "769c6e5a-0698-4ebd-f49b-3cc291277760"
      },
      "source": [
        "class Insan:\n",
        "    __counter = 0\n",
        "    \n",
        "    def __init__(self):\n",
        "        type(self).__counter += 1\n",
        "        \n",
        "    def PopulationCount():\n",
        "        return Insan.__counter\n",
        "\n",
        "Insan.PopulationCount()"
      ],
      "execution_count": 4,
      "outputs": [
        {
          "output_type": "execute_result",
          "data": {
            "text/plain": [
              "0"
            ]
          },
          "metadata": {
            "tags": []
          },
          "execution_count": 4
        }
      ]
    },
    {
      "cell_type": "markdown",
      "metadata": {
        "id": "FLUuretgzCwg",
        "colab_type": "text"
      },
      "source": [
        "But now we can't access this method from the instance, because when we access this method from instance, python implicitly gives instance `ali` as first input argument to this method but the method does not take any input argument as the error message also depicts this."
      ]
    },
    {
      "cell_type": "code",
      "metadata": {
        "id": "uWHEhpoqvMMF",
        "colab_type": "code",
        "colab": {
          "base_uri": "https://localhost:8080/",
          "height": 194
        },
        "outputId": "35beb92d-9837-4e15-f8b4-c742fa21baee"
      },
      "source": [
        "ali = Insan()\n",
        "ali.PopulationCount()"
      ],
      "execution_count": 5,
      "outputs": [
        {
          "output_type": "error",
          "ename": "TypeError",
          "evalue": "ignored",
          "traceback": [
            "\u001b[0;31m---------------------------------------------------------------------------\u001b[0m",
            "\u001b[0;31mTypeError\u001b[0m                                 Traceback (most recent call last)",
            "\u001b[0;32m<ipython-input-5-bcfca7c2bc9c>\u001b[0m in \u001b[0;36m<module>\u001b[0;34m()\u001b[0m\n\u001b[1;32m      1\u001b[0m \u001b[0mali\u001b[0m \u001b[0;34m=\u001b[0m \u001b[0mInsan\u001b[0m\u001b[0;34m(\u001b[0m\u001b[0;34m)\u001b[0m\u001b[0;34m\u001b[0m\u001b[0;34m\u001b[0m\u001b[0m\n\u001b[0;32m----> 2\u001b[0;31m \u001b[0mali\u001b[0m\u001b[0;34m.\u001b[0m\u001b[0mPopulationCount\u001b[0m\u001b[0;34m(\u001b[0m\u001b[0;34m)\u001b[0m\u001b[0;34m\u001b[0m\u001b[0;34m\u001b[0m\u001b[0m\n\u001b[0m",
            "\u001b[0;31mTypeError\u001b[0m: PopulationCount() takes 0 positional arguments but 1 was given"
          ]
        }
      ]
    },
    {
      "cell_type": "markdown",
      "metadata": {
        "id": "o-r7qatHznG5",
        "colab_type": "text"
      },
      "source": [
        "The way to solve this problem is to put the decorate `@staticmethod`. By doing so, python will not put the instance implicitly as first input argument."
      ]
    },
    {
      "cell_type": "code",
      "metadata": {
        "id": "n8bxAD_xvcCj",
        "colab_type": "code",
        "colab": {
          "base_uri": "https://localhost:8080/",
          "height": 91
        },
        "outputId": "d037fa54-561e-4a86-fbca-847f486d0f6e"
      },
      "source": [
        "class Insan:\n",
        "    __counter = 0\n",
        "    \n",
        "    def __init__(self):\n",
        "        type(self).__counter += 1\n",
        "        \n",
        "    @staticmethod\n",
        "    def PopulationCount():\n",
        "        return Insan.__counter\n",
        "        \n",
        "\n",
        "\n",
        "print(Insan.PopulationCount())\n",
        "ali = Insan()\n",
        "print(ali.PopulationCount())\n",
        "hasan = Insan()\n",
        "print(hasan.PopulationCount())\n",
        "print(Insan.PopulationCount())"
      ],
      "execution_count": 6,
      "outputs": [
        {
          "output_type": "stream",
          "text": [
            "0\n",
            "1\n",
            "2\n",
            "2\n"
          ],
          "name": "stdout"
        }
      ]
    },
    {
      "cell_type": "markdown",
      "metadata": {
        "id": "sQGwjA72T4um",
        "colab_type": "text"
      },
      "source": [
        "## why to use them?\n",
        "\n",
        "Static methods are used to group a utility function with a class."
      ]
    },
    {
      "cell_type": "code",
      "metadata": {
        "id": "OVt01cxjX1vX",
        "colab_type": "code",
        "colab": {}
      },
      "source": [
        "class Dates:\n",
        "    def __init__(self, date):\n",
        "        self.date = date\n",
        "        \n",
        "    def getDate(self):\n",
        "        return self.date\n",
        "\n",
        "    @staticmethod\n",
        "    def toDashDate(date):\n",
        "        return date.replace(\"/\", \"-\")\n",
        "\n",
        "date = Dates(\"15-12-2016\")\n",
        "dateFromDB = \"15/12/2016\"\n",
        "dateWithDash = Dates.toDashDate(dateFromDB)"
      ],
      "execution_count": 0,
      "outputs": []
    },
    {
      "cell_type": "markdown",
      "metadata": {
        "id": "eYUPXQSEZPJ8",
        "colab_type": "text"
      },
      "source": [
        "since `toDashDate` works only for dates, it's logical to keep it inside the Dates class\n",
        "\n",
        "Consider another example. Suppose we have a large number of examples which perform mathmatical functions such as `ceil`, `multiply`, `exponent`, `devide` on some input arguments. Then it would be logical to just group all such functions one one class such as `math` and use the functions as `math.ceil(2.2)` or `math.exp(2.3)` etc."
      ]
    },
    {
      "cell_type": "code",
      "metadata": {
        "id": "ZzB4HLUVZFb8",
        "colab_type": "code",
        "colab": {},
        "cellView": "both"
      },
      "source": [
        "class math():\n",
        "\n",
        "    @staticmethod\n",
        "    def ceil(x):\n",
        "        # perform ceil operation\n",
        "        return\n",
        "\n",
        "    @staticmethod\n",
        "    def exp(x):\n",
        "        # perform exponent operation\n",
        "        return\n",
        "    \n",
        "    # more methods\n",
        "    "
      ],
      "execution_count": 0,
      "outputs": []
    },
    {
      "cell_type": "markdown",
      "metadata": {
        "id": "_cfiL3sPaHsE",
        "colab_type": "text"
      },
      "source": [
        "This increases code readability.\n"
      ]
    }
  ]
}
