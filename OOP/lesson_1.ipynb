{
  "nbformat": 4,
  "nbformat_minor": 0,
  "metadata": {
    "colab": {
      "name": "chap_1_lesson_1.ipynb",
      "provenance": [],
      "collapsed_sections": [],
      "authorship_tag": "ABX9TyP7papOr4d/6At9KnB1d0tk",
      "include_colab_link": true
    },
    "kernelspec": {
      "name": "python3",
      "display_name": "Python 3"
    }
  },
  "cells": [
    {
      "cell_type": "markdown",
      "metadata": {
        "id": "view-in-github",
        "colab_type": "text"
      },
      "source": [
        "<a href=\"https://colab.research.google.com/github/AtrCheema/oop_python_urdu/blob/master/chap_1/chap_1_lesson_1.ipynb\" target=\"_parent\"><img src=\"https://colab.research.google.com/assets/colab-badge.svg\" alt=\"Open In Colab\"/></a>"
      ]
    },
    {
      "cell_type": "markdown",
      "metadata": {
        "id": "v7n6zY7Y-e4M",
        "colab_type": "text"
      },
      "source": [
        "Everything is object and it has a type."
      ]
    },
    {
      "cell_type": "code",
      "metadata": {
        "id": "xeWCeR3uolIo",
        "colab_type": "code",
        "colab": {}
      },
      "source": [
        "a = 23\n",
        "type(23)"
      ],
      "execution_count": 0,
      "outputs": []
    },
    {
      "cell_type": "code",
      "metadata": {
        "id": "j1661EPQp9ZB",
        "colab_type": "code",
        "colab": {}
      },
      "source": [
        "a = 2.5\n",
        "type(a)"
      ],
      "execution_count": 0,
      "outputs": []
    },
    {
      "cell_type": "code",
      "metadata": {
        "id": "E6Hz1l9t8I7K",
        "colab_type": "code",
        "colab": {}
      },
      "source": [
        "name = 'Ali'\n",
        "type(name)"
      ],
      "execution_count": 0,
      "outputs": []
    },
    {
      "cell_type": "code",
      "metadata": {
        "id": "F3PgQOOO8hrL",
        "colab_type": "code",
        "colab": {}
      },
      "source": [
        "def print_name(name):\n",
        "    print('name is: ', name)\n",
        "\n",
        "type(print_name)"
      ],
      "execution_count": 0,
      "outputs": []
    },
    {
      "cell_type": "code",
      "metadata": {
        "id": "k1V_65x88pXB",
        "colab_type": "code",
        "colab": {}
      },
      "source": [
        "import math\n",
        "type(math) "
      ],
      "execution_count": 0,
      "outputs": []
    },
    {
      "cell_type": "code",
      "metadata": {
        "id": "DqMjm7uWqUG6",
        "colab_type": "code",
        "colab": {}
      },
      "source": [
        "dakus = ['zerdari', 'nawaz', 'establishment']\n",
        "type(dakus)"
      ],
      "execution_count": 0,
      "outputs": []
    },
    {
      "cell_type": "code",
      "metadata": {
        "id": "MnF-q18-qV5C",
        "colab_type": "code",
        "colab": {}
      },
      "source": [
        "insan = {'name': 'ali', 'age': 30, 'weigth': 72.5}\n",
        "type(insan)"
      ],
      "execution_count": 0,
      "outputs": []
    },
    {
      "cell_type": "code",
      "metadata": {
        "id": "tZKFtjcXqeoG",
        "colab_type": "code",
        "colab": {}
      },
      "source": [
        "for key,val in insan.items():\n",
        "    print(type(key), type(val))"
      ],
      "execution_count": 0,
      "outputs": []
    },
    {
      "cell_type": "markdown",
      "metadata": {
        "id": "Edb22Oyj_zl3",
        "colab_type": "text"
      },
      "source": [
        "`insan` is an instance of class `dict` and we can access all functions (methods) of class `dict` thourgh the instance insan."
      ]
    },
    {
      "cell_type": "code",
      "metadata": {
        "id": "vx5ooZJW2nl8",
        "colab_type": "code",
        "colab": {}
      },
      "source": [
        "insan.pop('weigth')"
      ],
      "execution_count": 0,
      "outputs": []
    },
    {
      "cell_type": "code",
      "metadata": {
        "id": "SnsG6bkU-x-Z",
        "colab_type": "code",
        "colab": {}
      },
      "source": [
        "insan"
      ],
      "execution_count": 0,
      "outputs": []
    }
  ]
}
