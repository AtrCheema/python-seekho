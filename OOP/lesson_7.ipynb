{
  "nbformat": 4,
  "nbformat_minor": 0,
  "metadata": {
    "colab": {
      "name": "lesson_7.ipynb",
      "provenance": [],
      "collapsed_sections": [],
      "authorship_tag": "ABX9TyPH4yswFFErIhkMOxvAOq9l",
      "include_colab_link": true
    },
    "kernelspec": {
      "name": "python3",
      "display_name": "Python 3"
    }
  },
  "cells": [
    {
      "cell_type": "markdown",
      "metadata": {
        "id": "view-in-github",
        "colab_type": "text"
      },
      "source": [
        "<a href=\"https://colab.research.google.com/github/AtrCheema/oop_python_urdu/blob/master/chap_1/lesson_7.ipynb\" target=\"_parent\"><img src=\"https://colab.research.google.com/assets/colab-badge.svg\" alt=\"Open In Colab\"/></a>"
      ]
    },
    {
      "cell_type": "markdown",
      "metadata": {
        "id": "v7n6zY7Y-e4M",
        "colab_type": "text"
      },
      "source": [
        "# Public vs Private attributes\n",
        "\n",
        "Based on accessibility, attributes can be categorized into 3 categories:\n",
        "* Public \n",
        "* Protected \n",
        "* Private \n",
        "\n",
        "\n",
        "\n",
        "\n",
        "| **Naming** | **Type** | **Description** |\n",
        "| --- | --- | --- |\n",
        "| name | public | The attribute is available both inside and outside class |\n",
        "|_name | protected | should not be should outside class definition |\n",
        "|__name | private | inaccessible and invisible outside class definition |"
      ]
    },
    {
      "cell_type": "code",
      "metadata": {
        "id": "xeWCeR3uolIo",
        "colab_type": "code",
        "outputId": "d3719fb1-40e7-47f0-f3db-114597e29a6b",
        "colab": {
          "base_uri": "https://localhost:8080/",
          "height": 34
        }
      },
      "source": [
        "class Insan():\n",
        "    \n",
        "    def __init__(self):\n",
        "        self.__ghar = \"I am private\"\n",
        "        self._gari = \"I am protected\"\n",
        "        self.name = \"I am public\"\n",
        "\n",
        "x = Insan()\n",
        "\n",
        "x.name"
      ],
      "execution_count": 1,
      "outputs": [
        {
          "output_type": "execute_result",
          "data": {
            "text/plain": [
              "'I am public'"
            ]
          },
          "metadata": {
            "tags": []
          },
          "execution_count": 1
        }
      ]
    },
    {
      "cell_type": "code",
      "metadata": {
        "id": "mL2bCpXN4TER",
        "colab_type": "code",
        "outputId": "3e6240dc-b943-4110-aecc-ad9d44c44609",
        "colab": {
          "base_uri": "https://localhost:8080/",
          "height": 34
        }
      },
      "source": [
        "x._gari"
      ],
      "execution_count": 2,
      "outputs": [
        {
          "output_type": "execute_result",
          "data": {
            "text/plain": [
              "'I am protected'"
            ]
          },
          "metadata": {
            "tags": []
          },
          "execution_count": 2
        }
      ]
    },
    {
      "cell_type": "code",
      "metadata": {
        "id": "c-FaozG84UNv",
        "colab_type": "code",
        "outputId": "5db46b38-6b62-4b02-e37d-52e938c6d1b5",
        "colab": {
          "base_uri": "https://localhost:8080/",
          "height": 169
        }
      },
      "source": [
        "x.__ghar"
      ],
      "execution_count": 3,
      "outputs": [
        {
          "output_type": "error",
          "ename": "AttributeError",
          "evalue": "ignored",
          "traceback": [
            "\u001b[0;31m---------------------------------------------------------------------------\u001b[0m",
            "\u001b[0;31mAttributeError\u001b[0m                            Traceback (most recent call last)",
            "\u001b[0;32m<ipython-input-3-213c435a2041>\u001b[0m in \u001b[0;36m<module>\u001b[0;34m()\u001b[0m\n\u001b[0;32m----> 1\u001b[0;31m \u001b[0mx\u001b[0m\u001b[0;34m.\u001b[0m\u001b[0m__ghar\u001b[0m\u001b[0;34m\u001b[0m\u001b[0;34m\u001b[0m\u001b[0m\n\u001b[0m",
            "\u001b[0;31mAttributeError\u001b[0m: 'Insan' object has no attribute '__ghar'"
          ]
        }
      ]
    },
    {
      "cell_type": "markdown",
      "metadata": {
        "id": "954SuvYo4cE3",
        "colab_type": "text"
      },
      "source": [
        "Although the `Insan` class do have an attribute anmed `__priv`, however the error is saying `Insan object has no attribute __priv`. What better privacy can there be?\n",
        "\n",
        "We can also set the values of public attributes."
      ]
    },
    {
      "cell_type": "code",
      "metadata": {
        "id": "FOvtQwJaQ7h_",
        "colab_type": "code",
        "colab": {
          "base_uri": "https://localhost:8080/",
          "height": 34
        },
        "outputId": "d904eff2-263b-42a7-8ea4-3d45e75f967b"
      },
      "source": [
        "x.name = 'hasan'\n",
        "\n",
        "x.name"
      ],
      "execution_count": 4,
      "outputs": [
        {
          "output_type": "execute_result",
          "data": {
            "text/plain": [
              "'hasan'"
            ]
          },
          "metadata": {
            "tags": []
          },
          "execution_count": 4
        }
      ]
    },
    {
      "cell_type": "markdown",
      "metadata": {
        "id": "wmbyMrE2RFUt",
        "colab_type": "text"
      },
      "source": [
        "As said earlier private attribute is not accessible outside the class but we can use them inside class definition as follows:"
      ]
    },
    {
      "cell_type": "code",
      "metadata": {
        "id": "ZP1PJ3at40jg",
        "colab_type": "code",
        "outputId": "127534c4-d946-4916-e8a0-32944875f3d0",
        "colab": {
          "base_uri": "https://localhost:8080/",
          "height": 34
        }
      },
      "source": [
        "class Insan():\n",
        "    \n",
        "    def __init__(self):\n",
        "        self.__ghar = \"I am private\"\n",
        "        self._gari = \"I am protected\"\n",
        "        self.name = \"I am public\"\n",
        "\n",
        "    \n",
        "    def get_ghar(self):\n",
        "        return self.__ghar\n",
        "\n",
        "ali = Insan()\n",
        "ali.get_ghar()"
      ],
      "execution_count": 5,
      "outputs": [
        {
          "output_type": "execute_result",
          "data": {
            "text/plain": [
              "'I am private'"
            ]
          },
          "metadata": {
            "tags": []
          },
          "execution_count": 5
        }
      ]
    },
    {
      "cell_type": "markdown",
      "metadata": {
        "id": "9PUC6qEk9GaO",
        "colab_type": "text"
      },
      "source": [
        "## name mangling\n",
        "\n",
        "Every attribute with double underscore will be changed to `object._class__attribte`"
      ]
    },
    {
      "cell_type": "code",
      "metadata": {
        "id": "Lg9YDGDw5CRo",
        "colab_type": "code",
        "outputId": "25459fe1-3004-47ac-fd6e-d587482f7050",
        "colab": {
          "base_uri": "https://localhost:8080/",
          "height": 34
        }
      },
      "source": [
        "ali._Insan__ghar"
      ],
      "execution_count": 6,
      "outputs": [
        {
          "output_type": "execute_result",
          "data": {
            "text/plain": [
              "'I am private'"
            ]
          },
          "metadata": {
            "tags": []
          },
          "execution_count": 6
        }
      ]
    },
    {
      "cell_type": "markdown",
      "metadata": {
        "id": "XzfylqVGQYnn",
        "colab_type": "text"
      },
      "source": [
        "Ways of accessing and setting attribute values"
      ]
    },
    {
      "cell_type": "code",
      "metadata": {
        "id": "2hH8m4Vm8ZSr",
        "colab_type": "code",
        "colab": {
          "base_uri": "https://localhost:8080/",
          "height": 87
        },
        "outputId": "1310d952-9a11-46ab-891c-20b413c33c2e"
      },
      "source": [
        "class Insan:\n",
        " \n",
        "    def __init__(self, name=None, dob=2000):\n",
        "        self.__name = name\n",
        "        self.__dob = dob\n",
        "        \n",
        "    def say_salam(self):\n",
        "        if self.__name:\n",
        "            print(\"Salam, I am \" + self.__name)\n",
        "        else:\n",
        "            print(\"Salam, I am a person without a name\")\n",
        "            \n",
        "    def set_name(self, name):\n",
        "        self.__name = name\n",
        "        \n",
        "    def get_name(self):\n",
        "        return self.__name    \n",
        "\n",
        "    def set_dob(self, by):\n",
        "        self.__dob = by\n",
        "        \n",
        "    def get_dob(self):\n",
        "        return self.__dob    \n",
        "    \n",
        "    def __repr__(self):\n",
        "        return \"Insan('\" + self.__name + \"', \" +  str(self.__dob) +  \")\"\n",
        "\n",
        "    def __str__(self):\n",
        "        return \"Name: \" + self.__name + \", born in Year: \" +  str(self.__dob)\n",
        "\n",
        "\n",
        "x = Insan(\"Mutahri\", 1920)\n",
        "y = Insan(\"Sadr\", 1935)\n",
        "for fard in [x, y]:\n",
        "    fard.say_salam()\n",
        "    if fard.get_name() == \"Sadr\":\n",
        "        fard.set_dob(1353)\n",
        "    print(\"I was born in the year \" + str(fard.get_dob()) + \"!\")"
      ],
      "execution_count": 7,
      "outputs": [
        {
          "output_type": "stream",
          "text": [
            "Salam, I am Mutahri\n",
            "I was born in the year 1920!\n",
            "Salam, I am Sadr\n",
            "I was born in the year 1353!\n"
          ],
          "name": "stdout"
        }
      ]
    }
  ]
}