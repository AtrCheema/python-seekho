{
  "nbformat": 4,
  "nbformat_minor": 0,
  "metadata": {
    "colab": {
      "name": "Inheritance.ipynb",
      "provenance": [],
      "collapsed_sections": [],
      "authorship_tag": "ABX9TyNwo0oTaRq2yS8kQIOeRAev",
      "include_colab_link": true
    },
    "kernelspec": {
      "name": "python3",
      "display_name": "Python 3"
    }
  },
  "cells": [
    {
      "cell_type": "markdown",
      "metadata": {
        "id": "view-in-github",
        "colab_type": "text"
      },
      "source": [
        "<a href=\"https://colab.research.google.com/github/AtrCheema/python-courses/blob/master/OOP/Inheritance.ipynb\" target=\"_parent\"><img src=\"https://colab.research.google.com/assets/colab-badge.svg\" alt=\"Open In Colab\"/></a>"
      ]
    },
    {
      "cell_type": "markdown",
      "metadata": {
        "id": "ThRClVkRRQLH"
      },
      "source": [
        "Inheritance means one class can inherit `attributes` and `methods` of parent class."
      ]
    },
    {
      "cell_type": "code",
      "metadata": {
        "id": "N5niwoKwF198",
        "outputId": "ec29dd8c-991f-4062-d01c-ea2a56f4a74d",
        "colab": {
          "base_uri": "https://localhost:8080/",
          "height": 35
        }
      },
      "source": [
        "class Human(object):\n",
        "\n",
        "    def __init__(self, name):\n",
        "        self.name = name\n",
        "    \n",
        "    def say_salam(self):\n",
        "        print('Salam, my name is', self.name)\n",
        "\n",
        "class Muslim(Human):\n",
        "    pass\n",
        "\n",
        "ali = Muslim('Ali')\n",
        "ali.say_salam()"
      ],
      "execution_count": 1,
      "outputs": [
        {
          "output_type": "stream",
          "text": [
            "Salam, my name is Ali\n"
          ],
          "name": "stdout"
        }
      ]
    },
    {
      "cell_type": "markdown",
      "metadata": {
        "id": "hMXRuoEIRcJA"
      },
      "source": [
        "The `Muslim` class itself does not have a method `say_salam` but since it is inheriting from `Human` class and `say_slam` exists in `Human` class, we do end up calling `say_salam` method fo `Human` class.\n",
        "\n",
        "We can check the type of the `ali` which is an object and is an `instance` of class `Muslim`. There are two ways to verify this."
      ]
    },
    {
      "cell_type": "code",
      "metadata": {
        "id": "WKHVq_OgEZVF",
        "outputId": "5e45e796-e7ca-49c8-9973-05e3e3255671",
        "colab": {
          "base_uri": "https://localhost:8080/",
          "height": 35
        }
      },
      "source": [
        "isinstance(ali, Muslim), type(ali) == Muslim"
      ],
      "execution_count": 2,
      "outputs": [
        {
          "output_type": "execute_result",
          "data": {
            "text/plain": [
              "(True, True)"
            ]
          },
          "metadata": {
            "tags": []
          },
          "execution_count": 2
        }
      ]
    },
    {
      "cell_type": "markdown",
      "metadata": {
        "id": "lZJRsq5LSJ4N"
      },
      "source": [
        "However, `isintance` checks the parent classes as well but `type` function does not do so."
      ]
    },
    {
      "cell_type": "code",
      "metadata": {
        "id": "qT59kh37Ee0j",
        "outputId": "a4193abb-c532-4304-bb6b-31e18491826a",
        "colab": {
          "base_uri": "https://localhost:8080/",
          "height": 35
        }
      },
      "source": [
        "isinstance(ali, Human), type(ali) == Human"
      ],
      "execution_count": 3,
      "outputs": [
        {
          "output_type": "execute_result",
          "data": {
            "text/plain": [
              "(True, False)"
            ]
          },
          "metadata": {
            "tags": []
          },
          "execution_count": 3
        }
      ]
    },
    {
      "cell_type": "code",
      "metadata": {
        "id": "zf30IOBWoPeb",
        "outputId": "c4b0f7c3-3622-4f5a-d5e1-d64a5df00b82",
        "colab": {
          "base_uri": "https://localhost:8080/",
          "height": 35
        }
      },
      "source": [
        "arjun = Human('arjun')\n",
        "\n",
        "isinstance(arjun, Human), isinstance(arjun, Muslim)"
      ],
      "execution_count": 4,
      "outputs": [
        {
          "output_type": "execute_result",
          "data": {
            "text/plain": [
              "(True, False)"
            ]
          },
          "metadata": {
            "tags": []
          },
          "execution_count": 4
        }
      ]
    },
    {
      "cell_type": "markdown",
      "metadata": {
        "id": "xQL0OAU5Sh_2"
      },
      "source": [
        "So it is always safe to check the type of an object by `instance`.\n",
        "\n",
        "Inheritance can occur between more than two classes as well. In following, `Pakistani` class inherits from `Muslim` class which itself inherits from `Human` class."
      ]
    },
    {
      "cell_type": "code",
      "metadata": {
        "id": "JcayASL8GYNh",
        "outputId": "a924a0a2-4e8c-4369-d14a-056d158d689d",
        "colab": {
          "base_uri": "https://localhost:8080/",
          "height": 35
        }
      },
      "source": [
        "class Human(object):\n",
        "\n",
        "    def __init__(self, name):\n",
        "        self.name = name\n",
        "class Muslim(Human):\n",
        "    pass\n",
        "\n",
        "class Pakistani(Muslim):\n",
        "    pass\n",
        "\n",
        "ali = Pakistani('ali')\n",
        "\n",
        "isinstance(ali, Human)"
      ],
      "execution_count": 5,
      "outputs": [
        {
          "output_type": "execute_result",
          "data": {
            "text/plain": [
              "True"
            ]
          },
          "metadata": {
            "tags": []
          },
          "execution_count": 5
        }
      ]
    },
    {
      "cell_type": "markdown",
      "metadata": {
        "id": "oBT3drp5S9Vm"
      },
      "source": [
        "We can override the methods of parent or super class in its child class by simply redefining the `method`."
      ]
    },
    {
      "cell_type": "code",
      "metadata": {
        "id": "ZzTEfXw5LN53",
        "outputId": "bab2544e-c41e-4509-8472-7116bb4b3ff7",
        "colab": {
          "base_uri": "https://localhost:8080/",
          "height": 35
        }
      },
      "source": [
        "class Human(object):\n",
        "\n",
        "    def __init__(self, name):\n",
        "        self.name = name\n",
        "    \n",
        "    def introduction(self):\n",
        "        print('Hello, my name is', self.name)\n",
        "\n",
        "class Muslim(Human):\n",
        "\n",
        "    def introduction(self):\n",
        "        print('Salam, my name is', self.name)\n",
        "\n",
        "ali = Muslim(\"ali\")\n",
        "\n",
        "ali.introduction()"
      ],
      "execution_count": 6,
      "outputs": [
        {
          "output_type": "stream",
          "text": [
            "Salam, my name is ali\n"
          ],
          "name": "stdout"
        }
      ]
    },
    {
      "cell_type": "code",
      "metadata": {
        "id": "jbLuZSxaLvBs",
        "outputId": "a11dd1fe-8acc-4751-a616-647739c4b39d",
        "colab": {
          "base_uri": "https://localhost:8080/",
          "height": 35
        }
      },
      "source": [
        "Human.introduction(ali)"
      ],
      "execution_count": 7,
      "outputs": [
        {
          "output_type": "stream",
          "text": [
            "Hello, my name is ali\n"
          ],
          "name": "stdout"
        }
      ]
    },
    {
      "cell_type": "markdown",
      "metadata": {
        "id": "3Dr92G6TTQLd"
      },
      "source": [
        "If in a child class we want to call/use method from a parent/super class, we can call method from parent/super class using the `super()` function as following."
      ]
    },
    {
      "cell_type": "code",
      "metadata": {
        "id": "_xa58TtlMaqz",
        "outputId": "c76cba47-2e9b-40c7-9f19-cc52c417d771",
        "colab": {
          "base_uri": "https://localhost:8080/",
          "height": 53
        }
      },
      "source": [
        "class Human(object):\n",
        "\n",
        "    def __init__(self, name):\n",
        "        self.name = name\n",
        "    \n",
        "    def introduction(self):\n",
        "        print('Hello, my name is', self.name)\n",
        "\n",
        "class Muslim(Human):\n",
        "\n",
        "    def introduction(self):\n",
        "        print(\"I will call introduction method of parent class\")\n",
        "        super().introduction()\n",
        "\n",
        "ali = Muslim(\"ali\")\n",
        "\n",
        "ali.introduction()"
      ],
      "execution_count": 8,
      "outputs": [
        {
          "output_type": "stream",
          "text": [
            "I will call introduction method of parent class\n",
            "Hello, my name is ali\n"
          ],
          "name": "stdout"
        }
      ]
    },
    {
      "cell_type": "markdown",
      "metadata": {
        "id": "iQDNIkBjTe2S"
      },
      "source": [
        "Above, the `introduction` method of `Muslim` class calls the `introduction` method of `Human`."
      ]
    },
    {
      "cell_type": "code",
      "metadata": {
        "id": "0BPf6dEQOBc6",
        "outputId": "6334f5c3-922f-498a-b373-180a5ffe81cb",
        "colab": {
          "base_uri": "https://localhost:8080/",
          "height": 53
        }
      },
      "source": [
        "class Human(object):\n",
        "\n",
        "    def __init__(self, name):\n",
        "        self.name = name\n",
        "    \n",
        "    def introduction(self):\n",
        "        print('Hello, my name is', self.name)\n",
        "\n",
        "class Muslim(Human):\n",
        "\n",
        "    def introduction(self):\n",
        "        print(\"salam: my name is \", self.name)\n",
        "\n",
        "class Pakistani(Muslim):\n",
        "\n",
        "    def introduction(self):\n",
        "        print(\"I will call introduction method of parent class\")\n",
        "        super().introduction()\n",
        "\n",
        "ali = Pakistani(\"ali\")\n",
        "\n",
        "ali.introduction()"
      ],
      "execution_count": 9,
      "outputs": [
        {
          "output_type": "stream",
          "text": [
            "I will call introduction method of parent class\n",
            "salam: my name is  ali\n"
          ],
          "name": "stdout"
        }
      ]
    },
    {
      "cell_type": "markdown",
      "metadata": {
        "id": "qrCVVyiYTt7u"
      },
      "source": [
        "If a method is not present in super/parent class, python will keep on looking in all parent/super classes in the hierarchy untill it finds the method or attribute being called."
      ]
    },
    {
      "cell_type": "code",
      "metadata": {
        "id": "P6NWePcwOlPq",
        "outputId": "ed46fedf-791b-4849-880c-dc24c3ab8dd0",
        "colab": {
          "base_uri": "https://localhost:8080/",
          "height": 53
        }
      },
      "source": [
        "class Human(object):\n",
        "\n",
        "    def __init__(self, name):\n",
        "        self.name = name\n",
        "    \n",
        "    def introduction(self):\n",
        "        print('Hello, my name is', self.name)\n",
        "\n",
        "class Muslim(Human):\n",
        "    pass\n",
        "\n",
        "class Pakistani(Muslim):\n",
        "\n",
        "    def introduction(self):\n",
        "        print(\"I will call introduction method of parent class\")\n",
        "        super().introduction()\n",
        "\n",
        "ali = Pakistani(\"ali\")\n",
        "\n",
        "ali.introduction()"
      ],
      "execution_count": 10,
      "outputs": [
        {
          "output_type": "stream",
          "text": [
            "I will call introduction method of parent class\n",
            "Hello, my name is ali\n"
          ],
          "name": "stdout"
        }
      ]
    },
    {
      "cell_type": "code",
      "metadata": {
        "id": "vppB7PcTO5ix",
        "outputId": "783fa78a-9b70-4edc-a06e-2e1acc16cb3c",
        "colab": {
          "base_uri": "https://localhost:8080/",
          "height": 35
        }
      },
      "source": [
        "class Human(object):\n",
        "\n",
        "    def __init__(self, name):\n",
        "        self.name = name\n",
        "    \n",
        "    def introduction(self):\n",
        "        print('Hello, my name is', self.name)\n",
        "\n",
        "class Muslim(Human):\n",
        "    pass\n",
        "\n",
        "class Pakistani(Muslim):\n",
        "    pass\n",
        "\n",
        "ali = Pakistani(\"ali\")\n",
        "\n",
        "ali.introduction()"
      ],
      "execution_count": 11,
      "outputs": [
        {
          "output_type": "stream",
          "text": [
            "Hello, my name is ali\n"
          ],
          "name": "stdout"
        }
      ]
    },
    {
      "cell_type": "markdown",
      "metadata": {
        "id": "x8zXvZLUUAWf"
      },
      "source": [
        "However, if the called method does not exist in any of the parent classes, then python will throw `AttributeError`."
      ]
    },
    {
      "cell_type": "code",
      "metadata": {
        "id": "gbFQjcUjPFCB",
        "outputId": "a6855e9c-48e7-41c0-c4bd-7031c57e7ad7",
        "colab": {
          "base_uri": "https://localhost:8080/",
          "height": 208
        }
      },
      "source": [
        "class Human(object):\n",
        "\n",
        "    def __init__(self, name):\n",
        "        self.name = name\n",
        "    \n",
        "    def introduction1(self):\n",
        "        print('Hello, my name is', self.name)\n",
        "\n",
        "class Muslim(Human):\n",
        "    pass\n",
        "\n",
        "class Pakistani(Muslim):\n",
        "    pass\n",
        "\n",
        "ali = Pakistani(\"ali\")\n",
        "\n",
        "ali.introduction()"
      ],
      "execution_count": 12,
      "outputs": [
        {
          "output_type": "error",
          "ename": "AttributeError",
          "evalue": "ignored",
          "traceback": [
            "\u001b[0;31m---------------------------------------------------------------------------\u001b[0m",
            "\u001b[0;31mAttributeError\u001b[0m                            Traceback (most recent call last)",
            "\u001b[0;32m<ipython-input-12-9801c6a1f859>\u001b[0m in \u001b[0;36m<module>\u001b[0;34m()\u001b[0m\n\u001b[1;32m     15\u001b[0m \u001b[0mali\u001b[0m \u001b[0;34m=\u001b[0m \u001b[0mPakistani\u001b[0m\u001b[0;34m(\u001b[0m\u001b[0;34m\"ali\"\u001b[0m\u001b[0;34m)\u001b[0m\u001b[0;34m\u001b[0m\u001b[0;34m\u001b[0m\u001b[0m\n\u001b[1;32m     16\u001b[0m \u001b[0;34m\u001b[0m\u001b[0m\n\u001b[0;32m---> 17\u001b[0;31m \u001b[0mali\u001b[0m\u001b[0;34m.\u001b[0m\u001b[0mintroduction\u001b[0m\u001b[0;34m(\u001b[0m\u001b[0;34m)\u001b[0m\u001b[0;34m\u001b[0m\u001b[0;34m\u001b[0m\u001b[0m\n\u001b[0m",
            "\u001b[0;31mAttributeError\u001b[0m: 'Pakistani' object has no attribute 'introduction'"
          ]
        }
      ]
    },
    {
      "cell_type": "markdown",
      "metadata": {
        "id": "lQTYrAhmVXtD"
      },
      "source": [
        "If in a child class, we want to implement a method of a parent class but not of immediate parent class, we can directly call that method.\n",
        "Below, `Pakistani` class is inheriting from `Muslim` but in introduction method of `Pakistani`, we don’t want to call `introduction` method of `Muslim` class rather we want to call `introduction` method of `Human` class. We can do this by `Human.introduction()`"
      ]
    },
    {
      "cell_type": "code",
      "metadata": {
        "id": "c_tAs1xnf0Od",
        "outputId": "04ac0de6-e58b-4ed6-869b-5f6f175b8019",
        "colab": {
          "base_uri": "https://localhost:8080/",
          "height": 53
        }
      },
      "source": [
        "class Human(object):\n",
        "\n",
        "    def __init__(self, name):\n",
        "        self.name = name\n",
        "    \n",
        "    def introduction(self):\n",
        "        print('Hello, my name is', self.name)\n",
        "\n",
        "class Muslim(Human):\n",
        "\n",
        "    def introduction(self):\n",
        "        print('Salam, my name is', self.name)\n",
        "\n",
        "class Pakistani(Muslim):\n",
        "\n",
        "    def introduction(self):\n",
        "        Human.introduction(self)\n",
        "        print(\"I am a Pakistani. \")\n",
        "\n",
        "ali = Pakistani(\"ali\")\n",
        "\n",
        "ali.introduction()"
      ],
      "execution_count": 13,
      "outputs": [
        {
          "output_type": "stream",
          "text": [
            "Hello, my name is ali\n",
            "I am a Pakistani. \n"
          ],
          "name": "stdout"
        }
      ]
    },
    {
      "cell_type": "markdown",
      "metadata": {
        "id": "LbBkiD5iXsbK"
      },
      "source": [
        "One of the function of method overriding is to implement abstract methods."
      ]
    },
    {
      "cell_type": "code",
      "metadata": {
        "id": "Qxkv4DvlXCiJ",
        "outputId": "36cfd384-b120-4fa9-a7ff-b5a5fe43e244",
        "colab": {
          "base_uri": "https://localhost:8080/",
          "height": 36
        }
      },
      "source": [
        "class Human(object):\n",
        "\n",
        "    def nationality(self):\n",
        "        raise NotImplementedError(\"implement this method in child class\")\n",
        "\n",
        "class Pakistani(Human):\n",
        "\n",
        "    def nationality(self):\n",
        "        return \"pakistani\"\n",
        "\n",
        "class Iranian(Human):\n",
        "    def nationality(self):\n",
        "        return \"iranian\"\n",
        "\n",
        "class Israili(Human):\n",
        "    pass\n",
        "\n",
        "ali = Pakistani()\n",
        "ali.nationality()"
      ],
      "execution_count": 14,
      "outputs": [
        {
          "output_type": "execute_result",
          "data": {
            "application/vnd.google.colaboratory.intrinsic+json": {
              "type": "string"
            },
            "text/plain": [
              "'pakistani'"
            ]
          },
          "metadata": {
            "tags": []
          },
          "execution_count": 14
        }
      ]
    },
    {
      "cell_type": "code",
      "metadata": {
        "id": "k9ocVBXoYGVZ",
        "outputId": "9b18e520-3309-4142-bde1-29ad17c9f601",
        "colab": {
          "base_uri": "https://localhost:8080/",
          "height": 36
        }
      },
      "source": [
        "armaghan = Iranian()\n",
        "armaghan.nationality()"
      ],
      "execution_count": 15,
      "outputs": [
        {
          "output_type": "execute_result",
          "data": {
            "application/vnd.google.colaboratory.intrinsic+json": {
              "type": "string"
            },
            "text/plain": [
              "'iranian'"
            ]
          },
          "metadata": {
            "tags": []
          },
          "execution_count": 15
        }
      ]
    },
    {
      "cell_type": "code",
      "metadata": {
        "id": "8_Cr22YwYQ4A",
        "outputId": "2583b44a-26ca-4c56-fdcb-9c7caa0ed509",
        "colab": {
          "base_uri": "https://localhost:8080/",
          "height": 317
        }
      },
      "source": [
        "yakov = Israili()\n",
        "yakov.nationality()"
      ],
      "execution_count": 16,
      "outputs": [
        {
          "output_type": "error",
          "ename": "NotImplementedError",
          "evalue": "ignored",
          "traceback": [
            "\u001b[0;31m---------------------------------------------------------------------------\u001b[0m",
            "\u001b[0;31mNotImplementedError\u001b[0m                       Traceback (most recent call last)",
            "\u001b[0;32m<ipython-input-16-738b34e3830b>\u001b[0m in \u001b[0;36m<module>\u001b[0;34m()\u001b[0m\n\u001b[1;32m      1\u001b[0m \u001b[0myakov\u001b[0m \u001b[0;34m=\u001b[0m \u001b[0mIsraili\u001b[0m\u001b[0;34m(\u001b[0m\u001b[0;34m)\u001b[0m\u001b[0;34m\u001b[0m\u001b[0;34m\u001b[0m\u001b[0m\n\u001b[0;32m----> 2\u001b[0;31m \u001b[0myakov\u001b[0m\u001b[0;34m.\u001b[0m\u001b[0mnationality\u001b[0m\u001b[0;34m(\u001b[0m\u001b[0;34m)\u001b[0m\u001b[0;34m\u001b[0m\u001b[0;34m\u001b[0m\u001b[0m\n\u001b[0m",
            "\u001b[0;32m<ipython-input-14-209757d49843>\u001b[0m in \u001b[0;36mnationality\u001b[0;34m(self)\u001b[0m\n\u001b[1;32m      2\u001b[0m \u001b[0;34m\u001b[0m\u001b[0m\n\u001b[1;32m      3\u001b[0m     \u001b[0;32mdef\u001b[0m \u001b[0mnationality\u001b[0m\u001b[0;34m(\u001b[0m\u001b[0mself\u001b[0m\u001b[0;34m)\u001b[0m\u001b[0;34m:\u001b[0m\u001b[0;34m\u001b[0m\u001b[0;34m\u001b[0m\u001b[0m\n\u001b[0;32m----> 4\u001b[0;31m         \u001b[0;32mraise\u001b[0m \u001b[0mNotImplementedError\u001b[0m\u001b[0;34m(\u001b[0m\u001b[0;34m\"implement this method in child class\"\u001b[0m\u001b[0;34m)\u001b[0m\u001b[0;34m\u001b[0m\u001b[0;34m\u001b[0m\u001b[0m\n\u001b[0m\u001b[1;32m      5\u001b[0m \u001b[0;34m\u001b[0m\u001b[0m\n\u001b[1;32m      6\u001b[0m \u001b[0;32mclass\u001b[0m \u001b[0mPakistani\u001b[0m\u001b[0;34m(\u001b[0m\u001b[0mHuman\u001b[0m\u001b[0;34m)\u001b[0m\u001b[0;34m:\u001b[0m\u001b[0;34m\u001b[0m\u001b[0;34m\u001b[0m\u001b[0m\n",
            "\u001b[0;31mNotImplementedError\u001b[0m: implement this method in child class"
          ]
        }
      ]
    },
    {
      "cell_type": "markdown",
      "metadata": {
        "id": "iHcaJ_-aZBmv"
      },
      "source": [
        "We can enlist all base classes in a hierarchy of given class?"
      ]
    },
    {
      "cell_type": "code",
      "metadata": {
        "id": "0wbcjKf1ZA5I",
        "outputId": "143e9b02-a6d1-48c3-f733-ab18e91243b0",
        "colab": {
          "base_uri": "https://localhost:8080/",
          "height": 35
        }
      },
      "source": [
        "class Human(object):\n",
        "    pass\n",
        "\n",
        "class Muslim(Human):\n",
        "    pass\n",
        "\n",
        "class Pakistani(Human):\n",
        "    pass\n",
        "\n",
        "class Punjabi(Pakistani):\n",
        "    pass\n",
        "\n",
        "Punjabi.__mro__"
      ],
      "execution_count": 17,
      "outputs": [
        {
          "output_type": "execute_result",
          "data": {
            "text/plain": [
              "(__main__.Punjabi, __main__.Pakistani, __main__.Human, object)"
            ]
          },
          "metadata": {
            "tags": []
          },
          "execution_count": 17
        }
      ]
    },
    {
      "cell_type": "code",
      "metadata": {
        "id": "mqE244V6cxq-",
        "outputId": "0e7d842c-f8ea-4cca-cc0f-496a4827a098",
        "colab": {
          "base_uri": "https://localhost:8080/",
          "height": 35
        }
      },
      "source": [
        "Muslim.__mro__"
      ],
      "execution_count": 18,
      "outputs": [
        {
          "output_type": "execute_result",
          "data": {
            "text/plain": [
              "(__main__.Muslim, __main__.Human, object)"
            ]
          },
          "metadata": {
            "tags": []
          },
          "execution_count": 18
        }
      ]
    },
    {
      "cell_type": "markdown",
      "metadata": {
        "id": "QRrff-m0Vy-I"
      },
      "source": [
        "We can initiate a child class with additional arguments than required to initiate the parent class. For this we have to overwrite `__init__()` method of the child class."
      ]
    },
    {
      "cell_type": "code",
      "metadata": {
        "id": "JxFVK23zPsYh",
        "outputId": "5c98ecd0-fc25-4ce1-e50d-fc7089002c88",
        "colab": {
          "base_uri": "https://localhost:8080/",
          "height": 208
        }
      },
      "source": [
        "class Human(object):\n",
        "\n",
        "    def __init__(self, name):\n",
        "        self.name = name\n",
        "    \n",
        "    def introduction(self):\n",
        "        print('Hello, my name is', self.name)\n",
        "\n",
        "class Muslim(Human):\n",
        "\n",
        "    def __init__(self, name, sect):\n",
        "        self.sect = sect\n",
        "        super(Muslim, self).__init__(name)\n",
        "\n",
        "    def introduction(self):\n",
        "        print('Salam, my name is {} and my sect is {}'.format(self.name, self.sect))\n",
        "\n",
        "ali = Muslim(\"ali\")"
      ],
      "execution_count": 19,
      "outputs": [
        {
          "output_type": "error",
          "ename": "TypeError",
          "evalue": "ignored",
          "traceback": [
            "\u001b[0;31m---------------------------------------------------------------------------\u001b[0m",
            "\u001b[0;31mTypeError\u001b[0m                                 Traceback (most recent call last)",
            "\u001b[0;32m<ipython-input-19-97d2517c4421>\u001b[0m in \u001b[0;36m<module>\u001b[0;34m()\u001b[0m\n\u001b[1;32m     16\u001b[0m         \u001b[0mprint\u001b[0m\u001b[0;34m(\u001b[0m\u001b[0;34m'Salam, my name is {} and my sect is {}'\u001b[0m\u001b[0;34m.\u001b[0m\u001b[0mformat\u001b[0m\u001b[0;34m(\u001b[0m\u001b[0mself\u001b[0m\u001b[0;34m.\u001b[0m\u001b[0mname\u001b[0m\u001b[0;34m,\u001b[0m \u001b[0mself\u001b[0m\u001b[0;34m.\u001b[0m\u001b[0msect\u001b[0m\u001b[0;34m)\u001b[0m\u001b[0;34m)\u001b[0m\u001b[0;34m\u001b[0m\u001b[0;34m\u001b[0m\u001b[0m\n\u001b[1;32m     17\u001b[0m \u001b[0;34m\u001b[0m\u001b[0m\n\u001b[0;32m---> 18\u001b[0;31m \u001b[0mali\u001b[0m \u001b[0;34m=\u001b[0m \u001b[0mMuslim\u001b[0m\u001b[0;34m(\u001b[0m\u001b[0;34m\"ali\"\u001b[0m\u001b[0;34m)\u001b[0m\u001b[0;34m\u001b[0m\u001b[0;34m\u001b[0m\u001b[0m\n\u001b[0m",
            "\u001b[0;31mTypeError\u001b[0m: __init__() missing 1 required positional argument: 'sect'"
          ]
        }
      ]
    },
    {
      "cell_type": "markdown",
      "metadata": {
        "id": "90_QrMzaWfwc"
      },
      "source": [
        "Above, the `Muslim` class now requires two arguments for initiation i.e. `name` and `sect`. We did not provide value for `sect`."
      ]
    },
    {
      "cell_type": "code",
      "metadata": {
        "id": "gcx7Xx8KQg03",
        "outputId": "2ea8c5bc-8adc-48f2-ed5a-b4c0f94ce9b3",
        "colab": {
          "base_uri": "https://localhost:8080/",
          "height": 35
        }
      },
      "source": [
        "ali = Muslim(\"ali\", None)\n",
        "ali.introduction()"
      ],
      "execution_count": 20,
      "outputs": [
        {
          "output_type": "stream",
          "text": [
            "Salam, my name is ali and my sect is None\n"
          ],
          "name": "stdout"
        }
      ]
    },
    {
      "cell_type": "markdown",
      "metadata": {
        "id": "6a8zskfRVliM"
      },
      "source": [
        "Instead of using `super(ChildClass, self).__init__()` we can also simple say `super().__init__()`."
      ]
    },
    {
      "cell_type": "code",
      "metadata": {
        "id": "ioSOcXuWVMIz",
        "outputId": "314d8205-3770-4081-bf07-8a822c66847a",
        "colab": {
          "base_uri": "https://localhost:8080/",
          "height": 35
        }
      },
      "source": [
        "class Human(object):\n",
        "\n",
        "    def __init__(self, name):\n",
        "        self.name = name\n",
        "    \n",
        "    def introduction(self):\n",
        "        print('Hello, my name is', self.name)\n",
        "\n",
        "class Muslim(Human):\n",
        "\n",
        "    def __init__(self, name, sect):\n",
        "        self.sect = sect\n",
        "        super().__init__(name)\n",
        "\n",
        "    def introduction(self):\n",
        "        print('Salam, my name is {} and my sect is {}'.format(self.name, self.sect))\n",
        "\n",
        "ali = Muslim(\"ali\", None)\n",
        "ali.introduction()"
      ],
      "execution_count": 21,
      "outputs": [
        {
          "output_type": "stream",
          "text": [
            "Salam, my name is ali and my sect is None\n"
          ],
          "name": "stdout"
        }
      ]
    },
    {
      "cell_type": "code",
      "metadata": {
        "id": "bHWn35qgQzSv",
        "outputId": "85576610-230a-4bff-e3a7-671fd180873d",
        "colab": {
          "base_uri": "https://localhost:8080/",
          "height": 35
        }
      },
      "source": [
        "type(ali.sect)"
      ],
      "execution_count": 22,
      "outputs": [
        {
          "output_type": "execute_result",
          "data": {
            "text/plain": [
              "NoneType"
            ]
          },
          "metadata": {
            "tags": []
          },
          "execution_count": 22
        }
      ]
    },
    {
      "cell_type": "code",
      "metadata": {
        "id": "tPg3unURQ2eA",
        "outputId": "64d0fd8a-be59-4638-8007-2ec92443a5bd",
        "colab": {
          "base_uri": "https://localhost:8080/",
          "height": 190
        }
      },
      "source": [
        "kapil = Human('kapil')\n",
        "kapil.sect"
      ],
      "execution_count": 23,
      "outputs": [
        {
          "output_type": "error",
          "ename": "AttributeError",
          "evalue": "ignored",
          "traceback": [
            "\u001b[0;31m---------------------------------------------------------------------------\u001b[0m",
            "\u001b[0;31mAttributeError\u001b[0m                            Traceback (most recent call last)",
            "\u001b[0;32m<ipython-input-23-5112200b299c>\u001b[0m in \u001b[0;36m<module>\u001b[0;34m()\u001b[0m\n\u001b[1;32m      1\u001b[0m \u001b[0mkapil\u001b[0m \u001b[0;34m=\u001b[0m \u001b[0mHuman\u001b[0m\u001b[0;34m(\u001b[0m\u001b[0;34m'kapil'\u001b[0m\u001b[0;34m)\u001b[0m\u001b[0;34m\u001b[0m\u001b[0;34m\u001b[0m\u001b[0m\n\u001b[0;32m----> 2\u001b[0;31m \u001b[0mkapil\u001b[0m\u001b[0;34m.\u001b[0m\u001b[0msect\u001b[0m\u001b[0;34m\u001b[0m\u001b[0;34m\u001b[0m\u001b[0m\n\u001b[0m",
            "\u001b[0;31mAttributeError\u001b[0m: 'Human' object has no attribute 'sect'"
          ]
        }
      ]
    },
    {
      "cell_type": "markdown",
      "metadata": {
        "id": "b35f764gFXGH"
      },
      "source": [
        "Since `kapil` is an instance of `Human` class which does not have any attribute named `sect`, thus we could not access this attribute.\n",
        "\n",
        "A class can also inherit from multiple classes and this is called `multiple-inheritance`."
      ]
    },
    {
      "cell_type": "code",
      "metadata": {
        "id": "6RFRfebbk2Pe",
        "outputId": "78d52648-5476-4414-a672-0dc1325bc637",
        "colab": {
          "base_uri": "https://localhost:8080/",
          "height": 36
        }
      },
      "source": [
        "class Spirit(object):\n",
        "    chastity = 'NaN'\n",
        "    bravery = 'NaN'\n",
        "    tolerance = 'NaN'\n",
        "\n",
        "class Body(object):\n",
        "    weight = 20\n",
        "\n",
        "class Human(Spirit, Body):\n",
        "    pass\n",
        "\n",
        "ali = Human()\n",
        "ali.chastity"
      ],
      "execution_count": 24,
      "outputs": [
        {
          "output_type": "execute_result",
          "data": {
            "application/vnd.google.colaboratory.intrinsic+json": {
              "type": "string"
            },
            "text/plain": [
              "'NaN'"
            ]
          },
          "metadata": {
            "tags": []
          },
          "execution_count": 24
        }
      ]
    },
    {
      "cell_type": "code",
      "metadata": {
        "id": "ObEuA0B4lx6k",
        "outputId": "8ff6e77c-f46b-4723-a438-9441ef54da21",
        "colab": {
          "base_uri": "https://localhost:8080/",
          "height": 35
        }
      },
      "source": [
        "ali.weight"
      ],
      "execution_count": 25,
      "outputs": [
        {
          "output_type": "execute_result",
          "data": {
            "text/plain": [
              "20"
            ]
          },
          "metadata": {
            "tags": []
          },
          "execution_count": 25
        }
      ]
    },
    {
      "cell_type": "markdown",
      "metadata": {
        "id": "JpTp3VkEFgqN"
      },
      "source": [
        "If an attribute of the child class is called, it is first looked in the child class, then in the first parent class and then in second parent class."
      ]
    },
    {
      "cell_type": "code",
      "metadata": {
        "id": "mAYv9d8Tl_lE",
        "outputId": "cfabdb38-9889-43fb-a120-5da27960279d",
        "colab": {
          "base_uri": "https://localhost:8080/",
          "height": 36
        }
      },
      "source": [
        "class Spirit(object):\n",
        "    chastity = 'NaN'\n",
        "    bravery = 'NaN'\n",
        "    identity = 'NaN'\n",
        "\n",
        "class Body(object):\n",
        "    identity = 'name'\n",
        "\n",
        "class Human(Spirit, Body):\n",
        "    pass\n",
        "\n",
        "ali = Human()\n",
        "ali.identity"
      ],
      "execution_count": 26,
      "outputs": [
        {
          "output_type": "execute_result",
          "data": {
            "application/vnd.google.colaboratory.intrinsic+json": {
              "type": "string"
            },
            "text/plain": [
              "'NaN'"
            ]
          },
          "metadata": {
            "tags": []
          },
          "execution_count": 26
        }
      ]
    },
    {
      "cell_type": "markdown",
      "metadata": {
        "id": "gg3GsgciFsqr"
      },
      "source": [
        "Above, `identity` attribute exists for `Body` and `Spirity` class but since `Spirit` class comes first, so `NaN` is printed which is value of `identity` attribute of `Spirit` class.\n",
        "\n",
        "Sometimes, we may want to initizlie both parent classes with separate initializing arguments. In following, `Body` class requires two initizing arguments while `Spirit` class can be initialized with as many arguments as possible."
      ]
    },
    {
      "cell_type": "code",
      "metadata": {
        "id": "C_jPHb13p47S",
        "outputId": "9607b1ec-e443-4f48-aaa0-787d8b7bd86b",
        "colab": {
          "base_uri": "https://localhost:8080/",
          "height": 199
        }
      },
      "source": [
        "class Spirit(object):\n",
        "    def __init__(self, **kwargs):\n",
        "        print(\"initializing spirit\")\n",
        "        for k,v in kwargs.items():\n",
        "            print('setting: ', k, 'to ', v)\n",
        "            setattr(self, k, v)\n",
        "        print(\"finished initializing spirit\")\n",
        "\n",
        "class Body(object):\n",
        "    def __init__(self,weight, height):\n",
        "        print(\"initializing body\")\n",
        "        self.weight = weight\n",
        "        self.height = height\n",
        "        print(\"finished initializing body\")\n",
        "\n",
        "class Human(Spirit, Body):\n",
        "    def __init__(self, name, weight, height, **kwargs):\n",
        "        print(\"initializing Human\")\n",
        "        self.name = name\n",
        "        Spirit.__init__(self, **kwargs)\n",
        "        Body.__init__(self, weight, height)\n",
        "\n",
        "ali = Human('ali', 60, 175, chastity='NotANumber')\n",
        "\n",
        "print(\"Name: \", ali.name)\n",
        "print(\"Weight: \", ali.weight)\n",
        "print(\"Height: \", ali.height)\n",
        "print(\"Chastity: \", ali.chastity)"
      ],
      "execution_count": 27,
      "outputs": [
        {
          "output_type": "stream",
          "text": [
            "initializing Human\n",
            "initializing spirit\n",
            "setting:  chastity to  NotANumber\n",
            "finished initializing spirit\n",
            "initializing body\n",
            "finished initializing body\n",
            "Name:  ali\n",
            "Weight:  60\n",
            "Height:  175\n",
            "Chastity:  NotANumber\n"
          ],
          "name": "stdout"
        }
      ]
    },
    {
      "cell_type": "markdown",
      "metadata": {
        "id": "1hWJNA_6GrMX"
      },
      "source": [
        "Instead of initializing both parent classes separately, call to `super()` method will suffice to initiate all parent classes at once."
      ]
    },
    {
      "cell_type": "code",
      "metadata": {
        "id": "TYoeJelbo7tJ",
        "outputId": "d598201a-a3c2-41d6-da3b-6fb859b37b65",
        "colab": {
          "base_uri": "https://localhost:8080/",
          "height": 217
        }
      },
      "source": [
        "class Spirit(object):\n",
        "    def __init__(self, **kwargs):\n",
        "        print(\"initializing spirit\")\n",
        "        for k,v in kwargs.items():\n",
        "            print('setting: ', k, 'to ', v)\n",
        "            setattr(self, k, v)\n",
        "        print(\"finished initializing spirit\")\n",
        "\n",
        "class Body(object):\n",
        "    def __init__(self,weight, height):\n",
        "        print(\"initializing body\")\n",
        "        self.weight = weight\n",
        "        self.height = height\n",
        "        print(\"finished initializing body\")\n",
        "\n",
        "class Human(Spirit, Body):\n",
        "    def __init__(self, name, weight, height, **kwargs):\n",
        "        print(\"initializing Human\")\n",
        "        self.name = name\n",
        "        super().__init__(weight=weight, height=height, **kwargs)\n",
        "\n",
        "ali = Human('ali', 60, 175, chastity='NotANumber', honesty=\"undefined\")\n",
        "\n",
        "print(\"Name: \", ali.name)\n",
        "print(\"Weight: \", ali.weight)\n",
        "print(\"Height: \", ali.height)\n",
        "print(\"Chastity: \", ali.chastity)"
      ],
      "execution_count": 28,
      "outputs": [
        {
          "output_type": "stream",
          "text": [
            "initializing Human\n",
            "initializing spirit\n",
            "setting:  weight to  60\n",
            "setting:  height to  175\n",
            "setting:  chastity to  NotANumber\n",
            "setting:  honesty to  undefined\n",
            "finished initializing spirit\n",
            "Name:  ali\n",
            "Weight:  60\n",
            "Height:  175\n",
            "Chastity:  NotANumber\n"
          ],
          "name": "stdout"
        }
      ]
    }
  ]
}