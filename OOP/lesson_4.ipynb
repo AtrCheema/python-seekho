{
  "nbformat": 4,
  "nbformat_minor": 0,
  "metadata": {
    "colab": {
      "name": "lesson_4.ipynb",
      "provenance": [],
      "collapsed_sections": [],
      "authorship_tag": "ABX9TyNSjonjuMGf2GNKZ/MbOcaE",
      "include_colab_link": true
    },
    "kernelspec": {
      "name": "python3",
      "display_name": "Python 3"
    }
  },
  "cells": [
    {
      "cell_type": "markdown",
      "metadata": {
        "id": "view-in-github",
        "colab_type": "text"
      },
      "source": [
        "<a href=\"https://colab.research.google.com/github/AtrCheema/oop_python_urdu/blob/master/chap_1/lesson_4.ipynb\" target=\"_parent\"><img src=\"https://colab.research.google.com/assets/colab-badge.svg\" alt=\"Open In Colab\"/></a>"
      ]
    },
    {
      "cell_type": "markdown",
      "metadata": {
        "id": "v7n6zY7Y-e4M",
        "colab_type": "text"
      },
      "source": [
        "# Methods\n",
        "\n",
        "Forget for the time being what the word `methods` mean in English, method here means `functions associated with classes` \n",
        "\n",
        "Let's write a simple function which takes an `object` as input and prints the `name` attribute of that object\""
      ]
    },
    {
      "cell_type": "code",
      "metadata": {
        "id": "xeWCeR3uolIo",
        "colab_type": "code",
        "colab": {}
      },
      "source": [
        "def say_salam(obj):\n",
        "    print(\"Salam, I am \" + obj.name + \"!\")"
      ],
      "execution_count": 0,
      "outputs": []
    },
    {
      "cell_type": "markdown",
      "metadata": {
        "id": "HKEw8ra0K-OI",
        "colab_type": "text"
      },
      "source": [
        "We also define a simple class named `Insan` as we did in previous examples."
      ]
    },
    {
      "cell_type": "code",
      "metadata": {
        "id": "dDpPNEHNLF__",
        "colab_type": "code",
        "colab": {}
      },
      "source": [
        "class Insan:\n",
        "    pass"
      ],
      "execution_count": 0,
      "outputs": []
    },
    {
      "cell_type": "markdown",
      "metadata": {
        "id": "01WIXY60hf4W",
        "colab_type": "text"
      },
      "source": [
        "We can use the function `salam` by using the isntance of class `Insan` which is `x`."
      ]
    },
    {
      "cell_type": "code",
      "metadata": {
        "id": "E6Hz1l9t8I7K",
        "colab_type": "code",
        "colab": {}
      },
      "source": [
        "x = Insan()\n",
        "x.name = \"Ali\"\n",
        "say_salam(x)  # >> Salam, I am Ali!"
      ],
      "execution_count": 0,
      "outputs": []
    },
    {
      "cell_type": "markdown",
      "metadata": {
        "id": "Rouaz-oih5_M",
        "colab_type": "text"
      },
      "source": [
        "`say_salam` is a function at this time, and we can verify this by checking its type"
      ]
    },
    {
      "cell_type": "code",
      "metadata": {
        "id": "F3PgQOOO8hrL",
        "colab_type": "code",
        "colab": {}
      },
      "source": [
        "type(say_salam)"
      ],
      "execution_count": 0,
      "outputs": []
    },
    {
      "cell_type": "markdown",
      "metadata": {
        "id": "Wt9qtI1-iBhc",
        "colab_type": "text"
      },
      "source": [
        "but we can bind/link it to class `Insan` as following"
      ]
    },
    {
      "cell_type": "code",
      "metadata": {
        "id": "k1V_65x88pXB",
        "colab_type": "code",
        "colab": {}
      },
      "source": [
        "def say_salam(obj):\n",
        "    print(\"Salam, I am \" + obj.name)\n",
        "\n",
        "class Insan:\n",
        "    taruf = say_salam"
      ],
      "execution_count": 0,
      "outputs": []
    },
    {
      "cell_type": "markdown",
      "metadata": {
        "id": "nSwdObmOL1h2",
        "colab_type": "text"
      },
      "source": [
        "Now we can make use of the function `say_salam` which is linked to class `Insan` as following"
      ]
    },
    {
      "cell_type": "code",
      "metadata": {
        "id": "cyqgGJowR5yr",
        "colab_type": "code",
        "colab": {}
      },
      "source": [
        "x = Insan()\n",
        "\n",
        "x.name = \"Ali\"\n",
        "\n",
        "Insan.taruf(x)"
      ],
      "execution_count": 0,
      "outputs": []
    },
    {
      "cell_type": "markdown",
      "metadata": {
        "id": "FwYlwW13SIDz",
        "colab_type": "text"
      },
      "source": [
        "attributes in the `Insan` class are:"
      ]
    },
    {
      "cell_type": "code",
      "metadata": {
        "id": "IiRo1q5hR1dR",
        "colab_type": "code",
        "colab": {}
      },
      "source": [
        "print(Insan.__dict__)"
      ],
      "execution_count": 0,
      "outputs": []
    },
    {
      "cell_type": "markdown",
      "metadata": {
        "id": "amgy6-1AiptN",
        "colab_type": "text"
      },
      "source": [
        "`taruf` is a method and can be called as"
      ]
    },
    {
      "cell_type": "code",
      "metadata": {
        "id": "c22yMJt2SPw7",
        "colab_type": "code",
        "colab": {}
      },
      "source": [
        "x.taruf()"
      ],
      "execution_count": 0,
      "outputs": []
    },
    {
      "cell_type": "markdown",
      "metadata": {
        "id": "BwC-dEaiiwZN",
        "colab_type": "text"
      },
      "source": [
        "so `Insan.taruf` and `x.taruf` are equivalent. Although the method `say_salam` takes one argument `obj` as input but we did not provide any input argument while calling it through `x.taruf()` and no error was thrown? This is because when the function `say_salam` was linked to the class `Insan`, and when we call this method, the first argument is by default the instance i.e. `x` in this case.\n",
        "\n",
        "In this case we defined the method outside the body of class `Insan` and then linked it to class, but this is not the usual way to define methods. The proper way is to define it inside the class(indented)\n",
        "\n",
        "We connect this function which is method now to the class by its first argument which is usually `self`.  `self` corresponds to the `Insan` object `x`"
      ]
    },
    {
      "cell_type": "code",
      "metadata": {
        "id": "3Q-JRk8USSGb",
        "colab_type": "code",
        "colab": {}
      },
      "source": [
        "class Insan:\n",
        "    def say_salam(self):\n",
        "        print(\"Salam, I am \" + self.name)\n",
        "\n",
        "    \n",
        "ali = Insan()\n",
        "ali.say_salam()"
      ],
      "execution_count": 0,
      "outputs": []
    },
    {
      "cell_type": "markdown",
      "metadata": {
        "id": "FcRVLYBEyXbf",
        "colab_type": "text"
      },
      "source": [
        "The problem with above code is that the class `Insan` does not have an attribute `name`. So the class must have an attribute `name` before using the method `say_salam`."
      ]
    },
    {
      "cell_type": "code",
      "metadata": {
        "id": "nYJDzWc2VfEE",
        "colab_type": "code",
        "colab": {}
      },
      "source": [
        "ali.__dict__"
      ],
      "execution_count": 0,
      "outputs": []
    },
    {
      "cell_type": "markdown",
      "metadata": {
        "id": "lD4QcqyCjXGF",
        "colab_type": "text"
      },
      "source": [
        " Lets define the attribute before using the method `say_salam`"
      ]
    },
    {
      "cell_type": "code",
      "metadata": {
        "id": "_zo7GNitSUFL",
        "colab_type": "code",
        "colab": {}
      },
      "source": [
        "class Insan:\n",
        "    def say_salam(self):\n",
        "        print(\"Salam, I am \" + self.name)\n",
        "\n",
        "    \n",
        "ali = Insan()\n",
        "ali.name = 'Ali'  # define an attribute of instance ali\n",
        "ali.say_salam()"
      ],
      "execution_count": 0,
      "outputs": []
    },
    {
      "cell_type": "code",
      "metadata": {
        "id": "KR3VZKQMSVJU",
        "colab_type": "code",
        "colab": {}
      },
      "source": [
        "ali.__dict__"
      ],
      "execution_count": 0,
      "outputs": []
    },
    {
      "cell_type": "markdown",
      "metadata": {
        "id": "sXV3qGPRZ6LT",
        "colab_type": "text"
      },
      "source": [
        "so whats the difference btw `method` and `function`?\n",
        "\n",
        "`self` is just a convention, we can use `this`, `apna` or any other keyword but it is better to just follow the convention so that others can follow your work"
      ]
    },
    {
      "cell_type": "code",
      "metadata": {
        "id": "-2mi-r8WSYFK",
        "colab_type": "code",
        "colab": {}
      },
      "source": [
        "class Insan:\n",
        "    def say_salam(apna):\n",
        "        print(\"Salam, I am \" + apna.name)\n",
        "\n",
        "    \n",
        "ali = Insan()\n",
        "ali.name = 'Ali'  # define an attribute of instance ali\n",
        "ali.say_salam()"
      ],
      "execution_count": 0,
      "outputs": []
    },
    {
      "cell_type": "markdown",
      "metadata": {
        "id": "Pacf9rifaXj5",
        "colab_type": "text"
      },
      "source": [
        "As said earlier, defining class attributes outside class is not proper way. We need the class `Insan` to have the attribute `name` before using the method `say_salam`. So we need a systematic way that the class, upon its creation (initialization) must have the attribuite `name`. This is done with `init` method, which we will learn in next lesson."
      ]
    }
  ]
}