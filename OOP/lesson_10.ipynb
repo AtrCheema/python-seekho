{
  "nbformat": 4,
  "nbformat_minor": 0,
  "metadata": {
    "colab": {
      "name": "lesson_10.ipynb",
      "provenance": [],
      "collapsed_sections": [],
      "authorship_tag": "ABX9TyN3rqoIuKYuQDjddtJyVXRO",
      "include_colab_link": true
    },
    "kernelspec": {
      "name": "python3",
      "display_name": "Python 3"
    }
  },
  "cells": [
    {
      "cell_type": "markdown",
      "metadata": {
        "id": "view-in-github",
        "colab_type": "text"
      },
      "source": [
        "<a href=\"https://colab.research.google.com/github/AtrCheema/python-courses/blob/master/OOP/lesson_10.ipynb\" target=\"_parent\"><img src=\"https://colab.research.google.com/assets/colab-badge.svg\" alt=\"Open In Colab\"/></a>"
      ]
    },
    {
      "cell_type": "markdown",
      "metadata": {
        "id": "v7n6zY7Y-e4M",
        "colab_type": "text"
      },
      "source": [
        "# class methods\n",
        "\n",
        "In previous section we saw that we can make a method linked to class by removing the keyword `self` from its input arguments and in this way we can call this method from class such as `ClassName.MethodName()`. \n"
      ]
    },
    {
      "cell_type": "code",
      "metadata": {
        "colab_type": "code",
        "outputId": "dbbdc217-6d9f-45d5-ef54-0ffa54096167",
        "id": "hgfiTAZKW7hU",
        "colab": {
          "base_uri": "https://localhost:8080/",
          "height": 35
        }
      },
      "source": [
        "class Insan:\n",
        "    __counter = 0\n",
        "    \n",
        "    def __init__(self):\n",
        "        type(self).__counter += 1\n",
        "        \n",
        "    def PopulationCount():\n",
        "        return Insan.__counter\n",
        "\n",
        "Insan.PopulationCount()"
      ],
      "execution_count": 1,
      "outputs": [
        {
          "output_type": "execute_result",
          "data": {
            "text/plain": [
              "0"
            ]
          },
          "metadata": {
            "tags": []
          },
          "execution_count": 1
        }
      ]
    },
    {
      "cell_type": "markdown",
      "metadata": {
        "id": "Ta75i7TmlefL",
        "colab_type": "text"
      },
      "source": [
        "Let's say, we also want to count male population, then we can add another static method as follows:"
      ]
    },
    {
      "cell_type": "code",
      "metadata": {
        "id": "Srlu8THuW8S0",
        "colab_type": "code",
        "colab": {
          "base_uri": "https://localhost:8080/",
          "height": 35
        },
        "outputId": "e2347708-364f-49c5-b08f-e25b9f137698"
      },
      "source": [
        "class Insan:\n",
        "    __counter = 0\n",
        "    __MaleCounter = 0\n",
        "    \n",
        "    def __init__(self, gender):\n",
        "        if gender=='male':\n",
        "            type(self).__MaleCounter +=1\n",
        "\n",
        "        type(self).__counter += 1\n",
        "    \n",
        "    @staticmethod\n",
        "    def PopulationCount():\n",
        "        return Insan.__counter\n",
        "    \n",
        "    @staticmethod\n",
        "    def MaleCount():\n",
        "        return Insan.__MaleCounter\n",
        "\n",
        "ali = Insan('male')\n",
        "fatima = Insan('female')\n",
        "\n",
        "Insan.PopulationCount()"
      ],
      "execution_count": 2,
      "outputs": [
        {
          "output_type": "execute_result",
          "data": {
            "text/plain": [
              "2"
            ]
          },
          "metadata": {
            "tags": []
          },
          "execution_count": 2
        }
      ]
    },
    {
      "cell_type": "code",
      "metadata": {
        "id": "RemA6rpHYFXc",
        "colab_type": "code",
        "colab": {
          "base_uri": "https://localhost:8080/",
          "height": 35
        },
        "outputId": "dc82a13f-7bc8-4288-fed6-28503a6aa1c3"
      },
      "source": [
        "Insan.MaleCount()"
      ],
      "execution_count": 3,
      "outputs": [
        {
          "output_type": "execute_result",
          "data": {
            "text/plain": [
              "1"
            ]
          },
          "metadata": {
            "tags": []
          },
          "execution_count": 3
        }
      ]
    },
    {
      "cell_type": "markdown",
      "metadata": {
        "id": "Y6dc6yGCYTa-",
        "colab_type": "text"
      },
      "source": [
        "If we want to now add female counter in above class, one way of doing it is to indirectly calculating it from total counter and male counter as follows"
      ]
    },
    {
      "cell_type": "code",
      "metadata": {
        "id": "oD9oKLHUYKHj",
        "colab_type": "code",
        "colab": {
          "base_uri": "https://localhost:8080/",
          "height": 72
        },
        "outputId": "4f673f08-49b6-4a99-eca5-ec96b033be45"
      },
      "source": [
        "class Insan:\n",
        "    __counter = 0\n",
        "    __MaleCounter = 0\n",
        "    \n",
        "    def __init__(self, gender):\n",
        "        if gender=='male':\n",
        "            type(self).__MaleCounter +=1\n",
        "\n",
        "        type(self).__counter += 1\n",
        "    \n",
        "    @staticmethod\n",
        "    def PopulationCount():\n",
        "        return Insan.__counter\n",
        "    \n",
        "    @staticmethod\n",
        "    def MaleCount():\n",
        "        return Insan.__MaleCounter\n",
        "    \n",
        "    def FemaleCount():\n",
        "        return Insan.__counter - Insan.__MaleCounter\n",
        "\n",
        "ali = Insan('male')\n",
        "fatima = Insan('female')\n",
        "\n",
        "print(Insan.PopulationCount())\n",
        "print(Insan.MaleCount())\n",
        "Insan.FemaleCount()"
      ],
      "execution_count": 4,
      "outputs": [
        {
          "output_type": "stream",
          "text": [
            "2\n",
            "1\n"
          ],
          "name": "stdout"
        },
        {
          "output_type": "execute_result",
          "data": {
            "text/plain": [
              "1"
            ]
          },
          "metadata": {
            "tags": []
          },
          "execution_count": 4
        }
      ]
    },
    {
      "cell_type": "markdown",
      "metadata": {
        "id": "_FHc2vGLaxQx",
        "colab_type": "text"
      },
      "source": [
        "Another way of achieving this is to use the decorator `@classmethod`. The use of this decorator makes sure that when we call this method, the first default implicit argument, that python provides to this method is the class itself. Thus we can make use of some static methods of the class without initializing the class"
      ]
    },
    {
      "cell_type": "code",
      "metadata": {
        "id": "P1xQ_8s5YvRq",
        "colab_type": "code",
        "colab": {
          "base_uri": "https://localhost:8080/",
          "height": 72
        },
        "outputId": "db468593-8c56-4961-cda7-c7a0288d8ace"
      },
      "source": [
        "class Insan:\n",
        "    __counter = 0\n",
        "    __MaleCounter = 0\n",
        "    \n",
        "    def __init__(self, gender):\n",
        "        if gender=='male':\n",
        "            type(self).__MaleCounter +=1\n",
        "\n",
        "        type(self).__counter += 1\n",
        "    \n",
        "    @staticmethod\n",
        "    def PopulationCount():\n",
        "        return Insan.__counter\n",
        "    \n",
        "    @staticmethod\n",
        "    def MaleCount():\n",
        "        return Insan.__MaleCounter\n",
        "    \n",
        "    @classmethod\n",
        "    def FemaleCount(cls):\n",
        "        return cls.__counter - cls.__MaleCounter\n",
        "\n",
        "ali = Insan('male')\n",
        "fatima = Insan('female')\n",
        "zeinab = Insan('female')\n",
        "\n",
        "print(Insan.PopulationCount())\n",
        "print(Insan.MaleCount())\n",
        "Insan.FemaleCount()"
      ],
      "execution_count": 5,
      "outputs": [
        {
          "output_type": "stream",
          "text": [
            "3\n",
            "1\n"
          ],
          "name": "stdout"
        },
        {
          "output_type": "execute_result",
          "data": {
            "text/plain": [
              "2"
            ]
          },
          "metadata": {
            "tags": []
          },
          "execution_count": 5
        }
      ]
    },
    {
      "cell_type": "markdown",
      "metadata": {
        "id": "AK5HhBImbJAJ",
        "colab_type": "text"
      },
      "source": [
        "So until here class methods are behaving same as static methods in addition to that we can access other static methods of the class. It may not make a lot of sense but we will come to such use of class method once we cover `inheritance`. Now Consider the following example:"
      ]
    },
    {
      "cell_type": "code",
      "metadata": {
        "id": "B78N9_RFduqX",
        "colab_type": "code",
        "colab": {
          "base_uri": "https://localhost:8080/",
          "height": 35
        },
        "outputId": "cc0975be-8ca6-4f0f-8717-0c739b258d19"
      },
      "source": [
        "class Student(object):\n",
        "\n",
        "    def __init__(self, name, age):\n",
        "        self.name = name\n",
        "        self.age = age\n",
        "\n",
        "ali = Student('ali', 12)\n",
        "print(type(ali))"
      ],
      "execution_count": 6,
      "outputs": [
        {
          "output_type": "stream",
          "text": [
            "<class '__main__.Student'>\n"
          ],
          "name": "stdout"
        }
      ]
    },
    {
      "cell_type": "markdown",
      "metadata": {
        "id": "MS4mnA4Ud5ue",
        "colab_type": "text"
      },
      "source": [
        "But let's say, for a particular student we don't know his/her age but we know the birth year. Thus we would like to build the class from birth year directly as well."
      ]
    },
    {
      "cell_type": "code",
      "metadata": {
        "id": "n4hEsx6QZUwa",
        "colab_type": "code",
        "colab": {
          "base_uri": "https://localhost:8080/",
          "height": 35
        },
        "outputId": "8865c606-7914-4be8-a50c-58bc86d9b0ff"
      },
      "source": [
        "import datetime\n",
        "\n",
        "class Student(object):\n",
        "\n",
        "    def __init__(self, name, age):\n",
        "        self.name = name\n",
        "        self.age = age\n",
        "\n",
        "    @classmethod\n",
        "    def fromBirthYear(cls, name, BirthYear):\n",
        "\n",
        "        current_year = datetime.date.today().year\n",
        "        age = current_year - BirthYear\n",
        "        return cls(name, age)\n",
        "\n",
        "ali = Student('ali', 12)\n",
        "print(type(ali))"
      ],
      "execution_count": 7,
      "outputs": [
        {
          "output_type": "stream",
          "text": [
            "<class '__main__.Student'>\n"
          ],
          "name": "stdout"
        }
      ]
    },
    {
      "cell_type": "code",
      "metadata": {
        "id": "lMeo37i7cQ93",
        "colab_type": "code",
        "colab": {
          "base_uri": "https://localhost:8080/",
          "height": 54
        },
        "outputId": "c18592ea-b07e-4da2-caa5-e6b60687e46b"
      },
      "source": [
        "hasan = Student.fromBirthYear('hasan', 1997)\n",
        "print(type(hasan))\n",
        "\n",
        "print(hasan.age)"
      ],
      "execution_count": 8,
      "outputs": [
        {
          "output_type": "stream",
          "text": [
            "<class '__main__.Student'>\n",
            "23\n"
          ],
          "name": "stdout"
        }
      ]
    },
    {
      "cell_type": "markdown",
      "metadata": {
        "id": "4OXu2sQ6daQX",
        "colab_type": "text"
      },
      "source": [
        "Thus we used the `class method` to build/initiate the class from birth year.\n",
        "\n",
        "We could have performed the conversion of `BirthYear` to `age` outside the class as well but this way provides a more user friendly interface of the class and the code is more organized."
      ]
    }
  ]
}