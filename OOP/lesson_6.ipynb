{
  "nbformat": 4,
  "nbformat_minor": 0,
  "metadata": {
    "colab": {
      "name": "lesson_6.ipynb",
      "provenance": [],
      "collapsed_sections": [],
      "authorship_tag": "ABX9TyP+lT16UiWy+crrKK85sng9",
      "include_colab_link": true
    },
    "kernelspec": {
      "name": "python3",
      "display_name": "Python 3"
    }
  },
  "cells": [
    {
      "cell_type": "markdown",
      "metadata": {
        "id": "view-in-github",
        "colab_type": "text"
      },
      "source": [
        "<a href=\"https://colab.research.google.com/github/AtrCheema/oop_python_urdu/blob/master/chap_1/lesson_6.ipynb\" target=\"_parent\"><img src=\"https://colab.research.google.com/assets/colab-badge.svg\" alt=\"Open In Colab\"/></a>"
      ]
    },
    {
      "cell_type": "markdown",
      "metadata": {
        "id": "v7n6zY7Y-e4M",
        "colab_type": "text"
      },
      "source": [
        "# `__str__` vs `__repr__` methods\n",
        "\n",
        "## Default behaviour\n",
        "Unless we overwrite the default method, for most classes the default output does not mean something usefull."
      ]
    },
    {
      "cell_type": "code",
      "metadata": {
        "id": "xeWCeR3uolIo",
        "colab_type": "code",
        "colab": {
          "base_uri": "https://localhost:8080/",
          "height": 52
        },
        "outputId": "5fc812fe-8c02-4cc3-cabc-3172d2b4c653"
      },
      "source": [
        "class Insan(object):\n",
        "    pass\n",
        "\n",
        "ali = Insan\n",
        "\n",
        "print(str(ali))\n",
        "repr(ali)"
      ],
      "execution_count": 1,
      "outputs": [
        {
          "output_type": "stream",
          "text": [
            "<class '__main__.Insan'>\n"
          ],
          "name": "stdout"
        },
        {
          "output_type": "execute_result",
          "data": {
            "text/plain": [
              "\"<class '__main__.Insan'>\""
            ]
          },
          "metadata": {
            "tags": []
          },
          "execution_count": 1
        }
      ]
    },
    {
      "cell_type": "markdown",
      "metadata": {
        "id": "AVlLJCbf9Ji-",
        "colab_type": "text"
      },
      "source": [
        "If a class does not have explicit definition of `str` or `repr` methods, python will used the default output."
      ]
    },
    {
      "cell_type": "code",
      "metadata": {
        "id": "a1DiNkax38ZE",
        "colab_type": "code",
        "colab": {
          "base_uri": "https://localhost:8080/",
          "height": 34
        },
        "outputId": "1b2808ad-4cc5-43d5-b1bb-7c488fbf1551"
      },
      "source": [
        "name = 4\n",
        "\n",
        "str(name)"
      ],
      "execution_count": 2,
      "outputs": [
        {
          "output_type": "execute_result",
          "data": {
            "text/plain": [
              "'4'"
            ]
          },
          "metadata": {
            "tags": []
          },
          "execution_count": 2
        }
      ]
    },
    {
      "cell_type": "code",
      "metadata": {
        "id": "oREUuEf__AZY",
        "colab_type": "code",
        "colab": {
          "base_uri": "https://localhost:8080/",
          "height": 34
        },
        "outputId": "692bbb65-3288-4f69-887f-403a9c321319"
      },
      "source": [
        "repr(name)"
      ],
      "execution_count": 3,
      "outputs": [
        {
          "output_type": "execute_result",
          "data": {
            "text/plain": [
              "'4'"
            ]
          },
          "metadata": {
            "tags": []
          },
          "execution_count": 3
        }
      ]
    },
    {
      "cell_type": "markdown",
      "metadata": {
        "id": "egfOhg0g6j7W",
        "colab_type": "text"
      },
      "source": [
        "`name` belongs to class `int` and this class has `str` and `repr` methods so python did not give default output rather used the methods from `int` class.\n",
        "\n",
        "but untill here we see no apparent difference.\n",
        "\n",
        "## Overwriting\n",
        "\n",
        "If we override one of the two methdos:"
      ]
    },
    {
      "cell_type": "code",
      "metadata": {
        "id": "2C_fI8OK6vyd",
        "colab_type": "code",
        "colab": {
          "base_uri": "https://localhost:8080/",
          "height": 34
        },
        "outputId": "3bc93684-e48d-4e84-f7f7-e52c4cd88dd7"
      },
      "source": [
        "class Insan(object):\n",
        "\n",
        "    def __str__(object):\n",
        "        return \"Insan class\"\n",
        "\n",
        "ali = Insan()\n",
        "str(ali)"
      ],
      "execution_count": 4,
      "outputs": [
        {
          "output_type": "execute_result",
          "data": {
            "text/plain": [
              "'Insan class'"
            ]
          },
          "metadata": {
            "tags": []
          },
          "execution_count": 4
        }
      ]
    },
    {
      "cell_type": "code",
      "metadata": {
        "id": "P_cvQMKY7CSn",
        "colab_type": "code",
        "colab": {
          "base_uri": "https://localhost:8080/",
          "height": 34
        },
        "outputId": "82021dda-973a-4b00-a20a-15d5b403b55e"
      },
      "source": [
        "repr(ali)"
      ],
      "execution_count": 5,
      "outputs": [
        {
          "output_type": "execute_result",
          "data": {
            "text/plain": [
              "'<__main__.Insan object at 0x7f7eccc58eb8>'"
            ]
          },
          "metadata": {
            "tags": []
          },
          "execution_count": 5
        }
      ]
    },
    {
      "cell_type": "code",
      "metadata": {
        "id": "b8qH3wlm7EJm",
        "colab_type": "code",
        "colab": {
          "base_uri": "https://localhost:8080/",
          "height": 34
        },
        "outputId": "9d094250-51f6-49c5-ddcb-3f62991fdf98"
      },
      "source": [
        "class Insan(object):\n",
        "\n",
        "    def __repr__(object):\n",
        "        return \"Insan class\"\n",
        "\n",
        "ali = Insan()\n",
        "str(ali)"
      ],
      "execution_count": 6,
      "outputs": [
        {
          "output_type": "execute_result",
          "data": {
            "text/plain": [
              "'Insan class'"
            ]
          },
          "metadata": {
            "tags": []
          },
          "execution_count": 6
        }
      ]
    },
    {
      "cell_type": "code",
      "metadata": {
        "id": "boLaPiMj7HrO",
        "colab_type": "code",
        "colab": {
          "base_uri": "https://localhost:8080/",
          "height": 34
        },
        "outputId": "94db4f2c-897b-414e-98c3-73bfcb333a9f"
      },
      "source": [
        "repr(ali)"
      ],
      "execution_count": 7,
      "outputs": [
        {
          "output_type": "execute_result",
          "data": {
            "text/plain": [
              "'Insan class'"
            ]
          },
          "metadata": {
            "tags": []
          },
          "execution_count": 7
        }
      ]
    },
    {
      "cell_type": "markdown",
      "metadata": {
        "id": "V6lUJLuz8XDN",
        "colab_type": "text"
      },
      "source": [
        "So if we overwrite `repr` method, `str` is also overwritten (second case) but if we only overwrite `str` method, `repr` will not be overwritten unless we do it explicitly (first case).\n",
        "\n",
        "## `__str__` is readable and `__repr__` is unambigous\n",
        "\n",
        "Usually the purpose of `str` method to to give a readable output while that of `repr` is give an unambiguous output. \n",
        "\n",
        "consider the following example."
      ]
    },
    {
      "cell_type": "code",
      "metadata": {
        "id": "ARhS5SNi7Jsa",
        "colab_type": "code",
        "colab": {
          "base_uri": "https://localhost:8080/",
          "height": 34
        },
        "outputId": "c66db069-dc3e-4cd8-bc3c-157c47603646"
      },
      "source": [
        "name = 'ali'\n",
        "\n",
        "repr(name)"
      ],
      "execution_count": 8,
      "outputs": [
        {
          "output_type": "execute_result",
          "data": {
            "text/plain": [
              "\"'ali'\""
            ]
          },
          "metadata": {
            "tags": []
          },
          "execution_count": 8
        }
      ]
    },
    {
      "cell_type": "code",
      "metadata": {
        "id": "_5qzPMnd_KkB",
        "colab_type": "code",
        "colab": {
          "base_uri": "https://localhost:8080/",
          "height": 34
        },
        "outputId": "f6cfe7b1-71c9-4427-9061-bd429346ea84"
      },
      "source": [
        "name2 = eval(repr(name))\n",
        "\n",
        "name2 == name"
      ],
      "execution_count": 9,
      "outputs": [
        {
          "output_type": "execute_result",
          "data": {
            "text/plain": [
              "True"
            ]
          },
          "metadata": {
            "tags": []
          },
          "execution_count": 9
        }
      ]
    },
    {
      "cell_type": "code",
      "metadata": {
        "id": "ZufGlLdO_RyO",
        "colab_type": "code",
        "colab": {
          "base_uri": "https://localhost:8080/",
          "height": 34
        },
        "outputId": "97ccd2ad-d046-4b4f-c836-24151f76d5c1"
      },
      "source": [
        "name3 = eval(str(name))\n",
        "\n",
        "name3 == name"
      ],
      "execution_count": 10,
      "outputs": [
        {
          "output_type": "execute_result",
          "data": {
            "text/plain": [
              "False"
            ]
          },
          "metadata": {
            "tags": []
          },
          "execution_count": 10
        }
      ]
    },
    {
      "cell_type": "markdown",
      "metadata": {
        "id": "RVG7XoP-_fyS",
        "colab_type": "text"
      },
      "source": [
        "`repr` is such a representation of an object that by evaluating it (by using `eval`) it will return back the object. `type(name)` and `type(name2)` will be same.  This is why `name` and `name2` were same.  While `str` gives such a representation of an object which is for better reading purpose. \n",
        "\n"
      ]
    },
    {
      "cell_type": "code",
      "metadata": {
        "id": "PXttpQqABgqC",
        "colab_type": "code",
        "colab": {
          "base_uri": "https://localhost:8080/",
          "height": 34
        },
        "outputId": "b172398f-ee5a-4f29-f402-878ae3023268"
      },
      "source": [
        "type(name), type(name2)"
      ],
      "execution_count": 11,
      "outputs": [
        {
          "output_type": "execute_result",
          "data": {
            "text/plain": [
              "(str, str)"
            ]
          },
          "metadata": {
            "tags": []
          },
          "execution_count": 11
        }
      ]
    },
    {
      "cell_type": "code",
      "metadata": {
        "id": "TXa-mlWLBmJl",
        "colab_type": "code",
        "colab": {
          "base_uri": "https://localhost:8080/",
          "height": 34
        },
        "outputId": "1b54c306-7b6c-4946-b98f-a9fe8723284a"
      },
      "source": [
        "type(name3)"
      ],
      "execution_count": 12,
      "outputs": [
        {
          "output_type": "execute_result",
          "data": {
            "text/plain": [
              "__main__.Insan"
            ]
          },
          "metadata": {
            "tags": []
          },
          "execution_count": 12
        }
      ]
    },
    {
      "cell_type": "code",
      "metadata": {
        "id": "9UV20MplDbzh",
        "colab_type": "code",
        "colab": {
          "base_uri": "https://localhost:8080/",
          "height": 87
        },
        "outputId": "4453af92-0ae5-45d6-b5a5-ea7c8f90ad36"
      },
      "source": [
        "class Revolution:\n",
        "\n",
        "    def __init__(self, name, dob):\n",
        "        self.name = name\n",
        "        self.dob = dob\n",
        "\n",
        "    def __repr__(self):\n",
        "        return \"Revolution('\" + self.name + \"', \" +  str(self.dob) +  \")\"\n",
        "\n",
        "    # def __str__(self):\n",
        "    #     return \"Revolution('\" + self.name + \"', \" +  str(self.dob) +  \")\"\n",
        "\n",
        "x = Revolution(\"Eslami\", 1979)\n",
        "\n",
        "x_str = str(x)\n",
        "print(x_str)\n",
        "print(\"Type of x_str: \", type(x_str))\n",
        "new = eval(x_str) \n",
        "print(new)\n",
        "print(\"Type of new:\", type(new))"
      ],
      "execution_count": 13,
      "outputs": [
        {
          "output_type": "stream",
          "text": [
            "Revolution('Eslami', 1979)\n",
            "Type of x_str:  <class 'str'>\n",
            "Revolution('Eslami', 1979)\n",
            "Type of new: <class '__main__.Revolution'>\n"
          ],
          "name": "stdout"
        }
      ]
    },
    {
      "cell_type": "markdown",
      "metadata": {
        "id": "d2cRWM42BZbz",
        "colab_type": "text"
      },
      "source": [
        "So we only overwrote `repr`, but `str` also gave same output as that of `repr`. Moreover check the types of `str` and `repr`.\n"
      ]
    },
    {
      "cell_type": "markdown",
      "metadata": {
        "id": "Ks_kn6oNJdeg",
        "colab_type": "text"
      },
      "source": [
        "In above case we were able to evaluate `str` represenation of `name` but in some cases even this may not be possible as in following case:"
      ]
    },
    {
      "cell_type": "code",
      "metadata": {
        "id": "k2RfDADOJbhH",
        "colab_type": "code",
        "colab": {
          "base_uri": "https://localhost:8080/",
          "height": 52
        },
        "outputId": "da5e0ef1-d02e-49b5-af3f-d3b99f8f5d7d"
      },
      "source": [
        "class Revolution:\n",
        "\n",
        "    def __init__(self, name, build_year):\n",
        "        self.name = name\n",
        "        self.build_year = build_year\n",
        "\n",
        "    def __repr__(self):\n",
        "        return \"Revolution('\" + self.name + \"', \" +  str(self.build_year) +  \")\"\n",
        "\n",
        "    def __str__(self):\n",
        "        return \"Name: \" + self.name + \", took place in Year: \" +  str(self.build_year)\n",
        "     \n",
        "\n",
        "x = Revolution(\"Eslami\", 1979)\n",
        "    \n",
        "x_str = str(x)\n",
        "print(x_str)\n",
        "print(\"Type of x_str: \", type(x_str))\n"
      ],
      "execution_count": 14,
      "outputs": [
        {
          "output_type": "stream",
          "text": [
            "Name: Eslami, took place in Year: 1979\n",
            "Type of x_str:  <class 'str'>\n"
          ],
          "name": "stdout"
        }
      ]
    },
    {
      "cell_type": "code",
      "metadata": {
        "id": "B3m2BcuHKgL5",
        "colab_type": "code",
        "colab": {
          "base_uri": "https://localhost:8080/",
          "height": 134
        },
        "outputId": "45c55255-8c87-41af-84d5-95984e68a9f8"
      },
      "source": [
        "new = eval(x_str)"
      ],
      "execution_count": 15,
      "outputs": [
        {
          "output_type": "error",
          "ename": "SyntaxError",
          "evalue": "ignored",
          "traceback": [
            "\u001b[0;36m  File \u001b[0;32m\"<string>\"\u001b[0;36m, line \u001b[0;32m1\u001b[0m\n\u001b[0;31m    Name: Eslami, took place in Year: 1979\u001b[0m\n\u001b[0m        ^\u001b[0m\n\u001b[0;31mSyntaxError\u001b[0m\u001b[0;31m:\u001b[0m invalid syntax\n"
          ]
        }
      ]
    },
    {
      "cell_type": "code",
      "metadata": {
        "id": "dXCWyFF8Tv8E",
        "colab_type": "code",
        "colab": {
          "base_uri": "https://localhost:8080/",
          "height": 34
        },
        "cellView": "both",
        "outputId": "2e42985d-a225-4eda-ff9b-a5aa25773a42"
      },
      "source": [
        "x_repr = repr(x)\n",
        "new = eval(x_repr)\n",
        "print(new)"
      ],
      "execution_count": 16,
      "outputs": [
        {
          "output_type": "stream",
          "text": [
            "Name: Eslami, took place in Year: 1979\n"
          ],
          "name": "stdout"
        }
      ]
    },
    {
      "cell_type": "markdown",
      "metadata": {
        "id": "6xCxtxiMKr_W",
        "colab_type": "text"
      },
      "source": [
        "Consider another example where `str` output can not be evaluated"
      ]
    },
    {
      "cell_type": "code",
      "metadata": {
        "id": "bCkiFse2_d-W",
        "colab_type": "code",
        "colab": {
          "base_uri": "https://localhost:8080/",
          "height": 34
        },
        "outputId": "45d071b6-3f81-4bd0-d765-13a50724a7f5"
      },
      "source": [
        "import datetime\n",
        "aaj = datetime.datetime.now()\n",
        "aaj_str = str(aaj)\n",
        "aaj_str\n"
      ],
      "execution_count": 17,
      "outputs": [
        {
          "output_type": "execute_result",
          "data": {
            "text/plain": [
              "'2020-03-12 06:37:30.302516'"
            ]
          },
          "metadata": {
            "tags": []
          },
          "execution_count": 17
        }
      ]
    },
    {
      "cell_type": "code",
      "metadata": {
        "id": "fSoWoJNpByoM",
        "colab_type": "code",
        "colab": {
          "base_uri": "https://localhost:8080/",
          "height": 34
        },
        "outputId": "11bbc48c-379d-44a0-ff38-996dce394f52"
      },
      "source": [
        "aaj_repr = repr(aaj)\n",
        "aaj_repr"
      ],
      "execution_count": 18,
      "outputs": [
        {
          "output_type": "execute_result",
          "data": {
            "text/plain": [
              "'datetime.datetime(2020, 3, 12, 6, 37, 30, 302516)'"
            ]
          },
          "metadata": {
            "tags": []
          },
          "execution_count": 18
        }
      ]
    },
    {
      "cell_type": "code",
      "metadata": {
        "id": "25WeE62KB9Hi",
        "colab_type": "code",
        "colab": {
          "base_uri": "https://localhost:8080/",
          "height": 134
        },
        "outputId": "d9a396d5-727f-4910-b675-359e903baeee"
      },
      "source": [
        "eval(aaj_str)"
      ],
      "execution_count": 19,
      "outputs": [
        {
          "output_type": "error",
          "ename": "SyntaxError",
          "evalue": "ignored",
          "traceback": [
            "\u001b[0;36m  File \u001b[0;32m\"<string>\"\u001b[0;36m, line \u001b[0;32m1\u001b[0m\n\u001b[0;31m    2020-03-12 06:37:30.302516\u001b[0m\n\u001b[0m          ^\u001b[0m\n\u001b[0;31mSyntaxError\u001b[0m\u001b[0;31m:\u001b[0m invalid token\n"
          ]
        }
      ]
    },
    {
      "cell_type": "code",
      "metadata": {
        "id": "VhNzjPNyAoWH",
        "colab_type": "code",
        "colab": {
          "base_uri": "https://localhost:8080/",
          "height": 34
        },
        "outputId": "2094fc67-b58a-4619-db55-7808dd894e4a"
      },
      "source": [
        "eval(aaj_repr)"
      ],
      "execution_count": 20,
      "outputs": [
        {
          "output_type": "execute_result",
          "data": {
            "text/plain": [
              "datetime.datetime(2020, 3, 12, 6, 37, 30, 302516)"
            ]
          },
          "metadata": {
            "tags": []
          },
          "execution_count": 20
        }
      ]
    },
    {
      "cell_type": "markdown",
      "metadata": {
        "id": "Q9hH3LNJA1Uy",
        "colab_type": "text"
      },
      "source": [
        "So `repr` is a pure pythonic representation of an object which can be evaluated while `str` is for reading purpose.  "
      ]
    }
  ]
}