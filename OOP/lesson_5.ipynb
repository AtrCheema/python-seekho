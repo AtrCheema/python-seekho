{
  "nbformat": 4,
  "nbformat_minor": 0,
  "metadata": {
    "colab": {
      "name": "lesson_5.ipynb",
      "provenance": [],
      "collapsed_sections": [],
      "authorship_tag": "ABX9TyPPYJXzaZy9zG6tN4aOw5k+",
      "include_colab_link": true
    },
    "kernelspec": {
      "name": "python3",
      "display_name": "Python 3"
    }
  },
  "cells": [
    {
      "cell_type": "markdown",
      "metadata": {
        "id": "view-in-github",
        "colab_type": "text"
      },
      "source": [
        "<a href=\"https://colab.research.google.com/github/AtrCheema/oop_python_urdu/blob/master/chap_1/lesson_5.ipynb\" target=\"_parent\"><img src=\"https://colab.research.google.com/assets/colab-badge.svg\" alt=\"Open In Colab\"/></a>"
      ]
    },
    {
      "cell_type": "markdown",
      "metadata": {
        "id": "v7n6zY7Y-e4M",
        "colab_type": "text"
      },
      "source": [
        "# `init` Method\n",
        "This method is used to define the attributes of a class which we want that class to have right upon its creation.\n",
        "\n",
        "This means the code in `init` method is executed at the time of creation of an instance of class.\n",
        "\n",
        "Thus we use `init` method to initiazlize the class, hence name `init`.\n",
        "\n",
        "It can be anywhere inisde class but convention is to put it at the top inside a class."
      ]
    },
    {
      "cell_type": "code",
      "metadata": {
        "id": "xeWCeR3uolIo",
        "colab_type": "code",
        "colab": {}
      },
      "source": [
        "class Insan:\n",
        "    def __init__(self):\n",
        "        self.legs = '2 legs'\n",
        "        print(\"__init__ method inside class is being executed!\")"
      ],
      "execution_count": 0,
      "outputs": []
    },
    {
      "cell_type": "code",
      "metadata": {
        "id": "a1DiNkax38ZE",
        "colab_type": "code",
        "colab": {}
      },
      "source": [
        "x = Insan() \n",
        "x.legs"
      ],
      "execution_count": 0,
      "outputs": []
    },
    {
      "cell_type": "markdown",
      "metadata": {
        "id": "HKEw8ra0K-OI",
        "colab_type": "text"
      },
      "source": [
        "we see that although we only created an instance of class (we call it initialization of an instance as well) and the code inside init method (we don't use the word function for it anymore) got executed.\n",
        "\n",
        "The proper way to add `taruf` method to our Insan class is:"
      ]
    },
    {
      "cell_type": "code",
      "metadata": {
        "id": "dDpPNEHNLF__",
        "colab_type": "code",
        "colab": {}
      },
      "source": [
        "class Insan:\n",
        " \n",
        "    def __init__(self, name=None, legs='2 legs'):\n",
        "        self.name = name   \n",
        "        self.legs = legs\n",
        "        \n",
        "    def taruf(self):\n",
        "        if self.name:\n",
        "            print(\"Salam, I am \" + self.name + ' and I have ' + self.legs)\n",
        "        else:\n",
        "            print(\"Salam, I am a Insan but my name has not yed been defined\"+ ' and I have ' + self.legs)"
      ],
      "execution_count": 0,
      "outputs": []
    },
    {
      "cell_type": "code",
      "metadata": {
        "id": "GCx77fn14LRi",
        "colab_type": "code",
        "colab": {}
      },
      "source": [
        "x = Insan()\n",
        "x.taruf()  # >> Salam, I am an Insan without a name"
      ],
      "execution_count": 0,
      "outputs": []
    },
    {
      "cell_type": "code",
      "metadata": {
        "id": "eHThSik_4ROy",
        "colab_type": "code",
        "colab": {}
      },
      "source": [
        "y = Insan(\"Ali\", legs= '1 leg')\n",
        "y.taruf()  # >> Salam, I am Ali"
      ],
      "execution_count": 0,
      "outputs": []
    },
    {
      "cell_type": "markdown",
      "metadata": {
        "id": "piOr2Y4b4W5r",
        "colab_type": "text"
      },
      "source": [
        "notice how we passed the string `Ali` when we were creating class instance and got it transfered to the method `taruf` without being explicitly doing it.\n",
        "The method `taruf` takes no input arguments (actually it takes one, which it does implicitly) however it prints the value of `name` which we provided to it when we were creating the class instance `y`."
      ]
    },
    {
      "cell_type": "code",
      "metadata": {
        "id": "DRzqTgiO4UND",
        "colab_type": "code",
        "colab": {}
      },
      "source": [
        "# Let's create a new class instance and use a different name\n",
        "y = Insan(\"Hasan\")\n",
        "y.taruf()  # >> Salam, I am Hasan"
      ],
      "execution_count": 0,
      "outputs": []
    },
    {
      "cell_type": "markdown",
      "metadata": {
        "colab_type": "text",
        "id": "m0D3Dx9V6XA_"
      },
      "source": [
        "The attribute `name` is shared by the whole class and can be accessed anywhere in the class by using the word `self` at its start.\n",
        "\n",
        "This is because we initialized it inside `init` method."
      ]
    },
    {
      "cell_type": "code",
      "metadata": {
        "colab_type": "code",
        "id": "CauJydcW6YXN",
        "colab": {}
      },
      "source": [
        "y.name"
      ],
      "execution_count": 0,
      "outputs": []
    },
    {
      "cell_type": "code",
      "metadata": {
        "id": "7WTqRrlz6fzA",
        "colab_type": "code",
        "colab": {}
      },
      "source": [
        "y.legs"
      ],
      "execution_count": 0,
      "outputs": []
    },
    {
      "cell_type": "code",
      "metadata": {
        "id": "1jhSIxeu63FY",
        "colab_type": "code",
        "colab": {}
      },
      "source": [
        "y.__dict__"
      ],
      "execution_count": 0,
      "outputs": []
    }
  ]
}