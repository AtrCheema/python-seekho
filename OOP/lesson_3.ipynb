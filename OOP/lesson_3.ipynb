{
  "nbformat": 4,
  "nbformat_minor": 0,
  "metadata": {
    "colab": {
      "name": "lesson_3.ipynb",
      "provenance": [],
      "collapsed_sections": [],
      "authorship_tag": "ABX9TyNmJ1VHW7yMoQuKPX/P1d0I",
      "include_colab_link": true
    },
    "kernelspec": {
      "name": "python3",
      "display_name": "Python 3"
    }
  },
  "cells": [
    {
      "cell_type": "markdown",
      "metadata": {
        "id": "view-in-github",
        "colab_type": "text"
      },
      "source": [
        "<a href=\"https://colab.research.google.com/github/AtrCheema/oop_python_urdu/blob/master/chap_1/lesson_3.ipynb\" target=\"_parent\"><img src=\"https://colab.research.google.com/assets/colab-badge.svg\" alt=\"Open In Colab\"/></a>"
      ]
    },
    {
      "cell_type": "markdown",
      "metadata": {
        "id": "v7n6zY7Y-e4M",
        "colab_type": "text"
      },
      "source": [
        "### Attributes\n",
        "\n",
        "what is meant by attribute, some specific quality, in python attribute is different than property\n",
        "\n",
        "let's implement some attributes like name, dob etc"
      ]
    },
    {
      "cell_type": "code",
      "metadata": {
        "id": "xeWCeR3uolIo",
        "colab_type": "code",
        "colab": {}
      },
      "source": [
        "class Insan:\n",
        "    pass\n",
        "\n",
        "x = Insan()\n",
        "y = Insan()"
      ],
      "execution_count": 0,
      "outputs": []
    },
    {
      "cell_type": "markdown",
      "metadata": {
        "id": "HKEw8ra0K-OI",
        "colab_type": "text"
      },
      "source": [
        "we have created two objects/instances of class `Insan` namely `x` and `y`.\n",
        "\n",
        "We can bind attributes to class instances as follows:"
      ]
    },
    {
      "cell_type": "code",
      "metadata": {
        "id": "dDpPNEHNLF__",
        "colab_type": "code",
        "colab": {}
      },
      "source": [
        "x.name = \"Ali\"\n",
        "x.dob = \"1601\""
      ],
      "execution_count": 0,
      "outputs": []
    },
    {
      "cell_type": "code",
      "metadata": {
        "id": "E6Hz1l9t8I7K",
        "colab_type": "code",
        "colab": {}
      },
      "source": [
        "y.name = \"Hasan\"\n",
        "y.dob = \"1624\""
      ],
      "execution_count": 0,
      "outputs": []
    },
    {
      "cell_type": "code",
      "metadata": {
        "id": "F3PgQOOO8hrL",
        "colab_type": "code",
        "colab": {}
      },
      "source": [
        "print(x.name)"
      ],
      "execution_count": 0,
      "outputs": []
    },
    {
      "cell_type": "code",
      "metadata": {
        "id": "k1V_65x88pXB",
        "colab_type": "code",
        "colab": {}
      },
      "source": [
        "print(y.dob)"
      ],
      "execution_count": 0,
      "outputs": []
    },
    {
      "cell_type": "markdown",
      "metadata": {
        "id": "nSwdObmOL1h2",
        "colab_type": "text"
      },
      "source": [
        "This is a dynamic way of attribute creation. Usually attributes are built inside the class, which we will learn later.\n",
        "\n",
        "what attributes does the instance `x` has? We can find it out as following"
      ]
    },
    {
      "cell_type": "code",
      "metadata": {
        "id": "cyqgGJowR5yr",
        "colab_type": "code",
        "colab": {}
      },
      "source": [
        "x.__dict__\n",
        "\n",
        "y.__dict__"
      ],
      "execution_count": 0,
      "outputs": []
    },
    {
      "cell_type": "markdown",
      "metadata": {
        "id": "FwYlwW13SIDz",
        "colab_type": "text"
      },
      "source": [
        "attributes can be bound to class names "
      ]
    },
    {
      "cell_type": "code",
      "metadata": {
        "id": "IiRo1q5hR1dR",
        "colab_type": "code",
        "colab": {}
      },
      "source": [
        "class Insan(object):\n",
        "    pass\n",
        "\n",
        "x = Insan()\n",
        "\n",
        "Insan.cast = \"Jat\""
      ],
      "execution_count": 0,
      "outputs": []
    },
    {
      "cell_type": "code",
      "metadata": {
        "id": "c22yMJt2SPw7",
        "colab_type": "code",
        "colab": {}
      },
      "source": [
        "# attribute 'cast' assosicated with instance 'x' currently \n",
        "x.cast"
      ],
      "execution_count": 0,
      "outputs": []
    },
    {
      "cell_type": "code",
      "metadata": {
        "id": "3Q-JRk8USSGb",
        "colab_type": "code",
        "colab": {}
      },
      "source": [
        "# change the attribute cast associated with instance 'x' \n",
        "x.cast = \"cheema\""
      ],
      "execution_count": 0,
      "outputs": []
    },
    {
      "cell_type": "code",
      "metadata": {
        "id": "nYJDzWc2VfEE",
        "colab_type": "code",
        "colab": {}
      },
      "source": [
        "x.cast"
      ],
      "execution_count": 0,
      "outputs": []
    },
    {
      "cell_type": "code",
      "metadata": {
        "id": "_zo7GNitSUFL",
        "colab_type": "code",
        "colab": {}
      },
      "source": [
        "# what is attribute 'cast' associated with class name 'Insan'?\n",
        "Insan.cast  # >>Jat"
      ],
      "execution_count": 0,
      "outputs": []
    },
    {
      "cell_type": "code",
      "metadata": {
        "id": "KR3VZKQMSVJU",
        "colab_type": "code",
        "colab": {}
      },
      "source": [
        "y = Insan()\n",
        "y.cast   # what is attribute 'cast' associated with instance 'y'?"
      ],
      "execution_count": 0,
      "outputs": []
    },
    {
      "cell_type": "markdown",
      "metadata": {
        "id": "sXV3qGPRZ6LT",
        "colab_type": "text"
      },
      "source": [
        "`y` was never assigned an attributed named `cast` still it threw a value, why?\n",
        "\n",
        "Let's make the attribute `cast` associated with `Insan` as `Insaniyat` now"
      ]
    },
    {
      "cell_type": "code",
      "metadata": {
        "id": "-2mi-r8WSYFK",
        "colab_type": "code",
        "colab": {}
      },
      "source": [
        "Insan.cast = \"insaniyat\"  \n",
        "print('y_cast: ', y.cast) \n",
        "print('x_cast: ', x.cast)"
      ],
      "execution_count": 0,
      "outputs": []
    },
    {
      "cell_type": "code",
      "metadata": {
        "id": "pEPYX-s1SaHD",
        "colab_type": "code",
        "colab": {}
      },
      "source": [
        "x.__dict__  "
      ],
      "execution_count": 0,
      "outputs": []
    },
    {
      "cell_type": "code",
      "metadata": {
        "id": "YqgY3jhdScZL",
        "colab_type": "code",
        "colab": {}
      },
      "source": [
        "y.__dict__  \n",
        " "
      ],
      "execution_count": 0,
      "outputs": []
    },
    {
      "cell_type": "markdown",
      "metadata": {
        "id": "Pacf9rifaXj5",
        "colab_type": "text"
      },
      "source": [
        "empty so if we call the attribute `cast` for instance `y`, python will first look into y attributes and if it does not find then it will look into attributes of `Insan`"
      ]
    },
    {
      "cell_type": "code",
      "metadata": {
        "id": "qGOna5g-SelT",
        "colab_type": "code",
        "colab": {}
      },
      "source": [
        "Insan.__dict__  # mappingproxy({'__module__': '__main__', '__weakref__': , '__doc__': None, '__dict__': , 'cast': 'insaniyat'})\n",
        " "
      ],
      "execution_count": 0,
      "outputs": []
    },
    {
      "cell_type": "markdown",
      "metadata": {
        "id": "ilTq5k0gWO-k",
        "colab_type": "text"
      },
      "source": [
        "So even though `y` instance itself does not have an attribute named `cast` so it checked whether the attribute `cast` exists in attributes of class `Insan`? If yes (which is the case) so `y` gets the attribute from `Insan` while `x` already had attribute named `cast` so it did not get attribute from class `Insan`."
      ]
    },
    {
      "cell_type": "markdown",
      "metadata": {
        "id": "mPNSq4EaW7by",
        "colab_type": "text"
      },
      "source": [
        "if we try to get an attribute which is non-existing, we will get an 'AttributeError'"
      ]
    },
    {
      "cell_type": "code",
      "metadata": {
        "id": "Do6I82AtSgg0",
        "colab_type": "code",
        "colab": {}
      },
      "source": [
        "x.age  # >> AttributeError: 'Insan' object has no attribute 'age'"
      ],
      "execution_count": 0,
      "outputs": []
    },
    {
      "cell_type": "markdown",
      "metadata": {
        "id": "MmRij6X5WvOD",
        "colab_type": "text"
      },
      "source": [
        "one way to prevent such error is to provide a default value for the attribute by"
      ]
    },
    {
      "cell_type": "code",
      "metadata": {
        "id": "W7JyeRRFSjuT",
        "colab_type": "code",
        "colab": {}
      },
      "source": [
        "getattr(x, 'age', 90)"
      ],
      "execution_count": 0,
      "outputs": []
    },
    {
      "cell_type": "markdown",
      "metadata": {
        "id": "gtd4WNV8S90z",
        "colab_type": "text"
      },
      "source": [
        "We can bind attributes to function names similarly"
      ]
    },
    {
      "cell_type": "code",
      "metadata": {
        "id": "pazWh3c0SmQU",
        "colab_type": "code",
        "colab": {}
      },
      "source": [
        "def chor(name):\n",
        "    return name+ ' chor hai'\n",
        "\n",
        "chor.age = 61\n",
        "chor.age  # >> 61"
      ],
      "execution_count": 0,
      "outputs": []
    },
    {
      "cell_type": "markdown",
      "metadata": {
        "id": "QVuFhaMmTBkD",
        "colab_type": "text"
      },
      "source": [
        "we can use this trick to count number of function calls"
      ]
    },
    {
      "cell_type": "code",
      "metadata": {
        "id": "vQC9qEFqSuFT",
        "colab_type": "code",
        "colab": {}
      },
      "source": [
        "def chor(name):\n",
        "    chor.no_of_calls = getattr(chor, \"no_of_calls\", 0) + 1 \n",
        "    return name \n",
        "\n",
        "for i in range(10):\n",
        "    chor('nawaz')"
      ],
      "execution_count": 0,
      "outputs": []
    },
    {
      "cell_type": "code",
      "metadata": {
        "id": "0h3ITwzfSvBr",
        "colab_type": "code",
        "colab": {}
      },
      "source": [
        "chor.no_of_calls"
      ],
      "execution_count": 0,
      "outputs": []
    },
    {
      "cell_type": "markdown",
      "metadata": {
        "id": "MnQJrG1rS4QD",
        "colab_type": "text"
      },
      "source": [
        "to properly create class instances we need to define 'methods' in the class body, which we will learn next"
      ]
    }
  ]
}