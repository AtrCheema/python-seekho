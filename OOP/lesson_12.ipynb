{
  "nbformat": 4,
  "nbformat_minor": 0,
  "metadata": {
    "colab": {
      "name": "lesson_12.ipynb",
      "provenance": [],
      "collapsed_sections": [],
      "authorship_tag": "ABX9TyOK9wJ6uCkICZKT7HjowcN0",
      "include_colab_link": true
    },
    "kernelspec": {
      "name": "python3",
      "display_name": "Python 3"
    }
  },
  "cells": [
    {
      "cell_type": "markdown",
      "metadata": {
        "id": "view-in-github",
        "colab_type": "text"
      },
      "source": [
        "<a href=\"https://colab.research.google.com/github/AtrCheema/python-courses/blob/master/OOP/lesson_12.ipynb\" target=\"_parent\"><img src=\"https://colab.research.google.com/assets/colab-badge.svg\" alt=\"Open In Colab\"/></a>"
      ]
    },
    {
      "cell_type": "markdown",
      "metadata": {
        "id": "v7n6zY7Y-e4M",
        "colab_type": "text"
      },
      "source": [
        "# Descriptors\n",
        "\n",
        "Descriptor are another way to control, what happens when a value of an attribute is set or accessed. We do it while making a class with at least one of `__get__`, `__set__` and `__del__` methods."
      ]
    },
    {
      "cell_type": "code",
      "metadata": {
        "id": "sMxwsfKrndNy",
        "colab_type": "code",
        "outputId": "5a2c3bf8-ac97-40f6-813a-a68669d3335a",
        "colab": {
          "base_uri": "https://localhost:8080/",
          "height": 54
        }
      },
      "source": [
        "class MyDescriptor(object):\n",
        "    \"\"\"\n",
        "    Basic descriptor to set and get value.\n",
        "    \"\"\"\n",
        "\n",
        "    def __init__(self, initval=None):\n",
        "        print(\"__init__ of MyDescriptor called with initial value: \", initval)\n",
        "        self.__set__(self, initval)\n",
        "\n",
        "    def __get__(self, instance, owner):\n",
        "        print(instance, owner)\n",
        "        print('Getting  self.val: ', self.val)\n",
        "        return self.val\n",
        "\n",
        "    def __set__(self, instance, value):\n",
        "        print('Setting self.val to ', value)\n",
        "        self.val = value\n",
        "\n",
        "class Model(object):\n",
        "    \n",
        "    temp = MyDescriptor(37)    # Desccriptor is attached at class definition time \n",
        "\n",
        "body = Model()"
      ],
      "execution_count": 1,
      "outputs": [
        {
          "output_type": "stream",
          "text": [
            "__init__ of MyDescriptor called with initial value:  37\n",
            "Setting self.val to  37\n"
          ],
          "name": "stdout"
        }
      ]
    },
    {
      "cell_type": "code",
      "metadata": {
        "id": "SuNEXdFinroh",
        "colab_type": "code",
        "outputId": "2929c327-2ce4-4f8b-88a7-ae17ff4245fe",
        "colab": {
          "base_uri": "https://localhost:8080/",
          "height": 72
        }
      },
      "source": [
        "body.temp    # a function call is hiding here"
      ],
      "execution_count": 2,
      "outputs": [
        {
          "output_type": "stream",
          "text": [
            "<__main__.Model object at 0x7f9945c764e0> <class '__main__.Model'>\n",
            "Getting  self.val:  37\n"
          ],
          "name": "stdout"
        },
        {
          "output_type": "execute_result",
          "data": {
            "text/plain": [
              "37"
            ]
          },
          "metadata": {
            "tags": []
          },
          "execution_count": 2
        }
      ]
    },
    {
      "cell_type": "code",
      "metadata": {
        "id": "iYZ_gdxPnkkz",
        "colab_type": "code",
        "outputId": "69ebcb2b-8760-4d1e-93a1-7e72c21ed856",
        "colab": {
          "base_uri": "https://localhost:8080/",
          "height": 35
        }
      },
      "source": [
        "body.temp = 38 # a function call is hiding here"
      ],
      "execution_count": 3,
      "outputs": [
        {
          "output_type": "stream",
          "text": [
            "Setting self.val to  38\n"
          ],
          "name": "stdout"
        }
      ]
    },
    {
      "cell_type": "code",
      "metadata": {
        "id": "J-pk1u8Qnsj6",
        "colab_type": "code",
        "outputId": "b57bc3cb-f320-4d7b-aa45-b1251c019031",
        "colab": {
          "base_uri": "https://localhost:8080/",
          "height": 72
        }
      },
      "source": [
        "body.temp"
      ],
      "execution_count": 4,
      "outputs": [
        {
          "output_type": "stream",
          "text": [
            "<__main__.Model object at 0x7f9945c764e0> <class '__main__.Model'>\n",
            "Getting  self.val:  38\n"
          ],
          "name": "stdout"
        },
        {
          "output_type": "execute_result",
          "data": {
            "text/plain": [
              "38"
            ]
          },
          "metadata": {
            "tags": []
          },
          "execution_count": 4
        }
      ]
    },
    {
      "cell_type": "markdown",
      "metadata": {
        "id": "vt5kRh0npQ8N",
        "colab_type": "text"
      },
      "source": [
        "Thus we see when we get the value of attribute `temp`, the method `__get__` in `MyDescriptor` gets executed and similarly when we set a value to attribute `temp`, the method `__set__` in `MyDescriptor` gets executed."
      ]
    },
    {
      "cell_type": "markdown",
      "metadata": {
        "id": "t46QQjXUo5ao",
        "colab_type": "text"
      },
      "source": [
        "In `__get__` method, instance is `body` and and owner is `Model`. "
      ]
    },
    {
      "cell_type": "markdown",
      "metadata": {
        "id": "RNBJOmUbvREm",
        "colab_type": "text"
      },
      "source": [
        "If we want to know what attributes are stored in `__dict__` of class and instance, we can do as following"
      ]
    },
    {
      "cell_type": "code",
      "metadata": {
        "id": "836NtMsnqfrB",
        "colab_type": "code",
        "outputId": "dcad8aee-d0b2-4267-bb0e-e1d4d0a54f12",
        "colab": {
          "base_uri": "https://localhost:8080/",
          "height": 35
        }
      },
      "source": [
        "body.__dict__"
      ],
      "execution_count": 5,
      "outputs": [
        {
          "output_type": "execute_result",
          "data": {
            "text/plain": [
              "{}"
            ]
          },
          "metadata": {
            "tags": []
          },
          "execution_count": 5
        }
      ]
    },
    {
      "cell_type": "markdown",
      "metadata": {
        "id": "nAtAJTzsYdMI",
        "colab_type": "text"
      },
      "source": [
        "The `__get__` and `__set__` of descriptor can be applied only on those attributes which are present in `__dict__` of owner class i.e. `Model` in this case."
      ]
    },
    {
      "cell_type": "code",
      "metadata": {
        "id": "oCFPQFFgqkr_",
        "colab_type": "code",
        "outputId": "f658a45a-8c74-4ee2-e0ac-8e9ec3b40744",
        "colab": {
          "base_uri": "https://localhost:8080/",
          "height": 109
        }
      },
      "source": [
        "# alternvative to print(Model.__dict__)\n",
        "for key, val in Model.__dict__.items():\n",
        "    print(key,': ', val)     "
      ],
      "execution_count": 6,
      "outputs": [
        {
          "output_type": "stream",
          "text": [
            "__module__ :  __main__\n",
            "temp :  <__main__.MyDescriptor object at 0x7f9945c76470>\n",
            "__dict__ :  <attribute '__dict__' of 'Model' objects>\n",
            "__weakref__ :  <attribute '__weakref__' of 'Model' objects>\n",
            "__doc__ :  None\n"
          ],
          "name": "stdout"
        }
      ]
    },
    {
      "cell_type": "code",
      "metadata": {
        "id": "YTG0-H3Hq9N8",
        "colab_type": "code",
        "outputId": "097cf134-9bd6-462d-dc2e-7a61316d5164",
        "colab": {
          "base_uri": "https://localhost:8080/",
          "height": 183
        }
      },
      "source": [
        "# alternative to print(MyDescriptor.__dict__)\n",
        "for key, val in MyDescriptor.__dict__.items():\n",
        "    print(key, ': ', val)"
      ],
      "execution_count": 7,
      "outputs": [
        {
          "output_type": "stream",
          "text": [
            "__module__ :  __main__\n",
            "__doc__ :  \n",
            "    Basic descriptor to set and get value.\n",
            "    \n",
            "__init__ :  <function MyDescriptor.__init__ at 0x7f99464d9f28>\n",
            "__get__ :  <function MyDescriptor.__get__ at 0x7f9945c78048>\n",
            "__set__ :  <function MyDescriptor.__set__ at 0x7f9945c780d0>\n",
            "__dict__ :  <attribute '__dict__' of 'MyDescriptor' objects>\n",
            "__weakref__ :  <attribute '__weakref__' of 'MyDescriptor' objects>\n"
          ],
          "name": "stdout"
        }
      ]
    },
    {
      "cell_type": "markdown",
      "metadata": {
        "id": "rH19ccNqwzgc",
        "colab_type": "text"
      },
      "source": [
        "We can call `get` from class and its instance but `set` can and should only be class from instance. If we do it from class, this means overriding descriptor."
      ]
    },
    {
      "cell_type": "code",
      "metadata": {
        "id": "SnqRgXL2vCl6",
        "colab_type": "code",
        "outputId": "b9c4985a-91ae-499c-8104-2a9066293fbf",
        "colab": {
          "base_uri": "https://localhost:8080/",
          "height": 72
        }
      },
      "source": [
        "Model.temp"
      ],
      "execution_count": 8,
      "outputs": [
        {
          "output_type": "stream",
          "text": [
            "None <class '__main__.Model'>\n",
            "Getting  self.val:  38\n"
          ],
          "name": "stdout"
        },
        {
          "output_type": "execute_result",
          "data": {
            "text/plain": [
              "38"
            ]
          },
          "metadata": {
            "tags": []
          },
          "execution_count": 8
        }
      ]
    },
    {
      "cell_type": "code",
      "metadata": {
        "id": "9MvtpCakwhie",
        "colab_type": "code",
        "outputId": "fd9add99-8873-43db-ee55-379cea7adc4d",
        "colab": {
          "base_uri": "https://localhost:8080/",
          "height": 35
        }
      },
      "source": [
        "Model.temp = \"useless\"\n",
        "Model.temp"
      ],
      "execution_count": 9,
      "outputs": [
        {
          "output_type": "execute_result",
          "data": {
            "text/plain": [
              "'useless'"
            ]
          },
          "metadata": {
            "tags": []
          },
          "execution_count": 9
        }
      ]
    },
    {
      "cell_type": "code",
      "metadata": {
        "id": "if2mB2T8ww7B",
        "colab_type": "code",
        "outputId": "409273ac-86f1-4237-e226-1b742b2359c5",
        "colab": {
          "base_uri": "https://localhost:8080/",
          "height": 35
        }
      },
      "source": [
        "body.temp"
      ],
      "execution_count": 10,
      "outputs": [
        {
          "output_type": "execute_result",
          "data": {
            "text/plain": [
              "'useless'"
            ]
          },
          "metadata": {
            "tags": []
          },
          "execution_count": 10
        }
      ]
    },
    {
      "cell_type": "markdown",
      "metadata": {
        "id": "lJY1gTd3Ero0",
        "colab_type": "text"
      },
      "source": [
        "This means we should do some type checking before assigning a vlaue to an attribute.\n",
        "\n",
        "Consider `descriptor` from another angle below."
      ]
    },
    {
      "cell_type": "code",
      "metadata": {
        "id": "HdUIP1Cq4RXF",
        "colab_type": "code",
        "outputId": "d789f205-037f-4add-e262-5bd3eb68a29a",
        "colab": {
          "base_uri": "https://localhost:8080/",
          "height": 54
        }
      },
      "source": [
        "class LazyDescriptor(object):\n",
        "    def __init__(self, name, inival):\n",
        "        self._val = inival\n",
        "        self.name = name\n",
        "    \n",
        "    def __get__(self, instance, owner):\n",
        "        print('get in descriptor called')\n",
        "        instance.__dict__[self.name] = self._val\n",
        "        return self._val\n",
        "\n",
        "class Model(object):\n",
        "    temp = LazyDescriptor(\"temp\", 37)\n",
        "\n",
        "body = Model()\n",
        "body.temp"
      ],
      "execution_count": 11,
      "outputs": [
        {
          "output_type": "stream",
          "text": [
            "get in descriptor called\n"
          ],
          "name": "stdout"
        },
        {
          "output_type": "execute_result",
          "data": {
            "text/plain": [
              "37"
            ]
          },
          "metadata": {
            "tags": []
          },
          "execution_count": 11
        }
      ]
    },
    {
      "cell_type": "code",
      "metadata": {
        "id": "_nkab3CK5uPZ",
        "colab_type": "code",
        "outputId": "06c84712-b2a7-47b5-f70c-25d51e73b378",
        "colab": {
          "base_uri": "https://localhost:8080/",
          "height": 35
        }
      },
      "source": [
        "body.temp"
      ],
      "execution_count": 12,
      "outputs": [
        {
          "output_type": "execute_result",
          "data": {
            "text/plain": [
              "37"
            ]
          },
          "metadata": {
            "tags": []
          },
          "execution_count": 12
        }
      ]
    },
    {
      "cell_type": "markdown",
      "metadata": {
        "id": "r4yw_HnXzkm5",
        "colab_type": "text"
      },
      "source": [
        "So the first time we referenced temp, it called the descriptor but not the second time. Let's look at the `__dict__` for better understanding."
      ]
    },
    {
      "cell_type": "code",
      "metadata": {
        "id": "Dgq4xvUyz5eB",
        "colab_type": "code",
        "outputId": "fa15020d-f908-495b-820b-b1c894cdd3f5",
        "colab": {
          "base_uri": "https://localhost:8080/",
          "height": 35
        }
      },
      "source": [
        "body = Model()\n",
        "body.__dict__"
      ],
      "execution_count": 13,
      "outputs": [
        {
          "output_type": "execute_result",
          "data": {
            "text/plain": [
              "{}"
            ]
          },
          "metadata": {
            "tags": []
          },
          "execution_count": 13
        }
      ]
    },
    {
      "cell_type": "code",
      "metadata": {
        "id": "NguS6geEz-S-",
        "colab_type": "code",
        "outputId": "5e3e7996-99b2-4e57-89ff-4ed6d1d6d8af",
        "colab": {
          "base_uri": "https://localhost:8080/",
          "height": 54
        }
      },
      "source": [
        "body.temp\n",
        "body.__dict__"
      ],
      "execution_count": 14,
      "outputs": [
        {
          "output_type": "stream",
          "text": [
            "get in descriptor called\n"
          ],
          "name": "stdout"
        },
        {
          "output_type": "execute_result",
          "data": {
            "text/plain": [
              "{'temp': 37}"
            ]
          },
          "metadata": {
            "tags": []
          },
          "execution_count": 14
        }
      ]
    },
    {
      "cell_type": "code",
      "metadata": {
        "id": "slyiFXgb0DfQ",
        "colab_type": "code",
        "outputId": "4df4e007-2ded-4e0b-b85f-75fc4325e612",
        "colab": {
          "base_uri": "https://localhost:8080/",
          "height": 35
        }
      },
      "source": [
        "body.temp\n",
        "body.__dict__"
      ],
      "execution_count": 15,
      "outputs": [
        {
          "output_type": "execute_result",
          "data": {
            "text/plain": [
              "{'temp': 37}"
            ]
          },
          "metadata": {
            "tags": []
          },
          "execution_count": 15
        }
      ]
    },
    {
      "cell_type": "markdown",
      "metadata": {
        "id": "jnzQCW_j0Omm",
        "colab_type": "text"
      },
      "source": [
        "So when we tried to access the value of `x` for the first time, the `key` was not in `obj.__dict__` so the descriptors `__get__` was called but when it is already present, the `__get__` from descriptor was not called. This is because of order in which python looks for attributes of objects. For complete sequence of rules [see](http://simeonfranklin.com/talk/descriptors.html#slide-42)\n",
        "\n",
        "We can acheive exactly same by another way as well."
      ]
    },
    {
      "cell_type": "code",
      "metadata": {
        "id": "odkX7SJ0rVmn",
        "colab_type": "code",
        "colab": {}
      },
      "source": [
        "class LazyProperty(object):\n",
        "    def __init__(self, val):\n",
        "        self._val = val\n",
        "        self.name = val.__name__\n",
        "\n",
        "    def __get__(self, instance, owner):\n",
        "        print(\"get in descriptor called\")\n",
        "        result = self._val(instance)\n",
        "        instance.__dict__[self.name] = result\n",
        "        return result\n",
        "\n",
        "class Model(object):\n",
        "    @LazyProperty\n",
        "    def temp(self):\n",
        "        return 42\n",
        "\n",
        "body = Model()"
      ],
      "execution_count": 0,
      "outputs": []
    },
    {
      "cell_type": "code",
      "metadata": {
        "id": "KtReJ7ifzEXn",
        "colab_type": "code",
        "outputId": "1ee10088-8772-4f6e-ca0b-2d9327169a63",
        "colab": {
          "base_uri": "https://localhost:8080/",
          "height": 54
        }
      },
      "source": [
        "body.temp"
      ],
      "execution_count": 17,
      "outputs": [
        {
          "output_type": "stream",
          "text": [
            "get in descriptor called\n"
          ],
          "name": "stdout"
        },
        {
          "output_type": "execute_result",
          "data": {
            "text/plain": [
              "42"
            ]
          },
          "metadata": {
            "tags": []
          },
          "execution_count": 17
        }
      ]
    },
    {
      "cell_type": "code",
      "metadata": {
        "id": "fkbX-Kc4y8dm",
        "colab_type": "code",
        "outputId": "aff0fd6b-bece-42c5-a7b0-1e274c775db5",
        "colab": {
          "base_uri": "https://localhost:8080/",
          "height": 35
        }
      },
      "source": [
        "body.temp"
      ],
      "execution_count": 18,
      "outputs": [
        {
          "output_type": "execute_result",
          "data": {
            "text/plain": [
              "42"
            ]
          },
          "metadata": {
            "tags": []
          },
          "execution_count": 18
        }
      ]
    },
    {
      "cell_type": "markdown",
      "metadata": {
        "id": "YDkteI33Q17F",
        "colab_type": "text"
      },
      "source": [
        "## Usage cases\n",
        "Suppose we define a class which takes the `name`, `weight` and `height` as input/for initiation and has a method to calculate body mass index i.e. `bmi`."
      ]
    },
    {
      "cell_type": "code",
      "metadata": {
        "id": "t_vHjathN1sn",
        "colab_type": "code",
        "outputId": "4f8d64b7-48cd-43ad-f42d-3fdd7af1cc3c",
        "colab": {
          "base_uri": "https://localhost:8080/",
          "height": 35
        }
      },
      "source": [
        "class Insan:\n",
        "    def __init__(self, name, weight, height):\n",
        "        self.name = name\n",
        "        self.weight = weight # in kg\n",
        "        self.height = height # in meters\n",
        "\n",
        "    def bmi(self):\n",
        "        return self.weight/self.height**2\n",
        "\n",
        "ali = Insan('ali', 78, 1.7)\n",
        "ali.bmi()"
      ],
      "execution_count": 19,
      "outputs": [
        {
          "output_type": "execute_result",
          "data": {
            "text/plain": [
              "26.989619377162633"
            ]
          },
          "metadata": {
            "tags": []
          },
          "execution_count": 19
        }
      ]
    },
    {
      "cell_type": "markdown",
      "metadata": {
        "id": "QPFGMotCgG-Z",
        "colab_type": "text"
      },
      "source": [
        "The problem with the above code is that one can assign negative values to weight."
      ]
    },
    {
      "cell_type": "code",
      "metadata": {
        "id": "JMxpn2L_Q_2D",
        "colab_type": "code",
        "outputId": "c3bb3015-a1cf-4186-91e2-820dec6944d4",
        "colab": {
          "base_uri": "https://localhost:8080/",
          "height": 35
        }
      },
      "source": [
        "ali.weight = -10\n",
        "ali.bmi()"
      ],
      "execution_count": 20,
      "outputs": [
        {
          "output_type": "execute_result",
          "data": {
            "text/plain": [
              "-3.4602076124567476"
            ]
          },
          "metadata": {
            "tags": []
          },
          "execution_count": 20
        }
      ]
    },
    {
      "cell_type": "markdown",
      "metadata": {
        "id": "o7CYK6bSgV1Q",
        "colab_type": "text"
      },
      "source": [
        "Definitely it is wrong and we should perform some checks before setting the new value. We can do it by using `property`"
      ]
    },
    {
      "cell_type": "code",
      "metadata": {
        "id": "LydlS-kYREAU",
        "colab_type": "code",
        "outputId": "aca39442-4297-43c8-9379-447d86262ca1",
        "colab": {
          "base_uri": "https://localhost:8080/",
          "height": 358
        }
      },
      "source": [
        "class Insan:\n",
        "    def __init__(self, name, weight, height):\n",
        "        self.name = name\n",
        "        self._weight = weight # in kg\n",
        "        self.height = height # in meters\n",
        "\n",
        "    @property\n",
        "    def weight(self):\n",
        "        return self._weight\n",
        "\n",
        "    @weight.setter\n",
        "    def weight(self, value):\n",
        "        if value < 0:\n",
        "            raise ValueError('weight cannot be negative.')\n",
        "        self._weight = value  \n",
        "\n",
        "\n",
        "    def bmi(self):\n",
        "        return self.weight/self.height**2\n",
        "\n",
        "ali = Insan('ali', 78, 1.7)\n",
        "ali.weight = -80\n",
        "ali.bmi()"
      ],
      "execution_count": 21,
      "outputs": [
        {
          "output_type": "error",
          "ename": "ValueError",
          "evalue": "ignored",
          "traceback": [
            "\u001b[0;31m---------------------------------------------------------------------------\u001b[0m",
            "\u001b[0;31mValueError\u001b[0m                                Traceback (most recent call last)",
            "\u001b[0;32m<ipython-input-21-00114f5a34d5>\u001b[0m in \u001b[0;36m<module>\u001b[0;34m()\u001b[0m\n\u001b[1;32m     20\u001b[0m \u001b[0;34m\u001b[0m\u001b[0m\n\u001b[1;32m     21\u001b[0m \u001b[0mali\u001b[0m \u001b[0;34m=\u001b[0m \u001b[0mInsan\u001b[0m\u001b[0;34m(\u001b[0m\u001b[0;34m'ali'\u001b[0m\u001b[0;34m,\u001b[0m \u001b[0;36m78\u001b[0m\u001b[0;34m,\u001b[0m \u001b[0;36m1.7\u001b[0m\u001b[0;34m)\u001b[0m\u001b[0;34m\u001b[0m\u001b[0;34m\u001b[0m\u001b[0m\n\u001b[0;32m---> 22\u001b[0;31m \u001b[0mali\u001b[0m\u001b[0;34m.\u001b[0m\u001b[0mweight\u001b[0m \u001b[0;34m=\u001b[0m \u001b[0;34m-\u001b[0m\u001b[0;36m80\u001b[0m\u001b[0;34m\u001b[0m\u001b[0;34m\u001b[0m\u001b[0m\n\u001b[0m\u001b[1;32m     23\u001b[0m \u001b[0mali\u001b[0m\u001b[0;34m.\u001b[0m\u001b[0mbmi\u001b[0m\u001b[0;34m(\u001b[0m\u001b[0;34m)\u001b[0m\u001b[0;34m\u001b[0m\u001b[0;34m\u001b[0m\u001b[0m\n",
            "\u001b[0;32m<ipython-input-21-00114f5a34d5>\u001b[0m in \u001b[0;36mweight\u001b[0;34m(self, value)\u001b[0m\n\u001b[1;32m     12\u001b[0m     \u001b[0;32mdef\u001b[0m \u001b[0mweight\u001b[0m\u001b[0;34m(\u001b[0m\u001b[0mself\u001b[0m\u001b[0;34m,\u001b[0m \u001b[0mvalue\u001b[0m\u001b[0;34m)\u001b[0m\u001b[0;34m:\u001b[0m\u001b[0;34m\u001b[0m\u001b[0;34m\u001b[0m\u001b[0m\n\u001b[1;32m     13\u001b[0m         \u001b[0;32mif\u001b[0m \u001b[0mvalue\u001b[0m \u001b[0;34m<\u001b[0m \u001b[0;36m0\u001b[0m\u001b[0;34m:\u001b[0m\u001b[0;34m\u001b[0m\u001b[0;34m\u001b[0m\u001b[0m\n\u001b[0;32m---> 14\u001b[0;31m             \u001b[0;32mraise\u001b[0m \u001b[0mValueError\u001b[0m\u001b[0;34m(\u001b[0m\u001b[0;34m'weight cannot be negative.'\u001b[0m\u001b[0;34m)\u001b[0m\u001b[0;34m\u001b[0m\u001b[0;34m\u001b[0m\u001b[0m\n\u001b[0m\u001b[1;32m     15\u001b[0m         \u001b[0mself\u001b[0m\u001b[0;34m.\u001b[0m\u001b[0m_weight\u001b[0m \u001b[0;34m=\u001b[0m \u001b[0mvalue\u001b[0m\u001b[0;34m\u001b[0m\u001b[0;34m\u001b[0m\u001b[0m\n\u001b[1;32m     16\u001b[0m \u001b[0;34m\u001b[0m\u001b[0m\n",
            "\u001b[0;31mValueError\u001b[0m: weight cannot be negative."
          ]
        }
      ]
    },
    {
      "cell_type": "markdown",
      "metadata": {
        "id": "ih0mZf3-ghAH",
        "colab_type": "text"
      },
      "source": [
        "Thus upon negative weight, it threw error. But `height` can still be assigned a negative value."
      ]
    },
    {
      "cell_type": "code",
      "metadata": {
        "id": "5-lUycHjRNPr",
        "colab_type": "code",
        "outputId": "6688711f-d068-45a6-a0ae-a83b77b8b8b4",
        "colab": {
          "base_uri": "https://localhost:8080/",
          "height": 35
        }
      },
      "source": [
        "ali = Insan('ali', 78, 1.7)\n",
        "ali.height = -1.8\n",
        "ali.height"
      ],
      "execution_count": 22,
      "outputs": [
        {
          "output_type": "execute_result",
          "data": {
            "text/plain": [
              "-1.8"
            ]
          },
          "metadata": {
            "tags": []
          },
          "execution_count": 22
        }
      ]
    },
    {
      "cell_type": "markdown",
      "metadata": {
        "id": "0CMJMFDogqlQ",
        "colab_type": "text"
      },
      "source": [
        "Let's make use of `property` once more."
      ]
    },
    {
      "cell_type": "code",
      "metadata": {
        "id": "SX_8fvu2Rdi0",
        "colab_type": "code",
        "outputId": "a44a2378-5f33-43d8-fa13-f8346664abf3",
        "colab": {
          "base_uri": "https://localhost:8080/",
          "height": 339
        }
      },
      "source": [
        "class Insan:\n",
        "    def __init__(self, name, weight, height):\n",
        "        self.name = name\n",
        "        self._weight = weight # in kg\n",
        "        self._height = height # in meters\n",
        "\n",
        "    @property\n",
        "    def weight(self):\n",
        "        return self._weight\n",
        "\n",
        "    @weight.setter\n",
        "    def weight(self, value):\n",
        "        if value < 0:\n",
        "            raise ValueError('weight cannot be negative.')\n",
        "        self._weight = value  \n",
        "\n",
        "    @property\n",
        "    def height(self):\n",
        "        return self._height\n",
        "\n",
        "    @height.setter\n",
        "    def height(self, value):\n",
        "        if value < 0:\n",
        "            raise ValueError('height cannot be negative.')\n",
        "        self._height = value  \n",
        "\n",
        "ali = Insan('Ali', 78, 1.7)\n",
        "ali.weight = -80"
      ],
      "execution_count": 23,
      "outputs": [
        {
          "output_type": "error",
          "ename": "ValueError",
          "evalue": "ignored",
          "traceback": [
            "\u001b[0;31m---------------------------------------------------------------------------\u001b[0m",
            "\u001b[0;31mValueError\u001b[0m                                Traceback (most recent call last)",
            "\u001b[0;32m<ipython-input-23-7bab9af39c88>\u001b[0m in \u001b[0;36m<module>\u001b[0;34m()\u001b[0m\n\u001b[1;32m     26\u001b[0m \u001b[0;34m\u001b[0m\u001b[0m\n\u001b[1;32m     27\u001b[0m \u001b[0mali\u001b[0m \u001b[0;34m=\u001b[0m \u001b[0mInsan\u001b[0m\u001b[0;34m(\u001b[0m\u001b[0;34m'Ali'\u001b[0m\u001b[0;34m,\u001b[0m \u001b[0;36m78\u001b[0m\u001b[0;34m,\u001b[0m \u001b[0;36m1.7\u001b[0m\u001b[0;34m)\u001b[0m\u001b[0;34m\u001b[0m\u001b[0;34m\u001b[0m\u001b[0m\n\u001b[0;32m---> 28\u001b[0;31m \u001b[0mali\u001b[0m\u001b[0;34m.\u001b[0m\u001b[0mweight\u001b[0m \u001b[0;34m=\u001b[0m \u001b[0;34m-\u001b[0m\u001b[0;36m80\u001b[0m\u001b[0;34m\u001b[0m\u001b[0;34m\u001b[0m\u001b[0m\n\u001b[0m",
            "\u001b[0;32m<ipython-input-23-7bab9af39c88>\u001b[0m in \u001b[0;36mweight\u001b[0;34m(self, value)\u001b[0m\n\u001b[1;32m     12\u001b[0m     \u001b[0;32mdef\u001b[0m \u001b[0mweight\u001b[0m\u001b[0;34m(\u001b[0m\u001b[0mself\u001b[0m\u001b[0;34m,\u001b[0m \u001b[0mvalue\u001b[0m\u001b[0;34m)\u001b[0m\u001b[0;34m:\u001b[0m\u001b[0;34m\u001b[0m\u001b[0;34m\u001b[0m\u001b[0m\n\u001b[1;32m     13\u001b[0m         \u001b[0;32mif\u001b[0m \u001b[0mvalue\u001b[0m \u001b[0;34m<\u001b[0m \u001b[0;36m0\u001b[0m\u001b[0;34m:\u001b[0m\u001b[0;34m\u001b[0m\u001b[0;34m\u001b[0m\u001b[0m\n\u001b[0;32m---> 14\u001b[0;31m             \u001b[0;32mraise\u001b[0m \u001b[0mValueError\u001b[0m\u001b[0;34m(\u001b[0m\u001b[0;34m'weight cannot be negative.'\u001b[0m\u001b[0;34m)\u001b[0m\u001b[0;34m\u001b[0m\u001b[0;34m\u001b[0m\u001b[0m\n\u001b[0m\u001b[1;32m     15\u001b[0m         \u001b[0mself\u001b[0m\u001b[0;34m.\u001b[0m\u001b[0m_weight\u001b[0m \u001b[0;34m=\u001b[0m \u001b[0mvalue\u001b[0m\u001b[0;34m\u001b[0m\u001b[0;34m\u001b[0m\u001b[0m\n\u001b[1;32m     16\u001b[0m \u001b[0;34m\u001b[0m\u001b[0m\n",
            "\u001b[0;31mValueError\u001b[0m: weight cannot be negative."
          ]
        }
      ]
    },
    {
      "cell_type": "markdown",
      "metadata": {
        "id": "dgCeDFRdRxuc",
        "colab_type": "text"
      },
      "source": [
        "But we are repeating our code. Both the properties are essentially doing same thing i.e. throwing errors on negative value assignment, so remember our code should be DRY (do not repeat yourself)\n",
        "\n",
        "To helps us, python has the concept of `descriptors`. We can define a descriptor which can have `set`, `get` and `del` methods. The following code defines the descriptor `NonNegative`. Then inside class `Insan`, we define class attributes and bind them with the descriptor thus making sure that these attributes will always be non-negative otherwise an error will be thrown."
      ]
    },
    {
      "cell_type": "code",
      "metadata": {
        "id": "KUXx-ioNRt4q",
        "colab_type": "code",
        "outputId": "6ed9247d-5fe3-49d5-be86-9698f176b4aa",
        "colab": {
          "base_uri": "https://localhost:8080/",
          "height": 35
        }
      },
      "source": [
        "class NonNegative:\n",
        "    def __init__(self, name):\n",
        "        # the name attribute is needed because when the NonNegative object is \n",
        "        # created , the assignment to attribute named weigth/height hasn't \n",
        "        # happen yet. Thus, we need to explicitly pass the name weight/height to the\n",
        "        # initializer of the object to use as the key for the instance's __dict__.\n",
        "        self.name = name  \n",
        "    def __get__(self, instance, owner):\n",
        "        # we need to reach into the __dict__ object directly, because the\n",
        "        # builtins would be intercepted\n",
        "        #  by the descriptor protocols too and cause the RecursionError.\n",
        "        return instance.__dict__[self.name]  # getattr(instance, self._name)\n",
        "    def __set__(self, instance, value):\n",
        "        if value < 0:\n",
        "            raise ValueError(\"{} Cannot be negative.\".format(self.name))\n",
        "        # instead of using builtin function getattr and setattr, we need to reach \n",
        "        # into the __dict__ object directly, because the builtins would be intercepted\n",
        "        #  by the descriptor protocols too and cause the RecursionError.\n",
        "        instance.__dict__[self.name] = value  # setattr(instance, self._name, value)\n",
        "\n",
        "class Insan:\n",
        "    weight = NonNegative('weight')  \n",
        "    height = NonNegative('height')\n",
        "\n",
        "    def __init__(self, name, weight, height):\n",
        "        self.name = name\n",
        "        self.weight = weight # in kg\n",
        "        self.height = height # in meters\n",
        "\n",
        "    def bmi(self):\n",
        "        return self.weight/self.height**2\n",
        "\n",
        "ali = Insan('Ali', 78, 1.7)\n",
        "ali.bmi()"
      ],
      "execution_count": 24,
      "outputs": [
        {
          "output_type": "execute_result",
          "data": {
            "text/plain": [
              "26.989619377162633"
            ]
          },
          "metadata": {
            "tags": []
          },
          "execution_count": 24
        }
      ]
    },
    {
      "cell_type": "markdown",
      "metadata": {
        "id": "5swXrUL1hxZm",
        "colab_type": "text"
      },
      "source": [
        "Now we can not assign negative values to attributes `weight` and `height` of class `Insan`."
      ]
    },
    {
      "cell_type": "code",
      "metadata": {
        "id": "FQpmsMY8YJW2",
        "colab_type": "code",
        "outputId": "b98c11bc-c563-4bb6-fb0e-bd852361d0bd",
        "colab": {
          "base_uri": "https://localhost:8080/",
          "height": 321
        }
      },
      "source": [
        "ali.weight = -80\n",
        "# ValueError: Cannot be negative"
      ],
      "execution_count": 25,
      "outputs": [
        {
          "output_type": "error",
          "ename": "ValueError",
          "evalue": "ignored",
          "traceback": [
            "\u001b[0;31m---------------------------------------------------------------------------\u001b[0m",
            "\u001b[0;31mValueError\u001b[0m                                Traceback (most recent call last)",
            "\u001b[0;32m<ipython-input-25-5ff5b9042c64>\u001b[0m in \u001b[0;36m<module>\u001b[0;34m()\u001b[0m\n\u001b[0;32m----> 1\u001b[0;31m \u001b[0mali\u001b[0m\u001b[0;34m.\u001b[0m\u001b[0mweight\u001b[0m \u001b[0;34m=\u001b[0m \u001b[0;34m-\u001b[0m\u001b[0;36m80\u001b[0m\u001b[0;34m\u001b[0m\u001b[0;34m\u001b[0m\u001b[0m\n\u001b[0m\u001b[1;32m      2\u001b[0m \u001b[0;31m# ValueError: Cannot be negative\u001b[0m\u001b[0;34m\u001b[0m\u001b[0;34m\u001b[0m\u001b[0;34m\u001b[0m\u001b[0m\n",
            "\u001b[0;32m<ipython-input-24-d4c23ea2d6b2>\u001b[0m in \u001b[0;36m__set__\u001b[0;34m(self, instance, value)\u001b[0m\n\u001b[1;32m     13\u001b[0m     \u001b[0;32mdef\u001b[0m \u001b[0m__set__\u001b[0m\u001b[0;34m(\u001b[0m\u001b[0mself\u001b[0m\u001b[0;34m,\u001b[0m \u001b[0minstance\u001b[0m\u001b[0;34m,\u001b[0m \u001b[0mvalue\u001b[0m\u001b[0;34m)\u001b[0m\u001b[0;34m:\u001b[0m\u001b[0;34m\u001b[0m\u001b[0;34m\u001b[0m\u001b[0m\n\u001b[1;32m     14\u001b[0m         \u001b[0;32mif\u001b[0m \u001b[0mvalue\u001b[0m \u001b[0;34m<\u001b[0m \u001b[0;36m0\u001b[0m\u001b[0;34m:\u001b[0m\u001b[0;34m\u001b[0m\u001b[0;34m\u001b[0m\u001b[0m\n\u001b[0;32m---> 15\u001b[0;31m             \u001b[0;32mraise\u001b[0m \u001b[0mValueError\u001b[0m\u001b[0;34m(\u001b[0m\u001b[0;34m\"{} Cannot be negative.\"\u001b[0m\u001b[0;34m.\u001b[0m\u001b[0mformat\u001b[0m\u001b[0;34m(\u001b[0m\u001b[0mself\u001b[0m\u001b[0;34m.\u001b[0m\u001b[0mname\u001b[0m\u001b[0;34m)\u001b[0m\u001b[0;34m)\u001b[0m\u001b[0;34m\u001b[0m\u001b[0;34m\u001b[0m\u001b[0m\n\u001b[0m\u001b[1;32m     16\u001b[0m         \u001b[0;31m# instead of using builtin function getattr and setattr, we need to reach\u001b[0m\u001b[0;34m\u001b[0m\u001b[0;34m\u001b[0m\u001b[0;34m\u001b[0m\u001b[0m\n\u001b[1;32m     17\u001b[0m         \u001b[0;31m# into the __dict__ object directly, because the builtins would be intercepted\u001b[0m\u001b[0;34m\u001b[0m\u001b[0;34m\u001b[0m\u001b[0;34m\u001b[0m\u001b[0m\n",
            "\u001b[0;31mValueError\u001b[0m: weight Cannot be negative."
          ]
        }
      ]
    },
    {
      "cell_type": "code",
      "metadata": {
        "id": "Pf7lZ1fMR7GL",
        "colab_type": "code",
        "outputId": "b83a3240-d8a2-4401-b826-bc590d5f5f1c",
        "colab": {
          "base_uri": "https://localhost:8080/",
          "height": 321
        }
      },
      "source": [
        "ali.height = -1.8\n",
        "# ValueError: Cannot be negative"
      ],
      "execution_count": 26,
      "outputs": [
        {
          "output_type": "error",
          "ename": "ValueError",
          "evalue": "ignored",
          "traceback": [
            "\u001b[0;31m---------------------------------------------------------------------------\u001b[0m",
            "\u001b[0;31mValueError\u001b[0m                                Traceback (most recent call last)",
            "\u001b[0;32m<ipython-input-26-a2c26d6b5857>\u001b[0m in \u001b[0;36m<module>\u001b[0;34m()\u001b[0m\n\u001b[0;32m----> 1\u001b[0;31m \u001b[0mali\u001b[0m\u001b[0;34m.\u001b[0m\u001b[0mheight\u001b[0m \u001b[0;34m=\u001b[0m \u001b[0;34m-\u001b[0m\u001b[0;36m1.8\u001b[0m\u001b[0;34m\u001b[0m\u001b[0;34m\u001b[0m\u001b[0m\n\u001b[0m\u001b[1;32m      2\u001b[0m \u001b[0;31m# ValueError: Cannot be negative\u001b[0m\u001b[0;34m\u001b[0m\u001b[0;34m\u001b[0m\u001b[0;34m\u001b[0m\u001b[0m\n",
            "\u001b[0;32m<ipython-input-24-d4c23ea2d6b2>\u001b[0m in \u001b[0;36m__set__\u001b[0;34m(self, instance, value)\u001b[0m\n\u001b[1;32m     13\u001b[0m     \u001b[0;32mdef\u001b[0m \u001b[0m__set__\u001b[0m\u001b[0;34m(\u001b[0m\u001b[0mself\u001b[0m\u001b[0;34m,\u001b[0m \u001b[0minstance\u001b[0m\u001b[0;34m,\u001b[0m \u001b[0mvalue\u001b[0m\u001b[0;34m)\u001b[0m\u001b[0;34m:\u001b[0m\u001b[0;34m\u001b[0m\u001b[0;34m\u001b[0m\u001b[0m\n\u001b[1;32m     14\u001b[0m         \u001b[0;32mif\u001b[0m \u001b[0mvalue\u001b[0m \u001b[0;34m<\u001b[0m \u001b[0;36m0\u001b[0m\u001b[0;34m:\u001b[0m\u001b[0;34m\u001b[0m\u001b[0;34m\u001b[0m\u001b[0m\n\u001b[0;32m---> 15\u001b[0;31m             \u001b[0;32mraise\u001b[0m \u001b[0mValueError\u001b[0m\u001b[0;34m(\u001b[0m\u001b[0;34m\"{} Cannot be negative.\"\u001b[0m\u001b[0;34m.\u001b[0m\u001b[0mformat\u001b[0m\u001b[0;34m(\u001b[0m\u001b[0mself\u001b[0m\u001b[0;34m.\u001b[0m\u001b[0mname\u001b[0m\u001b[0;34m)\u001b[0m\u001b[0;34m)\u001b[0m\u001b[0;34m\u001b[0m\u001b[0;34m\u001b[0m\u001b[0m\n\u001b[0m\u001b[1;32m     16\u001b[0m         \u001b[0;31m# instead of using builtin function getattr and setattr, we need to reach\u001b[0m\u001b[0;34m\u001b[0m\u001b[0;34m\u001b[0m\u001b[0;34m\u001b[0m\u001b[0m\n\u001b[1;32m     17\u001b[0m         \u001b[0;31m# into the __dict__ object directly, because the builtins would be intercepted\u001b[0m\u001b[0;34m\u001b[0m\u001b[0;34m\u001b[0m\u001b[0;34m\u001b[0m\u001b[0m\n",
            "\u001b[0;31mValueError\u001b[0m: height Cannot be negative."
          ]
        }
      ]
    },
    {
      "cell_type": "markdown",
      "metadata": {
        "id": "2gtg5oX_TFHq",
        "colab_type": "text"
      },
      "source": [
        "### In python 3.6+\n",
        "\n",
        "The `descriptor` definition in python 3.6+ is more flexible."
      ]
    },
    {
      "cell_type": "code",
      "metadata": {
        "id": "n7OEECWtSQxT",
        "colab_type": "code",
        "outputId": "89a2a5c1-0d13-4912-ce9e-383eb8887af9",
        "colab": {
          "base_uri": "https://localhost:8080/",
          "height": 35
        }
      },
      "source": [
        "class NonNegative:\n",
        "    def __get__(self, instance, owner):\n",
        "        return instance.__dict__[self.name]\n",
        "    def __set__(self, instance, value):\n",
        "        if value < 0:\n",
        "            raise ValueError('{} Cannot be negative.'.format(self.name))\n",
        "        instance.__dict__[self.name] = value\n",
        "\n",
        "    # __set_name__ is called at the time the owning class owner is created.\n",
        "    # The descriptor has been assigned to name. With this protocol, we can now \n",
        "    # remove the __init__  and bind the attribute name to the descriptor\n",
        "    def __set_name__(self, owner, name):\n",
        "        self.name = name\n",
        "\n",
        "class Insan:\n",
        "    weight = NonNegative()\n",
        "    height = NonNegative()\n",
        "\n",
        "    def __init__(self, name, weight, height):\n",
        "        self.name = name\n",
        "        self.weight = weight # in kg\n",
        "        self.height = height # in meters\n",
        "\n",
        "    def bmi(self):\n",
        "        return self.weight/self.height**2\n",
        "\n",
        "ali = Insan('Ali', 78, 1.7)\n",
        "ali.bmi()"
      ],
      "execution_count": 27,
      "outputs": [
        {
          "output_type": "execute_result",
          "data": {
            "text/plain": [
              "26.989619377162633"
            ]
          },
          "metadata": {
            "tags": []
          },
          "execution_count": 27
        }
      ]
    },
    {
      "cell_type": "code",
      "metadata": {
        "id": "wRf3ABFvTaaZ",
        "colab_type": "code",
        "outputId": "89695516-952e-4f31-d617-c1ed030e104d",
        "colab": {
          "base_uri": "https://localhost:8080/",
          "height": 321
        }
      },
      "source": [
        "ali.weight = -80\n",
        "# ValueError: Cannot be negative"
      ],
      "execution_count": 28,
      "outputs": [
        {
          "output_type": "error",
          "ename": "ValueError",
          "evalue": "ignored",
          "traceback": [
            "\u001b[0;31m---------------------------------------------------------------------------\u001b[0m",
            "\u001b[0;31mValueError\u001b[0m                                Traceback (most recent call last)",
            "\u001b[0;32m<ipython-input-28-5ff5b9042c64>\u001b[0m in \u001b[0;36m<module>\u001b[0;34m()\u001b[0m\n\u001b[0;32m----> 1\u001b[0;31m \u001b[0mali\u001b[0m\u001b[0;34m.\u001b[0m\u001b[0mweight\u001b[0m \u001b[0;34m=\u001b[0m \u001b[0;34m-\u001b[0m\u001b[0;36m80\u001b[0m\u001b[0;34m\u001b[0m\u001b[0;34m\u001b[0m\u001b[0m\n\u001b[0m\u001b[1;32m      2\u001b[0m \u001b[0;31m# ValueError: Cannot be negative\u001b[0m\u001b[0;34m\u001b[0m\u001b[0;34m\u001b[0m\u001b[0;34m\u001b[0m\u001b[0m\n",
            "\u001b[0;32m<ipython-input-27-67ce99741ee1>\u001b[0m in \u001b[0;36m__set__\u001b[0;34m(self, instance, value)\u001b[0m\n\u001b[1;32m      4\u001b[0m     \u001b[0;32mdef\u001b[0m \u001b[0m__set__\u001b[0m\u001b[0;34m(\u001b[0m\u001b[0mself\u001b[0m\u001b[0;34m,\u001b[0m \u001b[0minstance\u001b[0m\u001b[0;34m,\u001b[0m \u001b[0mvalue\u001b[0m\u001b[0;34m)\u001b[0m\u001b[0;34m:\u001b[0m\u001b[0;34m\u001b[0m\u001b[0;34m\u001b[0m\u001b[0m\n\u001b[1;32m      5\u001b[0m         \u001b[0;32mif\u001b[0m \u001b[0mvalue\u001b[0m \u001b[0;34m<\u001b[0m \u001b[0;36m0\u001b[0m\u001b[0;34m:\u001b[0m\u001b[0;34m\u001b[0m\u001b[0;34m\u001b[0m\u001b[0m\n\u001b[0;32m----> 6\u001b[0;31m             \u001b[0;32mraise\u001b[0m \u001b[0mValueError\u001b[0m\u001b[0;34m(\u001b[0m\u001b[0;34m'{} Cannot be negative.'\u001b[0m\u001b[0;34m.\u001b[0m\u001b[0mformat\u001b[0m\u001b[0;34m(\u001b[0m\u001b[0mself\u001b[0m\u001b[0;34m.\u001b[0m\u001b[0mname\u001b[0m\u001b[0;34m)\u001b[0m\u001b[0;34m)\u001b[0m\u001b[0;34m\u001b[0m\u001b[0;34m\u001b[0m\u001b[0m\n\u001b[0m\u001b[1;32m      7\u001b[0m         \u001b[0minstance\u001b[0m\u001b[0;34m.\u001b[0m\u001b[0m__dict__\u001b[0m\u001b[0;34m[\u001b[0m\u001b[0mself\u001b[0m\u001b[0;34m.\u001b[0m\u001b[0mname\u001b[0m\u001b[0;34m]\u001b[0m \u001b[0;34m=\u001b[0m \u001b[0mvalue\u001b[0m\u001b[0;34m\u001b[0m\u001b[0;34m\u001b[0m\u001b[0m\n\u001b[1;32m      8\u001b[0m \u001b[0;34m\u001b[0m\u001b[0m\n",
            "\u001b[0;31mValueError\u001b[0m: weight Cannot be negative."
          ]
        }
      ]
    },
    {
      "cell_type": "code",
      "metadata": {
        "id": "qwrzfZXRTYfy",
        "colab_type": "code",
        "outputId": "dfebc10c-dd2d-4757-9520-60930ea2f6b6",
        "colab": {
          "base_uri": "https://localhost:8080/",
          "height": 321
        }
      },
      "source": [
        "ali.height = -1.8\n",
        "# ValueError: Cannot be negative"
      ],
      "execution_count": 29,
      "outputs": [
        {
          "output_type": "error",
          "ename": "ValueError",
          "evalue": "ignored",
          "traceback": [
            "\u001b[0;31m---------------------------------------------------------------------------\u001b[0m",
            "\u001b[0;31mValueError\u001b[0m                                Traceback (most recent call last)",
            "\u001b[0;32m<ipython-input-29-a2c26d6b5857>\u001b[0m in \u001b[0;36m<module>\u001b[0;34m()\u001b[0m\n\u001b[0;32m----> 1\u001b[0;31m \u001b[0mali\u001b[0m\u001b[0;34m.\u001b[0m\u001b[0mheight\u001b[0m \u001b[0;34m=\u001b[0m \u001b[0;34m-\u001b[0m\u001b[0;36m1.8\u001b[0m\u001b[0;34m\u001b[0m\u001b[0;34m\u001b[0m\u001b[0m\n\u001b[0m\u001b[1;32m      2\u001b[0m \u001b[0;31m# ValueError: Cannot be negative\u001b[0m\u001b[0;34m\u001b[0m\u001b[0;34m\u001b[0m\u001b[0;34m\u001b[0m\u001b[0m\n",
            "\u001b[0;32m<ipython-input-27-67ce99741ee1>\u001b[0m in \u001b[0;36m__set__\u001b[0;34m(self, instance, value)\u001b[0m\n\u001b[1;32m      4\u001b[0m     \u001b[0;32mdef\u001b[0m \u001b[0m__set__\u001b[0m\u001b[0;34m(\u001b[0m\u001b[0mself\u001b[0m\u001b[0;34m,\u001b[0m \u001b[0minstance\u001b[0m\u001b[0;34m,\u001b[0m \u001b[0mvalue\u001b[0m\u001b[0;34m)\u001b[0m\u001b[0;34m:\u001b[0m\u001b[0;34m\u001b[0m\u001b[0;34m\u001b[0m\u001b[0m\n\u001b[1;32m      5\u001b[0m         \u001b[0;32mif\u001b[0m \u001b[0mvalue\u001b[0m \u001b[0;34m<\u001b[0m \u001b[0;36m0\u001b[0m\u001b[0;34m:\u001b[0m\u001b[0;34m\u001b[0m\u001b[0;34m\u001b[0m\u001b[0m\n\u001b[0;32m----> 6\u001b[0;31m             \u001b[0;32mraise\u001b[0m \u001b[0mValueError\u001b[0m\u001b[0;34m(\u001b[0m\u001b[0;34m'{} Cannot be negative.'\u001b[0m\u001b[0;34m.\u001b[0m\u001b[0mformat\u001b[0m\u001b[0;34m(\u001b[0m\u001b[0mself\u001b[0m\u001b[0;34m.\u001b[0m\u001b[0mname\u001b[0m\u001b[0;34m)\u001b[0m\u001b[0;34m)\u001b[0m\u001b[0;34m\u001b[0m\u001b[0;34m\u001b[0m\u001b[0m\n\u001b[0m\u001b[1;32m      7\u001b[0m         \u001b[0minstance\u001b[0m\u001b[0;34m.\u001b[0m\u001b[0m__dict__\u001b[0m\u001b[0;34m[\u001b[0m\u001b[0mself\u001b[0m\u001b[0;34m.\u001b[0m\u001b[0mname\u001b[0m\u001b[0;34m]\u001b[0m \u001b[0;34m=\u001b[0m \u001b[0mvalue\u001b[0m\u001b[0;34m\u001b[0m\u001b[0;34m\u001b[0m\u001b[0m\n\u001b[1;32m      8\u001b[0m \u001b[0;34m\u001b[0m\u001b[0m\n",
            "\u001b[0;31mValueError\u001b[0m: height Cannot be negative."
          ]
        }
      ]
    },
    {
      "cell_type": "markdown",
      "metadata": {
        "id": "1R2zbG61iE_O",
        "colab_type": "text"
      },
      "source": [
        "Let's say, we want to calculate a new quantity say `bmit` which is multiplication of `BMI` with `temperature` in celcius. We can define a property to convert the temperature into celcius, in case the temperature is provided in fahrenheight."
      ]
    },
    {
      "cell_type": "code",
      "metadata": {
        "id": "3ghLT87eTeHi",
        "colab_type": "code",
        "outputId": "7219ac52-c403-478f-a094-d6b4935e3714",
        "colab": {
          "base_uri": "https://localhost:8080/",
          "height": 35
        }
      },
      "source": [
        "class NonNegative:\n",
        "\n",
        "    def __get__(self, instance, owner):\n",
        "        return instance.__dict__[self.name]\n",
        "\n",
        "    def __set__(self, instance, value):\n",
        "        if value < 0:\n",
        "            raise ValueError('{} Cannot be negative.'.format(self.name))\n",
        "        instance.__dict__[self.name] = value\n",
        "\n",
        "    def __set_name__(self, owner, name):\n",
        "        self.name = name\n",
        "\n",
        "class Insan:\n",
        "    weight = NonNegative()\n",
        "    height = NonNegative()\n",
        "\n",
        "    def __init__(self, name, weight, height, temp_f):\n",
        "        self.name = name\n",
        "        self.weight = weight # in kg\n",
        "        self.height = height # in meters\n",
        "        self.fahrenheit = temp_f\n",
        "\n",
        "    @property\n",
        "    def celsius(self):\n",
        "        return 5 * (self.fahrenheit - 32) / 9.0\n",
        "\n",
        "    @celsius.setter\n",
        "    def celsius(self, val):\n",
        "        self.fahrenheit = 32 + 9 * val / 5.0\n",
        "\n",
        "    def bmit(self):\n",
        "        return self.weight/self.height**2 * self.celsius\n",
        "\n",
        "ali = Insan('Ali', 78, 1.7, 98.2)\n",
        "ali.bmit()"
      ],
      "execution_count": 30,
      "outputs": [
        {
          "output_type": "execute_result",
          "data": {
            "text/plain": [
              "992.6182237600924"
            ]
          },
          "metadata": {
            "tags": []
          },
          "execution_count": 30
        }
      ]
    },
    {
      "cell_type": "code",
      "metadata": {
        "id": "Ah9pgnyKa3t7",
        "colab_type": "code",
        "outputId": "dfb2ac77-6284-4003-cc66-efda4d47934f",
        "colab": {
          "base_uri": "https://localhost:8080/",
          "height": 35
        }
      },
      "source": [
        "ali.celsius"
      ],
      "execution_count": 31,
      "outputs": [
        {
          "output_type": "execute_result",
          "data": {
            "text/plain": [
              "36.77777777777778"
            ]
          },
          "metadata": {
            "tags": []
          },
          "execution_count": 31
        }
      ]
    },
    {
      "cell_type": "markdown",
      "metadata": {
        "id": "neBd-T6gi2-V",
        "colab_type": "text"
      },
      "source": [
        "But we can also define it as `descriptor` as follows. Furthermore we are also perorming non-negative check in this descriptor as well."
      ]
    },
    {
      "cell_type": "code",
      "metadata": {
        "id": "Yhau3NV7bF48",
        "colab_type": "code",
        "outputId": "2b811b2a-a08b-4c75-8cc8-533ba60605f3",
        "colab": {
          "base_uri": "https://localhost:8080/",
          "height": 35
        }
      },
      "source": [
        "class Celsius:\n",
        "\n",
        "    def __get__(self, instance, owner):\n",
        "        return 5 * (instance.fahrenheit - 32) / 9\n",
        "\n",
        "    def __set__(self, instance, value):\n",
        "        if value < 0:\n",
        "            raise ValueError('{} Cannot be negative.'.format(self.name))\n",
        "        instance.fahrenheit = 32 + 9 * value / 5\n",
        "\n",
        "    def __set_name__(self, owner, name):\n",
        "        self.name = name\n",
        "\n",
        "class NonNegative:\n",
        "\n",
        "    def __get__(self, instance, owner):\n",
        "        return instance.__dict__[self.name]\n",
        "\n",
        "    def __set__(self, instance, value):\n",
        "        if value < 0:\n",
        "            raise ValueError('{} Cannot be negative.'.format(self.name))\n",
        "        instance.__dict__[self.name] = value\n",
        "\n",
        "    def __set_name__(self, owner, name):\n",
        "        self.name = name\n",
        "\n",
        "class Insan:\n",
        "    weight = NonNegative()\n",
        "    height = NonNegative()\n",
        "\n",
        "    celsius = Celsius()\n",
        "\n",
        "    def __init__(self, name, weight, height, temp_f):\n",
        "        self.name = name\n",
        "        self.weight = weight # in kg\n",
        "        self.height = height # in meters\n",
        "        self.fahrenheit = temp_f # temperature in fahrenheit\n",
        "\n",
        "    def bmit(self):\n",
        "        return self.weight/self.height**2 * self.celsius\n",
        "\n",
        "ali = Insan('Ali', 78, 1.7, 98.2)\n",
        "ali.bmit()"
      ],
      "execution_count": 32,
      "outputs": [
        {
          "output_type": "execute_result",
          "data": {
            "text/plain": [
              "992.6182237600924"
            ]
          },
          "metadata": {
            "tags": []
          },
          "execution_count": 32
        }
      ]
    },
    {
      "cell_type": "code",
      "metadata": {
        "id": "yYCtxy_6Hi23",
        "colab_type": "code",
        "outputId": "6f42cdeb-4017-444c-eb13-34bebaeeb4d4",
        "colab": {
          "base_uri": "https://localhost:8080/",
          "height": 35
        }
      },
      "source": [
        "ali.fahrenheit"
      ],
      "execution_count": 33,
      "outputs": [
        {
          "output_type": "execute_result",
          "data": {
            "text/plain": [
              "98.2"
            ]
          },
          "metadata": {
            "tags": []
          },
          "execution_count": 33
        }
      ]
    },
    {
      "cell_type": "code",
      "metadata": {
        "id": "7mOFLP9SHXQt",
        "colab_type": "code",
        "outputId": "1b67c795-7750-4af3-a9b3-847e3b1a87aa",
        "colab": {
          "base_uri": "https://localhost:8080/",
          "height": 35
        }
      },
      "source": [
        "ali.celsius"
      ],
      "execution_count": 34,
      "outputs": [
        {
          "output_type": "execute_result",
          "data": {
            "text/plain": [
              "36.77777777777778"
            ]
          },
          "metadata": {
            "tags": []
          },
          "execution_count": 34
        }
      ]
    },
    {
      "cell_type": "code",
      "metadata": {
        "id": "p7uksnUab9Fz",
        "colab_type": "code",
        "outputId": "288663f4-dff9-434f-f520-e445640facef",
        "colab": {
          "base_uri": "https://localhost:8080/",
          "height": 302
        }
      },
      "source": [
        "ali.celsius = -30"
      ],
      "execution_count": 35,
      "outputs": [
        {
          "output_type": "error",
          "ename": "ValueError",
          "evalue": "ignored",
          "traceback": [
            "\u001b[0;31m---------------------------------------------------------------------------\u001b[0m",
            "\u001b[0;31mValueError\u001b[0m                                Traceback (most recent call last)",
            "\u001b[0;32m<ipython-input-35-fd530d12c77a>\u001b[0m in \u001b[0;36m<module>\u001b[0;34m()\u001b[0m\n\u001b[0;32m----> 1\u001b[0;31m \u001b[0mali\u001b[0m\u001b[0;34m.\u001b[0m\u001b[0mcelsius\u001b[0m \u001b[0;34m=\u001b[0m \u001b[0;34m-\u001b[0m\u001b[0;36m30\u001b[0m\u001b[0;34m\u001b[0m\u001b[0;34m\u001b[0m\u001b[0m\n\u001b[0m",
            "\u001b[0;32m<ipython-input-32-855f857f1815>\u001b[0m in \u001b[0;36m__set__\u001b[0;34m(self, instance, value)\u001b[0m\n\u001b[1;32m      6\u001b[0m     \u001b[0;32mdef\u001b[0m \u001b[0m__set__\u001b[0m\u001b[0;34m(\u001b[0m\u001b[0mself\u001b[0m\u001b[0;34m,\u001b[0m \u001b[0minstance\u001b[0m\u001b[0;34m,\u001b[0m \u001b[0mvalue\u001b[0m\u001b[0;34m)\u001b[0m\u001b[0;34m:\u001b[0m\u001b[0;34m\u001b[0m\u001b[0;34m\u001b[0m\u001b[0m\n\u001b[1;32m      7\u001b[0m         \u001b[0;32mif\u001b[0m \u001b[0mvalue\u001b[0m \u001b[0;34m<\u001b[0m \u001b[0;36m0\u001b[0m\u001b[0;34m:\u001b[0m\u001b[0;34m\u001b[0m\u001b[0;34m\u001b[0m\u001b[0m\n\u001b[0;32m----> 8\u001b[0;31m             \u001b[0;32mraise\u001b[0m \u001b[0mValueError\u001b[0m\u001b[0;34m(\u001b[0m\u001b[0;34m'{} Cannot be negative.'\u001b[0m\u001b[0;34m.\u001b[0m\u001b[0mformat\u001b[0m\u001b[0;34m(\u001b[0m\u001b[0mself\u001b[0m\u001b[0;34m.\u001b[0m\u001b[0mname\u001b[0m\u001b[0;34m)\u001b[0m\u001b[0;34m)\u001b[0m\u001b[0;34m\u001b[0m\u001b[0;34m\u001b[0m\u001b[0m\n\u001b[0m\u001b[1;32m      9\u001b[0m         \u001b[0minstance\u001b[0m\u001b[0;34m.\u001b[0m\u001b[0mfahrenheit\u001b[0m \u001b[0;34m=\u001b[0m \u001b[0;36m32\u001b[0m \u001b[0;34m+\u001b[0m \u001b[0;36m9\u001b[0m \u001b[0;34m*\u001b[0m \u001b[0mvalue\u001b[0m \u001b[0;34m/\u001b[0m \u001b[0;36m5\u001b[0m\u001b[0;34m\u001b[0m\u001b[0;34m\u001b[0m\u001b[0m\n\u001b[1;32m     10\u001b[0m \u001b[0;34m\u001b[0m\u001b[0m\n",
            "\u001b[0;31mValueError\u001b[0m: celsius Cannot be negative."
          ]
        }
      ]
    },
    {
      "cell_type": "markdown",
      "metadata": {
        "id": "sY_7ksVRJeBt",
        "colab_type": "text"
      },
      "source": [
        "## Caveat\n",
        "\n",
        "Because the descriptors are linked with class and not with instance, so when we create a new instance, the values get overridden by new isntance if they are not linked with instance."
      ]
    },
    {
      "cell_type": "code",
      "metadata": {
        "id": "N0HT_r40J2Ih",
        "colab_type": "code",
        "outputId": "57e8be4e-758b-4bf2-c2ff-8ee204a363f0",
        "colab": {
          "base_uri": "https://localhost:8080/",
          "height": 54
        }
      },
      "source": [
        "class Descriptor:\n",
        "    def __init__(self):\n",
        "        self.__temp = 0\n",
        "\n",
        "    def __get__(self, instance, owner):    \n",
        "        return self.__temp\n",
        "\n",
        "    def __set__(self, instance, value):\n",
        "        if isinstance(float(value), float):\n",
        "            print(value)\n",
        "        else:\n",
        "            raise TypeError(\"Body Temperature must be float or integer\")\n",
        "\n",
        "        if value < 20:\n",
        "            raise ValueError(\"Body Temperature can never be less than 20\")\n",
        "\n",
        "        self.__temp = value\n",
        "\n",
        "    def __set_name__(self, owner, name):\n",
        "        self.name = name\n",
        "\n",
        "class Model:\n",
        "    temp = Descriptor()\n",
        "    def __init__(self,name,weight,temp):\n",
        "        self._name = name\n",
        "        self.weight = weight\n",
        "        self.temp = temp\n",
        "\n",
        "    def __str__(self):\n",
        "        return \"{0} with weight {1} has body temperature {2} Celcius.\".format(self._name,self.weight,self.temp)\n",
        "\n",
        "body1 = Model(\"Ali\",80,40)\n",
        "print(body1)"
      ],
      "execution_count": 36,
      "outputs": [
        {
          "output_type": "stream",
          "text": [
            "40\n",
            "Ali with weight 80 has body temperature 40 Celcius.\n"
          ],
          "name": "stdout"
        }
      ]
    },
    {
      "cell_type": "code",
      "metadata": {
        "id": "IDJug68pOv4v",
        "colab_type": "code",
        "outputId": "a9d4248b-2632-4996-af3f-bec0e54ec64f",
        "colab": {
          "base_uri": "https://localhost:8080/",
          "height": 35
        }
      },
      "source": [
        "body1.__dict__ "
      ],
      "execution_count": 37,
      "outputs": [
        {
          "output_type": "execute_result",
          "data": {
            "text/plain": [
              "{'_name': 'Ali', 'weight': 80}"
            ]
          },
          "metadata": {
            "tags": []
          },
          "execution_count": 37
        }
      ]
    },
    {
      "cell_type": "code",
      "metadata": {
        "id": "6R3ymu0ZKVXL",
        "colab_type": "code",
        "outputId": "9fe9213a-1436-493c-b8e8-016d6a94ddf4",
        "colab": {
          "base_uri": "https://localhost:8080/",
          "height": 54
        }
      },
      "source": [
        "body2 = Model(\"Hasan\",75,37)\n",
        "print(body2)"
      ],
      "execution_count": 38,
      "outputs": [
        {
          "output_type": "stream",
          "text": [
            "37\n",
            "Hasan with weight 75 has body temperature 37 Celcius.\n"
          ],
          "name": "stdout"
        }
      ]
    },
    {
      "cell_type": "code",
      "metadata": {
        "id": "xCypkploKjdJ",
        "colab_type": "code",
        "outputId": "14735246-2c8a-4b88-9509-d9f9e29dad55",
        "colab": {
          "base_uri": "https://localhost:8080/",
          "height": 35
        }
      },
      "source": [
        "print(body1)"
      ],
      "execution_count": 39,
      "outputs": [
        {
          "output_type": "stream",
          "text": [
            "Ali with weight 80 has body temperature 37 Celcius.\n"
          ],
          "name": "stdout"
        }
      ]
    },
    {
      "cell_type": "markdown",
      "metadata": {
        "id": "Ot85IIEgOMMd",
        "colab_type": "text"
      },
      "source": [
        "The solution is to bind the attribute with instance in descriptor as shown below."
      ]
    },
    {
      "cell_type": "code",
      "metadata": {
        "id": "CGMmJujHNm6g",
        "colab_type": "code",
        "outputId": "12af5e8a-5023-4e8e-fb88-80836586372e",
        "colab": {
          "base_uri": "https://localhost:8080/",
          "height": 54
        }
      },
      "source": [
        "class Descriptor:\n",
        "    def __init__(self):\n",
        "        self.__temp = 0\n",
        "\n",
        "    def __get__(self, instance, owner):    \n",
        "        return instance.__dict__[self.name]\n",
        "\n",
        "    def __set__(self, instance, value):\n",
        "        if isinstance(float(value), float):\n",
        "            print(value)\n",
        "        else:\n",
        "            raise TypeError(\"Body Temperature must be float or integer\")\n",
        "\n",
        "        if value < 20:\n",
        "            raise ValueError(\"Body Temperature can never be less than 20\")\n",
        "\n",
        "        instance.__dict__[self.name] = value\n",
        "\n",
        "    def __set_name__(self, owner, name):\n",
        "        self.name = name\n",
        "\n",
        "class Model:\n",
        "    temp = Descriptor()\n",
        "    def __init__(self,name,weight,temp):\n",
        "        self.name = name\n",
        "        self.weight = weight\n",
        "        self.temp = temp\n",
        "\n",
        "    def __str__(self):\n",
        "        return \"{0} with weight {1} has body temperature {2} Celcius.\".format(self.name,self.weight,self.temp)\n",
        "\n",
        "body1 = Model(\"Ali\",80,40)\n",
        "print(body1)"
      ],
      "execution_count": 40,
      "outputs": [
        {
          "output_type": "stream",
          "text": [
            "40\n",
            "Ali with weight 80 has body temperature 40 Celcius.\n"
          ],
          "name": "stdout"
        }
      ]
    },
    {
      "cell_type": "code",
      "metadata": {
        "id": "0l_DQxTUQTUa",
        "colab_type": "code",
        "outputId": "9e56d0f3-35f4-4c3a-89f8-339090b5a4ae",
        "colab": {
          "base_uri": "https://localhost:8080/",
          "height": 35
        }
      },
      "source": [
        "body1.__dict__"
      ],
      "execution_count": 41,
      "outputs": [
        {
          "output_type": "execute_result",
          "data": {
            "text/plain": [
              "{'name': 'Ali', 'temp': 40, 'weight': 80}"
            ]
          },
          "metadata": {
            "tags": []
          },
          "execution_count": 41
        }
      ]
    },
    {
      "cell_type": "code",
      "metadata": {
        "id": "fL2YsRZQN1xX",
        "colab_type": "code",
        "outputId": "33141230-801e-4bc5-9e7d-8bfbabf905d0",
        "colab": {
          "base_uri": "https://localhost:8080/",
          "height": 54
        }
      },
      "source": [
        "body2 = Model(\"Hasan\",75,37)\n",
        "print(body2)"
      ],
      "execution_count": 42,
      "outputs": [
        {
          "output_type": "stream",
          "text": [
            "37\n",
            "Hasan with weight 75 has body temperature 37 Celcius.\n"
          ],
          "name": "stdout"
        }
      ]
    },
    {
      "cell_type": "code",
      "metadata": {
        "id": "DPiAWGLqN5Af",
        "colab_type": "code",
        "outputId": "10795866-cbb9-4798-e8b9-2ffbbeeee9e7",
        "colab": {
          "base_uri": "https://localhost:8080/",
          "height": 35
        }
      },
      "source": [
        "print(body1)"
      ],
      "execution_count": 43,
      "outputs": [
        {
          "output_type": "stream",
          "text": [
            "Ali with weight 80 has body temperature 40 Celcius.\n"
          ],
          "name": "stdout"
        }
      ]
    },
    {
      "cell_type": "markdown",
      "metadata": {
        "id": "B6saUBcQA7s7",
        "colab_type": "text"
      },
      "source": [
        "## Using WeakKeyDictionary\n",
        "Usually the attributes from descriptors are saved in `WeakKeyDictionary`. The above code can be implemented using `WeakKeyDictionary` as shown below"
      ]
    },
    {
      "cell_type": "code",
      "metadata": {
        "id": "j1mCCGgL_Fki",
        "colab_type": "code",
        "colab": {
          "base_uri": "https://localhost:8080/",
          "height": 54
        },
        "outputId": "d62c56ca-dda7-4ddb-f62c-25e50e46eb3c"
      },
      "source": [
        "from weakref import WeakKeyDictionary\n",
        "\n",
        "class Descriptor:\n",
        "    def __init__(self):\n",
        "        self.data = WeakKeyDictionary()\n",
        "\n",
        "    def __get__(self, instance, owner):  \n",
        "        return self.data[instance]\n",
        "\n",
        "    def __set__(self, instance, value):\n",
        "        if isinstance(float(value), float):\n",
        "            print(value)\n",
        "        else:\n",
        "            raise TypeError(\"Body Temperature must be float or integer\")\n",
        "\n",
        "        if value < 20:\n",
        "            raise ValueError(\"Body Temperature can never be less than 20\")\n",
        "\n",
        "        self.data[instance] = value\n",
        "\n",
        "    def __set_name__(self, owner, name):\n",
        "        self.name = name\n",
        "\n",
        "class Model:\n",
        "    temp = Descriptor()\n",
        "    def __init__(self,name,weight,temp):\n",
        "        self.name = name\n",
        "        self.weight = weight\n",
        "        self.temp = temp\n",
        "\n",
        "    def __str__(self):\n",
        "        return \"{0} with weight {1} has body temperature {2} Celcius.\".format(self.name,self.weight,self.temp)\n",
        "\n",
        "body1 = Model(\"Ali\",80,40)\n",
        "print(body1)"
      ],
      "execution_count": 44,
      "outputs": [
        {
          "output_type": "stream",
          "text": [
            "40\n",
            "Ali with weight 80 has body temperature 40 Celcius.\n"
          ],
          "name": "stdout"
        }
      ]
    },
    {
      "cell_type": "code",
      "metadata": {
        "id": "l9YnlES-AS74",
        "colab_type": "code",
        "colab": {
          "base_uri": "https://localhost:8080/",
          "height": 54
        },
        "outputId": "04add23d-7722-43da-c6c6-85eec1606d9f"
      },
      "source": [
        "body2 = Model(\"Hasan\",75,37)\n",
        "print(body2)"
      ],
      "execution_count": 45,
      "outputs": [
        {
          "output_type": "stream",
          "text": [
            "37\n",
            "Hasan with weight 75 has body temperature 37 Celcius.\n"
          ],
          "name": "stdout"
        }
      ]
    },
    {
      "cell_type": "code",
      "metadata": {
        "id": "wFvUQKIEAY0O",
        "colab_type": "code",
        "colab": {
          "base_uri": "https://localhost:8080/",
          "height": 35
        },
        "outputId": "8f3c98a8-7b90-4d16-93ad-473fb2b9f2de"
      },
      "source": [
        "print(body1)"
      ],
      "execution_count": 46,
      "outputs": [
        {
          "output_type": "stream",
          "text": [
            "Ali with weight 80 has body temperature 40 Celcius.\n"
          ],
          "name": "stdout"
        }
      ]
    },
    {
      "cell_type": "markdown",
      "metadata": {
        "id": "3VxNxfGdHyl-",
        "colab_type": "text"
      },
      "source": [
        "## References:\n",
        "The material in this notebook is inspired from following posts\n",
        "* [talk on descriptors](http://simeonfranklin.com/talk/descriptors.html)\n",
        "* [Python course eu website](https://www.python-course.eu/python3_descriptors.php)\n",
        "\n",
        "* [Encapsulation with descriptors](https://pyvideo.org/pycon-us-2013/encapsulation-with-descriptors.html)\n",
        "* [Some great answers on stackoverflow](https://stackoverflow.com/questions/3798835/understanding-get-and-set-and-python-descriptors)\n",
        "\n",
        "* [A post by Daw Ran Liou](https://dev.to/dawranliou/writing-descriptors-in-python-36)\n",
        "\n",
        "* [DataCamp](https://www.datacamp.com/community/tutorials/python-descriptors)"
      ]
    },
    {
      "cell_type": "code",
      "metadata": {
        "id": "kdyaYMRKAUFQ",
        "colab_type": "code",
        "colab": {}
      },
      "source": [
        ""
      ],
      "execution_count": 0,
      "outputs": []
    }
  ]
}